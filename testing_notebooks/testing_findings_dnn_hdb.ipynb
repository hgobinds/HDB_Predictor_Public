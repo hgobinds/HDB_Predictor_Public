{
 "cells": [
  {
   "cell_type": "code",
   "execution_count": 1,
   "metadata": {},
   "outputs": [],
   "source": [
    "# Wrangling libraries\n",
    "import numpy as np\n",
    "import pandas as pd\n",
    "\n",
    "# Data Visualization\n",
    "import matplotlib.pyplot as plt\n",
    "import seaborn as sns\n",
    "import plotly.express as px\n",
    "\n",
    "# Load models\n",
    "import pickle"
   ]
  },
  {
   "cell_type": "code",
   "execution_count": 6,
   "metadata": {},
   "outputs": [],
   "source": [
    "# Read hdb data from csv\n",
    "full_hdb_df = pd.read_parquet('../data/processed/final_HDB_for_model.parquet.gzip')\n",
    "\n",
    "# Future economic data\n",
    "econ_df = pd.read_csv('../data/processed/sg_econ_data_historical_future.csv')"
   ]
  },
  {
   "cell_type": "code",
   "execution_count": 3,
   "metadata": {},
   "outputs": [],
   "source": [
    "denseNN = pickle.load(open('../models/denseNN_231214.pkl', 'rb'))"
   ]
  },
  {
   "cell_type": "code",
   "execution_count": 4,
   "metadata": {},
   "outputs": [
    {
     "data": {
      "text/html": [
       "<div>\n",
       "<style scoped>\n",
       "    .dataframe tbody tr th:only-of-type {\n",
       "        vertical-align: middle;\n",
       "    }\n",
       "\n",
       "    .dataframe tbody tr th {\n",
       "        vertical-align: top;\n",
       "    }\n",
       "\n",
       "    .dataframe thead th {\n",
       "        text-align: right;\n",
       "    }\n",
       "</style>\n",
       "<table border=\"1\" class=\"dataframe\">\n",
       "  <thead>\n",
       "    <tr style=\"text-align: right;\">\n",
       "      <th></th>\n",
       "      <th>town</th>\n",
       "      <th>flat_type</th>\n",
       "      <th>storey_range</th>\n",
       "      <th>floor_area_sqm</th>\n",
       "      <th>flat_model</th>\n",
       "      <th>lease_commence_date</th>\n",
       "      <th>max_floor_lvl</th>\n",
       "      <th>most_closest_mrt</th>\n",
       "      <th>walking_time_mrt</th>\n",
       "    </tr>\n",
       "  </thead>\n",
       "  <tbody>\n",
       "    <tr>\n",
       "      <th>744303</th>\n",
       "      <td>PUNGGOL</td>\n",
       "      <td>4 ROOM</td>\n",
       "      <td>10 TO 12</td>\n",
       "      <td>95.0</td>\n",
       "      <td>Premium Apartment</td>\n",
       "      <td>2003</td>\n",
       "      <td>17.0</td>\n",
       "      <td>PUNGGOL</td>\n",
       "      <td>1837.0</td>\n",
       "    </tr>\n",
       "  </tbody>\n",
       "</table>\n",
       "</div>"
      ],
      "text/plain": [
       "           town flat_type storey_range  floor_area_sqm         flat_model  \\\n",
       "744303  PUNGGOL    4 ROOM     10 TO 12            95.0  Premium Apartment   \n",
       "\n",
       "        lease_commence_date  max_floor_lvl most_closest_mrt  walking_time_mrt  \n",
       "744303                 2003           17.0          PUNGGOL            1837.0  "
      ]
     },
     "execution_count": 4,
     "metadata": {},
     "output_type": "execute_result"
    }
   ],
   "source": [
    "# Extract a single random row from full HDB data\n",
    "sample_df = full_hdb_df.sample()\n",
    "\n",
    "# Drop unnecessary columns for the model\n",
    "# Put all columns to be deleted into a list\n",
    "drop_cols = ['block', 'street_name','address','sold_year_month', 'resale_price'] + \\\n",
    "            ['sold_year', 'sold_remaining_lease',\n",
    "             '5 year bond yields','GDPm (Current Prices)', 'GDP per capita', 'Personal Income m',\n",
    "             'Unemployment Rate', 'Core inflation', 'Median Household Inc',\n",
    "             'Lime, Cement, & Fabricated Construction Materials Excl Glass & Clay Materials',\n",
    "             'Clay Construction Materials & Refractory Construction Materials',\n",
    "             'ResidentPopulation','ResidentPopulation_Growth_Rate']\n",
    "\n",
    "# Drop columns\n",
    "sample_df = sample_df.drop(columns=drop_cols)\n",
    "\n",
    "# Vew Sample Row\n",
    "sample_df"
   ]
  },
  {
   "cell_type": "code",
   "execution_count": 9,
   "metadata": {},
   "outputs": [
    {
     "name": "stdout",
     "output_type": "stream",
     "text": [
      "1/1 [==============================] - 0s 13ms/step\n"
     ]
    },
    {
     "data": {
      "text/html": [
       "<div>\n",
       "<style scoped>\n",
       "    .dataframe tbody tr th:only-of-type {\n",
       "        vertical-align: middle;\n",
       "    }\n",
       "\n",
       "    .dataframe tbody tr th {\n",
       "        vertical-align: top;\n",
       "    }\n",
       "\n",
       "    .dataframe thead th {\n",
       "        text-align: right;\n",
       "    }\n",
       "</style>\n",
       "<table border=\"1\" class=\"dataframe\">\n",
       "  <thead>\n",
       "    <tr style=\"text-align: right;\">\n",
       "      <th></th>\n",
       "      <th>sold_year</th>\n",
       "      <th>dnn</th>\n",
       "      <th>historical_mean</th>\n",
       "    </tr>\n",
       "  </thead>\n",
       "  <tbody>\n",
       "    <tr>\n",
       "      <th>0</th>\n",
       "      <td>2007</td>\n",
       "      <td>257057.84375</td>\n",
       "      <td>265256.818182</td>\n",
       "    </tr>\n",
       "    <tr>\n",
       "      <th>1</th>\n",
       "      <td>2008</td>\n",
       "      <td>306894.56250</td>\n",
       "      <td>316429.032258</td>\n",
       "    </tr>\n",
       "    <tr>\n",
       "      <th>2</th>\n",
       "      <td>2009</td>\n",
       "      <td>331609.40625</td>\n",
       "      <td>337543.375000</td>\n",
       "    </tr>\n",
       "    <tr>\n",
       "      <th>3</th>\n",
       "      <td>2010</td>\n",
       "      <td>371557.84375</td>\n",
       "      <td>386629.032258</td>\n",
       "    </tr>\n",
       "    <tr>\n",
       "      <th>4</th>\n",
       "      <td>2011</td>\n",
       "      <td>432469.65625</td>\n",
       "      <td>443993.411765</td>\n",
       "    </tr>\n",
       "    <tr>\n",
       "      <th>5</th>\n",
       "      <td>2012</td>\n",
       "      <td>467497.90625</td>\n",
       "      <td>492273.629630</td>\n",
       "    </tr>\n",
       "    <tr>\n",
       "      <th>6</th>\n",
       "      <td>2013</td>\n",
       "      <td>476463.53125</td>\n",
       "      <td>512013.428571</td>\n",
       "    </tr>\n",
       "    <tr>\n",
       "      <th>7</th>\n",
       "      <td>2014</td>\n",
       "      <td>420384.78125</td>\n",
       "      <td>466464.000000</td>\n",
       "    </tr>\n",
       "    <tr>\n",
       "      <th>8</th>\n",
       "      <td>2015</td>\n",
       "      <td>393025.34375</td>\n",
       "      <td>436974.571429</td>\n",
       "    </tr>\n",
       "    <tr>\n",
       "      <th>9</th>\n",
       "      <td>2016</td>\n",
       "      <td>379209.15625</td>\n",
       "      <td>457195.823009</td>\n",
       "    </tr>\n",
       "    <tr>\n",
       "      <th>10</th>\n",
       "      <td>2017</td>\n",
       "      <td>365928.96875</td>\n",
       "      <td>452787.068493</td>\n",
       "    </tr>\n",
       "    <tr>\n",
       "      <th>11</th>\n",
       "      <td>2018</td>\n",
       "      <td>367953.21875</td>\n",
       "      <td>459646.120482</td>\n",
       "    </tr>\n",
       "    <tr>\n",
       "      <th>12</th>\n",
       "      <td>2019</td>\n",
       "      <td>385493.81250</td>\n",
       "      <td>483588.676056</td>\n",
       "    </tr>\n",
       "    <tr>\n",
       "      <th>13</th>\n",
       "      <td>2020</td>\n",
       "      <td>393255.09375</td>\n",
       "      <td>483581.852459</td>\n",
       "    </tr>\n",
       "    <tr>\n",
       "      <th>14</th>\n",
       "      <td>2021</td>\n",
       "      <td>432775.96875</td>\n",
       "      <td>507341.737226</td>\n",
       "    </tr>\n",
       "    <tr>\n",
       "      <th>15</th>\n",
       "      <td>2022</td>\n",
       "      <td>484270.34375</td>\n",
       "      <td>561007.802817</td>\n",
       "    </tr>\n",
       "    <tr>\n",
       "      <th>16</th>\n",
       "      <td>2023</td>\n",
       "      <td>515872.28125</td>\n",
       "      <td>602377.329193</td>\n",
       "    </tr>\n",
       "    <tr>\n",
       "      <th>17</th>\n",
       "      <td>2024</td>\n",
       "      <td>519738.53125</td>\n",
       "      <td>NaN</td>\n",
       "    </tr>\n",
       "    <tr>\n",
       "      <th>18</th>\n",
       "      <td>2025</td>\n",
       "      <td>534951.37500</td>\n",
       "      <td>NaN</td>\n",
       "    </tr>\n",
       "    <tr>\n",
       "      <th>19</th>\n",
       "      <td>2026</td>\n",
       "      <td>561605.62500</td>\n",
       "      <td>NaN</td>\n",
       "    </tr>\n",
       "    <tr>\n",
       "      <th>20</th>\n",
       "      <td>2027</td>\n",
       "      <td>588188.18750</td>\n",
       "      <td>NaN</td>\n",
       "    </tr>\n",
       "    <tr>\n",
       "      <th>21</th>\n",
       "      <td>2028</td>\n",
       "      <td>609143.18750</td>\n",
       "      <td>NaN</td>\n",
       "    </tr>\n",
       "    <tr>\n",
       "      <th>22</th>\n",
       "      <td>2029</td>\n",
       "      <td>625422.87500</td>\n",
       "      <td>NaN</td>\n",
       "    </tr>\n",
       "    <tr>\n",
       "      <th>23</th>\n",
       "      <td>2030</td>\n",
       "      <td>652085.87500</td>\n",
       "      <td>NaN</td>\n",
       "    </tr>\n",
       "    <tr>\n",
       "      <th>24</th>\n",
       "      <td>2031</td>\n",
       "      <td>678095.25000</td>\n",
       "      <td>NaN</td>\n",
       "    </tr>\n",
       "    <tr>\n",
       "      <th>25</th>\n",
       "      <td>2032</td>\n",
       "      <td>690422.25000</td>\n",
       "      <td>NaN</td>\n",
       "    </tr>\n",
       "    <tr>\n",
       "      <th>26</th>\n",
       "      <td>2033</td>\n",
       "      <td>712103.00000</td>\n",
       "      <td>NaN</td>\n",
       "    </tr>\n",
       "  </tbody>\n",
       "</table>\n",
       "</div>"
      ],
      "text/plain": [
       "    sold_year           dnn  historical_mean\n",
       "0        2007  257057.84375    265256.818182\n",
       "1        2008  306894.56250    316429.032258\n",
       "2        2009  331609.40625    337543.375000\n",
       "3        2010  371557.84375    386629.032258\n",
       "4        2011  432469.65625    443993.411765\n",
       "5        2012  467497.90625    492273.629630\n",
       "6        2013  476463.53125    512013.428571\n",
       "7        2014  420384.78125    466464.000000\n",
       "8        2015  393025.34375    436974.571429\n",
       "9        2016  379209.15625    457195.823009\n",
       "10       2017  365928.96875    452787.068493\n",
       "11       2018  367953.21875    459646.120482\n",
       "12       2019  385493.81250    483588.676056\n",
       "13       2020  393255.09375    483581.852459\n",
       "14       2021  432775.96875    507341.737226\n",
       "15       2022  484270.34375    561007.802817\n",
       "16       2023  515872.28125    602377.329193\n",
       "17       2024  519738.53125              NaN\n",
       "18       2025  534951.37500              NaN\n",
       "19       2026  561605.62500              NaN\n",
       "20       2027  588188.18750              NaN\n",
       "21       2028  609143.18750              NaN\n",
       "22       2029  625422.87500              NaN\n",
       "23       2030  652085.87500              NaN\n",
       "24       2031  678095.25000              NaN\n",
       "25       2032  690422.25000              NaN\n",
       "26       2033  712103.00000              NaN"
      ]
     },
     "execution_count": 9,
     "metadata": {},
     "output_type": "execute_result"
    }
   ],
   "source": [
    "# Take first row of sample and create to create testing dataframe\n",
    "# Code written like this so that it can also be used with the preselected sample dataframe\n",
    "pred_df = sample_df.iloc[0:1].copy().reset_index(drop=True)\n",
    "\n",
    "# Create variables to use in the creating of the testing data frame\n",
    "resale_year = pred_df['lease_commence_date'][0] + 4\n",
    "factor = 2034 - pred_df['lease_commence_date'][0] - 4\n",
    "\n",
    "# Multiply single sample row to insert testing data for each year\n",
    "pred_df = pd.concat([pred_df] * factor, ignore_index=True)\n",
    "\n",
    "# Create year column using variables created earlier\n",
    "year_range = range(resale_year, resale_year + factor)\n",
    "pred_df['sold_year'] = year_range\n",
    "\n",
    "# Include economic data in the testing dataframe\n",
    "pred_df = pred_df.merge(econ_df, left_on='sold_year', right_on='year', how='left')\n",
    "\n",
    "# Create remaining lease column for prediction years\n",
    "pred_df['sold_remaining_lease'] = 99 - (pred_df['sold_year'] - pred_df['lease_commence_date'])\n",
    "\n",
    "# Reorient columns to be used in the pipelines\n",
    "pred_df = pred_df[['town', 'flat_type', 'storey_range', 'floor_area_sqm', 'flat_model',\n",
    "       'lease_commence_date', 'sold_year', 'sold_remaining_lease',\n",
    "       'max_floor_lvl', '5 year bond yields', 'GDPm (Current Prices)',\n",
    "       'GDP per capita', 'Personal Income m', 'Unemployment Rate',\n",
    "       'Core inflation', 'Median Household Inc',\n",
    "       'Lime, Cement, & Fabricated Construction Materials Excl Glass & Clay Materials',\n",
    "       'Clay Construction Materials & Refractory Construction Materials',\n",
    "       'most_closest_mrt', 'walking_time_mrt', 'ResidentPopulation',\n",
    "       'ResidentPopulation_Growth_Rate']]\n",
    "\n",
    "# Remove any dates before 1990 as it creates NaNs\n",
    "pred_df = pred_df[pred_df['sold_year'] >= 1990].reset_index(drop=True)\n",
    "\n",
    "# Apply model and put predictions in new column\n",
    "pred_df['dnn'] = denseNN.predict(pred_df)\n",
    "\n",
    "# Extract results into new dataframe for plotting\n",
    "prediction_results = pred_df[['sold_year', 'dnn']]\n",
    "\n",
    "# Extract historical data from full HDB dataframe for plotting against test results\n",
    "temp = full_hdb_df[(full_hdb_df['town'] == pred_df['town'][0]) &\n",
    "                                    (full_hdb_df['flat_type'] == pred_df['flat_type'][0]) &\n",
    "                                    (full_hdb_df['storey_range'] == pred_df['storey_range'][0]) &\n",
    "                                    (full_hdb_df['most_closest_mrt'] == pred_df['most_closest_mrt'][0])\n",
    "                                    ].groupby(['sold_year'])['resale_price'].mean()\\\n",
    "                                     .to_frame(name='historical_mean').reset_index()\n",
    "\n",
    "# Include historical mean resale prices in test results dataframe\n",
    "prediction_results = prediction_results.merge(temp, on = 'sold_year', how = 'left')\n",
    "\n",
    "# View\n",
    "prediction_results"
   ]
  },
  {
   "cell_type": "code",
   "execution_count": 12,
   "metadata": {},
   "outputs": [
    {
     "data": {
      "text/html": [
       "<div>\n",
       "<style scoped>\n",
       "    .dataframe tbody tr th:only-of-type {\n",
       "        vertical-align: middle;\n",
       "    }\n",
       "\n",
       "    .dataframe tbody tr th {\n",
       "        vertical-align: top;\n",
       "    }\n",
       "\n",
       "    .dataframe thead th {\n",
       "        text-align: right;\n",
       "    }\n",
       "</style>\n",
       "<table border=\"1\" class=\"dataframe\">\n",
       "  <thead>\n",
       "    <tr style=\"text-align: right;\">\n",
       "      <th></th>\n",
       "      <th>sold_year</th>\n",
       "      <th>dnn</th>\n",
       "      <th>historical_mean</th>\n",
       "      <th>model_growth_rate</th>\n",
       "      <th>actual_growth_rate</th>\n",
       "    </tr>\n",
       "  </thead>\n",
       "  <tbody>\n",
       "    <tr>\n",
       "      <th>0</th>\n",
       "      <td>2007</td>\n",
       "      <td>257057.84375</td>\n",
       "      <td>265256.818182</td>\n",
       "      <td>NaN</td>\n",
       "      <td>NaN</td>\n",
       "    </tr>\n",
       "    <tr>\n",
       "      <th>1</th>\n",
       "      <td>2008</td>\n",
       "      <td>306894.56250</td>\n",
       "      <td>316429.032258</td>\n",
       "      <td>19.387352</td>\n",
       "      <td>19.291574</td>\n",
       "    </tr>\n",
       "    <tr>\n",
       "      <th>2</th>\n",
       "      <td>2009</td>\n",
       "      <td>331609.40625</td>\n",
       "      <td>337543.375000</td>\n",
       "      <td>8.053207</td>\n",
       "      <td>6.672695</td>\n",
       "    </tr>\n",
       "    <tr>\n",
       "      <th>3</th>\n",
       "      <td>2010</td>\n",
       "      <td>371557.84375</td>\n",
       "      <td>386629.032258</td>\n",
       "      <td>12.046838</td>\n",
       "      <td>14.542030</td>\n",
       "    </tr>\n",
       "    <tr>\n",
       "      <th>4</th>\n",
       "      <td>2011</td>\n",
       "      <td>432469.65625</td>\n",
       "      <td>443993.411765</td>\n",
       "      <td>16.393625</td>\n",
       "      <td>14.837059</td>\n",
       "    </tr>\n",
       "    <tr>\n",
       "      <th>5</th>\n",
       "      <td>2012</td>\n",
       "      <td>467497.90625</td>\n",
       "      <td>492273.629630</td>\n",
       "      <td>8.099580</td>\n",
       "      <td>10.874084</td>\n",
       "    </tr>\n",
       "    <tr>\n",
       "      <th>6</th>\n",
       "      <td>2013</td>\n",
       "      <td>476463.53125</td>\n",
       "      <td>512013.428571</td>\n",
       "      <td>1.917791</td>\n",
       "      <td>4.009924</td>\n",
       "    </tr>\n",
       "    <tr>\n",
       "      <th>7</th>\n",
       "      <td>2014</td>\n",
       "      <td>420384.78125</td>\n",
       "      <td>466464.000000</td>\n",
       "      <td>-11.769790</td>\n",
       "      <td>-8.896139</td>\n",
       "    </tr>\n",
       "    <tr>\n",
       "      <th>8</th>\n",
       "      <td>2015</td>\n",
       "      <td>393025.34375</td>\n",
       "      <td>436974.571429</td>\n",
       "      <td>-6.508189</td>\n",
       "      <td>-6.321909</td>\n",
       "    </tr>\n",
       "    <tr>\n",
       "      <th>9</th>\n",
       "      <td>2016</td>\n",
       "      <td>379209.15625</td>\n",
       "      <td>457195.823009</td>\n",
       "      <td>-3.515345</td>\n",
       "      <td>4.627558</td>\n",
       "    </tr>\n",
       "    <tr>\n",
       "      <th>10</th>\n",
       "      <td>2017</td>\n",
       "      <td>365928.96875</td>\n",
       "      <td>452787.068493</td>\n",
       "      <td>-3.502077</td>\n",
       "      <td>-0.964303</td>\n",
       "    </tr>\n",
       "    <tr>\n",
       "      <th>11</th>\n",
       "      <td>2018</td>\n",
       "      <td>367953.21875</td>\n",
       "      <td>459646.120482</td>\n",
       "      <td>0.553179</td>\n",
       "      <td>1.514852</td>\n",
       "    </tr>\n",
       "    <tr>\n",
       "      <th>12</th>\n",
       "      <td>2019</td>\n",
       "      <td>385493.81250</td>\n",
       "      <td>483588.676056</td>\n",
       "      <td>4.767072</td>\n",
       "      <td>5.208911</td>\n",
       "    </tr>\n",
       "    <tr>\n",
       "      <th>13</th>\n",
       "      <td>2020</td>\n",
       "      <td>393255.09375</td>\n",
       "      <td>483581.852459</td>\n",
       "      <td>2.013338</td>\n",
       "      <td>-0.001411</td>\n",
       "    </tr>\n",
       "    <tr>\n",
       "      <th>14</th>\n",
       "      <td>2021</td>\n",
       "      <td>432775.96875</td>\n",
       "      <td>507341.737226</td>\n",
       "      <td>10.049677</td>\n",
       "      <td>4.913312</td>\n",
       "    </tr>\n",
       "    <tr>\n",
       "      <th>15</th>\n",
       "      <td>2022</td>\n",
       "      <td>484270.34375</td>\n",
       "      <td>561007.802817</td>\n",
       "      <td>11.898624</td>\n",
       "      <td>10.577893</td>\n",
       "    </tr>\n",
       "    <tr>\n",
       "      <th>16</th>\n",
       "      <td>2023</td>\n",
       "      <td>515872.28125</td>\n",
       "      <td>602377.329193</td>\n",
       "      <td>6.525683</td>\n",
       "      <td>7.374145</td>\n",
       "    </tr>\n",
       "    <tr>\n",
       "      <th>17</th>\n",
       "      <td>2024</td>\n",
       "      <td>519738.53125</td>\n",
       "      <td>NaN</td>\n",
       "      <td>0.749457</td>\n",
       "      <td>NaN</td>\n",
       "    </tr>\n",
       "    <tr>\n",
       "      <th>18</th>\n",
       "      <td>2025</td>\n",
       "      <td>534951.37500</td>\n",
       "      <td>NaN</td>\n",
       "      <td>2.927017</td>\n",
       "      <td>NaN</td>\n",
       "    </tr>\n",
       "    <tr>\n",
       "      <th>19</th>\n",
       "      <td>2026</td>\n",
       "      <td>561605.62500</td>\n",
       "      <td>NaN</td>\n",
       "      <td>4.982555</td>\n",
       "      <td>NaN</td>\n",
       "    </tr>\n",
       "    <tr>\n",
       "      <th>20</th>\n",
       "      <td>2027</td>\n",
       "      <td>588188.18750</td>\n",
       "      <td>NaN</td>\n",
       "      <td>4.733312</td>\n",
       "      <td>NaN</td>\n",
       "    </tr>\n",
       "    <tr>\n",
       "      <th>21</th>\n",
       "      <td>2028</td>\n",
       "      <td>609143.18750</td>\n",
       "      <td>NaN</td>\n",
       "      <td>3.562641</td>\n",
       "      <td>NaN</td>\n",
       "    </tr>\n",
       "    <tr>\n",
       "      <th>22</th>\n",
       "      <td>2029</td>\n",
       "      <td>625422.87500</td>\n",
       "      <td>NaN</td>\n",
       "      <td>2.672553</td>\n",
       "      <td>NaN</td>\n",
       "    </tr>\n",
       "    <tr>\n",
       "      <th>23</th>\n",
       "      <td>2030</td>\n",
       "      <td>652085.87500</td>\n",
       "      <td>NaN</td>\n",
       "      <td>4.263198</td>\n",
       "      <td>NaN</td>\n",
       "    </tr>\n",
       "    <tr>\n",
       "      <th>24</th>\n",
       "      <td>2031</td>\n",
       "      <td>678095.25000</td>\n",
       "      <td>NaN</td>\n",
       "      <td>3.988647</td>\n",
       "      <td>NaN</td>\n",
       "    </tr>\n",
       "    <tr>\n",
       "      <th>25</th>\n",
       "      <td>2032</td>\n",
       "      <td>690422.25000</td>\n",
       "      <td>NaN</td>\n",
       "      <td>1.817882</td>\n",
       "      <td>NaN</td>\n",
       "    </tr>\n",
       "    <tr>\n",
       "      <th>26</th>\n",
       "      <td>2033</td>\n",
       "      <td>712103.00000</td>\n",
       "      <td>NaN</td>\n",
       "      <td>3.140211</td>\n",
       "      <td>NaN</td>\n",
       "    </tr>\n",
       "  </tbody>\n",
       "</table>\n",
       "</div>"
      ],
      "text/plain": [
       "    sold_year           dnn  historical_mean  model_growth_rate  \\\n",
       "0        2007  257057.84375    265256.818182                NaN   \n",
       "1        2008  306894.56250    316429.032258          19.387352   \n",
       "2        2009  331609.40625    337543.375000           8.053207   \n",
       "3        2010  371557.84375    386629.032258          12.046838   \n",
       "4        2011  432469.65625    443993.411765          16.393625   \n",
       "5        2012  467497.90625    492273.629630           8.099580   \n",
       "6        2013  476463.53125    512013.428571           1.917791   \n",
       "7        2014  420384.78125    466464.000000         -11.769790   \n",
       "8        2015  393025.34375    436974.571429          -6.508189   \n",
       "9        2016  379209.15625    457195.823009          -3.515345   \n",
       "10       2017  365928.96875    452787.068493          -3.502077   \n",
       "11       2018  367953.21875    459646.120482           0.553179   \n",
       "12       2019  385493.81250    483588.676056           4.767072   \n",
       "13       2020  393255.09375    483581.852459           2.013338   \n",
       "14       2021  432775.96875    507341.737226          10.049677   \n",
       "15       2022  484270.34375    561007.802817          11.898624   \n",
       "16       2023  515872.28125    602377.329193           6.525683   \n",
       "17       2024  519738.53125              NaN           0.749457   \n",
       "18       2025  534951.37500              NaN           2.927017   \n",
       "19       2026  561605.62500              NaN           4.982555   \n",
       "20       2027  588188.18750              NaN           4.733312   \n",
       "21       2028  609143.18750              NaN           3.562641   \n",
       "22       2029  625422.87500              NaN           2.672553   \n",
       "23       2030  652085.87500              NaN           4.263198   \n",
       "24       2031  678095.25000              NaN           3.988647   \n",
       "25       2032  690422.25000              NaN           1.817882   \n",
       "26       2033  712103.00000              NaN           3.140211   \n",
       "\n",
       "    actual_growth_rate  \n",
       "0                  NaN  \n",
       "1            19.291574  \n",
       "2             6.672695  \n",
       "3            14.542030  \n",
       "4            14.837059  \n",
       "5            10.874084  \n",
       "6             4.009924  \n",
       "7            -8.896139  \n",
       "8            -6.321909  \n",
       "9             4.627558  \n",
       "10           -0.964303  \n",
       "11            1.514852  \n",
       "12            5.208911  \n",
       "13           -0.001411  \n",
       "14            4.913312  \n",
       "15           10.577893  \n",
       "16            7.374145  \n",
       "17                 NaN  \n",
       "18                 NaN  \n",
       "19                 NaN  \n",
       "20                 NaN  \n",
       "21                 NaN  \n",
       "22                 NaN  \n",
       "23                 NaN  \n",
       "24                 NaN  \n",
       "25                 NaN  \n",
       "26                 NaN  "
      ]
     },
     "execution_count": 12,
     "metadata": {},
     "output_type": "execute_result"
    }
   ],
   "source": [
    "prediction_results['model_growth_rate'] = prediction_results['dnn'].pct_change(periods=1, fill_method = None) * 100\n",
    "prediction_results['actual_growth_rate'] = prediction_results['historical_mean'].pct_change(periods=1, fill_method = None) * 100\n",
    "prediction_results"
   ]
  },
  {
   "cell_type": "code",
   "execution_count": 13,
   "metadata": {},
   "outputs": [
    {
     "name": "stdout",
     "output_type": "stream",
     "text": [
      "<class 'pandas.core.frame.DataFrame'>\n",
      "RangeIndex: 27 entries, 0 to 26\n",
      "Data columns (total 5 columns):\n",
      " #   Column              Non-Null Count  Dtype  \n",
      "---  ------              --------------  -----  \n",
      " 0   sold_year           27 non-null     int64  \n",
      " 1   dnn                 27 non-null     float32\n",
      " 2   historical_mean     17 non-null     float64\n",
      " 3   model_growth_rate   26 non-null     float32\n",
      " 4   actual_growth_rate  16 non-null     float64\n",
      "dtypes: float32(2), float64(2), int64(1)\n",
      "memory usage: 992.0 bytes\n"
     ]
    }
   ],
   "source": [
    "prediction_results.info()"
   ]
  },
  {
   "cell_type": "code",
   "execution_count": 50,
   "metadata": {},
   "outputs": [
    {
     "data": {
      "image/png": "[encoded data removed]",
      "text/plain": [
       "<Figure size 1000x500 with 1 Axes>"
      ]
     },
     "metadata": {},
     "output_type": "display_data"
    }
   ],
   "source": [
    "# Plotting\n",
    "plt.figure(figsize=(10, 5))\n",
    "sns.set_style(\"darkgrid\")\n",
    "sns.lineplot(data=prediction_results, x='sold_year', y='model_growth_rate', label='Model Growth Rate')\n",
    "sns.lineplot(data=prediction_results, x='sold_year', y='actual_growth_rate', label='Actual Growth Rate')\n",
    "\n",
    "plt.title('Comparison of Model and Actual Growth Rates Over Years')\n",
    "plt.xlabel('Sold Year')\n",
    "plt.ylabel('Growth Rate')\n",
    "plt.legend()\n",
    "plt.show()"
   ]
  },
  {
   "cell_type": "code",
   "execution_count": 53,
   "metadata": {},
   "outputs": [
    {
     "data": {
      "application/vnd.plotly.v1+json": {
       "config": {
        "plotlyServerURL": "https://plot.ly"
       },
       "data": [
        {
         "hovertemplate": "Type=model_growth_rate<br>sold_year=%{x}<br>Growth Rate=%{y}<extra></extra>",
         "legendgroup": "model_growth_rate",
         "marker": {
          "color": "#636efa",
          "symbol": "circle"
         },
         "mode": "markers",
         "name": "model_growth_rate",
         "orientation": "v",
         "showlegend": true,
         "type": "scatter",
         "x": [
          2007,
          2008,
          2009,
          2010,
          2011,
          2012,
          2013,
          2014,
          2015,
          2016,
          2017,
          2018,
          2019,
          2020,
          2021,
          2022,
          2023,
          2024,
          2025,
          2026,
          2027,
          2028,
          2029,
          2030,
          2031,
          2032,
          2033
         ],
         "xaxis": "x",
         "y": [
          null,
          19.387351989746094,
          8.053207397460938,
          12.04683780670166,
          16.393625259399414,
          8.099579811096191,
          1.9177913665771484,
          -11.769789695739746,
          -6.5081892013549805,
          -3.5153448581695557,
          -3.5020768642425537,
          0.5531787872314453,
          4.7670722007751465,
          2.0133376121520996,
          10.049676895141602,
          11.898624420166016,
          6.525683403015137,
          0.7494568824768066,
          2.9270172119140625,
          4.982554912567139,
          4.733312129974365,
          3.562641143798828,
          2.672553062438965,
          4.263198375701904,
          3.9886474609375,
          1.8178820610046387,
          3.1402111053466797
         ],
         "yaxis": "y"
        },
        {
         "hovertemplate": "<b>Expanding mean trendline</b><br><br>Type=model_growth_rate<br>sold_year=%{x}<br>Growth Rate=%{y} <b>(trend)</b><extra></extra>",
         "legendgroup": "model_growth_rate",
         "marker": {
          "color": "#636efa",
          "symbol": "circle"
         },
         "mode": "lines",
         "name": "model_growth_rate",
         "showlegend": false,
         "type": "scatter",
         "x": [
          2008,
          2009,
          2010,
          2011,
          2012,
          2013,
          2014,
          2015,
          2016,
          2017,
          2018,
          2019,
          2020,
          2021,
          2022,
          2023,
          2024,
          2025,
          2026,
          2027,
          2028,
          2029,
          2030,
          2031,
          2032,
          2033
         ],
         "xaxis": "x",
         "y": [
          19.387351989746094,
          13.720279693603516,
          13.162465731302897,
          13.970255613327026,
          12.79612045288086,
          10.983065605163574,
          7.732657705034528,
          5.95255184173584,
          4.900563319524129,
          4.060299301147461,
          3.7414701635187324,
          3.8269369999567666,
          3.687429354741023,
          4.141875607626779,
          4.658992195129395,
          4.775660395622253,
          4.538824894848992,
          4.449280023574829,
          4.477347122995477,
          4.490145373344421,
          4.445978505270822,
          4.365368257869374,
          4.360926089079483,
          4.345414479573567,
          4.244313182830811,
          4.20184771831219
         ],
         "yaxis": "y"
        },
        {
         "hovertemplate": "Type=actual_growth_rate<br>sold_year=%{x}<br>Growth Rate=%{y}<extra></extra>",
         "legendgroup": "actual_growth_rate",
         "marker": {
          "color": "#EF553B",
          "symbol": "circle"
         },
         "mode": "markers",
         "name": "actual_growth_rate",
         "orientation": "v",
         "showlegend": true,
         "type": "scatter",
         "x": [
          2007,
          2008,
          2009,
          2010,
          2011,
          2012,
          2013,
          2014,
          2015,
          2016,
          2017,
          2018,
          2019,
          2020,
          2021,
          2022,
          2023,
          2024,
          2025,
          2026,
          2027,
          2028,
          2029,
          2030,
          2031,
          2032,
          2033
         ],
         "xaxis": "x",
         "y": [
          null,
          19.29157351241799,
          6.672694534778212,
          14.542029526742905,
          14.837059486094706,
          10.874084296212438,
          4.009924105959239,
          -8.896139442771311,
          -6.321908779976281,
          4.6275579638811015,
          -0.9643033233953102,
          1.5148515640262206,
          5.208910617869922,
          -0.0014110333139472075,
          4.913311913265939,
          10.577892897995223,
          7.37414456054315,
          null,
          null,
          null,
          null,
          null,
          null,
          null,
          null,
          null,
          null
         ],
         "yaxis": "y"
        },
        {
         "hovertemplate": "<b>Expanding mean trendline</b><br><br>Type=actual_growth_rate<br>sold_year=%{x}<br>Growth Rate=%{y} <b>(trend)</b><extra></extra>",
         "legendgroup": "actual_growth_rate",
         "marker": {
          "color": "#EF553B",
          "symbol": "circle"
         },
         "mode": "lines",
         "name": "actual_growth_rate",
         "showlegend": false,
         "type": "scatter",
         "x": [
          2008,
          2009,
          2010,
          2011,
          2012,
          2013,
          2014,
          2015,
          2016,
          2017,
          2018,
          2019,
          2020,
          2021,
          2022,
          2023
         ],
         "xaxis": "x",
         "y": [
          19.29157351241799,
          12.982134023598102,
          13.502099191313036,
          13.835839265008453,
          13.243488271249252,
          11.704560910367581,
          8.761603717062027,
          6.8761646549322375,
          6.626319467037667,
          5.867257187994369,
          5.47158394945181,
          5.44969450515332,
          5.030378694501991,
          5.022016781556559,
          5.39240852265247,
          5.516267025020637
         ],
         "yaxis": "y"
        }
       ],
       "layout": {
        "height": 500,
        "legend": {
         "title": {
          "text": "Type"
         },
         "tracegroupgap": 0
        },
        "margin": {
         "t": 60
        },
        "template": {
         "data": {
          "bar": [
           {
            "error_x": {
             "color": "#2a3f5f"
            },
            "error_y": {
             "color": "#2a3f5f"
            },
            "marker": {
             "line": {
              "color": "#E5ECF6",
              "width": 0.5
             },
             "pattern": {
              "fillmode": "overlay",
              "size": 10,
              "solidity": 0.2
             }
            },
            "type": "bar"
           }
          ],
          "barpolar": [
           {
            "marker": {
             "line": {
              "color": "#E5ECF6",
              "width": 0.5
             },
             "pattern": {
              "fillmode": "overlay",
              "size": 10,
              "solidity": 0.2
             }
            },
            "type": "barpolar"
           }
          ],
          "carpet": [
           {
            "aaxis": {
             "endlinecolor": "#2a3f5f",
             "gridcolor": "white",
             "linecolor": "white",
             "minorgridcolor": "white",
             "startlinecolor": "#2a3f5f"
            },
            "baxis": {
             "endlinecolor": "#2a3f5f",
             "gridcolor": "white",
             "linecolor": "white",
             "minorgridcolor": "white",
             "startlinecolor": "#2a3f5f"
            },
            "type": "carpet"
           }
          ],
          "choropleth": [
           {
            "colorbar": {
             "outlinewidth": 0,
             "ticks": ""
            },
            "type": "choropleth"
           }
          ],
          "contour": [
           {
            "colorbar": {
             "outlinewidth": 0,
             "ticks": ""
            },
            "colorscale": [
             [
              0,
              "#0d0887"
             ],
             [
              0.1111111111111111,
              "#46039f"
             ],
             [
              0.2222222222222222,
              "#7201a8"
             ],
             [
              0.3333333333333333,
              "#9c179e"
             ],
             [
              0.4444444444444444,
              "#bd3786"
             ],
             [
              0.5555555555555556,
              "#d8576b"
             ],
             [
              0.6666666666666666,
              "#ed7953"
             ],
             [
              0.7777777777777778,
              "#fb9f3a"
             ],
             [
              0.8888888888888888,
              "#fdca26"
             ],
             [
              1,
              "#f0f921"
             ]
            ],
            "type": "contour"
           }
          ],
          "contourcarpet": [
           {
            "colorbar": {
             "outlinewidth": 0,
             "ticks": ""
            },
            "type": "contourcarpet"
           }
          ],
          "heatmap": [
           {
            "colorbar": {
             "outlinewidth": 0,
             "ticks": ""
            },
            "colorscale": [
             [
              0,
              "#0d0887"
             ],
             [
              0.1111111111111111,
              "#46039f"
             ],
             [
              0.2222222222222222,
              "#7201a8"
             ],
             [
              0.3333333333333333,
              "#9c179e"
             ],
             [
              0.4444444444444444,
              "#bd3786"
             ],
             [
              0.5555555555555556,
              "#d8576b"
             ],
             [
              0.6666666666666666,
              "#ed7953"
             ],
             [
              0.7777777777777778,
              "#fb9f3a"
             ],
             [
              0.8888888888888888,
              "#fdca26"
             ],
             [
              1,
              "#f0f921"
             ]
            ],
            "type": "heatmap"
           }
          ],
          "heatmapgl": [
           {
            "colorbar": {
             "outlinewidth": 0,
             "ticks": ""
            },
            "colorscale": [
             [
              0,
              "#0d0887"
             ],
             [
              0.1111111111111111,
              "#46039f"
             ],
             [
              0.2222222222222222,
              "#7201a8"
             ],
             [
              0.3333333333333333,
              "#9c179e"
             ],
             [
              0.4444444444444444,
              "#bd3786"
             ],
             [
              0.5555555555555556,
              "#d8576b"
             ],
             [
              0.6666666666666666,
              "#ed7953"
             ],
             [
              0.7777777777777778,
              "#fb9f3a"
             ],
             [
              0.8888888888888888,
              "#fdca26"
             ],
             [
              1,
              "#f0f921"
             ]
            ],
            "type": "heatmapgl"
           }
          ],
          "histogram": [
           {
            "marker": {
             "pattern": {
              "fillmode": "overlay",
              "size": 10,
              "solidity": 0.2
             }
            },
            "type": "histogram"
           }
          ],
          "histogram2d": [
           {
            "colorbar": {
             "outlinewidth": 0,
             "ticks": ""
            },
            "colorscale": [
             [
              0,
              "#0d0887"
             ],
             [
              0.1111111111111111,
              "#46039f"
             ],
             [
              0.2222222222222222,
              "#7201a8"
             ],
             [
              0.3333333333333333,
              "#9c179e"
             ],
             [
              0.4444444444444444,
              "#bd3786"
             ],
             [
              0.5555555555555556,
              "#d8576b"
             ],
             [
              0.6666666666666666,
              "#ed7953"
             ],
             [
              0.7777777777777778,
              "#fb9f3a"
             ],
             [
              0.8888888888888888,
              "#fdca26"
             ],
             [
              1,
              "#f0f921"
             ]
            ],
            "type": "histogram2d"
           }
          ],
          "histogram2dcontour": [
           {
            "colorbar": {
             "outlinewidth": 0,
             "ticks": ""
            },
            "colorscale": [
             [
              0,
              "#0d0887"
             ],
             [
              0.1111111111111111,
              "#46039f"
             ],
             [
              0.2222222222222222,
              "#7201a8"
             ],
             [
              0.3333333333333333,
              "#9c179e"
             ],
             [
              0.4444444444444444,
              "#bd3786"
             ],
             [
              0.5555555555555556,
              "#d8576b"
             ],
             [
              0.6666666666666666,
              "#ed7953"
             ],
             [
              0.7777777777777778,
              "#fb9f3a"
             ],
             [
              0.8888888888888888,
              "#fdca26"
             ],
             [
              1,
              "#f0f921"
             ]
            ],
            "type": "histogram2dcontour"
           }
          ],
          "mesh3d": [
           {
            "colorbar": {
             "outlinewidth": 0,
             "ticks": ""
            },
            "type": "mesh3d"
           }
          ],
          "parcoords": [
           {
            "line": {
             "colorbar": {
              "outlinewidth": 0,
              "ticks": ""
             }
            },
            "type": "parcoords"
           }
          ],
          "pie": [
           {
            "automargin": true,
            "type": "pie"
           }
          ],
          "scatter": [
           {
            "fillpattern": {
             "fillmode": "overlay",
             "size": 10,
             "solidity": 0.2
            },
            "type": "scatter"
           }
          ],
          "scatter3d": [
           {
            "line": {
             "colorbar": {
              "outlinewidth": 0,
              "ticks": ""
             }
            },
            "marker": {
             "colorbar": {
              "outlinewidth": 0,
              "ticks": ""
             }
            },
            "type": "scatter3d"
           }
          ],
          "scattercarpet": [
           {
            "marker": {
             "colorbar": {
              "outlinewidth": 0,
              "ticks": ""
             }
            },
            "type": "scattercarpet"
           }
          ],
          "scattergeo": [
           {
            "marker": {
             "colorbar": {
              "outlinewidth": 0,
              "ticks": ""
             }
            },
            "type": "scattergeo"
           }
          ],
          "scattergl": [
           {
            "marker": {
             "colorbar": {
              "outlinewidth": 0,
              "ticks": ""
             }
            },
            "type": "scattergl"
           }
          ],
          "scattermapbox": [
           {
            "marker": {
             "colorbar": {
              "outlinewidth": 0,
              "ticks": ""
             }
            },
            "type": "scattermapbox"
           }
          ],
          "scatterpolar": [
           {
            "marker": {
             "colorbar": {
              "outlinewidth": 0,
              "ticks": ""
             }
            },
            "type": "scatterpolar"
           }
          ],
          "scatterpolargl": [
           {
            "marker": {
             "colorbar": {
              "outlinewidth": 0,
              "ticks": ""
             }
            },
            "type": "scatterpolargl"
           }
          ],
          "scatterternary": [
           {
            "marker": {
             "colorbar": {
              "outlinewidth": 0,
              "ticks": ""
             }
            },
            "type": "scatterternary"
           }
          ],
          "surface": [
           {
            "colorbar": {
             "outlinewidth": 0,
             "ticks": ""
            },
            "colorscale": [
             [
              0,
              "#0d0887"
             ],
             [
              0.1111111111111111,
              "#46039f"
             ],
             [
              0.2222222222222222,
              "#7201a8"
             ],
             [
              0.3333333333333333,
              "#9c179e"
             ],
             [
              0.4444444444444444,
              "#bd3786"
             ],
             [
              0.5555555555555556,
              "#d8576b"
             ],
             [
              0.6666666666666666,
              "#ed7953"
             ],
             [
              0.7777777777777778,
              "#fb9f3a"
             ],
             [
              0.8888888888888888,
              "#fdca26"
             ],
             [
              1,
              "#f0f921"
             ]
            ],
            "type": "surface"
           }
          ],
          "table": [
           {
            "cells": {
             "fill": {
              "color": "#EBF0F8"
             },
             "line": {
              "color": "white"
             }
            },
            "header": {
             "fill": {
              "color": "#C8D4E3"
             },
             "line": {
              "color": "white"
             }
            },
            "type": "table"
           }
          ]
         },
         "layout": {
          "annotationdefaults": {
           "arrowcolor": "#2a3f5f",
           "arrowhead": 0,
           "arrowwidth": 1
          },
          "autotypenumbers": "strict",
          "coloraxis": {
           "colorbar": {
            "outlinewidth": 0,
            "ticks": ""
           }
          },
          "colorscale": {
           "diverging": [
            [
             0,
             "#8e0152"
            ],
            [
             0.1,
             "#c51b7d"
            ],
            [
             0.2,
             "#de77ae"
            ],
            [
             0.3,
             "#f1b6da"
            ],
            [
             0.4,
             "#fde0ef"
            ],
            [
             0.5,
             "#f7f7f7"
            ],
            [
             0.6,
             "#e6f5d0"
            ],
            [
             0.7,
             "#b8e186"
            ],
            [
             0.8,
             "#7fbc41"
            ],
            [
             0.9,
             "#4d9221"
            ],
            [
             1,
             "#276419"
            ]
           ],
           "sequential": [
            [
             0,
             "#0d0887"
            ],
            [
             0.1111111111111111,
             "#46039f"
            ],
            [
             0.2222222222222222,
             "#7201a8"
            ],
            [
             0.3333333333333333,
             "#9c179e"
            ],
            [
             0.4444444444444444,
             "#bd3786"
            ],
            [
             0.5555555555555556,
             "#d8576b"
            ],
            [
             0.6666666666666666,
             "#ed7953"
            ],
            [
             0.7777777777777778,
             "#fb9f3a"
            ],
            [
             0.8888888888888888,
             "#fdca26"
            ],
            [
             1,
             "#f0f921"
            ]
           ],
           "sequentialminus": [
            [
             0,
             "#0d0887"
            ],
            [
             0.1111111111111111,
             "#46039f"
            ],
            [
             0.2222222222222222,
             "#7201a8"
            ],
            [
             0.3333333333333333,
             "#9c179e"
            ],
            [
             0.4444444444444444,
             "#bd3786"
            ],
            [
             0.5555555555555556,
             "#d8576b"
            ],
            [
             0.6666666666666666,
             "#ed7953"
            ],
            [
             0.7777777777777778,
             "#fb9f3a"
            ],
            [
             0.8888888888888888,
             "#fdca26"
            ],
            [
             1,
             "#f0f921"
            ]
           ]
          },
          "colorway": [
           "#636efa",
           "#EF553B",
           "#00cc96",
           "#ab63fa",
           "#FFA15A",
           "#19d3f3",
           "#FF6692",
           "#B6E880",
           "#FF97FF",
           "#FECB52"
          ],
          "font": {
           "color": "#2a3f5f"
          },
          "geo": {
           "bgcolor": "white",
           "lakecolor": "white",
           "landcolor": "#E5ECF6",
           "showlakes": true,
           "showland": true,
           "subunitcolor": "white"
          },
          "hoverlabel": {
           "align": "left"
          },
          "hovermode": "closest",
          "mapbox": {
           "style": "light"
          },
          "paper_bgcolor": "white",
          "plot_bgcolor": "#E5ECF6",
          "polar": {
           "angularaxis": {
            "gridcolor": "white",
            "linecolor": "white",
            "ticks": ""
           },
           "bgcolor": "#E5ECF6",
           "radialaxis": {
            "gridcolor": "white",
            "linecolor": "white",
            "ticks": ""
           }
          },
          "scene": {
           "xaxis": {
            "backgroundcolor": "#E5ECF6",
            "gridcolor": "white",
            "gridwidth": 2,
            "linecolor": "white",
            "showbackground": true,
            "ticks": "",
            "zerolinecolor": "white"
           },
           "yaxis": {
            "backgroundcolor": "#E5ECF6",
            "gridcolor": "white",
            "gridwidth": 2,
            "linecolor": "white",
            "showbackground": true,
            "ticks": "",
            "zerolinecolor": "white"
           },
           "zaxis": {
            "backgroundcolor": "#E5ECF6",
            "gridcolor": "white",
            "gridwidth": 2,
            "linecolor": "white",
            "showbackground": true,
            "ticks": "",
            "zerolinecolor": "white"
           }
          },
          "shapedefaults": {
           "line": {
            "color": "#2a3f5f"
           }
          },
          "ternary": {
           "aaxis": {
            "gridcolor": "white",
            "linecolor": "white",
            "ticks": ""
           },
           "baxis": {
            "gridcolor": "white",
            "linecolor": "white",
            "ticks": ""
           },
           "bgcolor": "#E5ECF6",
           "caxis": {
            "gridcolor": "white",
            "linecolor": "white",
            "ticks": ""
           }
          },
          "title": {
           "x": 0.05
          },
          "xaxis": {
           "automargin": true,
           "gridcolor": "white",
           "linecolor": "white",
           "ticks": "",
           "title": {
            "standoff": 15
           },
           "zerolinecolor": "white",
           "zerolinewidth": 2
          },
          "yaxis": {
           "automargin": true,
           "gridcolor": "white",
           "linecolor": "white",
           "ticks": "",
           "title": {
            "standoff": 15
           },
           "zerolinecolor": "white",
           "zerolinewidth": 2
          }
         }
        },
        "title": {
         "text": "Model vs Actual Growth Rates with Expanding Mean Moving Average"
        },
        "width": 1000,
        "xaxis": {
         "anchor": "y",
         "domain": [
          0,
          1
         ],
         "title": {
          "text": "Sold Year"
         }
        },
        "yaxis": {
         "anchor": "x",
         "domain": [
          0,
          1
         ],
         "title": {
          "text": "Growth Rate"
         }
        }
       }
      }
     },
     "metadata": {},
     "output_type": "display_data"
    }
   ],
   "source": [
    "# Create a long-form DataFrame suitable for Plotly Express\n",
    "long_df = prediction_results.melt(id_vars='sold_year', value_vars=['model_growth_rate', 'actual_growth_rate'],\n",
    "                                  var_name='Type', value_name='Growth Rate')\n",
    "\n",
    "# Plotting with regression lines\n",
    "fig = px.scatter(long_df, x='sold_year', y='Growth Rate', color='Type', trendline=\"expanding\")\n",
    "\n",
    "# Updating plot layout\n",
    "fig.update_layout(title='Model vs Actual Growth Rates with Expanding Mean Moving Average',\n",
    "                  xaxis_title='Sold Year',\n",
    "                  yaxis_title='Growth Rate',\n",
    "                  legend_title='Type',\n",
    "                  width = 1000,\n",
    "                  height = 500)\n",
    "fig.show()"
   ]
  },
  {
   "cell_type": "code",
   "execution_count": null,
   "metadata": {},
   "outputs": [
    {
     "data": {
      "application/vnd.plotly.v1+json": {
       "config": {
        "plotlyServerURL": "https://plot.ly"
       },
       "data": [
        {
         "alignmentgroup": "True",
         "hovertemplate": "flat_type=2 ROOM<br>town=%{x}<br>Mean Forecast CAGR=%{y}<extra></extra>",
         "legendgroup": "2 ROOM",
         "marker": {
          "color": "#636efa",
          "pattern": {
           "shape": ""
          }
         },
         "name": "2 ROOM",
         "offsetgroup": "2 ROOM",
         "orientation": "v",
         "showlegend": true,
         "textposition": "auto",
         "type": "bar",
         "visible": "legendonly",
         "x": [
          "GEYLANG",
          "TOA PAYOH",
          "SERANGOON",
          "ANG MO KIO",
          "BUKIT MERAH",
          "KALLANG/WHAMPOA",
          "QUEENSTOWN",
          "WOODLANDS",
          "BEDOK",
          "HOUGANG",
          "PUNGGOL",
          "SENGKANG",
          "JURONG WEST",
          "MARINE PARADE",
          "YISHUN",
          "CENTRAL AREA",
          "JURONG EAST",
          "CHOA CHU KANG",
          "SEMBAWANG",
          "BUKIT PANJANG",
          "PASIR RIS",
          "CLEMENTI",
          "BUKIT BATOK",
          "TAMPINES"
         ],
         "xaxis": "x",
         "y": [
          0.05599627271294594,
          0.054945651441812515,
          0.05249917507171631,
          0.051582783460617065,
          0.05157758668065071,
          0.05100761353969574,
          0.050508905202150345,
          0.04993439465761185,
          0.04981366544961929,
          0.048682697117328644,
          0.04852445051074028,
          0.04828644171357155,
          0.048259276896715164,
          0.04769211262464523,
          0.04731668531894684,
          0.04669417068362236,
          0.04536039009690285,
          0.04524245485663414,
          0.04508144408464432,
          0.04501271992921829,
          0.044159650802612305,
          0.0436025969684124,
          0.04316233471035957,
          0.04011072963476181
         ],
         "yaxis": "y"
        },
        {
         "alignmentgroup": "True",
         "hovertemplate": "flat_type=1 ROOM<br>town=%{x}<br>Mean Forecast CAGR=%{y}<extra></extra>",
         "legendgroup": "1 ROOM",
         "marker": {
          "color": "#EF553B",
          "pattern": {
           "shape": ""
          }
         },
         "name": "1 ROOM",
         "offsetgroup": "1 ROOM",
         "orientation": "v",
         "showlegend": true,
         "textposition": "auto",
         "type": "bar",
         "visible": "legendonly",
         "x": [
          "BUKIT MERAH"
         ],
         "xaxis": "x",
         "y": [
          0.05343616008758545
         ],
         "yaxis": "y"
        },
        {
         "alignmentgroup": "True",
         "hovertemplate": "flat_type=3 ROOM<br>town=%{x}<br>Mean Forecast CAGR=%{y}<extra></extra>",
         "legendgroup": "3 ROOM",
         "marker": {
          "color": "#00cc96",
          "pattern": {
           "shape": ""
          }
         },
         "name": "3 ROOM",
         "offsetgroup": "3 ROOM",
         "orientation": "v",
         "showlegend": true,
         "textposition": "auto",
         "type": "bar",
         "visible": "legendonly",
         "x": [
          "JURONG EAST",
          "SERANGOON",
          "WOODLANDS",
          "HOUGANG",
          "TOA PAYOH",
          "GEYLANG",
          "JURONG WEST",
          "BEDOK",
          "ANG MO KIO",
          "YISHUN",
          "BUKIT BATOK",
          "BUKIT TIMAH",
          "MARINE PARADE",
          "BUKIT PANJANG",
          "QUEENSTOWN",
          "BUKIT MERAH",
          "TAMPINES",
          "CHOA CHU KANG",
          "BISHAN",
          "KALLANG/WHAMPOA",
          "PASIR RIS",
          "CLEMENTI",
          "SENGKANG",
          "PUNGGOL",
          "CENTRAL AREA",
          "SEMBAWANG"
         ],
         "xaxis": "x",
         "y": [
          0.04510454088449478,
          0.04508957266807556,
          0.044497378170490265,
          0.04431529343128204,
          0.044161878526210785,
          0.04360189288854599,
          0.04349459335207939,
          0.043401166796684265,
          0.04305526614189148,
          0.04258439689874649,
          0.04240622743964195,
          0.04139767214655876,
          0.04110344126820564,
          0.04023987799882889,
          0.04000541940331459,
          0.03967771306633949,
          0.03882460296154022,
          0.03838745132088661,
          0.038214653730392456,
          0.03764045611023903,
          0.03748706355690956,
          0.036715056747198105,
          0.03543977439403534,
          0.03525219112634659,
          0.03471100330352783,
          0.033688660711050034
         ],
         "yaxis": "y"
        },
        {
         "alignmentgroup": "True",
         "hovertemplate": "flat_type=4 ROOM<br>town=%{x}<br>Mean Forecast CAGR=%{y}<extra></extra>",
         "legendgroup": "4 ROOM",
         "marker": {
          "color": "#ab63fa",
          "pattern": {
           "shape": ""
          }
         },
         "name": "4 ROOM",
         "offsetgroup": "4 ROOM",
         "orientation": "v",
         "showlegend": true,
         "textposition": "auto",
         "type": "bar",
         "visible": true,
         "x": [
          "CHOA CHU KANG",
          "WOODLANDS",
          "JURONG WEST",
          "YISHUN",
          "JURONG EAST",
          "SEMBAWANG",
          "PUNGGOL",
          "BUKIT PANJANG",
          "HOUGANG",
          "BUKIT BATOK",
          "SENGKANG",
          "PASIR RIS",
          "TAMPINES",
          "BEDOK",
          "GEYLANG",
          "SERANGOON",
          "CENTRAL AREA",
          "ANG MO KIO",
          "MARINE PARADE",
          "BUKIT TIMAH",
          "BISHAN",
          "CLEMENTI",
          "KALLANG/WHAMPOA",
          "TOA PAYOH",
          "BUKIT MERAH",
          "QUEENSTOWN"
         ],
         "xaxis": "x",
         "y": [
          0.038354989141225815,
          0.03727913647890091,
          0.03459920734167099,
          0.03442735970020294,
          0.033400971442461014,
          0.03316899389028549,
          0.031880758702754974,
          0.03165115788578987,
          0.03128400072455406,
          0.03082236461341381,
          0.030083484947681427,
          0.02907555364072323,
          0.02825387939810753,
          0.026978036388754845,
          0.026847710832953453,
          0.02569650299847126,
          0.025515463203191757,
          0.025078536942601204,
          0.02384878136217594,
          0.02298658713698387,
          0.022224005311727524,
          0.021928604692220688,
          0.021386560052633286,
          0.02131853625178337,
          0.020739005878567696,
          0.017943980172276497
         ],
         "yaxis": "y"
        },
        {
         "alignmentgroup": "True",
         "hovertemplate": "flat_type=5 ROOM<br>town=%{x}<br>Mean Forecast CAGR=%{y}<extra></extra>",
         "legendgroup": "5 ROOM",
         "marker": {
          "color": "#FFA15A",
          "pattern": {
           "shape": ""
          }
         },
         "name": "5 ROOM",
         "offsetgroup": "5 ROOM",
         "orientation": "v",
         "showlegend": true,
         "textposition": "auto",
         "type": "bar",
         "visible": "legendonly",
         "x": [
          "SEMBAWANG",
          "CHOA CHU KANG",
          "JURONG WEST",
          "WOODLANDS",
          "SENGKANG",
          "PUNGGOL",
          "YISHUN",
          "JURONG EAST",
          "PASIR RIS",
          "HOUGANG",
          "TAMPINES",
          "BUKIT PANJANG",
          "BUKIT BATOK",
          "SERANGOON",
          "GEYLANG",
          "BEDOK",
          "ANG MO KIO",
          "CLEMENTI",
          "BISHAN",
          "BUKIT MERAH",
          "KALLANG/WHAMPOA",
          "CENTRAL AREA",
          "BUKIT TIMAH",
          "TOA PAYOH",
          "QUEENSTOWN",
          "MARINE PARADE"
         ],
         "xaxis": "x",
         "y": [
          0.035609714686870575,
          0.033385876566171646,
          0.033096205443143845,
          0.03262823075056076,
          0.030408965423703194,
          0.028676316142082214,
          0.02833806723356247,
          0.02689915895462036,
          0.02654908411204815,
          0.025697095319628716,
          0.02538907527923584,
          0.024389071390032768,
          0.024371661245822906,
          0.021869804710149765,
          0.021480731666088104,
          0.021011391654610634,
          0.018810870125889778,
          0.017909593880176544,
          0.017616933211684227,
          0.017572328448295593,
          0.017502745613455772,
          0.017485465854406357,
          0.017334558069705963,
          0.016980301588773727,
          0.015126178972423077,
          0.014997231774032116
         ],
         "yaxis": "y"
        },
        {
         "alignmentgroup": "True",
         "hovertemplate": "flat_type=EXECUTIVE<br>town=%{x}<br>Mean Forecast CAGR=%{y}<extra></extra>",
         "legendgroup": "EXECUTIVE",
         "marker": {
          "color": "#19d3f3",
          "pattern": {
           "shape": ""
          }
         },
         "name": "EXECUTIVE",
         "offsetgroup": "EXECUTIVE",
         "orientation": "v",
         "showlegend": true,
         "textposition": "auto",
         "type": "bar",
         "visible": "legendonly",
         "x": [
          "SEMBAWANG",
          "CHOA CHU KANG",
          "JURONG WEST",
          "PUNGGOL",
          "SENGKANG",
          "WOODLANDS",
          "YISHUN",
          "JURONG EAST",
          "BUKIT BATOK",
          "PASIR RIS",
          "BUKIT PANJANG",
          "HOUGANG",
          "TAMPINES",
          "CENTRAL AREA",
          "GEYLANG",
          "SERANGOON",
          "ANG MO KIO",
          "BUKIT MERAH",
          "BEDOK",
          "CLEMENTI",
          "KALLANG/WHAMPOA",
          "BISHAN",
          "TOA PAYOH",
          "BUKIT TIMAH",
          "QUEENSTOWN"
         ],
         "xaxis": "x",
         "y": [
          0.03183865547180176,
          0.027421213686466217,
          0.026964416727423668,
          0.0261436328291893,
          0.025453880429267883,
          0.024454372003674507,
          0.02261066995561123,
          0.02156314253807068,
          0.02119012549519539,
          0.02109883911907673,
          0.020167572423815727,
          0.019919026643037796,
          0.019186867401003838,
          0.01750659942626953,
          0.016439709812402725,
          0.016126221045851707,
          0.015338994562625885,
          0.015324275009334087,
          0.01505272462964058,
          0.014929739758372307,
          0.014286212623119354,
          0.013469293713569641,
          0.01279515027999878,
          0.01156835537403822,
          0.010978787206113338
         ],
         "yaxis": "y"
        },
        {
         "alignmentgroup": "True",
         "hovertemplate": "flat_type=MULTI GENERATION<br>town=%{x}<br>Mean Forecast CAGR=%{y}<extra></extra>",
         "legendgroup": "MULTI GENERATION",
         "marker": {
          "color": "#FF6692",
          "pattern": {
           "shape": ""
          }
         },
         "name": "MULTI GENERATION",
         "offsetgroup": "MULTI GENERATION",
         "orientation": "v",
         "showlegend": true,
         "textposition": "auto",
         "type": "bar",
         "visible": "legendonly",
         "x": [
          "YISHUN",
          "TAMPINES",
          "BISHAN"
         ],
         "xaxis": "x",
         "y": [
          0.016640322282910347,
          0.01567939668893814,
          0.009629701264202595
         ],
         "yaxis": "y"
        }
       ],
       "layout": {
        "barmode": "stack",
        "legend": {
         "title": {
          "text": "Click Type Below to Add/Remove"
         },
         "tracegroupgap": 0
        },
        "template": {
         "data": {
          "bar": [
           {
            "error_x": {
             "color": "#2a3f5f"
            },
            "error_y": {
             "color": "#2a3f5f"
            },
            "marker": {
             "line": {
              "color": "#E5ECF6",
              "width": 0.5
             },
             "pattern": {
              "fillmode": "overlay",
              "size": 10,
              "solidity": 0.2
             }
            },
            "type": "bar"
           }
          ],
          "barpolar": [
           {
            "marker": {
             "line": {
              "color": "#E5ECF6",
              "width": 0.5
             },
             "pattern": {
              "fillmode": "overlay",
              "size": 10,
              "solidity": 0.2
             }
            },
            "type": "barpolar"
           }
          ],
          "carpet": [
           {
            "aaxis": {
             "endlinecolor": "#2a3f5f",
             "gridcolor": "white",
             "linecolor": "white",
             "minorgridcolor": "white",
             "startlinecolor": "#2a3f5f"
            },
            "baxis": {
             "endlinecolor": "#2a3f5f",
             "gridcolor": "white",
             "linecolor": "white",
             "minorgridcolor": "white",
             "startlinecolor": "#2a3f5f"
            },
            "type": "carpet"
           }
          ],
          "choropleth": [
           {
            "colorbar": {
             "outlinewidth": 0,
             "ticks": ""
            },
            "type": "choropleth"
           }
          ],
          "contour": [
           {
            "colorbar": {
             "outlinewidth": 0,
             "ticks": ""
            },
            "colorscale": [
             [
              0,
              "#0d0887"
             ],
             [
              0.1111111111111111,
              "#46039f"
             ],
             [
              0.2222222222222222,
              "#7201a8"
             ],
             [
              0.3333333333333333,
              "#9c179e"
             ],
             [
              0.4444444444444444,
              "#bd3786"
             ],
             [
              0.5555555555555556,
              "#d8576b"
             ],
             [
              0.6666666666666666,
              "#ed7953"
             ],
             [
              0.7777777777777778,
              "#fb9f3a"
             ],
             [
              0.8888888888888888,
              "#fdca26"
             ],
             [
              1,
              "#f0f921"
             ]
            ],
            "type": "contour"
           }
          ],
          "contourcarpet": [
           {
            "colorbar": {
             "outlinewidth": 0,
             "ticks": ""
            },
            "type": "contourcarpet"
           }
          ],
          "heatmap": [
           {
            "colorbar": {
             "outlinewidth": 0,
             "ticks": ""
            },
            "colorscale": [
             [
              0,
              "#0d0887"
             ],
             [
              0.1111111111111111,
              "#46039f"
             ],
             [
              0.2222222222222222,
              "#7201a8"
             ],
             [
              0.3333333333333333,
              "#9c179e"
             ],
             [
              0.4444444444444444,
              "#bd3786"
             ],
             [
              0.5555555555555556,
              "#d8576b"
             ],
             [
              0.6666666666666666,
              "#ed7953"
             ],
             [
              0.7777777777777778,
              "#fb9f3a"
             ],
             [
              0.8888888888888888,
              "#fdca26"
             ],
             [
              1,
              "#f0f921"
             ]
            ],
            "type": "heatmap"
           }
          ],
          "heatmapgl": [
           {
            "colorbar": {
             "outlinewidth": 0,
             "ticks": ""
            },
            "colorscale": [
             [
              0,
              "#0d0887"
             ],
             [
              0.1111111111111111,
              "#46039f"
             ],
             [
              0.2222222222222222,
              "#7201a8"
             ],
             [
              0.3333333333333333,
              "#9c179e"
             ],
             [
              0.4444444444444444,
              "#bd3786"
             ],
             [
              0.5555555555555556,
              "#d8576b"
             ],
             [
              0.6666666666666666,
              "#ed7953"
             ],
             [
              0.7777777777777778,
              "#fb9f3a"
             ],
             [
              0.8888888888888888,
              "#fdca26"
             ],
             [
              1,
              "#f0f921"
             ]
            ],
            "type": "heatmapgl"
           }
          ],
          "histogram": [
           {
            "marker": {
             "pattern": {
              "fillmode": "overlay",
              "size": 10,
              "solidity": 0.2
             }
            },
            "type": "histogram"
           }
          ],
          "histogram2d": [
           {
            "colorbar": {
             "outlinewidth": 0,
             "ticks": ""
            },
            "colorscale": [
             [
              0,
              "#0d0887"
             ],
             [
              0.1111111111111111,
              "#46039f"
             ],
             [
              0.2222222222222222,
              "#7201a8"
             ],
             [
              0.3333333333333333,
              "#9c179e"
             ],
             [
              0.4444444444444444,
              "#bd3786"
             ],
             [
              0.5555555555555556,
              "#d8576b"
             ],
             [
              0.6666666666666666,
              "#ed7953"
             ],
             [
              0.7777777777777778,
              "#fb9f3a"
             ],
             [
              0.8888888888888888,
              "#fdca26"
             ],
             [
              1,
              "#f0f921"
             ]
            ],
            "type": "histogram2d"
           }
          ],
          "histogram2dcontour": [
           {
            "colorbar": {
             "outlinewidth": 0,
             "ticks": ""
            },
            "colorscale": [
             [
              0,
              "#0d0887"
             ],
             [
              0.1111111111111111,
              "#46039f"
             ],
             [
              0.2222222222222222,
              "#7201a8"
             ],
             [
              0.3333333333333333,
              "#9c179e"
             ],
             [
              0.4444444444444444,
              "#bd3786"
             ],
             [
              0.5555555555555556,
              "#d8576b"
             ],
             [
              0.6666666666666666,
              "#ed7953"
             ],
             [
              0.7777777777777778,
              "#fb9f3a"
             ],
             [
              0.8888888888888888,
              "#fdca26"
             ],
             [
              1,
              "#f0f921"
             ]
            ],
            "type": "histogram2dcontour"
           }
          ],
          "mesh3d": [
           {
            "colorbar": {
             "outlinewidth": 0,
             "ticks": ""
            },
            "type": "mesh3d"
           }
          ],
          "parcoords": [
           {
            "line": {
             "colorbar": {
              "outlinewidth": 0,
              "ticks": ""
             }
            },
            "type": "parcoords"
           }
          ],
          "pie": [
           {
            "automargin": true,
            "type": "pie"
           }
          ],
          "scatter": [
           {
            "fillpattern": {
             "fillmode": "overlay",
             "size": 10,
             "solidity": 0.2
            },
            "type": "scatter"
           }
          ],
          "scatter3d": [
           {
            "line": {
             "colorbar": {
              "outlinewidth": 0,
              "ticks": ""
             }
            },
            "marker": {
             "colorbar": {
              "outlinewidth": 0,
              "ticks": ""
             }
            },
            "type": "scatter3d"
           }
          ],
          "scattercarpet": [
           {
            "marker": {
             "colorbar": {
              "outlinewidth": 0,
              "ticks": ""
             }
            },
            "type": "scattercarpet"
           }
          ],
          "scattergeo": [
           {
            "marker": {
             "colorbar": {
              "outlinewidth": 0,
              "ticks": ""
             }
            },
            "type": "scattergeo"
           }
          ],
          "scattergl": [
           {
            "marker": {
             "colorbar": {
              "outlinewidth": 0,
              "ticks": ""
             }
            },
            "type": "scattergl"
           }
          ],
          "scattermapbox": [
           {
            "marker": {
             "colorbar": {
              "outlinewidth": 0,
              "ticks": ""
             }
            },
            "type": "scattermapbox"
           }
          ],
          "scatterpolar": [
           {
            "marker": {
             "colorbar": {
              "outlinewidth": 0,
              "ticks": ""
             }
            },
            "type": "scatterpolar"
           }
          ],
          "scatterpolargl": [
           {
            "marker": {
             "colorbar": {
              "outlinewidth": 0,
              "ticks": ""
             }
            },
            "type": "scatterpolargl"
           }
          ],
          "scatterternary": [
           {
            "marker": {
             "colorbar": {
              "outlinewidth": 0,
              "ticks": ""
             }
            },
            "type": "scatterternary"
           }
          ],
          "surface": [
           {
            "colorbar": {
             "outlinewidth": 0,
             "ticks": ""
            },
            "colorscale": [
             [
              0,
              "#0d0887"
             ],
             [
              0.1111111111111111,
              "#46039f"
             ],
             [
              0.2222222222222222,
              "#7201a8"
             ],
             [
              0.3333333333333333,
              "#9c179e"
             ],
             [
              0.4444444444444444,
              "#bd3786"
             ],
             [
              0.5555555555555556,
              "#d8576b"
             ],
             [
              0.6666666666666666,
              "#ed7953"
             ],
             [
              0.7777777777777778,
              "#fb9f3a"
             ],
             [
              0.8888888888888888,
              "#fdca26"
             ],
             [
              1,
              "#f0f921"
             ]
            ],
            "type": "surface"
           }
          ],
          "table": [
           {
            "cells": {
             "fill": {
              "color": "#EBF0F8"
             },
             "line": {
              "color": "white"
             }
            },
            "header": {
             "fill": {
              "color": "#C8D4E3"
             },
             "line": {
              "color": "white"
             }
            },
            "type": "table"
           }
          ]
         },
         "layout": {
          "annotationdefaults": {
           "arrowcolor": "#2a3f5f",
           "arrowhead": 0,
           "arrowwidth": 1
          },
          "autotypenumbers": "strict",
          "coloraxis": {
           "colorbar": {
            "outlinewidth": 0,
            "ticks": ""
           }
          },
          "colorscale": {
           "diverging": [
            [
             0,
             "#8e0152"
            ],
            [
             0.1,
             "#c51b7d"
            ],
            [
             0.2,
             "#de77ae"
            ],
            [
             0.3,
             "#f1b6da"
            ],
            [
             0.4,
             "#fde0ef"
            ],
            [
             0.5,
             "#f7f7f7"
            ],
            [
             0.6,
             "#e6f5d0"
            ],
            [
             0.7,
             "#b8e186"
            ],
            [
             0.8,
             "#7fbc41"
            ],
            [
             0.9,
             "#4d9221"
            ],
            [
             1,
             "#276419"
            ]
           ],
           "sequential": [
            [
             0,
             "#0d0887"
            ],
            [
             0.1111111111111111,
             "#46039f"
            ],
            [
             0.2222222222222222,
             "#7201a8"
            ],
            [
             0.3333333333333333,
             "#9c179e"
            ],
            [
             0.4444444444444444,
             "#bd3786"
            ],
            [
             0.5555555555555556,
             "#d8576b"
            ],
            [
             0.6666666666666666,
             "#ed7953"
            ],
            [
             0.7777777777777778,
             "#fb9f3a"
            ],
            [
             0.8888888888888888,
             "#fdca26"
            ],
            [
             1,
             "#f0f921"
            ]
           ],
           "sequentialminus": [
            [
             0,
             "#0d0887"
            ],
            [
             0.1111111111111111,
             "#46039f"
            ],
            [
             0.2222222222222222,
             "#7201a8"
            ],
            [
             0.3333333333333333,
             "#9c179e"
            ],
            [
             0.4444444444444444,
             "#bd3786"
            ],
            [
             0.5555555555555556,
             "#d8576b"
            ],
            [
             0.6666666666666666,
             "#ed7953"
            ],
            [
             0.7777777777777778,
             "#fb9f3a"
            ],
            [
             0.8888888888888888,
             "#fdca26"
            ],
            [
             1,
             "#f0f921"
            ]
           ]
          },
          "colorway": [
           "#636efa",
           "#EF553B",
           "#00cc96",
           "#ab63fa",
           "#FFA15A",
           "#19d3f3",
           "#FF6692",
           "#B6E880",
           "#FF97FF",
           "#FECB52"
          ],
          "font": {
           "color": "#2a3f5f"
          },
          "geo": {
           "bgcolor": "white",
           "lakecolor": "white",
           "landcolor": "#E5ECF6",
           "showlakes": true,
           "showland": true,
           "subunitcolor": "white"
          },
          "hoverlabel": {
           "align": "left"
          },
          "hovermode": "closest",
          "mapbox": {
           "style": "light"
          },
          "paper_bgcolor": "white",
          "plot_bgcolor": "#E5ECF6",
          "polar": {
           "angularaxis": {
            "gridcolor": "white",
            "linecolor": "white",
            "ticks": ""
           },
           "bgcolor": "#E5ECF6",
           "radialaxis": {
            "gridcolor": "white",
            "linecolor": "white",
            "ticks": ""
           }
          },
          "scene": {
           "xaxis": {
            "backgroundcolor": "#E5ECF6",
            "gridcolor": "white",
            "gridwidth": 2,
            "linecolor": "white",
            "showbackground": true,
            "ticks": "",
            "zerolinecolor": "white"
           },
           "yaxis": {
            "backgroundcolor": "#E5ECF6",
            "gridcolor": "white",
            "gridwidth": 2,
            "linecolor": "white",
            "showbackground": true,
            "ticks": "",
            "zerolinecolor": "white"
           },
           "zaxis": {
            "backgroundcolor": "#E5ECF6",
            "gridcolor": "white",
            "gridwidth": 2,
            "linecolor": "white",
            "showbackground": true,
            "ticks": "",
            "zerolinecolor": "white"
           }
          },
          "shapedefaults": {
           "line": {
            "color": "#2a3f5f"
           }
          },
          "ternary": {
           "aaxis": {
            "gridcolor": "white",
            "linecolor": "white",
            "ticks": ""
           },
           "baxis": {
            "gridcolor": "white",
            "linecolor": "white",
            "ticks": ""
           },
           "bgcolor": "#E5ECF6",
           "caxis": {
            "gridcolor": "white",
            "linecolor": "white",
            "ticks": ""
           }
          },
          "title": {
           "x": 0.05
          },
          "xaxis": {
           "automargin": true,
           "gridcolor": "white",
           "linecolor": "white",
           "ticks": "",
           "title": {
            "standoff": 15
           },
           "zerolinecolor": "white",
           "zerolinewidth": 2
          },
          "yaxis": {
           "automargin": true,
           "gridcolor": "white",
           "linecolor": "white",
           "ticks": "",
           "title": {
            "standoff": 15
           },
           "zerolinecolor": "white",
           "zerolinewidth": 2
          }
         }
        },
        "title": {
         "text": "Mean Forecast CAGR by Town and Flat Type (Stacked)"
        },
        "xaxis": {
         "anchor": "y",
         "domain": [
          0,
          1
         ],
         "title": {
          "text": "town"
         }
        },
        "yaxis": {
         "anchor": "x",
         "domain": [
          0,
          1
         ],
         "title": {
          "text": "Mean Forecast CAGR"
         }
        }
       }
      }
     },
     "metadata": {},
     "output_type": "display_data"
    }
   ],
   "source": [
    "# Calculating mean forecast_CAGR by town and flat_type\n",
    "mean_forecast_CAGR = hdb_df.groupby(['town', 'flat_type'])['forecast_CAGR'].mean().reset_index().sort_values('forecast_CAGR', ascending=False)\n",
    "\n",
    "# Creating a stacked bar plot using Plotly\n",
    "fig = px.bar(mean_forecast_CAGR, x='town', y='forecast_CAGR', color='flat_type',\n",
    "             labels={'forecast_CAGR': 'Mean Forecast CAGR'},\n",
    "             title='Mean Forecast CAGR by Town and Flat Type (Stacked)',\n",
    "             barmode='stack')\n",
    "fig.update_layout(legend_title = 'Click Type Below to Add/Remove')\n",
    "fig.update_traces(visible=\"legendonly\")\n",
    "fig.data[3].visible = True\n",
    "\n",
    "# Show the plot\n",
    "fig.show()"
   ]
  },
  {
   "cell_type": "code",
   "execution_count": null,
   "metadata": {},
   "outputs": [
    {
     "data": {
      "application/vnd.plotly.v1+json": {
       "config": {
        "plotlyServerURL": "https://plot.ly"
       },
       "data": [
        {
         "coloraxis": "coloraxis",
         "histfunc": "sum",
         "hovertemplate": "Town: %{x}<br>Flat Type: %{y}<br>Mean CAGR: %{z}",
         "name": "",
         "type": "histogram2d",
         "x": [
          "GEYLANG",
          "TOA PAYOH",
          "BUKIT MERAH",
          "SERANGOON",
          "ANG MO KIO",
          "BUKIT MERAH",
          "KALLANG/WHAMPOA",
          "QUEENSTOWN",
          "WOODLANDS",
          "BEDOK",
          "HOUGANG",
          "PUNGGOL",
          "SENGKANG",
          "JURONG WEST",
          "MARINE PARADE",
          "YISHUN",
          "CENTRAL AREA",
          "JURONG EAST",
          "CHOA CHU KANG",
          "JURONG EAST",
          "SERANGOON",
          "SEMBAWANG",
          "BUKIT PANJANG",
          "WOODLANDS",
          "HOUGANG",
          "TOA PAYOH",
          "PASIR RIS",
          "CLEMENTI",
          "GEYLANG",
          "JURONG WEST",
          "BEDOK",
          "BUKIT BATOK",
          "ANG MO KIO",
          "YISHUN",
          "BUKIT BATOK",
          "BUKIT TIMAH",
          "MARINE PARADE",
          "BUKIT PANJANG",
          "TAMPINES",
          "QUEENSTOWN",
          "BUKIT MERAH",
          "TAMPINES",
          "CHOA CHU KANG",
          "CHOA CHU KANG",
          "BISHAN",
          "KALLANG/WHAMPOA",
          "PASIR RIS",
          "WOODLANDS",
          "CLEMENTI",
          "SEMBAWANG",
          "SENGKANG",
          "PUNGGOL",
          "CENTRAL AREA",
          "JURONG WEST",
          "YISHUN",
          "SEMBAWANG",
          "JURONG EAST",
          "CHOA CHU KANG",
          "SEMBAWANG",
          "JURONG WEST",
          "WOODLANDS",
          "PUNGGOL",
          "SEMBAWANG",
          "BUKIT PANJANG",
          "HOUGANG",
          "BUKIT BATOK",
          "SENGKANG",
          "SENGKANG",
          "PASIR RIS",
          "PUNGGOL",
          "YISHUN",
          "TAMPINES",
          "CHOA CHU KANG",
          "BEDOK",
          "JURONG WEST",
          "JURONG EAST",
          "GEYLANG",
          "PASIR RIS",
          "PUNGGOL",
          "HOUGANG",
          "SERANGOON",
          "CENTRAL AREA",
          "SENGKANG",
          "TAMPINES",
          "ANG MO KIO",
          "WOODLANDS",
          "BUKIT PANJANG",
          "BUKIT BATOK",
          "MARINE PARADE",
          "BUKIT TIMAH",
          "YISHUN",
          "BISHAN",
          "CLEMENTI",
          "SERANGOON",
          "JURONG EAST",
          "GEYLANG",
          "KALLANG/WHAMPOA",
          "TOA PAYOH",
          "BUKIT BATOK",
          "PASIR RIS",
          "BEDOK",
          "BUKIT MERAH",
          "BUKIT PANJANG",
          "HOUGANG",
          "TAMPINES",
          "ANG MO KIO",
          "QUEENSTOWN",
          "CLEMENTI",
          "BISHAN",
          "BUKIT MERAH",
          "CENTRAL AREA",
          "KALLANG/WHAMPOA",
          "CENTRAL AREA",
          "BUKIT TIMAH",
          "TOA PAYOH",
          "YISHUN",
          "GEYLANG",
          "SERANGOON",
          "TAMPINES",
          "ANG MO KIO",
          "BUKIT MERAH",
          "QUEENSTOWN",
          "BEDOK",
          "MARINE PARADE",
          "CLEMENTI",
          "KALLANG/WHAMPOA",
          "BISHAN",
          "TOA PAYOH",
          "BUKIT TIMAH",
          "QUEENSTOWN",
          "BISHAN"
         ],
         "xaxis": "x",
         "xbingroup": "x",
         "y": [
          "2 ROOM",
          "2 ROOM",
          "1 ROOM",
          "2 ROOM",
          "2 ROOM",
          "2 ROOM",
          "2 ROOM",
          "2 ROOM",
          "2 ROOM",
          "2 ROOM",
          "2 ROOM",
          "2 ROOM",
          "2 ROOM",
          "2 ROOM",
          "2 ROOM",
          "2 ROOM",
          "2 ROOM",
          "2 ROOM",
          "2 ROOM",
          "3 ROOM",
          "3 ROOM",
          "2 ROOM",
          "2 ROOM",
          "3 ROOM",
          "3 ROOM",
          "3 ROOM",
          "2 ROOM",
          "2 ROOM",
          "3 ROOM",
          "3 ROOM",
          "3 ROOM",
          "2 ROOM",
          "3 ROOM",
          "3 ROOM",
          "3 ROOM",
          "3 ROOM",
          "3 ROOM",
          "3 ROOM",
          "2 ROOM",
          "3 ROOM",
          "3 ROOM",
          "3 ROOM",
          "3 ROOM",
          "4 ROOM",
          "3 ROOM",
          "3 ROOM",
          "3 ROOM",
          "4 ROOM",
          "3 ROOM",
          "5 ROOM",
          "3 ROOM",
          "3 ROOM",
          "3 ROOM",
          "4 ROOM",
          "4 ROOM",
          "3 ROOM",
          "4 ROOM",
          "5 ROOM",
          "4 ROOM",
          "5 ROOM",
          "5 ROOM",
          "4 ROOM",
          "EXECUTIVE",
          "4 ROOM",
          "4 ROOM",
          "4 ROOM",
          "5 ROOM",
          "4 ROOM",
          "4 ROOM",
          "5 ROOM",
          "5 ROOM",
          "4 ROOM",
          "EXECUTIVE",
          "4 ROOM",
          "EXECUTIVE",
          "5 ROOM",
          "4 ROOM",
          "5 ROOM",
          "EXECUTIVE",
          "5 ROOM",
          "4 ROOM",
          "4 ROOM",
          "EXECUTIVE",
          "5 ROOM",
          "4 ROOM",
          "EXECUTIVE",
          "5 ROOM",
          "5 ROOM",
          "4 ROOM",
          "4 ROOM",
          "EXECUTIVE",
          "4 ROOM",
          "4 ROOM",
          "5 ROOM",
          "EXECUTIVE",
          "5 ROOM",
          "4 ROOM",
          "4 ROOM",
          "EXECUTIVE",
          "EXECUTIVE",
          "5 ROOM",
          "4 ROOM",
          "EXECUTIVE",
          "EXECUTIVE",
          "EXECUTIVE",
          "5 ROOM",
          "4 ROOM",
          "5 ROOM",
          "5 ROOM",
          "5 ROOM",
          "EXECUTIVE",
          "5 ROOM",
          "5 ROOM",
          "5 ROOM",
          "5 ROOM",
          "MULTI GENERATION",
          "EXECUTIVE",
          "EXECUTIVE",
          "MULTI GENERATION",
          "EXECUTIVE",
          "EXECUTIVE",
          "5 ROOM",
          "EXECUTIVE",
          "5 ROOM",
          "EXECUTIVE",
          "EXECUTIVE",
          "EXECUTIVE",
          "EXECUTIVE",
          "EXECUTIVE",
          "EXECUTIVE",
          "MULTI GENERATION"
         ],
         "yaxis": "y",
         "ybingroup": "y",
         "z": [
          0.05599627271294594,
          0.054945651441812515,
          0.05343616008758545,
          0.05249917507171631,
          0.051582783460617065,
          0.05157758668065071,
          0.05100761353969574,
          0.050508905202150345,
          0.04993439465761185,
          0.04981366544961929,
          0.048682697117328644,
          0.04852445051074028,
          0.04828644171357155,
          0.048259276896715164,
          0.04769211262464523,
          0.04731668531894684,
          0.04669417068362236,
          0.04536039009690285,
          0.04524245485663414,
          0.04510454088449478,
          0.04508957266807556,
          0.04508144408464432,
          0.04501271992921829,
          0.044497378170490265,
          0.04431529343128204,
          0.044161878526210785,
          0.044159650802612305,
          0.0436025969684124,
          0.04360189288854599,
          0.04349459335207939,
          0.043401166796684265,
          0.04316233471035957,
          0.04305526614189148,
          0.04258439689874649,
          0.04240622743964195,
          0.04139767214655876,
          0.04110344126820564,
          0.04023987799882889,
          0.04011072963476181,
          0.04000541940331459,
          0.03967771306633949,
          0.03882460296154022,
          0.03838745132088661,
          0.038354989141225815,
          0.038214653730392456,
          0.03764045611023903,
          0.03748706355690956,
          0.03727913647890091,
          0.036715056747198105,
          0.035609714686870575,
          0.03543977439403534,
          0.03525219112634659,
          0.03471100330352783,
          0.03459920734167099,
          0.03442735970020294,
          0.033688660711050034,
          0.033400971442461014,
          0.033385876566171646,
          0.03316899389028549,
          0.033096205443143845,
          0.03262823075056076,
          0.031880758702754974,
          0.03183865547180176,
          0.03165115788578987,
          0.03128400072455406,
          0.03082236461341381,
          0.030408965423703194,
          0.030083484947681427,
          0.02907555364072323,
          0.028676316142082214,
          0.02833806723356247,
          0.02825387939810753,
          0.027421213686466217,
          0.026978036388754845,
          0.026964416727423668,
          0.02689915895462036,
          0.026847710832953453,
          0.02654908411204815,
          0.0261436328291893,
          0.025697095319628716,
          0.02569650299847126,
          0.025515463203191757,
          0.025453880429267883,
          0.02538907527923584,
          0.025078536942601204,
          0.024454372003674507,
          0.024389071390032768,
          0.024371661245822906,
          0.02384878136217594,
          0.02298658713698387,
          0.02261066995561123,
          0.022224005311727524,
          0.021928604692220688,
          0.021869804710149765,
          0.02156314253807068,
          0.021480731666088104,
          0.021386560052633286,
          0.02131853625178337,
          0.02119012549519539,
          0.02109883911907673,
          0.021011391654610634,
          0.020739005878567696,
          0.020167572423815727,
          0.019919026643037796,
          0.019186867401003838,
          0.018810870125889778,
          0.017943980172276497,
          0.017909593880176544,
          0.017616933211684227,
          0.017572328448295593,
          0.01750659942626953,
          0.017502745613455772,
          0.017485465854406357,
          0.017334558069705963,
          0.016980301588773727,
          0.016640322282910347,
          0.016439709812402725,
          0.016126221045851707,
          0.01567939668893814,
          0.015338994562625885,
          0.015324275009334087,
          0.015126178972423077,
          0.01505272462964058,
          0.014997231774032116,
          0.014929739758372307,
          0.014286212623119354,
          0.013469293713569641,
          0.01279515027999878,
          0.01156835537403822,
          0.010978787206113338,
          0.009629701264202595
         ]
        }
       ],
       "layout": {
        "coloraxis": {
         "colorbar": {
          "title": {
           "text": "Mean CAGR"
          }
         },
         "colorscale": [
          [
           0,
           "#0d0887"
          ],
          [
           0.1111111111111111,
           "#46039f"
          ],
          [
           0.2222222222222222,
           "#7201a8"
          ],
          [
           0.3333333333333333,
           "#9c179e"
          ],
          [
           0.4444444444444444,
           "#bd3786"
          ],
          [
           0.5555555555555556,
           "#d8576b"
          ],
          [
           0.6666666666666666,
           "#ed7953"
          ],
          [
           0.7777777777777778,
           "#fb9f3a"
          ],
          [
           0.8888888888888888,
           "#fdca26"
          ],
          [
           1,
           "#f0f921"
          ]
         ]
        },
        "legend": {
         "tracegroupgap": 0
        },
        "template": {
         "data": {
          "bar": [
           {
            "error_x": {
             "color": "#2a3f5f"
            },
            "error_y": {
             "color": "#2a3f5f"
            },
            "marker": {
             "line": {
              "color": "#E5ECF6",
              "width": 0.5
             },
             "pattern": {
              "fillmode": "overlay",
              "size": 10,
              "solidity": 0.2
             }
            },
            "type": "bar"
           }
          ],
          "barpolar": [
           {
            "marker": {
             "line": {
              "color": "#E5ECF6",
              "width": 0.5
             },
             "pattern": {
              "fillmode": "overlay",
              "size": 10,
              "solidity": 0.2
             }
            },
            "type": "barpolar"
           }
          ],
          "carpet": [
           {
            "aaxis": {
             "endlinecolor": "#2a3f5f",
             "gridcolor": "white",
             "linecolor": "white",
             "minorgridcolor": "white",
             "startlinecolor": "#2a3f5f"
            },
            "baxis": {
             "endlinecolor": "#2a3f5f",
             "gridcolor": "white",
             "linecolor": "white",
             "minorgridcolor": "white",
             "startlinecolor": "#2a3f5f"
            },
            "type": "carpet"
           }
          ],
          "choropleth": [
           {
            "colorbar": {
             "outlinewidth": 0,
             "ticks": ""
            },
            "type": "choropleth"
           }
          ],
          "contour": [
           {
            "colorbar": {
             "outlinewidth": 0,
             "ticks": ""
            },
            "colorscale": [
             [
              0,
              "#0d0887"
             ],
             [
              0.1111111111111111,
              "#46039f"
             ],
             [
              0.2222222222222222,
              "#7201a8"
             ],
             [
              0.3333333333333333,
              "#9c179e"
             ],
             [
              0.4444444444444444,
              "#bd3786"
             ],
             [
              0.5555555555555556,
              "#d8576b"
             ],
             [
              0.6666666666666666,
              "#ed7953"
             ],
             [
              0.7777777777777778,
              "#fb9f3a"
             ],
             [
              0.8888888888888888,
              "#fdca26"
             ],
             [
              1,
              "#f0f921"
             ]
            ],
            "type": "contour"
           }
          ],
          "contourcarpet": [
           {
            "colorbar": {
             "outlinewidth": 0,
             "ticks": ""
            },
            "type": "contourcarpet"
           }
          ],
          "heatmap": [
           {
            "colorbar": {
             "outlinewidth": 0,
             "ticks": ""
            },
            "colorscale": [
             [
              0,
              "#0d0887"
             ],
             [
              0.1111111111111111,
              "#46039f"
             ],
             [
              0.2222222222222222,
              "#7201a8"
             ],
             [
              0.3333333333333333,
              "#9c179e"
             ],
             [
              0.4444444444444444,
              "#bd3786"
             ],
             [
              0.5555555555555556,
              "#d8576b"
             ],
             [
              0.6666666666666666,
              "#ed7953"
             ],
             [
              0.7777777777777778,
              "#fb9f3a"
             ],
             [
              0.8888888888888888,
              "#fdca26"
             ],
             [
              1,
              "#f0f921"
             ]
            ],
            "type": "heatmap"
           }
          ],
          "heatmapgl": [
           {
            "colorbar": {
             "outlinewidth": 0,
             "ticks": ""
            },
            "colorscale": [
             [
              0,
              "#0d0887"
             ],
             [
              0.1111111111111111,
              "#46039f"
             ],
             [
              0.2222222222222222,
              "#7201a8"
             ],
             [
              0.3333333333333333,
              "#9c179e"
             ],
             [
              0.4444444444444444,
              "#bd3786"
             ],
             [
              0.5555555555555556,
              "#d8576b"
             ],
             [
              0.6666666666666666,
              "#ed7953"
             ],
             [
              0.7777777777777778,
              "#fb9f3a"
             ],
             [
              0.8888888888888888,
              "#fdca26"
             ],
             [
              1,
              "#f0f921"
             ]
            ],
            "type": "heatmapgl"
           }
          ],
          "histogram": [
           {
            "marker": {
             "pattern": {
              "fillmode": "overlay",
              "size": 10,
              "solidity": 0.2
             }
            },
            "type": "histogram"
           }
          ],
          "histogram2d": [
           {
            "colorbar": {
             "outlinewidth": 0,
             "ticks": ""
            },
            "colorscale": [
             [
              0,
              "#0d0887"
             ],
             [
              0.1111111111111111,
              "#46039f"
             ],
             [
              0.2222222222222222,
              "#7201a8"
             ],
             [
              0.3333333333333333,
              "#9c179e"
             ],
             [
              0.4444444444444444,
              "#bd3786"
             ],
             [
              0.5555555555555556,
              "#d8576b"
             ],
             [
              0.6666666666666666,
              "#ed7953"
             ],
             [
              0.7777777777777778,
              "#fb9f3a"
             ],
             [
              0.8888888888888888,
              "#fdca26"
             ],
             [
              1,
              "#f0f921"
             ]
            ],
            "type": "histogram2d"
           }
          ],
          "histogram2dcontour": [
           {
            "colorbar": {
             "outlinewidth": 0,
             "ticks": ""
            },
            "colorscale": [
             [
              0,
              "#0d0887"
             ],
             [
              0.1111111111111111,
              "#46039f"
             ],
             [
              0.2222222222222222,
              "#7201a8"
             ],
             [
              0.3333333333333333,
              "#9c179e"
             ],
             [
              0.4444444444444444,
              "#bd3786"
             ],
             [
              0.5555555555555556,
              "#d8576b"
             ],
             [
              0.6666666666666666,
              "#ed7953"
             ],
             [
              0.7777777777777778,
              "#fb9f3a"
             ],
             [
              0.8888888888888888,
              "#fdca26"
             ],
             [
              1,
              "#f0f921"
             ]
            ],
            "type": "histogram2dcontour"
           }
          ],
          "mesh3d": [
           {
            "colorbar": {
             "outlinewidth": 0,
             "ticks": ""
            },
            "type": "mesh3d"
           }
          ],
          "parcoords": [
           {
            "line": {
             "colorbar": {
              "outlinewidth": 0,
              "ticks": ""
             }
            },
            "type": "parcoords"
           }
          ],
          "pie": [
           {
            "automargin": true,
            "type": "pie"
           }
          ],
          "scatter": [
           {
            "fillpattern": {
             "fillmode": "overlay",
             "size": 10,
             "solidity": 0.2
            },
            "type": "scatter"
           }
          ],
          "scatter3d": [
           {
            "line": {
             "colorbar": {
              "outlinewidth": 0,
              "ticks": ""
             }
            },
            "marker": {
             "colorbar": {
              "outlinewidth": 0,
              "ticks": ""
             }
            },
            "type": "scatter3d"
           }
          ],
          "scattercarpet": [
           {
            "marker": {
             "colorbar": {
              "outlinewidth": 0,
              "ticks": ""
             }
            },
            "type": "scattercarpet"
           }
          ],
          "scattergeo": [
           {
            "marker": {
             "colorbar": {
              "outlinewidth": 0,
              "ticks": ""
             }
            },
            "type": "scattergeo"
           }
          ],
          "scattergl": [
           {
            "marker": {
             "colorbar": {
              "outlinewidth": 0,
              "ticks": ""
             }
            },
            "type": "scattergl"
           }
          ],
          "scattermapbox": [
           {
            "marker": {
             "colorbar": {
              "outlinewidth": 0,
              "ticks": ""
             }
            },
            "type": "scattermapbox"
           }
          ],
          "scatterpolar": [
           {
            "marker": {
             "colorbar": {
              "outlinewidth": 0,
              "ticks": ""
             }
            },
            "type": "scatterpolar"
           }
          ],
          "scatterpolargl": [
           {
            "marker": {
             "colorbar": {
              "outlinewidth": 0,
              "ticks": ""
             }
            },
            "type": "scatterpolargl"
           }
          ],
          "scatterternary": [
           {
            "marker": {
             "colorbar": {
              "outlinewidth": 0,
              "ticks": ""
             }
            },
            "type": "scatterternary"
           }
          ],
          "surface": [
           {
            "colorbar": {
             "outlinewidth": 0,
             "ticks": ""
            },
            "colorscale": [
             [
              0,
              "#0d0887"
             ],
             [
              0.1111111111111111,
              "#46039f"
             ],
             [
              0.2222222222222222,
              "#7201a8"
             ],
             [
              0.3333333333333333,
              "#9c179e"
             ],
             [
              0.4444444444444444,
              "#bd3786"
             ],
             [
              0.5555555555555556,
              "#d8576b"
             ],
             [
              0.6666666666666666,
              "#ed7953"
             ],
             [
              0.7777777777777778,
              "#fb9f3a"
             ],
             [
              0.8888888888888888,
              "#fdca26"
             ],
             [
              1,
              "#f0f921"
             ]
            ],
            "type": "surface"
           }
          ],
          "table": [
           {
            "cells": {
             "fill": {
              "color": "#EBF0F8"
             },
             "line": {
              "color": "white"
             }
            },
            "header": {
             "fill": {
              "color": "#C8D4E3"
             },
             "line": {
              "color": "white"
             }
            },
            "type": "table"
           }
          ]
         },
         "layout": {
          "annotationdefaults": {
           "arrowcolor": "#2a3f5f",
           "arrowhead": 0,
           "arrowwidth": 1
          },
          "autotypenumbers": "strict",
          "coloraxis": {
           "colorbar": {
            "outlinewidth": 0,
            "ticks": ""
           }
          },
          "colorscale": {
           "diverging": [
            [
             0,
             "#8e0152"
            ],
            [
             0.1,
             "#c51b7d"
            ],
            [
             0.2,
             "#de77ae"
            ],
            [
             0.3,
             "#f1b6da"
            ],
            [
             0.4,
             "#fde0ef"
            ],
            [
             0.5,
             "#f7f7f7"
            ],
            [
             0.6,
             "#e6f5d0"
            ],
            [
             0.7,
             "#b8e186"
            ],
            [
             0.8,
             "#7fbc41"
            ],
            [
             0.9,
             "#4d9221"
            ],
            [
             1,
             "#276419"
            ]
           ],
           "sequential": [
            [
             0,
             "#0d0887"
            ],
            [
             0.1111111111111111,
             "#46039f"
            ],
            [
             0.2222222222222222,
             "#7201a8"
            ],
            [
             0.3333333333333333,
             "#9c179e"
            ],
            [
             0.4444444444444444,
             "#bd3786"
            ],
            [
             0.5555555555555556,
             "#d8576b"
            ],
            [
             0.6666666666666666,
             "#ed7953"
            ],
            [
             0.7777777777777778,
             "#fb9f3a"
            ],
            [
             0.8888888888888888,
             "#fdca26"
            ],
            [
             1,
             "#f0f921"
            ]
           ],
           "sequentialminus": [
            [
             0,
             "#0d0887"
            ],
            [
             0.1111111111111111,
             "#46039f"
            ],
            [
             0.2222222222222222,
             "#7201a8"
            ],
            [
             0.3333333333333333,
             "#9c179e"
            ],
            [
             0.4444444444444444,
             "#bd3786"
            ],
            [
             0.5555555555555556,
             "#d8576b"
            ],
            [
             0.6666666666666666,
             "#ed7953"
            ],
            [
             0.7777777777777778,
             "#fb9f3a"
            ],
            [
             0.8888888888888888,
             "#fdca26"
            ],
            [
             1,
             "#f0f921"
            ]
           ]
          },
          "colorway": [
           "#636efa",
           "#EF553B",
           "#00cc96",
           "#ab63fa",
           "#FFA15A",
           "#19d3f3",
           "#FF6692",
           "#B6E880",
           "#FF97FF",
           "#FECB52"
          ],
          "font": {
           "color": "#2a3f5f"
          },
          "geo": {
           "bgcolor": "white",
           "lakecolor": "white",
           "landcolor": "#E5ECF6",
           "showlakes": true,
           "showland": true,
           "subunitcolor": "white"
          },
          "hoverlabel": {
           "align": "left"
          },
          "hovermode": "closest",
          "mapbox": {
           "style": "light"
          },
          "paper_bgcolor": "white",
          "plot_bgcolor": "#E5ECF6",
          "polar": {
           "angularaxis": {
            "gridcolor": "white",
            "linecolor": "white",
            "ticks": ""
           },
           "bgcolor": "#E5ECF6",
           "radialaxis": {
            "gridcolor": "white",
            "linecolor": "white",
            "ticks": ""
           }
          },
          "scene": {
           "xaxis": {
            "backgroundcolor": "#E5ECF6",
            "gridcolor": "white",
            "gridwidth": 2,
            "linecolor": "white",
            "showbackground": true,
            "ticks": "",
            "zerolinecolor": "white"
           },
           "yaxis": {
            "backgroundcolor": "#E5ECF6",
            "gridcolor": "white",
            "gridwidth": 2,
            "linecolor": "white",
            "showbackground": true,
            "ticks": "",
            "zerolinecolor": "white"
           },
           "zaxis": {
            "backgroundcolor": "#E5ECF6",
            "gridcolor": "white",
            "gridwidth": 2,
            "linecolor": "white",
            "showbackground": true,
            "ticks": "",
            "zerolinecolor": "white"
           }
          },
          "shapedefaults": {
           "line": {
            "color": "#2a3f5f"
           }
          },
          "ternary": {
           "aaxis": {
            "gridcolor": "white",
            "linecolor": "white",
            "ticks": ""
           },
           "baxis": {
            "gridcolor": "white",
            "linecolor": "white",
            "ticks": ""
           },
           "bgcolor": "#E5ECF6",
           "caxis": {
            "gridcolor": "white",
            "linecolor": "white",
            "ticks": ""
           }
          },
          "title": {
           "x": 0.05
          },
          "xaxis": {
           "automargin": true,
           "gridcolor": "white",
           "linecolor": "white",
           "ticks": "",
           "title": {
            "standoff": 15
           },
           "zerolinecolor": "white",
           "zerolinewidth": 2
          },
          "yaxis": {
           "automargin": true,
           "gridcolor": "white",
           "linecolor": "white",
           "ticks": "",
           "title": {
            "standoff": 15
           },
           "zerolinecolor": "white",
           "zerolinewidth": 2
          }
         }
        },
        "title": {
         "text": "Heatmap of Ten Year Mean Forecast CAGR from 2024 - 2033 by Town and Flat Type"
        },
        "xaxis": {
         "anchor": "y",
         "domain": [
          0,
          1
         ],
         "title": {
          "text": "town"
         }
        },
        "yaxis": {
         "anchor": "x",
         "categoryarray": [
          "MULTI GENERATION",
          "EXECUTIVE",
          "5 ROOM",
          "4 ROOM",
          "3 ROOM",
          "2 ROOM",
          "1 ROOM"
         ],
         "categoryorder": "array",
         "domain": [
          0,
          1
         ],
         "title": {
          "text": "flat_type"
         }
        }
       }
      }
     },
     "metadata": {},
     "output_type": "display_data"
    }
   ],
   "source": [
    "# Plotting the results using Plotly\n",
    "fig = px.density_heatmap(mean_forecast_CAGR, x='town', y='flat_type', z='forecast_CAGR',\n",
    "                         title='Heatmap of Ten Year Mean Forecast CAGR from 2024 - 2033 by Town and Flat Type',\n",
    "                         category_orders={\"flat_type\": sorted(mean_forecast_CAGR['flat_type'].unique())})\n",
    "\n",
    "# Changing the legend title and tracer\n",
    "fig.update_layout(coloraxis_colorbar=dict(title='Mean CAGR'))\n",
    "fig.update_traces(hovertemplate='Town: %{x}<br>Flat Type: %{y}<br>Mean CAGR: %{z}')\n",
    "\n",
    "# Show the figure\n",
    "fig.show()"
   ]
  },
  {
   "cell_type": "code",
   "execution_count": null,
   "metadata": {},
   "outputs": [
    {
     "data": {
      "application/vnd.plotly.v1+json": {
       "config": {
        "plotlyServerURL": "https://plot.ly"
       },
       "data": [
        {
         "alignmentgroup": "True",
         "hovertemplate": "flat_type=EXECUTIVE<br>town=%{x}<br>Mean Forecast Appreciation ($SGD)=%{y}<extra></extra>",
         "legendgroup": "EXECUTIVE",
         "marker": {
          "color": "#636efa",
          "pattern": {
           "shape": ""
          }
         },
         "name": "EXECUTIVE",
         "offsetgroup": "EXECUTIVE",
         "orientation": "v",
         "showlegend": true,
         "textposition": "auto",
         "type": "bar",
         "visible": "legendonly",
         "x": [
          "SEMBAWANG",
          "CHOA CHU KANG",
          "JURONG WEST",
          "WOODLANDS",
          "SENGKANG",
          "PUNGGOL",
          "YISHUN",
          "JURONG EAST",
          "PASIR RIS",
          "BUKIT BATOK",
          "HOUGANG",
          "CENTRAL AREA",
          "TAMPINES",
          "BUKIT PANJANG",
          "GEYLANG",
          "BUKIT MERAH",
          "ANG MO KIO",
          "SERANGOON",
          "BISHAN",
          "CLEMENTI",
          "BEDOK",
          "KALLANG/WHAMPOA",
          "BUKIT TIMAH",
          "QUEENSTOWN",
          "TOA PAYOH"
         ],
         "xaxis": "x",
         "y": [
          255520.5625,
          241068.78125,
          225640.453125,
          219060.03125,
          214110.828125,
          213403.28125,
          203934.5,
          202905.859375,
          199406.8125,
          192250.0625,
          192053.015625,
          187178.28125,
          185986.40625,
          178178.375,
          177854.3125,
          164244.734375,
          163245.796875,
          162883.8125,
          161833.703125,
          159165.90625,
          151221.515625,
          150244.65625,
          145870.484375,
          139258.890625,
          138702.28125
         ],
         "yaxis": "y"
        },
        {
         "alignmentgroup": "True",
         "hovertemplate": "flat_type=3 ROOM<br>town=%{x}<br>Mean Forecast Appreciation ($SGD)=%{y}<extra></extra>",
         "legendgroup": "3 ROOM",
         "marker": {
          "color": "#EF553B",
          "pattern": {
           "shape": ""
          }
         },
         "name": "3 ROOM",
         "offsetgroup": "3 ROOM",
         "orientation": "v",
         "showlegend": true,
         "textposition": "auto",
         "type": "bar",
         "visible": "legendonly",
         "x": [
          "BUKIT TIMAH",
          "MARINE PARADE",
          "SERANGOON",
          "TOA PAYOH",
          "ANG MO KIO",
          "BUKIT MERAH",
          "BISHAN",
          "JURONG EAST",
          "KALLANG/WHAMPOA",
          "HOUGANG",
          "BEDOK",
          "QUEENSTOWN",
          "GEYLANG",
          "WOODLANDS",
          "YISHUN",
          "BUKIT PANJANG",
          "CENTRAL AREA",
          "BUKIT BATOK",
          "TAMPINES",
          "CLEMENTI",
          "JURONG WEST",
          "PASIR RIS",
          "PUNGGOL",
          "CHOA CHU KANG",
          "SENGKANG",
          "SEMBAWANG"
         ],
         "xaxis": "x",
         "y": [
          240286.234375,
          224456.625,
          223422.984375,
          219086.3125,
          217616,
          215736.3125,
          213797.171875,
          213598.953125,
          213559.828125,
          212864.140625,
          212497.234375,
          211163.453125,
          208722.59375,
          202249.96875,
          201576.203125,
          201510.765625,
          201385.140625,
          200933.84375,
          200279.453125,
          200065.46875,
          195593.6875,
          191900.15625,
          188032.140625,
          186948.421875,
          183195.453125,
          167132.921875
         ],
         "yaxis": "y"
        },
        {
         "alignmentgroup": "True",
         "hovertemplate": "flat_type=5 ROOM<br>town=%{x}<br>Mean Forecast Appreciation ($SGD)=%{y}<extra></extra>",
         "legendgroup": "5 ROOM",
         "marker": {
          "color": "#00cc96",
          "pattern": {
           "shape": ""
          }
         },
         "name": "5 ROOM",
         "offsetgroup": "5 ROOM",
         "orientation": "v",
         "showlegend": true,
         "textposition": "auto",
         "type": "bar",
         "visible": "legendonly",
         "x": [
          "CHOA CHU KANG",
          "SEMBAWANG",
          "JURONG WEST",
          "WOODLANDS",
          "SENGKANG",
          "PUNGGOL",
          "YISHUN",
          "JURONG EAST",
          "PASIR RIS",
          "TAMPINES",
          "HOUGANG",
          "GEYLANG",
          "BUKIT BATOK",
          "CENTRAL AREA",
          "BUKIT PANJANG",
          "BUKIT TIMAH",
          "SERANGOON",
          "BISHAN",
          "BUKIT MERAH",
          "BEDOK",
          "CLEMENTI",
          "ANG MO KIO",
          "KALLANG/WHAMPOA",
          "TOA PAYOH",
          "QUEENSTOWN",
          "MARINE PARADE"
         ],
         "xaxis": "x",
         "y": [
          238557.21875,
          237324.71875,
          226197.984375,
          223854.40625,
          213258.265625,
          211266.984375,
          204782.796875,
          203666.5,
          202343.3125,
          200108.9375,
          198299.09375,
          188607.828125,
          187964.25,
          185613.75,
          178061.625,
          173036.859375,
          172366.1875,
          169075.90625,
          168721.828125,
          168546.984375,
          166881.03125,
          165401.640625,
          161764.125,
          155818.28125,
          153077.140625,
          147621.953125
         ],
         "yaxis": "y"
        },
        {
         "alignmentgroup": "True",
         "hovertemplate": "flat_type=4 ROOM<br>town=%{x}<br>Mean Forecast Appreciation ($SGD)=%{y}<extra></extra>",
         "legendgroup": "4 ROOM",
         "marker": {
          "color": "#ab63fa",
          "pattern": {
           "shape": ""
          }
         },
         "name": "4 ROOM",
         "offsetgroup": "4 ROOM",
         "orientation": "v",
         "showlegend": true,
         "textposition": "auto",
         "type": "bar",
         "visible": true,
         "x": [
          "CHOA CHU KANG",
          "WOODLANDS",
          "PUNGGOL",
          "JURONG EAST",
          "CENTRAL AREA",
          "JURONG WEST",
          "BUKIT PANJANG",
          "YISHUN",
          "HOUGANG",
          "SEMBAWANG",
          "PASIR RIS",
          "BUKIT BATOK",
          "BUKIT TIMAH",
          "GEYLANG",
          "TAMPINES",
          "SENGKANG",
          "BISHAN",
          "SERANGOON",
          "ANG MO KIO",
          "BUKIT MERAH",
          "BEDOK",
          "CLEMENTI",
          "TOA PAYOH",
          "KALLANG/WHAMPOA",
          "MARINE PARADE",
          "QUEENSTOWN"
         ],
         "xaxis": "x",
         "y": [
          230144.078125,
          213861.953125,
          205609.515625,
          201146.515625,
          200694.515625,
          200129.796875,
          197386.125,
          197218.15625,
          194447.703125,
          190616.9375,
          188592.125,
          188119.015625,
          187176.828125,
          187021.6875,
          185046.25,
          181821.8125,
          177026,
          171631.640625,
          169681.53125,
          169285.4375,
          166622.6875,
          162296.453125,
          162147.375,
          162057.40625,
          161321.296875,
          158168.375
         ],
         "yaxis": "y"
        },
        {
         "alignmentgroup": "True",
         "hovertemplate": "flat_type=1 ROOM<br>town=%{x}<br>Mean Forecast Appreciation ($SGD)=%{y}<extra></extra>",
         "legendgroup": "1 ROOM",
         "marker": {
          "color": "#FFA15A",
          "pattern": {
           "shape": ""
          }
         },
         "name": "1 ROOM",
         "offsetgroup": "1 ROOM",
         "orientation": "v",
         "showlegend": true,
         "textposition": "auto",
         "type": "bar",
         "visible": "legendonly",
         "x": [
          "BUKIT MERAH"
         ],
         "xaxis": "x",
         "y": [
          221420.71875
         ],
         "yaxis": "y"
        },
        {
         "alignmentgroup": "True",
         "hovertemplate": "flat_type=2 ROOM<br>town=%{x}<br>Mean Forecast Appreciation ($SGD)=%{y}<extra></extra>",
         "legendgroup": "2 ROOM",
         "marker": {
          "color": "#19d3f3",
          "pattern": {
           "shape": ""
          }
         },
         "name": "2 ROOM",
         "offsetgroup": "2 ROOM",
         "orientation": "v",
         "showlegend": true,
         "textposition": "auto",
         "type": "bar",
         "visible": "legendonly",
         "x": [
          "SERANGOON",
          "KALLANG/WHAMPOA",
          "TOA PAYOH",
          "GEYLANG",
          "PUNGGOL",
          "BUKIT MERAH",
          "SENGKANG",
          "QUEENSTOWN",
          "HOUGANG",
          "ANG MO KIO",
          "MARINE PARADE",
          "BEDOK",
          "CLEMENTI",
          "WOODLANDS",
          "JURONG WEST",
          "YISHUN",
          "CENTRAL AREA",
          "BUKIT PANJANG",
          "JURONG EAST",
          "CHOA CHU KANG",
          "BUKIT BATOK",
          "PASIR RIS",
          "SEMBAWANG",
          "TAMPINES"
         ],
         "xaxis": "x",
         "y": [
          211004.125,
          208183.640625,
          205728.109375,
          205178.96875,
          204743.5625,
          204462.25,
          202957.671875,
          202613.59375,
          202391.03125,
          200464.765625,
          200206.53125,
          195355.765625,
          194945.328125,
          194934.21875,
          194509.84375,
          193061.265625,
          189245.90625,
          187638.765625,
          187475.859375,
          187096.515625,
          185331.28125,
          184157.84375,
          180943.984375,
          179824.0625
         ],
         "yaxis": "y"
        },
        {
         "alignmentgroup": "True",
         "hovertemplate": "flat_type=MULTI GENERATION<br>town=%{x}<br>Mean Forecast Appreciation ($SGD)=%{y}<extra></extra>",
         "legendgroup": "MULTI GENERATION",
         "marker": {
          "color": "#FF6692",
          "pattern": {
           "shape": ""
          }
         },
         "name": "MULTI GENERATION",
         "offsetgroup": "MULTI GENERATION",
         "orientation": "v",
         "showlegend": true,
         "textposition": "auto",
         "type": "bar",
         "visible": "legendonly",
         "x": [
          "YISHUN",
          "TAMPINES",
          "BISHAN"
         ],
         "xaxis": "x",
         "y": [
          163531.703125,
          156280.140625,
          110642.015625
         ],
         "yaxis": "y"
        }
       ],
       "layout": {
        "barmode": "relative",
        "legend": {
         "title": {
          "text": "Click Type Below to Add/Remove"
         },
         "tracegroupgap": 0
        },
        "template": {
         "data": {
          "bar": [
           {
            "error_x": {
             "color": "#2a3f5f"
            },
            "error_y": {
             "color": "#2a3f5f"
            },
            "marker": {
             "line": {
              "color": "#E5ECF6",
              "width": 0.5
             },
             "pattern": {
              "fillmode": "overlay",
              "size": 10,
              "solidity": 0.2
             }
            },
            "type": "bar"
           }
          ],
          "barpolar": [
           {
            "marker": {
             "line": {
              "color": "#E5ECF6",
              "width": 0.5
             },
             "pattern": {
              "fillmode": "overlay",
              "size": 10,
              "solidity": 0.2
             }
            },
            "type": "barpolar"
           }
          ],
          "carpet": [
           {
            "aaxis": {
             "endlinecolor": "#2a3f5f",
             "gridcolor": "white",
             "linecolor": "white",
             "minorgridcolor": "white",
             "startlinecolor": "#2a3f5f"
            },
            "baxis": {
             "endlinecolor": "#2a3f5f",
             "gridcolor": "white",
             "linecolor": "white",
             "minorgridcolor": "white",
             "startlinecolor": "#2a3f5f"
            },
            "type": "carpet"
           }
          ],
          "choropleth": [
           {
            "colorbar": {
             "outlinewidth": 0,
             "ticks": ""
            },
            "type": "choropleth"
           }
          ],
          "contour": [
           {
            "colorbar": {
             "outlinewidth": 0,
             "ticks": ""
            },
            "colorscale": [
             [
              0,
              "#0d0887"
             ],
             [
              0.1111111111111111,
              "#46039f"
             ],
             [
              0.2222222222222222,
              "#7201a8"
             ],
             [
              0.3333333333333333,
              "#9c179e"
             ],
             [
              0.4444444444444444,
              "#bd3786"
             ],
             [
              0.5555555555555556,
              "#d8576b"
             ],
             [
              0.6666666666666666,
              "#ed7953"
             ],
             [
              0.7777777777777778,
              "#fb9f3a"
             ],
             [
              0.8888888888888888,
              "#fdca26"
             ],
             [
              1,
              "#f0f921"
             ]
            ],
            "type": "contour"
           }
          ],
          "contourcarpet": [
           {
            "colorbar": {
             "outlinewidth": 0,
             "ticks": ""
            },
            "type": "contourcarpet"
           }
          ],
          "heatmap": [
           {
            "colorbar": {
             "outlinewidth": 0,
             "ticks": ""
            },
            "colorscale": [
             [
              0,
              "#0d0887"
             ],
             [
              0.1111111111111111,
              "#46039f"
             ],
             [
              0.2222222222222222,
              "#7201a8"
             ],
             [
              0.3333333333333333,
              "#9c179e"
             ],
             [
              0.4444444444444444,
              "#bd3786"
             ],
             [
              0.5555555555555556,
              "#d8576b"
             ],
             [
              0.6666666666666666,
              "#ed7953"
             ],
             [
              0.7777777777777778,
              "#fb9f3a"
             ],
             [
              0.8888888888888888,
              "#fdca26"
             ],
             [
              1,
              "#f0f921"
             ]
            ],
            "type": "heatmap"
           }
          ],
          "heatmapgl": [
           {
            "colorbar": {
             "outlinewidth": 0,
             "ticks": ""
            },
            "colorscale": [
             [
              0,
              "#0d0887"
             ],
             [
              0.1111111111111111,
              "#46039f"
             ],
             [
              0.2222222222222222,
              "#7201a8"
             ],
             [
              0.3333333333333333,
              "#9c179e"
             ],
             [
              0.4444444444444444,
              "#bd3786"
             ],
             [
              0.5555555555555556,
              "#d8576b"
             ],
             [
              0.6666666666666666,
              "#ed7953"
             ],
             [
              0.7777777777777778,
              "#fb9f3a"
             ],
             [
              0.8888888888888888,
              "#fdca26"
             ],
             [
              1,
              "#f0f921"
             ]
            ],
            "type": "heatmapgl"
           }
          ],
          "histogram": [
           {
            "marker": {
             "pattern": {
              "fillmode": "overlay",
              "size": 10,
              "solidity": 0.2
             }
            },
            "type": "histogram"
           }
          ],
          "histogram2d": [
           {
            "colorbar": {
             "outlinewidth": 0,
             "ticks": ""
            },
            "colorscale": [
             [
              0,
              "#0d0887"
             ],
             [
              0.1111111111111111,
              "#46039f"
             ],
             [
              0.2222222222222222,
              "#7201a8"
             ],
             [
              0.3333333333333333,
              "#9c179e"
             ],
             [
              0.4444444444444444,
              "#bd3786"
             ],
             [
              0.5555555555555556,
              "#d8576b"
             ],
             [
              0.6666666666666666,
              "#ed7953"
             ],
             [
              0.7777777777777778,
              "#fb9f3a"
             ],
             [
              0.8888888888888888,
              "#fdca26"
             ],
             [
              1,
              "#f0f921"
             ]
            ],
            "type": "histogram2d"
           }
          ],
          "histogram2dcontour": [
           {
            "colorbar": {
             "outlinewidth": 0,
             "ticks": ""
            },
            "colorscale": [
             [
              0,
              "#0d0887"
             ],
             [
              0.1111111111111111,
              "#46039f"
             ],
             [
              0.2222222222222222,
              "#7201a8"
             ],
             [
              0.3333333333333333,
              "#9c179e"
             ],
             [
              0.4444444444444444,
              "#bd3786"
             ],
             [
              0.5555555555555556,
              "#d8576b"
             ],
             [
              0.6666666666666666,
              "#ed7953"
             ],
             [
              0.7777777777777778,
              "#fb9f3a"
             ],
             [
              0.8888888888888888,
              "#fdca26"
             ],
             [
              1,
              "#f0f921"
             ]
            ],
            "type": "histogram2dcontour"
           }
          ],
          "mesh3d": [
           {
            "colorbar": {
             "outlinewidth": 0,
             "ticks": ""
            },
            "type": "mesh3d"
           }
          ],
          "parcoords": [
           {
            "line": {
             "colorbar": {
              "outlinewidth": 0,
              "ticks": ""
             }
            },
            "type": "parcoords"
           }
          ],
          "pie": [
           {
            "automargin": true,
            "type": "pie"
           }
          ],
          "scatter": [
           {
            "fillpattern": {
             "fillmode": "overlay",
             "size": 10,
             "solidity": 0.2
            },
            "type": "scatter"
           }
          ],
          "scatter3d": [
           {
            "line": {
             "colorbar": {
              "outlinewidth": 0,
              "ticks": ""
             }
            },
            "marker": {
             "colorbar": {
              "outlinewidth": 0,
              "ticks": ""
             }
            },
            "type": "scatter3d"
           }
          ],
          "scattercarpet": [
           {
            "marker": {
             "colorbar": {
              "outlinewidth": 0,
              "ticks": ""
             }
            },
            "type": "scattercarpet"
           }
          ],
          "scattergeo": [
           {
            "marker": {
             "colorbar": {
              "outlinewidth": 0,
              "ticks": ""
             }
            },
            "type": "scattergeo"
           }
          ],
          "scattergl": [
           {
            "marker": {
             "colorbar": {
              "outlinewidth": 0,
              "ticks": ""
             }
            },
            "type": "scattergl"
           }
          ],
          "scattermapbox": [
           {
            "marker": {
             "colorbar": {
              "outlinewidth": 0,
              "ticks": ""
             }
            },
            "type": "scattermapbox"
           }
          ],
          "scatterpolar": [
           {
            "marker": {
             "colorbar": {
              "outlinewidth": 0,
              "ticks": ""
             }
            },
            "type": "scatterpolar"
           }
          ],
          "scatterpolargl": [
           {
            "marker": {
             "colorbar": {
              "outlinewidth": 0,
              "ticks": ""
             }
            },
            "type": "scatterpolargl"
           }
          ],
          "scatterternary": [
           {
            "marker": {
             "colorbar": {
              "outlinewidth": 0,
              "ticks": ""
             }
            },
            "type": "scatterternary"
           }
          ],
          "surface": [
           {
            "colorbar": {
             "outlinewidth": 0,
             "ticks": ""
            },
            "colorscale": [
             [
              0,
              "#0d0887"
             ],
             [
              0.1111111111111111,
              "#46039f"
             ],
             [
              0.2222222222222222,
              "#7201a8"
             ],
             [
              0.3333333333333333,
              "#9c179e"
             ],
             [
              0.4444444444444444,
              "#bd3786"
             ],
             [
              0.5555555555555556,
              "#d8576b"
             ],
             [
              0.6666666666666666,
              "#ed7953"
             ],
             [
              0.7777777777777778,
              "#fb9f3a"
             ],
             [
              0.8888888888888888,
              "#fdca26"
             ],
             [
              1,
              "#f0f921"
             ]
            ],
            "type": "surface"
           }
          ],
          "table": [
           {
            "cells": {
             "fill": {
              "color": "#EBF0F8"
             },
             "line": {
              "color": "white"
             }
            },
            "header": {
             "fill": {
              "color": "#C8D4E3"
             },
             "line": {
              "color": "white"
             }
            },
            "type": "table"
           }
          ]
         },
         "layout": {
          "annotationdefaults": {
           "arrowcolor": "#2a3f5f",
           "arrowhead": 0,
           "arrowwidth": 1
          },
          "autotypenumbers": "strict",
          "coloraxis": {
           "colorbar": {
            "outlinewidth": 0,
            "ticks": ""
           }
          },
          "colorscale": {
           "diverging": [
            [
             0,
             "#8e0152"
            ],
            [
             0.1,
             "#c51b7d"
            ],
            [
             0.2,
             "#de77ae"
            ],
            [
             0.3,
             "#f1b6da"
            ],
            [
             0.4,
             "#fde0ef"
            ],
            [
             0.5,
             "#f7f7f7"
            ],
            [
             0.6,
             "#e6f5d0"
            ],
            [
             0.7,
             "#b8e186"
            ],
            [
             0.8,
             "#7fbc41"
            ],
            [
             0.9,
             "#4d9221"
            ],
            [
             1,
             "#276419"
            ]
           ],
           "sequential": [
            [
             0,
             "#0d0887"
            ],
            [
             0.1111111111111111,
             "#46039f"
            ],
            [
             0.2222222222222222,
             "#7201a8"
            ],
            [
             0.3333333333333333,
             "#9c179e"
            ],
            [
             0.4444444444444444,
             "#bd3786"
            ],
            [
             0.5555555555555556,
             "#d8576b"
            ],
            [
             0.6666666666666666,
             "#ed7953"
            ],
            [
             0.7777777777777778,
             "#fb9f3a"
            ],
            [
             0.8888888888888888,
             "#fdca26"
            ],
            [
             1,
             "#f0f921"
            ]
           ],
           "sequentialminus": [
            [
             0,
             "#0d0887"
            ],
            [
             0.1111111111111111,
             "#46039f"
            ],
            [
             0.2222222222222222,
             "#7201a8"
            ],
            [
             0.3333333333333333,
             "#9c179e"
            ],
            [
             0.4444444444444444,
             "#bd3786"
            ],
            [
             0.5555555555555556,
             "#d8576b"
            ],
            [
             0.6666666666666666,
             "#ed7953"
            ],
            [
             0.7777777777777778,
             "#fb9f3a"
            ],
            [
             0.8888888888888888,
             "#fdca26"
            ],
            [
             1,
             "#f0f921"
            ]
           ]
          },
          "colorway": [
           "#636efa",
           "#EF553B",
           "#00cc96",
           "#ab63fa",
           "#FFA15A",
           "#19d3f3",
           "#FF6692",
           "#B6E880",
           "#FF97FF",
           "#FECB52"
          ],
          "font": {
           "color": "#2a3f5f"
          },
          "geo": {
           "bgcolor": "white",
           "lakecolor": "white",
           "landcolor": "#E5ECF6",
           "showlakes": true,
           "showland": true,
           "subunitcolor": "white"
          },
          "hoverlabel": {
           "align": "left"
          },
          "hovermode": "closest",
          "mapbox": {
           "style": "light"
          },
          "paper_bgcolor": "white",
          "plot_bgcolor": "#E5ECF6",
          "polar": {
           "angularaxis": {
            "gridcolor": "white",
            "linecolor": "white",
            "ticks": ""
           },
           "bgcolor": "#E5ECF6",
           "radialaxis": {
            "gridcolor": "white",
            "linecolor": "white",
            "ticks": ""
           }
          },
          "scene": {
           "xaxis": {
            "backgroundcolor": "#E5ECF6",
            "gridcolor": "white",
            "gridwidth": 2,
            "linecolor": "white",
            "showbackground": true,
            "ticks": "",
            "zerolinecolor": "white"
           },
           "yaxis": {
            "backgroundcolor": "#E5ECF6",
            "gridcolor": "white",
            "gridwidth": 2,
            "linecolor": "white",
            "showbackground": true,
            "ticks": "",
            "zerolinecolor": "white"
           },
           "zaxis": {
            "backgroundcolor": "#E5ECF6",
            "gridcolor": "white",
            "gridwidth": 2,
            "linecolor": "white",
            "showbackground": true,
            "ticks": "",
            "zerolinecolor": "white"
           }
          },
          "shapedefaults": {
           "line": {
            "color": "#2a3f5f"
           }
          },
          "ternary": {
           "aaxis": {
            "gridcolor": "white",
            "linecolor": "white",
            "ticks": ""
           },
           "baxis": {
            "gridcolor": "white",
            "linecolor": "white",
            "ticks": ""
           },
           "bgcolor": "#E5ECF6",
           "caxis": {
            "gridcolor": "white",
            "linecolor": "white",
            "ticks": ""
           }
          },
          "title": {
           "x": 0.05
          },
          "xaxis": {
           "automargin": true,
           "gridcolor": "white",
           "linecolor": "white",
           "ticks": "",
           "title": {
            "standoff": 15
           },
           "zerolinecolor": "white",
           "zerolinewidth": 2
          },
          "yaxis": {
           "automargin": true,
           "gridcolor": "white",
           "linecolor": "white",
           "ticks": "",
           "title": {
            "standoff": 15
           },
           "zerolinecolor": "white",
           "zerolinewidth": 2
          }
         }
        },
        "title": {
         "text": "Ten Year Mean Forecast HDB Resale Price Appreciation from 2024 - 2033 by Town and Flat Type"
        },
        "xaxis": {
         "anchor": "y",
         "domain": [
          0,
          1
         ],
         "title": {
          "text": "town"
         }
        },
        "yaxis": {
         "anchor": "x",
         "domain": [
          0,
          1
         ],
         "title": {
          "text": "Mean Forecast Appreciation ($SGD)"
         }
        }
       }
      }
     },
     "metadata": {},
     "output_type": "display_data"
    }
   ],
   "source": [
    "# Calculate the average forecast_appreciation_amount by town\n",
    "avg_app_by_town_room = hdb_df.groupby(['town', 'flat_type'])['forecast_appreciation_amount'].mean().reset_index().sort_values(['forecast_appreciation_amount','flat_type'], ascending=False)\n",
    "\n",
    "# Plotting the results using Plotly\n",
    "fig = px.bar(avg_app_by_town_room, x='town', y='forecast_appreciation_amount', color='flat_type',\n",
    "             labels={'forecast_appreciation_amount': 'Mean Forecast Appreciation ($SGD)'},\n",
    "             title='Ten Year Mean Forecast HDB Resale Price Appreciation from 2024 - 2033 by Town and Flat Type')\n",
    "fig.update_layout(legend_title = 'Click Type Below to Add/Remove')\n",
    "fig.update_traces(visible=\"legendonly\")\n",
    "fig.data[3].visible = True\n",
    "\n",
    "# Show the figure\n",
    "fig.show()"
   ]
  },
  {
   "cell_type": "code",
   "execution_count": null,
   "metadata": {},
   "outputs": [
    {
     "data": {
      "application/vnd.plotly.v1+json": {
       "config": {
        "plotlyServerURL": "https://plot.ly"
       },
       "data": [
        {
         "coloraxis": "coloraxis",
         "histfunc": "sum",
         "hovertemplate": "Town: %{x}<br>Flat Type: %{y}<br>Mean Appreciation: %{z}",
         "name": "",
         "type": "histogram2d",
         "x": [
          "SEMBAWANG",
          "CHOA CHU KANG",
          "BUKIT TIMAH",
          "CHOA CHU KANG",
          "SEMBAWANG",
          "CHOA CHU KANG",
          "JURONG WEST",
          "JURONG WEST",
          "MARINE PARADE",
          "WOODLANDS",
          "SERANGOON",
          "BUKIT MERAH",
          "TOA PAYOH",
          "WOODLANDS",
          "ANG MO KIO",
          "BUKIT MERAH",
          "SENGKANG",
          "WOODLANDS",
          "BISHAN",
          "JURONG EAST",
          "KALLANG/WHAMPOA",
          "PUNGGOL",
          "SENGKANG",
          "HOUGANG",
          "BEDOK",
          "PUNGGOL",
          "QUEENSTOWN",
          "SERANGOON",
          "GEYLANG",
          "KALLANG/WHAMPOA",
          "TOA PAYOH",
          "PUNGGOL",
          "GEYLANG",
          "YISHUN",
          "PUNGGOL",
          "BUKIT MERAH",
          "YISHUN",
          "JURONG EAST",
          "SENGKANG",
          "JURONG EAST",
          "QUEENSTOWN",
          "HOUGANG",
          "PASIR RIS",
          "WOODLANDS",
          "YISHUN",
          "BUKIT PANJANG",
          "CENTRAL AREA",
          "JURONG EAST",
          "BUKIT BATOK",
          "CENTRAL AREA",
          "ANG MO KIO",
          "TAMPINES",
          "MARINE PARADE",
          "JURONG WEST",
          "TAMPINES",
          "CLEMENTI",
          "PASIR RIS",
          "HOUGANG",
          "BUKIT PANJANG",
          "YISHUN",
          "JURONG WEST",
          "BEDOK",
          "CLEMENTI",
          "WOODLANDS",
          "JURONG WEST",
          "HOUGANG",
          "YISHUN",
          "BUKIT BATOK",
          "HOUGANG",
          "PASIR RIS",
          "SEMBAWANG",
          "CENTRAL AREA",
          "GEYLANG",
          "PASIR RIS",
          "BUKIT BATOK",
          "PUNGGOL",
          "BUKIT BATOK",
          "BUKIT PANJANG",
          "JURONG EAST",
          "CENTRAL AREA",
          "BUKIT TIMAH",
          "CHOA CHU KANG",
          "GEYLANG",
          "CHOA CHU KANG",
          "TAMPINES",
          "CENTRAL AREA",
          "BUKIT BATOK",
          "TAMPINES",
          "PASIR RIS",
          "SENGKANG",
          "SENGKANG",
          "SEMBAWANG",
          "TAMPINES",
          "BUKIT PANJANG",
          "BUKIT PANJANG",
          "GEYLANG",
          "BISHAN",
          "BUKIT TIMAH",
          "SERANGOON",
          "SERANGOON",
          "ANG MO KIO",
          "BUKIT MERAH",
          "BISHAN",
          "BUKIT MERAH",
          "BEDOK",
          "SEMBAWANG",
          "CLEMENTI",
          "BEDOK",
          "ANG MO KIO",
          "BUKIT MERAH",
          "YISHUN",
          "ANG MO KIO",
          "SERANGOON",
          "CLEMENTI",
          "TOA PAYOH",
          "KALLANG/WHAMPOA",
          "BISHAN",
          "KALLANG/WHAMPOA",
          "MARINE PARADE",
          "CLEMENTI",
          "QUEENSTOWN",
          "TAMPINES",
          "TOA PAYOH",
          "QUEENSTOWN",
          "BEDOK",
          "KALLANG/WHAMPOA",
          "MARINE PARADE",
          "BUKIT TIMAH",
          "QUEENSTOWN",
          "TOA PAYOH",
          "BISHAN"
         ],
         "xaxis": "x",
         "xbingroup": "x",
         "y": [
          "EXECUTIVE",
          "EXECUTIVE",
          "3 ROOM",
          "5 ROOM",
          "5 ROOM",
          "4 ROOM",
          "5 ROOM",
          "EXECUTIVE",
          "3 ROOM",
          "5 ROOM",
          "3 ROOM",
          "1 ROOM",
          "3 ROOM",
          "EXECUTIVE",
          "3 ROOM",
          "3 ROOM",
          "EXECUTIVE",
          "4 ROOM",
          "3 ROOM",
          "3 ROOM",
          "3 ROOM",
          "EXECUTIVE",
          "5 ROOM",
          "3 ROOM",
          "3 ROOM",
          "5 ROOM",
          "3 ROOM",
          "2 ROOM",
          "3 ROOM",
          "2 ROOM",
          "2 ROOM",
          "4 ROOM",
          "2 ROOM",
          "5 ROOM",
          "2 ROOM",
          "2 ROOM",
          "EXECUTIVE",
          "5 ROOM",
          "2 ROOM",
          "EXECUTIVE",
          "2 ROOM",
          "2 ROOM",
          "5 ROOM",
          "3 ROOM",
          "3 ROOM",
          "3 ROOM",
          "3 ROOM",
          "4 ROOM",
          "3 ROOM",
          "4 ROOM",
          "2 ROOM",
          "3 ROOM",
          "2 ROOM",
          "4 ROOM",
          "5 ROOM",
          "3 ROOM",
          "EXECUTIVE",
          "5 ROOM",
          "4 ROOM",
          "4 ROOM",
          "3 ROOM",
          "2 ROOM",
          "2 ROOM",
          "2 ROOM",
          "2 ROOM",
          "4 ROOM",
          "2 ROOM",
          "EXECUTIVE",
          "EXECUTIVE",
          "3 ROOM",
          "4 ROOM",
          "2 ROOM",
          "5 ROOM",
          "4 ROOM",
          "4 ROOM",
          "3 ROOM",
          "5 ROOM",
          "2 ROOM",
          "2 ROOM",
          "EXECUTIVE",
          "4 ROOM",
          "2 ROOM",
          "4 ROOM",
          "3 ROOM",
          "EXECUTIVE",
          "5 ROOM",
          "2 ROOM",
          "4 ROOM",
          "2 ROOM",
          "3 ROOM",
          "4 ROOM",
          "2 ROOM",
          "2 ROOM",
          "EXECUTIVE",
          "5 ROOM",
          "EXECUTIVE",
          "4 ROOM",
          "5 ROOM",
          "5 ROOM",
          "4 ROOM",
          "4 ROOM",
          "4 ROOM",
          "5 ROOM",
          "5 ROOM",
          "5 ROOM",
          "3 ROOM",
          "5 ROOM",
          "4 ROOM",
          "5 ROOM",
          "EXECUTIVE",
          "MULTI GENERATION",
          "EXECUTIVE",
          "EXECUTIVE",
          "4 ROOM",
          "4 ROOM",
          "4 ROOM",
          "EXECUTIVE",
          "5 ROOM",
          "4 ROOM",
          "EXECUTIVE",
          "4 ROOM",
          "MULTI GENERATION",
          "5 ROOM",
          "5 ROOM",
          "EXECUTIVE",
          "EXECUTIVE",
          "5 ROOM",
          "EXECUTIVE",
          "EXECUTIVE",
          "EXECUTIVE",
          "MULTI GENERATION"
         ],
         "yaxis": "y",
         "ybingroup": "y",
         "z": [
          255520.5625,
          241068.78125,
          240286.234375,
          238557.21875,
          237324.71875,
          230144.078125,
          226197.984375,
          225640.453125,
          224456.625,
          223854.40625,
          223422.984375,
          221420.71875,
          219086.3125,
          219060.03125,
          217616,
          215736.3125,
          214110.828125,
          213861.953125,
          213797.171875,
          213598.953125,
          213559.828125,
          213403.28125,
          213258.265625,
          212864.140625,
          212497.234375,
          211266.984375,
          211163.453125,
          211004.125,
          208722.59375,
          208183.640625,
          205728.109375,
          205609.515625,
          205178.96875,
          204782.796875,
          204743.5625,
          204462.25,
          203934.5,
          203666.5,
          202957.671875,
          202905.859375,
          202613.59375,
          202391.03125,
          202343.3125,
          202249.96875,
          201576.203125,
          201510.765625,
          201385.140625,
          201146.515625,
          200933.84375,
          200694.515625,
          200464.765625,
          200279.453125,
          200206.53125,
          200129.796875,
          200108.9375,
          200065.46875,
          199406.8125,
          198299.09375,
          197386.125,
          197218.15625,
          195593.6875,
          195355.765625,
          194945.328125,
          194934.21875,
          194509.84375,
          194447.703125,
          193061.265625,
          192250.0625,
          192053.015625,
          191900.15625,
          190616.9375,
          189245.90625,
          188607.828125,
          188592.125,
          188119.015625,
          188032.140625,
          187964.25,
          187638.765625,
          187475.859375,
          187178.28125,
          187176.828125,
          187096.515625,
          187021.6875,
          186948.421875,
          185986.40625,
          185613.75,
          185331.28125,
          185046.25,
          184157.84375,
          183195.453125,
          181821.8125,
          180943.984375,
          179824.0625,
          178178.375,
          178061.625,
          177854.3125,
          177026,
          173036.859375,
          172366.1875,
          171631.640625,
          169681.53125,
          169285.4375,
          169075.90625,
          168721.828125,
          168546.984375,
          167132.921875,
          166881.03125,
          166622.6875,
          165401.640625,
          164244.734375,
          163531.703125,
          163245.796875,
          162883.8125,
          162296.453125,
          162147.375,
          162057.40625,
          161833.703125,
          161764.125,
          161321.296875,
          159165.90625,
          158168.375,
          156280.140625,
          155818.28125,
          153077.140625,
          151221.515625,
          150244.65625,
          147621.953125,
          145870.484375,
          139258.890625,
          138702.28125,
          110642.015625
         ]
        }
       ],
       "layout": {
        "coloraxis": {
         "colorbar": {
          "title": {
           "text": "Mean Appreciation"
          }
         },
         "colorscale": [
          [
           0,
           "#0d0887"
          ],
          [
           0.1111111111111111,
           "#46039f"
          ],
          [
           0.2222222222222222,
           "#7201a8"
          ],
          [
           0.3333333333333333,
           "#9c179e"
          ],
          [
           0.4444444444444444,
           "#bd3786"
          ],
          [
           0.5555555555555556,
           "#d8576b"
          ],
          [
           0.6666666666666666,
           "#ed7953"
          ],
          [
           0.7777777777777778,
           "#fb9f3a"
          ],
          [
           0.8888888888888888,
           "#fdca26"
          ],
          [
           1,
           "#f0f921"
          ]
         ]
        },
        "legend": {
         "tracegroupgap": 0
        },
        "template": {
         "data": {
          "bar": [
           {
            "error_x": {
             "color": "#2a3f5f"
            },
            "error_y": {
             "color": "#2a3f5f"
            },
            "marker": {
             "line": {
              "color": "#E5ECF6",
              "width": 0.5
             },
             "pattern": {
              "fillmode": "overlay",
              "size": 10,
              "solidity": 0.2
             }
            },
            "type": "bar"
           }
          ],
          "barpolar": [
           {
            "marker": {
             "line": {
              "color": "#E5ECF6",
              "width": 0.5
             },
             "pattern": {
              "fillmode": "overlay",
              "size": 10,
              "solidity": 0.2
             }
            },
            "type": "barpolar"
           }
          ],
          "carpet": [
           {
            "aaxis": {
             "endlinecolor": "#2a3f5f",
             "gridcolor": "white",
             "linecolor": "white",
             "minorgridcolor": "white",
             "startlinecolor": "#2a3f5f"
            },
            "baxis": {
             "endlinecolor": "#2a3f5f",
             "gridcolor": "white",
             "linecolor": "white",
             "minorgridcolor": "white",
             "startlinecolor": "#2a3f5f"
            },
            "type": "carpet"
           }
          ],
          "choropleth": [
           {
            "colorbar": {
             "outlinewidth": 0,
             "ticks": ""
            },
            "type": "choropleth"
           }
          ],
          "contour": [
           {
            "colorbar": {
             "outlinewidth": 0,
             "ticks": ""
            },
            "colorscale": [
             [
              0,
              "#0d0887"
             ],
             [
              0.1111111111111111,
              "#46039f"
             ],
             [
              0.2222222222222222,
              "#7201a8"
             ],
             [
              0.3333333333333333,
              "#9c179e"
             ],
             [
              0.4444444444444444,
              "#bd3786"
             ],
             [
              0.5555555555555556,
              "#d8576b"
             ],
             [
              0.6666666666666666,
              "#ed7953"
             ],
             [
              0.7777777777777778,
              "#fb9f3a"
             ],
             [
              0.8888888888888888,
              "#fdca26"
             ],
             [
              1,
              "#f0f921"
             ]
            ],
            "type": "contour"
           }
          ],
          "contourcarpet": [
           {
            "colorbar": {
             "outlinewidth": 0,
             "ticks": ""
            },
            "type": "contourcarpet"
           }
          ],
          "heatmap": [
           {
            "colorbar": {
             "outlinewidth": 0,
             "ticks": ""
            },
            "colorscale": [
             [
              0,
              "#0d0887"
             ],
             [
              0.1111111111111111,
              "#46039f"
             ],
             [
              0.2222222222222222,
              "#7201a8"
             ],
             [
              0.3333333333333333,
              "#9c179e"
             ],
             [
              0.4444444444444444,
              "#bd3786"
             ],
             [
              0.5555555555555556,
              "#d8576b"
             ],
             [
              0.6666666666666666,
              "#ed7953"
             ],
             [
              0.7777777777777778,
              "#fb9f3a"
             ],
             [
              0.8888888888888888,
              "#fdca26"
             ],
             [
              1,
              "#f0f921"
             ]
            ],
            "type": "heatmap"
           }
          ],
          "heatmapgl": [
           {
            "colorbar": {
             "outlinewidth": 0,
             "ticks": ""
            },
            "colorscale": [
             [
              0,
              "#0d0887"
             ],
             [
              0.1111111111111111,
              "#46039f"
             ],
             [
              0.2222222222222222,
              "#7201a8"
             ],
             [
              0.3333333333333333,
              "#9c179e"
             ],
             [
              0.4444444444444444,
              "#bd3786"
             ],
             [
              0.5555555555555556,
              "#d8576b"
             ],
             [
              0.6666666666666666,
              "#ed7953"
             ],
             [
              0.7777777777777778,
              "#fb9f3a"
             ],
             [
              0.8888888888888888,
              "#fdca26"
             ],
             [
              1,
              "#f0f921"
             ]
            ],
            "type": "heatmapgl"
           }
          ],
          "histogram": [
           {
            "marker": {
             "pattern": {
              "fillmode": "overlay",
              "size": 10,
              "solidity": 0.2
             }
            },
            "type": "histogram"
           }
          ],
          "histogram2d": [
           {
            "colorbar": {
             "outlinewidth": 0,
             "ticks": ""
            },
            "colorscale": [
             [
              0,
              "#0d0887"
             ],
             [
              0.1111111111111111,
              "#46039f"
             ],
             [
              0.2222222222222222,
              "#7201a8"
             ],
             [
              0.3333333333333333,
              "#9c179e"
             ],
             [
              0.4444444444444444,
              "#bd3786"
             ],
             [
              0.5555555555555556,
              "#d8576b"
             ],
             [
              0.6666666666666666,
              "#ed7953"
             ],
             [
              0.7777777777777778,
              "#fb9f3a"
             ],
             [
              0.8888888888888888,
              "#fdca26"
             ],
             [
              1,
              "#f0f921"
             ]
            ],
            "type": "histogram2d"
           }
          ],
          "histogram2dcontour": [
           {
            "colorbar": {
             "outlinewidth": 0,
             "ticks": ""
            },
            "colorscale": [
             [
              0,
              "#0d0887"
             ],
             [
              0.1111111111111111,
              "#46039f"
             ],
             [
              0.2222222222222222,
              "#7201a8"
             ],
             [
              0.3333333333333333,
              "#9c179e"
             ],
             [
              0.4444444444444444,
              "#bd3786"
             ],
             [
              0.5555555555555556,
              "#d8576b"
             ],
             [
              0.6666666666666666,
              "#ed7953"
             ],
             [
              0.7777777777777778,
              "#fb9f3a"
             ],
             [
              0.8888888888888888,
              "#fdca26"
             ],
             [
              1,
              "#f0f921"
             ]
            ],
            "type": "histogram2dcontour"
           }
          ],
          "mesh3d": [
           {
            "colorbar": {
             "outlinewidth": 0,
             "ticks": ""
            },
            "type": "mesh3d"
           }
          ],
          "parcoords": [
           {
            "line": {
             "colorbar": {
              "outlinewidth": 0,
              "ticks": ""
             }
            },
            "type": "parcoords"
           }
          ],
          "pie": [
           {
            "automargin": true,
            "type": "pie"
           }
          ],
          "scatter": [
           {
            "fillpattern": {
             "fillmode": "overlay",
             "size": 10,
             "solidity": 0.2
            },
            "type": "scatter"
           }
          ],
          "scatter3d": [
           {
            "line": {
             "colorbar": {
              "outlinewidth": 0,
              "ticks": ""
             }
            },
            "marker": {
             "colorbar": {
              "outlinewidth": 0,
              "ticks": ""
             }
            },
            "type": "scatter3d"
           }
          ],
          "scattercarpet": [
           {
            "marker": {
             "colorbar": {
              "outlinewidth": 0,
              "ticks": ""
             }
            },
            "type": "scattercarpet"
           }
          ],
          "scattergeo": [
           {
            "marker": {
             "colorbar": {
              "outlinewidth": 0,
              "ticks": ""
             }
            },
            "type": "scattergeo"
           }
          ],
          "scattergl": [
           {
            "marker": {
             "colorbar": {
              "outlinewidth": 0,
              "ticks": ""
             }
            },
            "type": "scattergl"
           }
          ],
          "scattermapbox": [
           {
            "marker": {
             "colorbar": {
              "outlinewidth": 0,
              "ticks": ""
             }
            },
            "type": "scattermapbox"
           }
          ],
          "scatterpolar": [
           {
            "marker": {
             "colorbar": {
              "outlinewidth": 0,
              "ticks": ""
             }
            },
            "type": "scatterpolar"
           }
          ],
          "scatterpolargl": [
           {
            "marker": {
             "colorbar": {
              "outlinewidth": 0,
              "ticks": ""
             }
            },
            "type": "scatterpolargl"
           }
          ],
          "scatterternary": [
           {
            "marker": {
             "colorbar": {
              "outlinewidth": 0,
              "ticks": ""
             }
            },
            "type": "scatterternary"
           }
          ],
          "surface": [
           {
            "colorbar": {
             "outlinewidth": 0,
             "ticks": ""
            },
            "colorscale": [
             [
              0,
              "#0d0887"
             ],
             [
              0.1111111111111111,
              "#46039f"
             ],
             [
              0.2222222222222222,
              "#7201a8"
             ],
             [
              0.3333333333333333,
              "#9c179e"
             ],
             [
              0.4444444444444444,
              "#bd3786"
             ],
             [
              0.5555555555555556,
              "#d8576b"
             ],
             [
              0.6666666666666666,
              "#ed7953"
             ],
             [
              0.7777777777777778,
              "#fb9f3a"
             ],
             [
              0.8888888888888888,
              "#fdca26"
             ],
             [
              1,
              "#f0f921"
             ]
            ],
            "type": "surface"
           }
          ],
          "table": [
           {
            "cells": {
             "fill": {
              "color": "#EBF0F8"
             },
             "line": {
              "color": "white"
             }
            },
            "header": {
             "fill": {
              "color": "#C8D4E3"
             },
             "line": {
              "color": "white"
             }
            },
            "type": "table"
           }
          ]
         },
         "layout": {
          "annotationdefaults": {
           "arrowcolor": "#2a3f5f",
           "arrowhead": 0,
           "arrowwidth": 1
          },
          "autotypenumbers": "strict",
          "coloraxis": {
           "colorbar": {
            "outlinewidth": 0,
            "ticks": ""
           }
          },
          "colorscale": {
           "diverging": [
            [
             0,
             "#8e0152"
            ],
            [
             0.1,
             "#c51b7d"
            ],
            [
             0.2,
             "#de77ae"
            ],
            [
             0.3,
             "#f1b6da"
            ],
            [
             0.4,
             "#fde0ef"
            ],
            [
             0.5,
             "#f7f7f7"
            ],
            [
             0.6,
             "#e6f5d0"
            ],
            [
             0.7,
             "#b8e186"
            ],
            [
             0.8,
             "#7fbc41"
            ],
            [
             0.9,
             "#4d9221"
            ],
            [
             1,
             "#276419"
            ]
           ],
           "sequential": [
            [
             0,
             "#0d0887"
            ],
            [
             0.1111111111111111,
             "#46039f"
            ],
            [
             0.2222222222222222,
             "#7201a8"
            ],
            [
             0.3333333333333333,
             "#9c179e"
            ],
            [
             0.4444444444444444,
             "#bd3786"
            ],
            [
             0.5555555555555556,
             "#d8576b"
            ],
            [
             0.6666666666666666,
             "#ed7953"
            ],
            [
             0.7777777777777778,
             "#fb9f3a"
            ],
            [
             0.8888888888888888,
             "#fdca26"
            ],
            [
             1,
             "#f0f921"
            ]
           ],
           "sequentialminus": [
            [
             0,
             "#0d0887"
            ],
            [
             0.1111111111111111,
             "#46039f"
            ],
            [
             0.2222222222222222,
             "#7201a8"
            ],
            [
             0.3333333333333333,
             "#9c179e"
            ],
            [
             0.4444444444444444,
             "#bd3786"
            ],
            [
             0.5555555555555556,
             "#d8576b"
            ],
            [
             0.6666666666666666,
             "#ed7953"
            ],
            [
             0.7777777777777778,
             "#fb9f3a"
            ],
            [
             0.8888888888888888,
             "#fdca26"
            ],
            [
             1,
             "#f0f921"
            ]
           ]
          },
          "colorway": [
           "#636efa",
           "#EF553B",
           "#00cc96",
           "#ab63fa",
           "#FFA15A",
           "#19d3f3",
           "#FF6692",
           "#B6E880",
           "#FF97FF",
           "#FECB52"
          ],
          "font": {
           "color": "#2a3f5f"
          },
          "geo": {
           "bgcolor": "white",
           "lakecolor": "white",
           "landcolor": "#E5ECF6",
           "showlakes": true,
           "showland": true,
           "subunitcolor": "white"
          },
          "hoverlabel": {
           "align": "left"
          },
          "hovermode": "closest",
          "mapbox": {
           "style": "light"
          },
          "paper_bgcolor": "white",
          "plot_bgcolor": "#E5ECF6",
          "polar": {
           "angularaxis": {
            "gridcolor": "white",
            "linecolor": "white",
            "ticks": ""
           },
           "bgcolor": "#E5ECF6",
           "radialaxis": {
            "gridcolor": "white",
            "linecolor": "white",
            "ticks": ""
           }
          },
          "scene": {
           "xaxis": {
            "backgroundcolor": "#E5ECF6",
            "gridcolor": "white",
            "gridwidth": 2,
            "linecolor": "white",
            "showbackground": true,
            "ticks": "",
            "zerolinecolor": "white"
           },
           "yaxis": {
            "backgroundcolor": "#E5ECF6",
            "gridcolor": "white",
            "gridwidth": 2,
            "linecolor": "white",
            "showbackground": true,
            "ticks": "",
            "zerolinecolor": "white"
           },
           "zaxis": {
            "backgroundcolor": "#E5ECF6",
            "gridcolor": "white",
            "gridwidth": 2,
            "linecolor": "white",
            "showbackground": true,
            "ticks": "",
            "zerolinecolor": "white"
           }
          },
          "shapedefaults": {
           "line": {
            "color": "#2a3f5f"
           }
          },
          "ternary": {
           "aaxis": {
            "gridcolor": "white",
            "linecolor": "white",
            "ticks": ""
           },
           "baxis": {
            "gridcolor": "white",
            "linecolor": "white",
            "ticks": ""
           },
           "bgcolor": "#E5ECF6",
           "caxis": {
            "gridcolor": "white",
            "linecolor": "white",
            "ticks": ""
           }
          },
          "title": {
           "x": 0.05
          },
          "xaxis": {
           "automargin": true,
           "gridcolor": "white",
           "linecolor": "white",
           "ticks": "",
           "title": {
            "standoff": 15
           },
           "zerolinecolor": "white",
           "zerolinewidth": 2
          },
          "yaxis": {
           "automargin": true,
           "gridcolor": "white",
           "linecolor": "white",
           "ticks": "",
           "title": {
            "standoff": 15
           },
           "zerolinecolor": "white",
           "zerolinewidth": 2
          }
         }
        },
        "title": {
         "text": "Heatmap of Ten Year Mean Forecast HDB Resale Price Appreciation from 2024 - 2033 by Town and Flat Type"
        },
        "xaxis": {
         "anchor": "y",
         "domain": [
          0,
          1
         ],
         "title": {
          "text": "town"
         }
        },
        "yaxis": {
         "anchor": "x",
         "categoryarray": [
          "MULTI GENERATION",
          "EXECUTIVE",
          "5 ROOM",
          "4 ROOM",
          "3 ROOM",
          "2 ROOM",
          "1 ROOM"
         ],
         "categoryorder": "array",
         "domain": [
          0,
          1
         ],
         "title": {
          "text": "flat_type"
         }
        }
       }
      }
     },
     "metadata": {},
     "output_type": "display_data"
    }
   ],
   "source": [
    "fig = px.density_heatmap(avg_app_by_town_room, x='town', y='flat_type', z='forecast_appreciation_amount',\n",
    "                         title='Heatmap of Ten Year Mean Forecast HDB Resale Price Appreciation from 2024 - 2033 by Town and Flat Type',\n",
    "                         category_orders={\"flat_type\": sorted(avg_app_by_town_room['flat_type'].unique())})\n",
    "\n",
    "# Changing the legend title and tracer\n",
    "fig.update_layout(coloraxis_colorbar=dict(title='Mean Appreciation'))\n",
    "fig.update_traces(hovertemplate='Town: %{x}<br>Flat Type: %{y}<br>Mean Appreciation: %{z}')\n",
    "\n",
    "fig.show()"
   ]
  },
  {
   "cell_type": "code",
   "execution_count": null,
   "metadata": {},
   "outputs": [],
   "source": []
  }
 ],
 "metadata": {
  "kernelspec": {
   "display_name": "hdb-price-estimator",
   "language": "python",
   "name": "python3"
  },
  "language_info": {
   "codemirror_mode": {
    "name": "ipython",
    "version": 3
   },
   "file_extension": ".py",
   "mimetype": "text/x-python",
   "name": "python",
   "nbconvert_exporter": "python",
   "pygments_lexer": "ipython3",
   "version": "3.10.6"
  }
 },
 "nbformat": 4,
 "nbformat_minor": 2
}

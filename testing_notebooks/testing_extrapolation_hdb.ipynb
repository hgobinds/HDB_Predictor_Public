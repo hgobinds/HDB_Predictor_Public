{
 "cells": [
  {
   "cell_type": "markdown",
   "metadata": {},
   "source": [
    "# Introduction \n",
    "This notebook investigates a series of regression models and explores which are more suited to extrapolation. \n",
    "\n",
    "Extrapolation refers to the process of making predictions using a regression model on data points that fall outside the range of the model's training data. It extends the model's estimated relationship between the variables beyond the limits of the observed data. Predictions made by extrapolation are often less reliable and have higher uncertainty, as the model has not been trained on such data. It assumes that the relationships learned by the model remain consistent outside the observed range of data. Because of this assumption, there is a risk that the model's behavior can change outside the training data range, leading to inaccurate predictions.\n",
    "\n",
    "Not all regression models are suited to make extrapolation. Different regression models are based on various underlying assumptions about the data and the relationships between variables. For extrapolation to be valid, these assumptions need to hold true even outside the observed range of the data, which is often not the case. Linear models assume a constant relationship between predictors and the target variable, which may not hold true beyond the range of training data. Non-linear models, such as tree-based methods and some types of neural networks, often model more complex relationships that can become highly unpredictable when applied outside the range they were trained on. Complex models like polynomial regression, deep neural networks, or models with high interaction terms might fit the training data very well but may not generalize beyond this range. These models can behave erratically outside the known data range, leading to unreliable extrapolation.\n",
    "\n",
    "Extrapolation inherently means making predictions in a space where the model has no data support. All models, to some extent, rely on the distribution and characteristics of the training data. When extrapolating, the model makes assumptions about data behavior in unobserved regions, which can be highly speculative. Models like decision trees, random forests, and gradient boosting machines make decisions based on the thresholds in the input features observed in the training data. They do not have a way to infer the behavior of the target variable outside these thresholds, making them unsuitable for extrapolation. On the other hand, some models like ARIMA / SARIMA for time series data, are designed for extrapolation, they rely on the assumption that past patterns (eg: seasonality) will repeat in the future. This assumption is certainly does not hold in all cases, especially when it comes to black swan events. \n",
    "\n",
    "Extrapolation can lead to misinterpretation of the model results, as it is easy to overlook that the predictions are being made in a domain where the model has not been validated. This can lead to overconfidence in the model's predictive capabilities. While models can technically perform extrapolation, the reliability and accuracy of such predictions are often questionable and ought to be treated with skepticism.\n",
    "\n",
    "Various regression models have been created to predict HDB flat prices in Singapore. Historical HDB sales data was used to train the models. Factors, such as the size of the flat, its location, age, proximity MRT stations, and even the floor levels of the unit were included in the training data. Since prices are also influenced by market trends and economic factors, macroeconomic data from each year is also included in the historical data used to create these regression models.\n",
    "\n",
    "The machine learning models this notebook will investigate are:\n",
    "- OLS Linear Regression \n",
    "- Ridge Regression \n",
    "- Lasso Regression \n",
    "- SVM\n",
    "- Random Forest \n",
    "- XGBoost\n",
    "- Dense Neural Network"
   ]
  },
  {
   "cell_type": "markdown",
   "metadata": {},
   "source": [
    "# Creating the Extrapolation DataSet"
   ]
  },
  {
   "cell_type": "markdown",
   "metadata": {},
   "source": [
    "#### Load Libraries"
   ]
  },
  {
   "cell_type": "code",
   "execution_count": 1,
   "metadata": {},
   "outputs": [],
   "source": [
    "# Wrangling libraries\n",
    "import numpy as np\n",
    "import pandas as pd\n",
    "\n",
    "# Data Visualization\n",
    "import matplotlib.pyplot as plt\n",
    "import seaborn as sns\n",
    "import plotly.express as px\n",
    "\n",
    "# Load models\n",
    "import pickle"
   ]
  },
  {
   "cell_type": "markdown",
   "metadata": {},
   "source": [
    "#### Load Economic, HDB & Preselected Sample Testing Data"
   ]
  },
  {
   "cell_type": "code",
   "execution_count": 2,
   "metadata": {},
   "outputs": [],
   "source": [
    "# Future economic data\n",
    "econ_df = pd.read_csv('../data/processed/sg_econ_data_historical_future.csv')"
   ]
  },
  {
   "cell_type": "code",
   "execution_count": 3,
   "metadata": {},
   "outputs": [],
   "source": [
    "# Read hdb data from csv\n",
    "full_hdb_df = pd.read_parquet('../data/processed/final_HDB_for_model.parquet.gzip')"
   ]
  },
  {
   "cell_type": "code",
   "execution_count": 4,
   "metadata": {},
   "outputs": [
    {
     "data": {
      "text/html": [
       "<div>\n",
       "<style scoped>\n",
       "    .dataframe tbody tr th:only-of-type {\n",
       "        vertical-align: middle;\n",
       "    }\n",
       "\n",
       "    .dataframe tbody tr th {\n",
       "        vertical-align: top;\n",
       "    }\n",
       "\n",
       "    .dataframe thead th {\n",
       "        text-align: right;\n",
       "    }\n",
       "</style>\n",
       "<table border=\"1\" class=\"dataframe\">\n",
       "  <thead>\n",
       "    <tr style=\"text-align: right;\">\n",
       "      <th></th>\n",
       "      <th>town</th>\n",
       "      <th>flat_type</th>\n",
       "      <th>storey_range</th>\n",
       "      <th>floor_area_sqm</th>\n",
       "      <th>flat_model</th>\n",
       "      <th>lease_commence_date</th>\n",
       "      <th>max_floor_lvl</th>\n",
       "      <th>most_closest_mrt</th>\n",
       "      <th>walking_time_mrt</th>\n",
       "    </tr>\n",
       "  </thead>\n",
       "  <tbody>\n",
       "    <tr>\n",
       "      <th>0</th>\n",
       "      <td>CENTRAL AREA</td>\n",
       "      <td>4 ROOM</td>\n",
       "      <td>46 TO 48</td>\n",
       "      <td>97.0</td>\n",
       "      <td>Type S1</td>\n",
       "      <td>2011</td>\n",
       "      <td>50.0</td>\n",
       "      <td>OUTRAM PARK</td>\n",
       "      <td>238.0</td>\n",
       "    </tr>\n",
       "    <tr>\n",
       "      <th>1</th>\n",
       "      <td>TAMPINES</td>\n",
       "      <td>4 ROOM</td>\n",
       "      <td>07 TO 09</td>\n",
       "      <td>104.0</td>\n",
       "      <td>Model A</td>\n",
       "      <td>1988</td>\n",
       "      <td>11.0</td>\n",
       "      <td>SIMEI</td>\n",
       "      <td>426.0</td>\n",
       "    </tr>\n",
       "    <tr>\n",
       "      <th>2</th>\n",
       "      <td>BUKIT TIMAH</td>\n",
       "      <td>4 ROOM</td>\n",
       "      <td>07 TO 09</td>\n",
       "      <td>104.0</td>\n",
       "      <td>Model A</td>\n",
       "      <td>1988</td>\n",
       "      <td>14.0</td>\n",
       "      <td>BEAUTY WORLD</td>\n",
       "      <td>346.0</td>\n",
       "    </tr>\n",
       "  </tbody>\n",
       "</table>\n",
       "</div>"
      ],
      "text/plain": [
       "           town flat_type storey_range  floor_area_sqm flat_model  \\\n",
       "0  CENTRAL AREA    4 ROOM     46 TO 48            97.0    Type S1   \n",
       "1      TAMPINES    4 ROOM     07 TO 09           104.0    Model A   \n",
       "2   BUKIT TIMAH    4 ROOM     07 TO 09           104.0    Model A   \n",
       "\n",
       "   lease_commence_date  max_floor_lvl most_closest_mrt  walking_time_mrt  \n",
       "0                 2011           50.0      OUTRAM PARK             238.0  \n",
       "1                 1988           11.0            SIMEI             426.0  \n",
       "2                 1988           14.0     BEAUTY WORLD             346.0  "
      ]
     },
     "execution_count": 4,
     "metadata": {},
     "output_type": "execute_result"
    }
   ],
   "source": [
    "# Read preselected data from csv\n",
    "pre_sample_df = pd.read_csv('../data/processed/testing_sample_hdb.csv')\n",
    "pre_sample_df"
   ]
  },
  {
   "cell_type": "markdown",
   "metadata": {},
   "source": [
    "#### Load Models"
   ]
  },
  {
   "cell_type": "code",
   "execution_count": 6,
   "metadata": {},
   "outputs": [
    {
     "name": "stderr",
     "output_type": "stream",
     "text": [
      "/Users/gobind/.pyenv/versions/3.10.6/envs/hdb-price-estimator/lib/python3.10/site-packages/sklearn/base.py:348: InconsistentVersionWarning: Trying to unpickle estimator FunctionTransformer from version 1.3.1 when using version 1.3.2. This might lead to breaking code or invalid results. Use at your own risk. For more info please refer to:\n",
      "https://scikit-learn.org/stable/model_persistence.html#security-maintainability-limitations\n",
      "  warnings.warn(\n",
      "/Users/gobind/.pyenv/versions/3.10.6/envs/hdb-price-estimator/lib/python3.10/site-packages/sklearn/base.py:348: InconsistentVersionWarning: Trying to unpickle estimator OneHotEncoder from version 1.3.1 when using version 1.3.2. This might lead to breaking code or invalid results. Use at your own risk. For more info please refer to:\n",
      "https://scikit-learn.org/stable/model_persistence.html#security-maintainability-limitations\n",
      "  warnings.warn(\n",
      "/Users/gobind/.pyenv/versions/3.10.6/envs/hdb-price-estimator/lib/python3.10/site-packages/sklearn/base.py:348: InconsistentVersionWarning: Trying to unpickle estimator ColumnTransformer from version 1.3.1 when using version 1.3.2. This might lead to breaking code or invalid results. Use at your own risk. For more info please refer to:\n",
      "https://scikit-learn.org/stable/model_persistence.html#security-maintainability-limitations\n",
      "  warnings.warn(\n",
      "/Users/gobind/.pyenv/versions/3.10.6/envs/hdb-price-estimator/lib/python3.10/site-packages/sklearn/base.py:348: InconsistentVersionWarning: Trying to unpickle estimator Pipeline from version 1.3.1 when using version 1.3.2. This might lead to breaking code or invalid results. Use at your own risk. For more info please refer to:\n",
      "https://scikit-learn.org/stable/model_persistence.html#security-maintainability-limitations\n",
      "  warnings.warn(\n"
     ]
    }
   ],
   "source": [
    "XGBoost = pickle.load(open('../models/final_XGBoost_231204.pkl', 'rb'))\n",
    "randomForest = pickle.load(open('../models/randomForest_240129.pkl', 'rb'))\n",
    "denseNN = pickle.load(open('../models/denseNN_231214.pkl', 'rb'))\n",
    "linear = pickle.load(open('../models/linear_240130.pkl', 'rb'))\n",
    "ridge = pickle.load(open('../models/ridge_240130.pkl', 'rb'))\n",
    "lasso = pickle.load(open('../models/lasso_240130.pkl', 'rb'))"
   ]
  },
  {
   "cell_type": "markdown",
   "metadata": {},
   "source": [
    "| Regression          | Test r2 score | Test Mean Absolute Error |\n",
    "| --------            | -------       | ------- |\n",
    "| OLS Linear          | 0.87          | $44803.89    |\n",
    "| Ridge               | 0.87          | $44804.05     |\n",
    "| Lasso               | 0.87          | $44813.37    |\n",
    "| XGBoost             | 0.98          | $15870.06    |\n",
    "| Random Forest       | 0.98          | $15027.17     |\n",
    "| Dense Neural Network| 0.98          | $17318.09    |"
   ]
  },
  {
   "cell_type": "markdown",
   "metadata": {},
   "source": [
    "#### Extract Random Sample"
   ]
  },
  {
   "cell_type": "code",
   "execution_count": 7,
   "metadata": {},
   "outputs": [
    {
     "data": {
      "text/html": [
       "<div>\n",
       "<style scoped>\n",
       "    .dataframe tbody tr th:only-of-type {\n",
       "        vertical-align: middle;\n",
       "    }\n",
       "\n",
       "    .dataframe tbody tr th {\n",
       "        vertical-align: top;\n",
       "    }\n",
       "\n",
       "    .dataframe thead th {\n",
       "        text-align: right;\n",
       "    }\n",
       "</style>\n",
       "<table border=\"1\" class=\"dataframe\">\n",
       "  <thead>\n",
       "    <tr style=\"text-align: right;\">\n",
       "      <th></th>\n",
       "      <th>town</th>\n",
       "      <th>flat_type</th>\n",
       "      <th>storey_range</th>\n",
       "      <th>floor_area_sqm</th>\n",
       "      <th>flat_model</th>\n",
       "      <th>lease_commence_date</th>\n",
       "      <th>max_floor_lvl</th>\n",
       "      <th>most_closest_mrt</th>\n",
       "      <th>walking_time_mrt</th>\n",
       "    </tr>\n",
       "  </thead>\n",
       "  <tbody>\n",
       "    <tr>\n",
       "      <th>135368</th>\n",
       "      <td>TAMPINES</td>\n",
       "      <td>4 ROOM</td>\n",
       "      <td>01 TO 03</td>\n",
       "      <td>104.0</td>\n",
       "      <td>Model A</td>\n",
       "      <td>1988</td>\n",
       "      <td>11.0</td>\n",
       "      <td>SIMEI</td>\n",
       "      <td>495.0</td>\n",
       "    </tr>\n",
       "  </tbody>\n",
       "</table>\n",
       "</div>"
      ],
      "text/plain": [
       "            town flat_type storey_range  floor_area_sqm flat_model  \\\n",
       "135368  TAMPINES    4 ROOM     01 TO 03           104.0    Model A   \n",
       "\n",
       "        lease_commence_date  max_floor_lvl most_closest_mrt  walking_time_mrt  \n",
       "135368                 1988           11.0            SIMEI             495.0  "
      ]
     },
     "execution_count": 7,
     "metadata": {},
     "output_type": "execute_result"
    }
   ],
   "source": [
    "# Extract a single random row from full HDB data\n",
    "sample_df = full_hdb_df.sample()\n",
    "\n",
    "# Drop unnecessary columns for the model\n",
    "# Put all columns to be deleted into a list\n",
    "drop_cols = ['block', 'street_name','address','sold_year_month', 'resale_price'] + \\\n",
    "            ['sold_year', 'sold_remaining_lease',\n",
    "             '5 year bond yields','GDPm (Current Prices)', 'GDP per capita', 'Personal Income m',\n",
    "             'Unemployment Rate', 'Core inflation', 'Median Household Inc',\n",
    "             'Lime, Cement, & Fabricated Construction Materials Excl Glass & Clay Materials',\n",
    "             'Clay Construction Materials & Refractory Construction Materials',\n",
    "             'ResidentPopulation','ResidentPopulation_Growth_Rate']\n",
    "\n",
    "# Drop columns\n",
    "sample_df = sample_df.drop(columns=drop_cols)\n",
    "\n",
    "# Vew Sample Row\n",
    "sample_df"
   ]
  },
  {
   "cell_type": "markdown",
   "metadata": {},
   "source": [
    "#### Create Testing DataFrame and Run Extrapolation "
   ]
  },
  {
   "cell_type": "code",
   "execution_count": 14,
   "metadata": {},
   "outputs": [
    {
     "name": "stdout",
     "output_type": "stream",
     "text": [
      "2/2 [==============================] - 0s 2ms/step\n"
     ]
    },
    {
     "name": "stderr",
     "output_type": "stream",
     "text": [
      "[Parallel(n_jobs=1)]: Done  24 tasks      | elapsed:    0.0s\n",
      "[Parallel(n_jobs=1)]: Done  97 tasks      | elapsed:    0.0s\n"
     ]
    },
    {
     "data": {
      "text/html": [
       "<div>\n",
       "<style scoped>\n",
       "    .dataframe tbody tr th:only-of-type {\n",
       "        vertical-align: middle;\n",
       "    }\n",
       "\n",
       "    .dataframe tbody tr th {\n",
       "        vertical-align: top;\n",
       "    }\n",
       "\n",
       "    .dataframe thead th {\n",
       "        text-align: right;\n",
       "    }\n",
       "</style>\n",
       "<table border=\"1\" class=\"dataframe\">\n",
       "  <thead>\n",
       "    <tr style=\"text-align: right;\">\n",
       "      <th></th>\n",
       "      <th>sold_year</th>\n",
       "      <th>XGBoost</th>\n",
       "      <th>random_forest</th>\n",
       "      <th>dnn</th>\n",
       "      <th>linear</th>\n",
       "      <th>ridge</th>\n",
       "      <th>lasso</th>\n",
       "      <th>historical_mean</th>\n",
       "    </tr>\n",
       "  </thead>\n",
       "  <tbody>\n",
       "    <tr>\n",
       "      <th>0</th>\n",
       "      <td>1992</td>\n",
       "      <td>103460.601562</td>\n",
       "      <td>98203.0</td>\n",
       "      <td>97822.289062</td>\n",
       "      <td>211984.236452</td>\n",
       "      <td>211958.923692</td>\n",
       "      <td>211928.743713</td>\n",
       "      <td>93160.909091</td>\n",
       "    </tr>\n",
       "    <tr>\n",
       "      <th>1</th>\n",
       "      <td>1993</td>\n",
       "      <td>161822.171875</td>\n",
       "      <td>156210.0</td>\n",
       "      <td>139750.859375</td>\n",
       "      <td>231605.290878</td>\n",
       "      <td>231567.089456</td>\n",
       "      <td>231540.727866</td>\n",
       "      <td>140924.242424</td>\n",
       "    </tr>\n",
       "    <tr>\n",
       "      <th>2</th>\n",
       "      <td>1994</td>\n",
       "      <td>196696.250000</td>\n",
       "      <td>193295.0</td>\n",
       "      <td>193852.437500</td>\n",
       "      <td>243891.957690</td>\n",
       "      <td>243865.597186</td>\n",
       "      <td>243839.829039</td>\n",
       "      <td>173051.294118</td>\n",
       "    </tr>\n",
       "    <tr>\n",
       "      <th>3</th>\n",
       "      <td>1995</td>\n",
       "      <td>228569.437500</td>\n",
       "      <td>228152.5</td>\n",
       "      <td>230806.875000</td>\n",
       "      <td>246934.008169</td>\n",
       "      <td>246902.815100</td>\n",
       "      <td>246867.860091</td>\n",
       "      <td>218243.243243</td>\n",
       "    </tr>\n",
       "    <tr>\n",
       "      <th>4</th>\n",
       "      <td>1996</td>\n",
       "      <td>322389.250000</td>\n",
       "      <td>312630.0</td>\n",
       "      <td>328009.437500</td>\n",
       "      <td>265581.704219</td>\n",
       "      <td>265545.027507</td>\n",
       "      <td>265514.215711</td>\n",
       "      <td>312979.452055</td>\n",
       "    </tr>\n",
       "  </tbody>\n",
       "</table>\n",
       "</div>"
      ],
      "text/plain": [
       "   sold_year        XGBoost  random_forest            dnn         linear  \\\n",
       "0       1992  103460.601562        98203.0   97822.289062  211984.236452   \n",
       "1       1993  161822.171875       156210.0  139750.859375  231605.290878   \n",
       "2       1994  196696.250000       193295.0  193852.437500  243891.957690   \n",
       "3       1995  228569.437500       228152.5  230806.875000  246934.008169   \n",
       "4       1996  322389.250000       312630.0  328009.437500  265581.704219   \n",
       "\n",
       "           ridge          lasso  historical_mean  \n",
       "0  211958.923692  211928.743713     93160.909091  \n",
       "1  231567.089456  231540.727866    140924.242424  \n",
       "2  243865.597186  243839.829039    173051.294118  \n",
       "3  246902.815100  246867.860091    218243.243243  \n",
       "4  265545.027507  265514.215711    312979.452055  "
      ]
     },
     "execution_count": 14,
     "metadata": {},
     "output_type": "execute_result"
    }
   ],
   "source": [
    "# Take first row of sample and create to create testing dataframe\n",
    "# Code written like this so that it can also be used with the preselected sample dataframe\n",
    "test_df = sample_df.iloc[0:1].copy().reset_index(drop=True)\n",
    "\n",
    "# Create variables to use in the creating of the testing data frame\n",
    "resale_year = test_df['lease_commence_date'][0] + 4\n",
    "factor = 2034 - test_df['lease_commence_date'][0] - 4\n",
    "\n",
    "# Multiply single sample row to insert testing data for each year\n",
    "test_df = pd.concat([test_df] * factor, ignore_index=True)\n",
    "\n",
    "# Create year column using variables created earlier\n",
    "year_range = range(resale_year, resale_year + factor)\n",
    "test_df['sold_year'] = year_range\n",
    "\n",
    "# Include economic data in the testing dataframe\n",
    "test_df = test_df.merge(econ_df, left_on='sold_year', right_on='year', how='left')\n",
    "\n",
    "# Create remaining lease column for prediction years\n",
    "test_df['sold_remaining_lease'] = 99 - (test_df['sold_year'] - test_df['lease_commence_date'])\n",
    "\n",
    "# Reorient columns to be used in the pipelines\n",
    "test_df = test_df[['town', 'flat_type', 'storey_range', 'floor_area_sqm', 'flat_model',\n",
    "       'lease_commence_date', 'sold_year', 'sold_remaining_lease',\n",
    "       'max_floor_lvl', '5 year bond yields', 'GDPm (Current Prices)',\n",
    "       'GDP per capita', 'Personal Income m', 'Unemployment Rate',\n",
    "       'Core inflation', 'Median Household Inc',\n",
    "       'Lime, Cement, & Fabricated Construction Materials Excl Glass & Clay Materials',\n",
    "       'Clay Construction Materials & Refractory Construction Materials',\n",
    "       'most_closest_mrt', 'walking_time_mrt', 'ResidentPopulation',\n",
    "       'ResidentPopulation_Growth_Rate']]\n",
    "\n",
    "# Remove any dates before 1990 as it creates NaNs\n",
    "test_df = test_df[test_df['sold_year'] >= 1990].reset_index(drop=True)\n",
    "\n",
    "# Apply models and put predictions in new columns\n",
    "test_df['XGBoost'] = XGBoost.predict(test_df)\n",
    "test_df['random_forest'] = randomForest.predict(test_df)\n",
    "test_df['dnn'] = denseNN.predict(test_df)\n",
    "test_df['linear'] = linear.predict(test_df)\n",
    "test_df['ridge'] = ridge.predict(test_df)\n",
    "test_df['lasso'] = lasso.predict(test_df)\n",
    "\n",
    "# Extract results into new dataframe for plotting\n",
    "test_results = test_df[['sold_year','XGBoost', 'random_forest', 'dnn', 'linear', 'ridge', 'lasso']]\n",
    "\n",
    "# Extract historical data from full HDB dataframe for plotting against test results\n",
    "temp = full_hdb_df[(full_hdb_df['town'] == test_df['town'][0]) &\n",
    "                                    (full_hdb_df['flat_type'] == test_df['flat_type'][0]) &\n",
    "                                    (full_hdb_df['storey_range'] == test_df['storey_range'][0]) &\n",
    "                                    (full_hdb_df['most_closest_mrt'] == test_df['most_closest_mrt'][0])\n",
    "                                    ].groupby(['sold_year'])['resale_price'].mean()\\\n",
    "                                     .to_frame(name='historical_mean').reset_index()\n",
    "\n",
    "# Include historical mean resale prices in test results dataframe\n",
    "test_results = test_results.merge(temp, on = 'sold_year', how = 'left')\n",
    "\n",
    "# View\n",
    "test_results.tail(10)"
   ]
  },
  {
   "cell_type": "markdown",
   "metadata": {},
   "source": [
    "#### Plot Extrapolation Results"
   ]
  },
  {
   "cell_type": "code",
   "execution_count": 27,
   "metadata": {},
   "outputs": [
    {
     "data": {
      "image/png": "[encoded data removed]",
      "text/plain": [
       "<Figure size 1469.69x1469.69 with 6 Axes>"
      ]
     },
     "metadata": {},
     "output_type": "display_data"
    }
   ],
   "source": [
    "# Plot results using Seaborn\n",
    "# Create plotting variables\n",
    "models = ['XGBoost', 'random_forest', 'dnn', 'linear', 'ridge', 'lasso']\n",
    "n_models = len(models)\n",
    "factor = n_models ** 0.5\n",
    "\n",
    "# Plot figure in a 3x2 table\n",
    "plt.figure(figsize = (n_models * factor, n_models * factor))\n",
    "for i, model in enumerate(models):\n",
    "    plt.subplot(3, 3, i + 1)\n",
    "    sns.set_style(\"darkgrid\")\n",
    "    sns.lineplot(x = 'sold_year', y = model, data = test_results, label = model, color = 'red',  marker = 'o')\n",
    "    sns.lineplot(x = 'sold_year', y = 'historical_mean', data = test_results, label = 'historical_mean', color = 'blue', marker = 'o')\n",
    "    plt.title(model)\n",
    "    plt.xlabel('Year')\n",
    "    plt.ylabel('Prediction Value')\n",
    "    plt.legend()\n",
    "plt.tight_layout()\n",
    "plt.show()"
   ]
  },
  {
   "cell_type": "markdown",
   "metadata": {},
   "source": [
    "# Results \n",
    "All models seem to be tracking closely with the historical mean resale prices until about 2023. This is no surprise since they were trained on historical data up until that point. It is however a visual confirmation that all these models have been appropriately trained and validated. When examining the predictions made by the models past 2023, there is a clear predictive divergence in the models when extrapolating.\n",
    "\n",
    "- XGBoost & Random Forest\n",
    "  - Post-2023, XGBoost projections flatten.\n",
    "  - This indicates that it might not be capturing potential future trends.\n",
    "  - XGBoost and random forest models follow similar trends and are closer to each other than to the other models. \n",
    "  - This suggests that tree-based models capture similar nonlinear patterns in the data.\n",
    "- Linear, Ridge, & Lasso\n",
    "  - All three models show a similar trajectory.\n",
    "  - Explained by the linear nature of these models - ridge and lasso being regularized versions of linear regression.\n",
    "  - No significant difference between the ridge and lasso predictions indicates that both L1 & L2 regularization results in a similar penalization (not statistically significant). \n",
    "  - Predictions rise more conservatively, implying less sensitivity to recent trends \n",
    "  - Possibly not capturing complex nonlinear relationships effectively.\n",
    "- DNN - Dense Neural Network\n",
    "  - Post-2023, predictions show an aggressive upward trend suggesting it may be capturing complex nonlinear patterns that anticipate future growth.\n",
    "  - This is closer to what one may expect property trends to be in the future. \n",
    "  - Higher predictions could be due to DNN model giving a different sensitivity to the features it's been trained on.\n"
   ]
  },
  {
   "cell_type": "code",
   "execution_count": 34,
   "metadata": {},
   "outputs": [
    {
     "data": {
      "application/vnd.plotly.v1+json": {
       "config": {
        "plotlyServerURL": "https://plot.ly"
       },
       "data": [
        {
         "hovertemplate": "Model=XGBoost<br>sold_year=%{x}<br>Value=%{y}<extra></extra>",
         "legendgroup": "XGBoost",
         "line": {
          "color": "#636efa",
          "dash": "solid"
         },
         "marker": {
          "symbol": "circle"
         },
         "mode": "markers+lines",
         "name": "XGBoost",
         "orientation": "v",
         "showlegend": true,
         "type": "scatter",
         "visible": "legendonly",
         "x": [
          1992,
          1993,
          1994,
          1995,
          1996,
          1997,
          1998,
          1999,
          2000,
          2001,
          2002,
          2003,
          2004,
          2005,
          2006,
          2007,
          2008,
          2009,
          2010,
          2011,
          2012,
          2013,
          2014,
          2015,
          2016,
          2017,
          2018,
          2019,
          2020,
          2021,
          2022,
          2023,
          2024,
          2025,
          2026,
          2027,
          2028,
          2029,
          2030,
          2031,
          2032,
          2033
         ],
         "xaxis": "x",
         "y": [
          103460.6015625,
          161822.171875,
          196696.25,
          228569.4375,
          322389.25,
          339590.6875,
          265747.125,
          258592.953125,
          270424.75,
          259352.171875,
          254799.421875,
          258811.453125,
          259475.828125,
          253035.796875,
          255509.21875,
          282821.71875,
          338151.125,
          343641.0625,
          399489.5,
          438649.03125,
          459178.15625,
          469834.875,
          445181.625,
          434304.5625,
          431383.8125,
          431104.1875,
          431669.71875,
          425401.78125,
          433406.78125,
          447957.21875,
          500225.15625,
          529567.625,
          508968.875,
          521842.875,
          521842.875,
          518479.1875,
          509942.5,
          504480.15625,
          504480.15625,
          503026.3125,
          503461.46875,
          503461.46875
         ],
         "yaxis": "y"
        },
        {
         "hovertemplate": "Model=random_forest<br>sold_year=%{x}<br>Value=%{y}<extra></extra>",
         "legendgroup": "random_forest",
         "line": {
          "color": "#EF553B",
          "dash": "solid"
         },
         "marker": {
          "symbol": "circle"
         },
         "mode": "markers+lines",
         "name": "random_forest",
         "orientation": "v",
         "showlegend": true,
         "type": "scatter",
         "visible": "legendonly",
         "x": [
          1992,
          1993,
          1994,
          1995,
          1996,
          1997,
          1998,
          1999,
          2000,
          2001,
          2002,
          2003,
          2004,
          2005,
          2006,
          2007,
          2008,
          2009,
          2010,
          2011,
          2012,
          2013,
          2014,
          2015,
          2016,
          2017,
          2018,
          2019,
          2020,
          2021,
          2022,
          2023,
          2024,
          2025,
          2026,
          2027,
          2028,
          2029,
          2030,
          2031,
          2032,
          2033
         ],
         "xaxis": "x",
         "y": [
          98203,
          156210,
          193295,
          228152.49999999997,
          312630,
          346735,
          284437.85333333333,
          288425,
          286876,
          257000.25,
          244831.88,
          249562,
          253760,
          246005,
          249940,
          273018,
          357620,
          364460,
          419058.88,
          482700,
          491401.88,
          496328.88,
          483448.88,
          435703.88,
          451948.88,
          456026.64,
          450668.88,
          442543.28,
          438397.24,
          461007.52,
          534296.64,
          568427.28,
          541240.4,
          552064.4,
          550527.52,
          550047.52,
          547002.4,
          553188.4,
          557215.28,
          560535.28,
          560985.28,
          560424.16
         ],
         "yaxis": "y"
        },
        {
         "hovertemplate": "Model=dnn<br>sold_year=%{x}<br>Value=%{y}<extra></extra>",
         "legendgroup": "dnn",
         "line": {
          "color": "#00cc96",
          "dash": "solid"
         },
         "marker": {
          "symbol": "circle"
         },
         "mode": "markers+lines",
         "name": "dnn",
         "orientation": "v",
         "showlegend": true,
         "type": "scatter",
         "visible": true,
         "x": [
          1992,
          1993,
          1994,
          1995,
          1996,
          1997,
          1998,
          1999,
          2000,
          2001,
          2002,
          2003,
          2004,
          2005,
          2006,
          2007,
          2008,
          2009,
          2010,
          2011,
          2012,
          2013,
          2014,
          2015,
          2016,
          2017,
          2018,
          2019,
          2020,
          2021,
          2022,
          2023,
          2024,
          2025,
          2026,
          2027,
          2028,
          2029,
          2030,
          2031,
          2032,
          2033
         ],
         "xaxis": "x",
         "y": [
          97822.2890625,
          139750.859375,
          193852.4375,
          230806.875,
          328009.4375,
          343349.8125,
          288876.125,
          272637.84375,
          282966.4375,
          253570.703125,
          244480.453125,
          254627.875,
          260633.5,
          259434.0625,
          252281.953125,
          274574.59375,
          330389.5,
          353780.0625,
          398420.78125,
          449368.65625,
          480825.59375,
          497176,
          453053.5625,
          424432.65625,
          434999.84375,
          429847.96875,
          413076.59375,
          398615.15625,
          385978.59375,
          439133.71875,
          483358.5625,
          514847.71875,
          539276.75,
          563163.625,
          593821,
          625384.25,
          651767.9375,
          675515.75,
          701245.125,
          723333.625,
          740187.5,
          763116.75
         ],
         "yaxis": "y"
        },
        {
         "hovertemplate": "Model=linear<br>sold_year=%{x}<br>Value=%{y}<extra></extra>",
         "legendgroup": "linear",
         "line": {
          "color": "#ab63fa",
          "dash": "solid"
         },
         "marker": {
          "symbol": "circle"
         },
         "mode": "markers+lines",
         "name": "linear",
         "orientation": "v",
         "showlegend": true,
         "type": "scatter",
         "visible": true,
         "x": [
          1992,
          1993,
          1994,
          1995,
          1996,
          1997,
          1998,
          1999,
          2000,
          2001,
          2002,
          2003,
          2004,
          2005,
          2006,
          2007,
          2008,
          2009,
          2010,
          2011,
          2012,
          2013,
          2014,
          2015,
          2016,
          2017,
          2018,
          2019,
          2020,
          2021,
          2022,
          2023,
          2024,
          2025,
          2026,
          2027,
          2028,
          2029,
          2030,
          2031,
          2032,
          2033
         ],
         "xaxis": "x",
         "y": [
          211984.2364515072,
          231605.2908779019,
          243891.9576902275,
          246934.00816853472,
          265581.70421944786,
          282636.78628388315,
          262205.4071224705,
          241211.84596841253,
          221997.51141420827,
          286394.10463313,
          250381.43380760867,
          266786.38226393616,
          268150.3070481988,
          287727.1487595854,
          314740.46289749746,
          346460.6365550291,
          374183.3143664071,
          345832.0476901317,
          396605.4181295218,
          417052.1575904293,
          434926.8293668963,
          437180.2883492429,
          444317.6538071411,
          445662.64814475935,
          449966.3141160604,
          452859.20363699517,
          462105.63752195693,
          468247.48122797173,
          468362.3262295915,
          491603.64729582355,
          502333.28938428,
          511771.65538298606,
          512022.7068413447,
          526430.4234597201,
          533902.7859070703,
          541961.9716372348,
          549575.5484051034,
          563769.5311179776,
          571259.4840244557,
          579305.9458208774,
          586907.3182256223,
          601106.125360833
         ],
         "yaxis": "y"
        },
        {
         "hovertemplate": "Model=ridge<br>sold_year=%{x}<br>Value=%{y}<extra></extra>",
         "legendgroup": "ridge",
         "line": {
          "color": "#FFA15A",
          "dash": "solid"
         },
         "marker": {
          "symbol": "circle"
         },
         "mode": "markers+lines",
         "name": "ridge",
         "orientation": "v",
         "showlegend": true,
         "type": "scatter",
         "visible": "legendonly",
         "x": [
          1992,
          1993,
          1994,
          1995,
          1996,
          1997,
          1998,
          1999,
          2000,
          2001,
          2002,
          2003,
          2004,
          2005,
          2006,
          2007,
          2008,
          2009,
          2010,
          2011,
          2012,
          2013,
          2014,
          2015,
          2016,
          2017,
          2018,
          2019,
          2020,
          2021,
          2022,
          2023,
          2024,
          2025,
          2026,
          2027,
          2028,
          2029,
          2030,
          2031,
          2032,
          2033
         ],
         "xaxis": "x",
         "y": [
          211958.92369164806,
          231567.08945593395,
          243865.59718566143,
          246902.81509982783,
          265545.0275066652,
          282615.9881133703,
          262191.00461225555,
          241186.38384840655,
          221980.81126748055,
          286356.0959939648,
          250340.1886796403,
          266783.41846147936,
          268120.91488941805,
          287704.78105243883,
          314729.7403188725,
          346442.05111548933,
          374178.72620967985,
          345803.15829588857,
          396572.27497362636,
          417024.7754461329,
          434894.4269767789,
          437155.52017233684,
          444308.13881809043,
          445661.5557474856,
          449951.2816744449,
          452840.0017902835,
          462100.52622632496,
          468243.27679520077,
          468356.2239416223,
          491643.4673893588,
          502359.632801636,
          511798.15539646277,
          512062.52152443514,
          526476.0493314391,
          533951.1454408278,
          542019.4595365542,
          549642.0854700498,
          563840.8045769534,
          571333.5796018637,
          579389.105779543,
          586999.4659783534,
          601203.033767961
         ],
         "yaxis": "y"
        },
        {
         "hovertemplate": "Model=lasso<br>sold_year=%{x}<br>Value=%{y}<extra></extra>",
         "legendgroup": "lasso",
         "line": {
          "color": "#19d3f3",
          "dash": "solid"
         },
         "marker": {
          "symbol": "circle"
         },
         "mode": "markers+lines",
         "name": "lasso",
         "orientation": "v",
         "showlegend": true,
         "type": "scatter",
         "visible": "legendonly",
         "x": [
          1992,
          1993,
          1994,
          1995,
          1996,
          1997,
          1998,
          1999,
          2000,
          2001,
          2002,
          2003,
          2004,
          2005,
          2006,
          2007,
          2008,
          2009,
          2010,
          2011,
          2012,
          2013,
          2014,
          2015,
          2016,
          2017,
          2018,
          2019,
          2020,
          2021,
          2022,
          2023,
          2024,
          2025,
          2026,
          2027,
          2028,
          2029,
          2030,
          2031,
          2032,
          2033
         ],
         "xaxis": "x",
         "y": [
          211928.7437133155,
          231540.72786579514,
          243839.8290390303,
          246867.86009072827,
          265514.21571139613,
          282590.3361247868,
          262135.47194535035,
          241094.60314244183,
          221861.08414165548,
          286278.3208065294,
          250222.4861394947,
          266652.5152005653,
          267996.972054771,
          287591.23949240515,
          314630.3868286453,
          346356.82959547295,
          374116.6385473343,
          345711.6948314131,
          396487.2708899684,
          416940.045467459,
          434818.12952496216,
          437070.1500543154,
          444220.06402338244,
          445567.064026111,
          449843.1601111517,
          452720.9791396151,
          461979.67136362963,
          468119.71413347236,
          468220.86970352766,
          491504.95496747,
          502262.5432607882,
          511689.78430155315,
          511933.23621386825,
          526349.5652635192,
          533823.4464883034,
          541888.6076601965,
          549507.8148738531,
          563709.5753252417,
          571201.1157049878,
          579253.5032524945,
          586860.4584414569,
          601067.0621559476
         ],
         "yaxis": "y"
        },
        {
         "hovertemplate": "Model=historical_mean<br>sold_year=%{x}<br>Value=%{y}<extra></extra>",
         "legendgroup": "historical_mean",
         "line": {
          "color": "#FF6692",
          "dash": "solid"
         },
         "marker": {
          "symbol": "circle"
         },
         "mode": "markers+lines",
         "name": "historical_mean",
         "orientation": "v",
         "showlegend": true,
         "type": "scatter",
         "visible": true,
         "x": [
          1992,
          1993,
          1994,
          1995,
          1996,
          1997,
          1998,
          1999,
          2000,
          2001,
          2002,
          2003,
          2004,
          2005,
          2006,
          2007,
          2008,
          2009,
          2010,
          2011,
          2012,
          2013,
          2014,
          2015,
          2016,
          2017,
          2018,
          2019,
          2020,
          2021,
          2022,
          2023,
          2024,
          2025,
          2026,
          2027,
          2028,
          2029,
          2030,
          2031,
          2032,
          2033
         ],
         "xaxis": "x",
         "y": [
          93160.90909090909,
          140924.24242424243,
          173051.29411764705,
          218243.24324324325,
          312979.4520547945,
          330513.5135135135,
          266575.5478260869,
          265425.55555555556,
          277729.6404494382,
          257207.7922077922,
          240734.9411764706,
          257371.15384615384,
          245562.16216216216,
          251901.49152542374,
          236737.51111111112,
          270238.63636363635,
          323030,
          346339.62264150946,
          371280.8219178082,
          429022.22222222225,
          448025.3714285714,
          476400,
          442191.04,
          410728.14285714284,
          413557.14285714284,
          433875.52,
          423157.8947368421,
          434333.3333333333,
          407387.52,
          447444.44444444444,
          515090.9090909091,
          551298,
          null,
          null,
          null,
          null,
          null,
          null,
          null,
          null,
          null,
          null
         ],
         "yaxis": "y"
        }
       ],
       "layout": {
        "height": 600,
        "legend": {
         "title": {
          "text": "Click Models Below to Add / Remove"
         },
         "tracegroupgap": 0
        },
        "template": {
         "data": {
          "bar": [
           {
            "error_x": {
             "color": "#f2f5fa"
            },
            "error_y": {
             "color": "#f2f5fa"
            },
            "marker": {
             "line": {
              "color": "rgb(17,17,17)",
              "width": 0.5
             },
             "pattern": {
              "fillmode": "overlay",
              "size": 10,
              "solidity": 0.2
             }
            },
            "type": "bar"
           }
          ],
          "barpolar": [
           {
            "marker": {
             "line": {
              "color": "rgb(17,17,17)",
              "width": 0.5
             },
             "pattern": {
              "fillmode": "overlay",
              "size": 10,
              "solidity": 0.2
             }
            },
            "type": "barpolar"
           }
          ],
          "carpet": [
           {
            "aaxis": {
             "endlinecolor": "#A2B1C6",
             "gridcolor": "#506784",
             "linecolor": "#506784",
             "minorgridcolor": "#506784",
             "startlinecolor": "#A2B1C6"
            },
            "baxis": {
             "endlinecolor": "#A2B1C6",
             "gridcolor": "#506784",
             "linecolor": "#506784",
             "minorgridcolor": "#506784",
             "startlinecolor": "#A2B1C6"
            },
            "type": "carpet"
           }
          ],
          "choropleth": [
           {
            "colorbar": {
             "outlinewidth": 0,
             "ticks": ""
            },
            "type": "choropleth"
           }
          ],
          "contour": [
           {
            "colorbar": {
             "outlinewidth": 0,
             "ticks": ""
            },
            "colorscale": [
             [
              0,
              "#0d0887"
             ],
             [
              0.1111111111111111,
              "#46039f"
             ],
             [
              0.2222222222222222,
              "#7201a8"
             ],
             [
              0.3333333333333333,
              "#9c179e"
             ],
             [
              0.4444444444444444,
              "#bd3786"
             ],
             [
              0.5555555555555556,
              "#d8576b"
             ],
             [
              0.6666666666666666,
              "#ed7953"
             ],
             [
              0.7777777777777778,
              "#fb9f3a"
             ],
             [
              0.8888888888888888,
              "#fdca26"
             ],
             [
              1,
              "#f0f921"
             ]
            ],
            "type": "contour"
           }
          ],
          "contourcarpet": [
           {
            "colorbar": {
             "outlinewidth": 0,
             "ticks": ""
            },
            "type": "contourcarpet"
           }
          ],
          "heatmap": [
           {
            "colorbar": {
             "outlinewidth": 0,
             "ticks": ""
            },
            "colorscale": [
             [
              0,
              "#0d0887"
             ],
             [
              0.1111111111111111,
              "#46039f"
             ],
             [
              0.2222222222222222,
              "#7201a8"
             ],
             [
              0.3333333333333333,
              "#9c179e"
             ],
             [
              0.4444444444444444,
              "#bd3786"
             ],
             [
              0.5555555555555556,
              "#d8576b"
             ],
             [
              0.6666666666666666,
              "#ed7953"
             ],
             [
              0.7777777777777778,
              "#fb9f3a"
             ],
             [
              0.8888888888888888,
              "#fdca26"
             ],
             [
              1,
              "#f0f921"
             ]
            ],
            "type": "heatmap"
           }
          ],
          "heatmapgl": [
           {
            "colorbar": {
             "outlinewidth": 0,
             "ticks": ""
            },
            "colorscale": [
             [
              0,
              "#0d0887"
             ],
             [
              0.1111111111111111,
              "#46039f"
             ],
             [
              0.2222222222222222,
              "#7201a8"
             ],
             [
              0.3333333333333333,
              "#9c179e"
             ],
             [
              0.4444444444444444,
              "#bd3786"
             ],
             [
              0.5555555555555556,
              "#d8576b"
             ],
             [
              0.6666666666666666,
              "#ed7953"
             ],
             [
              0.7777777777777778,
              "#fb9f3a"
             ],
             [
              0.8888888888888888,
              "#fdca26"
             ],
             [
              1,
              "#f0f921"
             ]
            ],
            "type": "heatmapgl"
           }
          ],
          "histogram": [
           {
            "marker": {
             "pattern": {
              "fillmode": "overlay",
              "size": 10,
              "solidity": 0.2
             }
            },
            "type": "histogram"
           }
          ],
          "histogram2d": [
           {
            "colorbar": {
             "outlinewidth": 0,
             "ticks": ""
            },
            "colorscale": [
             [
              0,
              "#0d0887"
             ],
             [
              0.1111111111111111,
              "#46039f"
             ],
             [
              0.2222222222222222,
              "#7201a8"
             ],
             [
              0.3333333333333333,
              "#9c179e"
             ],
             [
              0.4444444444444444,
              "#bd3786"
             ],
             [
              0.5555555555555556,
              "#d8576b"
             ],
             [
              0.6666666666666666,
              "#ed7953"
             ],
             [
              0.7777777777777778,
              "#fb9f3a"
             ],
             [
              0.8888888888888888,
              "#fdca26"
             ],
             [
              1,
              "#f0f921"
             ]
            ],
            "type": "histogram2d"
           }
          ],
          "histogram2dcontour": [
           {
            "colorbar": {
             "outlinewidth": 0,
             "ticks": ""
            },
            "colorscale": [
             [
              0,
              "#0d0887"
             ],
             [
              0.1111111111111111,
              "#46039f"
             ],
             [
              0.2222222222222222,
              "#7201a8"
             ],
             [
              0.3333333333333333,
              "#9c179e"
             ],
             [
              0.4444444444444444,
              "#bd3786"
             ],
             [
              0.5555555555555556,
              "#d8576b"
             ],
             [
              0.6666666666666666,
              "#ed7953"
             ],
             [
              0.7777777777777778,
              "#fb9f3a"
             ],
             [
              0.8888888888888888,
              "#fdca26"
             ],
             [
              1,
              "#f0f921"
             ]
            ],
            "type": "histogram2dcontour"
           }
          ],
          "mesh3d": [
           {
            "colorbar": {
             "outlinewidth": 0,
             "ticks": ""
            },
            "type": "mesh3d"
           }
          ],
          "parcoords": [
           {
            "line": {
             "colorbar": {
              "outlinewidth": 0,
              "ticks": ""
             }
            },
            "type": "parcoords"
           }
          ],
          "pie": [
           {
            "automargin": true,
            "type": "pie"
           }
          ],
          "scatter": [
           {
            "marker": {
             "line": {
              "color": "#283442"
             }
            },
            "type": "scatter"
           }
          ],
          "scatter3d": [
           {
            "line": {
             "colorbar": {
              "outlinewidth": 0,
              "ticks": ""
             }
            },
            "marker": {
             "colorbar": {
              "outlinewidth": 0,
              "ticks": ""
             }
            },
            "type": "scatter3d"
           }
          ],
          "scattercarpet": [
           {
            "marker": {
             "colorbar": {
              "outlinewidth": 0,
              "ticks": ""
             }
            },
            "type": "scattercarpet"
           }
          ],
          "scattergeo": [
           {
            "marker": {
             "colorbar": {
              "outlinewidth": 0,
              "ticks": ""
             }
            },
            "type": "scattergeo"
           }
          ],
          "scattergl": [
           {
            "marker": {
             "line": {
              "color": "#283442"
             }
            },
            "type": "scattergl"
           }
          ],
          "scattermapbox": [
           {
            "marker": {
             "colorbar": {
              "outlinewidth": 0,
              "ticks": ""
             }
            },
            "type": "scattermapbox"
           }
          ],
          "scatterpolar": [
           {
            "marker": {
             "colorbar": {
              "outlinewidth": 0,
              "ticks": ""
             }
            },
            "type": "scatterpolar"
           }
          ],
          "scatterpolargl": [
           {
            "marker": {
             "colorbar": {
              "outlinewidth": 0,
              "ticks": ""
             }
            },
            "type": "scatterpolargl"
           }
          ],
          "scatterternary": [
           {
            "marker": {
             "colorbar": {
              "outlinewidth": 0,
              "ticks": ""
             }
            },
            "type": "scatterternary"
           }
          ],
          "surface": [
           {
            "colorbar": {
             "outlinewidth": 0,
             "ticks": ""
            },
            "colorscale": [
             [
              0,
              "#0d0887"
             ],
             [
              0.1111111111111111,
              "#46039f"
             ],
             [
              0.2222222222222222,
              "#7201a8"
             ],
             [
              0.3333333333333333,
              "#9c179e"
             ],
             [
              0.4444444444444444,
              "#bd3786"
             ],
             [
              0.5555555555555556,
              "#d8576b"
             ],
             [
              0.6666666666666666,
              "#ed7953"
             ],
             [
              0.7777777777777778,
              "#fb9f3a"
             ],
             [
              0.8888888888888888,
              "#fdca26"
             ],
             [
              1,
              "#f0f921"
             ]
            ],
            "type": "surface"
           }
          ],
          "table": [
           {
            "cells": {
             "fill": {
              "color": "#506784"
             },
             "line": {
              "color": "rgb(17,17,17)"
             }
            },
            "header": {
             "fill": {
              "color": "#2a3f5f"
             },
             "line": {
              "color": "rgb(17,17,17)"
             }
            },
            "type": "table"
           }
          ]
         },
         "layout": {
          "annotationdefaults": {
           "arrowcolor": "#f2f5fa",
           "arrowhead": 0,
           "arrowwidth": 1
          },
          "autotypenumbers": "strict",
          "coloraxis": {
           "colorbar": {
            "outlinewidth": 0,
            "ticks": ""
           }
          },
          "colorscale": {
           "diverging": [
            [
             0,
             "#8e0152"
            ],
            [
             0.1,
             "#c51b7d"
            ],
            [
             0.2,
             "#de77ae"
            ],
            [
             0.3,
             "#f1b6da"
            ],
            [
             0.4,
             "#fde0ef"
            ],
            [
             0.5,
             "#f7f7f7"
            ],
            [
             0.6,
             "#e6f5d0"
            ],
            [
             0.7,
             "#b8e186"
            ],
            [
             0.8,
             "#7fbc41"
            ],
            [
             0.9,
             "#4d9221"
            ],
            [
             1,
             "#276419"
            ]
           ],
           "sequential": [
            [
             0,
             "#0d0887"
            ],
            [
             0.1111111111111111,
             "#46039f"
            ],
            [
             0.2222222222222222,
             "#7201a8"
            ],
            [
             0.3333333333333333,
             "#9c179e"
            ],
            [
             0.4444444444444444,
             "#bd3786"
            ],
            [
             0.5555555555555556,
             "#d8576b"
            ],
            [
             0.6666666666666666,
             "#ed7953"
            ],
            [
             0.7777777777777778,
             "#fb9f3a"
            ],
            [
             0.8888888888888888,
             "#fdca26"
            ],
            [
             1,
             "#f0f921"
            ]
           ],
           "sequentialminus": [
            [
             0,
             "#0d0887"
            ],
            [
             0.1111111111111111,
             "#46039f"
            ],
            [
             0.2222222222222222,
             "#7201a8"
            ],
            [
             0.3333333333333333,
             "#9c179e"
            ],
            [
             0.4444444444444444,
             "#bd3786"
            ],
            [
             0.5555555555555556,
             "#d8576b"
            ],
            [
             0.6666666666666666,
             "#ed7953"
            ],
            [
             0.7777777777777778,
             "#fb9f3a"
            ],
            [
             0.8888888888888888,
             "#fdca26"
            ],
            [
             1,
             "#f0f921"
            ]
           ]
          },
          "colorway": [
           "#636efa",
           "#EF553B",
           "#00cc96",
           "#ab63fa",
           "#FFA15A",
           "#19d3f3",
           "#FF6692",
           "#B6E880",
           "#FF97FF",
           "#FECB52"
          ],
          "font": {
           "color": "#f2f5fa"
          },
          "geo": {
           "bgcolor": "rgb(17,17,17)",
           "lakecolor": "rgb(17,17,17)",
           "landcolor": "rgb(17,17,17)",
           "showlakes": true,
           "showland": true,
           "subunitcolor": "#506784"
          },
          "hoverlabel": {
           "align": "left"
          },
          "hovermode": "closest",
          "mapbox": {
           "style": "dark"
          },
          "paper_bgcolor": "rgb(17,17,17)",
          "plot_bgcolor": "rgb(17,17,17)",
          "polar": {
           "angularaxis": {
            "gridcolor": "#506784",
            "linecolor": "#506784",
            "ticks": ""
           },
           "bgcolor": "rgb(17,17,17)",
           "radialaxis": {
            "gridcolor": "#506784",
            "linecolor": "#506784",
            "ticks": ""
           }
          },
          "scene": {
           "xaxis": {
            "backgroundcolor": "rgb(17,17,17)",
            "gridcolor": "#506784",
            "gridwidth": 2,
            "linecolor": "#506784",
            "showbackground": true,
            "ticks": "",
            "zerolinecolor": "#C8D4E3"
           },
           "yaxis": {
            "backgroundcolor": "rgb(17,17,17)",
            "gridcolor": "#506784",
            "gridwidth": 2,
            "linecolor": "#506784",
            "showbackground": true,
            "ticks": "",
            "zerolinecolor": "#C8D4E3"
           },
           "zaxis": {
            "backgroundcolor": "rgb(17,17,17)",
            "gridcolor": "#506784",
            "gridwidth": 2,
            "linecolor": "#506784",
            "showbackground": true,
            "ticks": "",
            "zerolinecolor": "#C8D4E3"
           }
          },
          "shapedefaults": {
           "line": {
            "color": "#f2f5fa"
           }
          },
          "sliderdefaults": {
           "bgcolor": "#C8D4E3",
           "bordercolor": "rgb(17,17,17)",
           "borderwidth": 1,
           "tickwidth": 0
          },
          "ternary": {
           "aaxis": {
            "gridcolor": "#506784",
            "linecolor": "#506784",
            "ticks": ""
           },
           "baxis": {
            "gridcolor": "#506784",
            "linecolor": "#506784",
            "ticks": ""
           },
           "bgcolor": "rgb(17,17,17)",
           "caxis": {
            "gridcolor": "#506784",
            "linecolor": "#506784",
            "ticks": ""
           }
          },
          "title": {
           "x": 0.05
          },
          "updatemenudefaults": {
           "bgcolor": "#506784",
           "borderwidth": 0
          },
          "xaxis": {
           "automargin": true,
           "gridcolor": "#283442",
           "linecolor": "#506784",
           "ticks": "",
           "title": {
            "standoff": 15
           },
           "zerolinecolor": "#283442",
           "zerolinewidth": 2
          },
          "yaxis": {
           "automargin": true,
           "gridcolor": "#283442",
           "linecolor": "#506784",
           "ticks": "",
           "title": {
            "standoff": 15
           },
           "zerolinecolor": "#283442",
           "zerolinewidth": 2
          }
         }
        },
        "title": {
         "text": "Resale Price Predictions by Year <br><sup>4 room HDB in tampines built in 1988</sup>"
        },
        "width": 1200,
        "xaxis": {
         "anchor": "y",
         "domain": [
          0,
          1
         ],
         "title": {
          "text": "Year"
         }
        },
        "yaxis": {
         "anchor": "x",
         "domain": [
          0,
          1
         ],
         "title": {
          "text": "Prediction Value"
         }
        }
       }
      }
     },
     "metadata": {},
     "output_type": "display_data"
    }
   ],
   "source": [
    "# Plot results with plotly to allow interactivity\n",
    "test_results_melt = test_results.melt(id_vars = 'sold_year', var_name = 'Model', value_name = 'Value')\n",
    "\n",
    "fig = px.line(test_results_melt, x = 'sold_year', y = 'Value', color = 'Model',\n",
    "              markers = True, title = f'Resale Price Predictions by Year <br><sup>{test_df[\"flat_type\"][0].lower()} HDB in {test_df[\"town\"][0].lower()} built in {test_df[\"lease_commence_date\"][0]}</sup>',\n",
    "              template = 'plotly_dark')\n",
    "fig.update_layout(xaxis_title = 'Year', yaxis_title = 'Prediction Value',\n",
    "                  legend_title = 'Click Models Below to Add / Remove', width = n_models * 200, height = n_models * 100)\n",
    "fig.update_traces(visible=\"legendonly\")\n",
    "fig.data[2].visible = True # dnn\n",
    "fig.data[3].visible = True # linear\n",
    "fig.data[6].visible = True # historical mean\n",
    "fig.show()"
   ]
  },
  {
   "cell_type": "markdown",
   "metadata": {},
   "source": [
    "# Conclusion\n",
    "The results confirm that tree-based algorithms, specifically, XGBoost & Random Forest, are not suitable for extrapolation. Such models are unable to extrapolate trends or patterns which are not present in the training data. This narrows the choice down to either linear regression or DNN for forecasting resale prices of HDB flats in Singapore. The most notable discrepancy between the DNN and linear regression predictions is that the DNN model predicts much higher values. The difference in the trajectory of predictions from the DNN and linear model shows how significantly the chosen model affects forecast outcomes, especially when extrapolating. Given that industry experts in Singapore predict a rise in property prices, and the DNN model's proficiency in capturing complex, non-linear patterns align with these predictions, the DNN model is more appropriate choice for making extrapolative forecasts for resale HBD prices in Singapore. "
   ]
  },
  {
   "cell_type": "code",
   "execution_count": null,
   "metadata": {},
   "outputs": [],
   "source": []
  }
 ],
 "metadata": {
  "kernelspec": {
   "display_name": "hdb-price-estimator",
   "language": "python",
   "name": "python3"
  },
  "language_info": {
   "codemirror_mode": {
    "name": "ipython",
    "version": 3
   },
   "file_extension": ".py",
   "mimetype": "text/x-python",
   "name": "python",
   "nbconvert_exporter": "python",
   "pygments_lexer": "ipython3",
   "version": "3.10.6"
  }
 },
 "nbformat": 4,
 "nbformat_minor": 2
}

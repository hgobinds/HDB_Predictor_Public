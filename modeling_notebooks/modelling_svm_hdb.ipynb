{
 "cells": [
  {
   "cell_type": "markdown",
   "metadata": {},
   "source": [
    "### Predicting HDB Prices with Support Vector Regression\n",
    "In this notebook, we will be using Support Vector Regression for prediction. Having collected the data, wrangled it together, done exploratory data analysis, we will now begin to model the data to predict HDB prices. \n",
    "\n",
    "#### Brief Recap on Support Vector Regression\n",
    "Support Vector Regression (SVR) is a type of Support Vector Machine (SVM) used for regression tasks. It extends the concept of SVMs, typically used for classification, to handle continuous outputs.\n",
    "\n",
    "SVR aims to find a function that approximates the relationship between input features and continuous target values. The goal is to have as many data points as possible within a specified margin (ε-tube) around the regression function while minimizing the model complexity.\n",
    "- ε-Tube (Epsilon-Tube):\n",
    "  - SVR introduces the concept of an ε-tube around the regression line. \n",
    "  - This tube defines a margin of tolerance where no penalty is given to errors (the distance between the predicted and actual values) that are within this margin.\n",
    "  - The ε parameter defines the width of this tube and controls the sensitivity of the model to prediction errors. \n",
    "  - Smaller ε-values lead to narrower tubes and vice versa.\n",
    "- Regularization (C Parameter):\n",
    "  - The C parameter acts as a regularization parameter in SVR. It balances the trade-off between having a flat (simple) model and ensuring that as many data points as possible fall within the ε-tube.\n",
    "A higher value of C puts more emphasis on minimizing the training error, while a lower value of C increases the regularization strength, leading to a simpler model that may generalize better.\n",
    "- Kernels:\n",
    "  - SVR can use different kernel functions (linear, polynomial, radial basis function, sigmoid) to transform the input data into a higher-dimensional space. \n",
    "  - This transformation allows SVR to capture complex, non-linear relationships.\n",
    "  - The choice of kernel and its parameters significantly affects the model's performance.\n",
    "- Support Vectors:\n",
    "  - Similar to SVMs for classification, SVR uses support vectors, which are the critical data points that lie on or outside the ε-tube. \n",
    "  - These points essentially define the regression function.\n",
    "  - The model is less sensitive to data points that fall within the margin.\n",
    "- Advantages:\n",
    "  - SVR can model complex, non-linear relationships and is robust against overfitting, especially in high-dimensional spaces.\n",
    "  - It's effective in cases where the number of dimensions exceeds the number of samples.\n",
    "- Challenges:\n",
    "  - Choosing the right kernel and tuning the hyperparameters (C, ε, and kernel parameters) can be challenging and requires cross-validation.\n",
    "  - SVR can be computationally intensive, especially for large datasets and with certain kernel types (like RBF).\n",
    "  - SVR is a powerful tool for regression analysis, especially in situations where the relationship between variables is complex or non-linear. \n",
    "  - Its ability to create a model that is not overly sensitive to small fluctuations in the data (thanks to the ε-tube) makes it a robust choice for many real-world regression tasks.\n",
    "\n"
   ]
  },
  {
   "cell_type": "markdown",
   "metadata": {},
   "source": [
    "#### Load Libraries"
   ]
  },
  {
   "cell_type": "code",
   "execution_count": 1,
   "metadata": {},
   "outputs": [],
   "source": [
    "# Data Manipulation\n",
    "import pandas as pd\n",
    "import numpy as np\n",
    "\n",
    "# Data Visualization\n",
    "import matplotlib.pyplot as plt\n",
    "import seaborn as sns\n",
    "import plotly.express as px\n",
    "\n",
    "# Train Test Split\n",
    "from sklearn.model_selection import train_test_split, cross_validate\n",
    "\n",
    "# Pipeline\n",
    "from sklearn.preprocessing import MinMaxScaler, OneHotEncoder, RobustScaler\n",
    "from sklearn.pipeline import make_pipeline\n",
    "from sklearn.compose import make_column_transformer\n",
    "\n",
    "# Modelling\n",
    "from sklearn.svm import SVR\n",
    "from sklearn.model_selection import RandomizedSearchCV, GridSearchCV\n",
    "from scipy.stats import uniform, loguniform\n",
    "\n",
    "# Model Evaluation\n",
    "from sklearn.metrics import mean_absolute_error, r2_score\n",
    "import scipy.stats as stats"
   ]
  },
  {
   "cell_type": "markdown",
   "metadata": {},
   "source": [
    "#### Load Data into DataFrame, Prepare Data for Pipeline, and Train Test Split\n",
    "Since the SVMs can handle multicollinearity better than some other algorithms, like linear regression, we will make a base model with all the columns, only getting rid of the columns we wish to exclude from our model.\n",
    "\n",
    "SVMs focus on finding the optimal hyperplane to fit the data points (for regression tasks), making them less sensitive to the presence of correlated features.\n",
    "\n",
    "It's often worth experimenting with both the full feature set and a reduced set to see which performs better. We will first use our full set. That said, other preprocessing steps like feature scaling are typically more crucial for SVMs, given their reliance on distance calculations."
   ]
  },
  {
   "cell_type": "code",
   "execution_count": 2,
   "metadata": {},
   "outputs": [],
   "source": [
    "# Make file path variable so that all we need is to change this if we move notebook location\n",
    "file_path = '../data/processed/final_HDB_for_model.parquet.gzip'\n",
    "\n",
    "# Read data into csv\n",
    "df = pd.read_parquet(file_path)\n",
    "#df = df.sample(50000)\n",
    "\n",
    "# Put all columns to be deleted into a list\n",
    "drop_cols = ['block', 'street_name','address','sold_year_month']\n",
    "\n",
    "# Drop columns\n",
    "df = df.drop(columns=drop_cols)"
   ]
  },
  {
   "cell_type": "code",
   "execution_count": 3,
   "metadata": {},
   "outputs": [],
   "source": [
    "# Create lists of the categorical and numerical columns allowing them to be treated differently\n",
    "cat_cols = df.select_dtypes(include=['object']).columns\n",
    "num_cols = df.select_dtypes(include=['int64', 'float64']).columns\n",
    "\n",
    "# Create new list of numeric columns, removing resale_price from columns to scale\n",
    "num_cols_scale = list(num_cols)\n",
    "num_cols_scale.remove('resale_price')"
   ]
  },
  {
   "cell_type": "code",
   "execution_count": 4,
   "metadata": {},
   "outputs": [],
   "source": [
    "# Select target column\n",
    "target_col = 'resale_price'\n",
    "\n",
    "# Ready X and y\n",
    "X = df.loc[:, ~df.columns.isin([target_col])]\n",
    "y = df[target_col]\n",
    "\n",
    "# Split the data, 80-20 split with a random state included for reproducibility\n",
    "X_train, X_test, y_train, y_test = train_test_split(X,y, test_size = 0.2, random_state = 54)"
   ]
  },
  {
   "cell_type": "markdown",
   "metadata": {},
   "source": [
    "#### Create Preprocessing Pipeline"
   ]
  },
  {
   "cell_type": "code",
   "execution_count": 5,
   "metadata": {},
   "outputs": [
    {
     "data": {
      "text/html": [
       "<style>#sk-container-id-1 {color: black;}#sk-container-id-1 pre{padding: 0;}#sk-container-id-1 div.sk-toggleable {background-color: white;}#sk-container-id-1 label.sk-toggleable__label {cursor: pointer;display: block;width: 100%;margin-bottom: 0;padding: 0.3em;box-sizing: border-box;text-align: center;}#sk-container-id-1 label.sk-toggleable__label-arrow:before {content: \"▸\";float: left;margin-right: 0.25em;color: #696969;}#sk-container-id-1 label.sk-toggleable__label-arrow:hover:before {color: black;}#sk-container-id-1 div.sk-estimator:hover label.sk-toggleable__label-arrow:before {color: black;}#sk-container-id-1 div.sk-toggleable__content {max-height: 0;max-width: 0;overflow: hidden;text-align: left;background-color: #f0f8ff;}#sk-container-id-1 div.sk-toggleable__content pre {margin: 0.2em;color: black;border-radius: 0.25em;background-color: #f0f8ff;}#sk-container-id-1 input.sk-toggleable__control:checked~div.sk-toggleable__content {max-height: 200px;max-width: 100%;overflow: auto;}#sk-container-id-1 input.sk-toggleable__control:checked~label.sk-toggleable__label-arrow:before {content: \"▾\";}#sk-container-id-1 div.sk-estimator input.sk-toggleable__control:checked~label.sk-toggleable__label {background-color: #d4ebff;}#sk-container-id-1 div.sk-label input.sk-toggleable__control:checked~label.sk-toggleable__label {background-color: #d4ebff;}#sk-container-id-1 input.sk-hidden--visually {border: 0;clip: rect(1px 1px 1px 1px);clip: rect(1px, 1px, 1px, 1px);height: 1px;margin: -1px;overflow: hidden;padding: 0;position: absolute;width: 1px;}#sk-container-id-1 div.sk-estimator {font-family: monospace;background-color: #f0f8ff;border: 1px dotted black;border-radius: 0.25em;box-sizing: border-box;margin-bottom: 0.5em;}#sk-container-id-1 div.sk-estimator:hover {background-color: #d4ebff;}#sk-container-id-1 div.sk-parallel-item::after {content: \"\";width: 100%;border-bottom: 1px solid gray;flex-grow: 1;}#sk-container-id-1 div.sk-label:hover label.sk-toggleable__label {background-color: #d4ebff;}#sk-container-id-1 div.sk-serial::before {content: \"\";position: absolute;border-left: 1px solid gray;box-sizing: border-box;top: 0;bottom: 0;left: 50%;z-index: 0;}#sk-container-id-1 div.sk-serial {display: flex;flex-direction: column;align-items: center;background-color: white;padding-right: 0.2em;padding-left: 0.2em;position: relative;}#sk-container-id-1 div.sk-item {position: relative;z-index: 1;}#sk-container-id-1 div.sk-parallel {display: flex;align-items: stretch;justify-content: center;background-color: white;position: relative;}#sk-container-id-1 div.sk-item::before, #sk-container-id-1 div.sk-parallel-item::before {content: \"\";position: absolute;border-left: 1px solid gray;box-sizing: border-box;top: 0;bottom: 0;left: 50%;z-index: -1;}#sk-container-id-1 div.sk-parallel-item {display: flex;flex-direction: column;z-index: 1;position: relative;background-color: white;}#sk-container-id-1 div.sk-parallel-item:first-child::after {align-self: flex-end;width: 50%;}#sk-container-id-1 div.sk-parallel-item:last-child::after {align-self: flex-start;width: 50%;}#sk-container-id-1 div.sk-parallel-item:only-child::after {width: 0;}#sk-container-id-1 div.sk-dashed-wrapped {border: 1px dashed gray;margin: 0 0.4em 0.5em 0.4em;box-sizing: border-box;padding-bottom: 0.4em;background-color: white;}#sk-container-id-1 div.sk-label label {font-family: monospace;font-weight: bold;display: inline-block;line-height: 1.2em;}#sk-container-id-1 div.sk-label-container {text-align: center;}#sk-container-id-1 div.sk-container {/* jupyter's `normalize.less` sets `[hidden] { display: none; }` but bootstrap.min.css set `[hidden] { display: none !important; }` so we also need the `!important` here to be able to override the default hidden behavior on the sphinx rendered scikit-learn.org. See: https://github.com/scikit-learn/scikit-learn/issues/21755 */display: inline-block !important;position: relative;}#sk-container-id-1 div.sk-text-repr-fallback {display: none;}</style><div id=\"sk-container-id-1\" class=\"sk-top-container\"><div class=\"sk-text-repr-fallback\"><pre>ColumnTransformer(remainder=&#x27;passthrough&#x27;,\n",
       "                  transformers=[(&#x27;onehotencoder&#x27;,\n",
       "                                 OneHotEncoder(drop=&#x27;first&#x27;,\n",
       "                                               handle_unknown=&#x27;ignore&#x27;),\n",
       "                                 Index([&#x27;town&#x27;, &#x27;flat_type&#x27;, &#x27;storey_range&#x27;, &#x27;flat_model&#x27;, &#x27;most_closest_mrt&#x27;], dtype=&#x27;object&#x27;)),\n",
       "                                (&#x27;pipeline&#x27;,\n",
       "                                 Pipeline(steps=[(&#x27;robustscaler&#x27;,\n",
       "                                                  RobustScaler()),\n",
       "                                                 (&#x27;minmaxscaler&#x27;,\n",
       "                                                  MinMaxScaler())]),\n",
       "                                 [&#x27;floor_area_sqm&#x27;, &#x27;lease_commence_date&#x27;,...\n",
       "                                  &#x27;max_floor_lvl&#x27;, &#x27;5 year bond yields&#x27;,\n",
       "                                  &#x27;GDPm (Current Prices)&#x27;, &#x27;GDP per capita&#x27;,\n",
       "                                  &#x27;Personal Income m&#x27;, &#x27;Unemployment Rate&#x27;,\n",
       "                                  &#x27;Core inflation&#x27;, &#x27;Median Household Inc&#x27;,\n",
       "                                  &#x27;Lime, Cement, &amp; Fabricated Construction &#x27;\n",
       "                                  &#x27;Materials Excl Glass &amp; Clay Materials&#x27;,\n",
       "                                  &#x27;Clay Construction Materials &amp; Refractory &#x27;\n",
       "                                  &#x27;Construction Materials&#x27;,\n",
       "                                  &#x27;walking_time_mrt&#x27;, &#x27;ResidentPopulation&#x27;,\n",
       "                                  &#x27;ResidentPopulation_Growth_Rate&#x27;])])</pre><b>In a Jupyter environment, please rerun this cell to show the HTML representation or trust the notebook. <br />On GitHub, the HTML representation is unable to render, please try loading this page with nbviewer.org.</b></div><div class=\"sk-container\" hidden><div class=\"sk-item sk-dashed-wrapped\"><div class=\"sk-label-container\"><div class=\"sk-label sk-toggleable\"><input class=\"sk-toggleable__control sk-hidden--visually\" id=\"sk-estimator-id-1\" type=\"checkbox\" ><label for=\"sk-estimator-id-1\" class=\"sk-toggleable__label sk-toggleable__label-arrow\">ColumnTransformer</label><div class=\"sk-toggleable__content\"><pre>ColumnTransformer(remainder=&#x27;passthrough&#x27;,\n",
       "                  transformers=[(&#x27;onehotencoder&#x27;,\n",
       "                                 OneHotEncoder(drop=&#x27;first&#x27;,\n",
       "                                               handle_unknown=&#x27;ignore&#x27;),\n",
       "                                 Index([&#x27;town&#x27;, &#x27;flat_type&#x27;, &#x27;storey_range&#x27;, &#x27;flat_model&#x27;, &#x27;most_closest_mrt&#x27;], dtype=&#x27;object&#x27;)),\n",
       "                                (&#x27;pipeline&#x27;,\n",
       "                                 Pipeline(steps=[(&#x27;robustscaler&#x27;,\n",
       "                                                  RobustScaler()),\n",
       "                                                 (&#x27;minmaxscaler&#x27;,\n",
       "                                                  MinMaxScaler())]),\n",
       "                                 [&#x27;floor_area_sqm&#x27;, &#x27;lease_commence_date&#x27;,...\n",
       "                                  &#x27;max_floor_lvl&#x27;, &#x27;5 year bond yields&#x27;,\n",
       "                                  &#x27;GDPm (Current Prices)&#x27;, &#x27;GDP per capita&#x27;,\n",
       "                                  &#x27;Personal Income m&#x27;, &#x27;Unemployment Rate&#x27;,\n",
       "                                  &#x27;Core inflation&#x27;, &#x27;Median Household Inc&#x27;,\n",
       "                                  &#x27;Lime, Cement, &amp; Fabricated Construction &#x27;\n",
       "                                  &#x27;Materials Excl Glass &amp; Clay Materials&#x27;,\n",
       "                                  &#x27;Clay Construction Materials &amp; Refractory &#x27;\n",
       "                                  &#x27;Construction Materials&#x27;,\n",
       "                                  &#x27;walking_time_mrt&#x27;, &#x27;ResidentPopulation&#x27;,\n",
       "                                  &#x27;ResidentPopulation_Growth_Rate&#x27;])])</pre></div></div></div><div class=\"sk-parallel\"><div class=\"sk-parallel-item\"><div class=\"sk-item\"><div class=\"sk-label-container\"><div class=\"sk-label sk-toggleable\"><input class=\"sk-toggleable__control sk-hidden--visually\" id=\"sk-estimator-id-2\" type=\"checkbox\" ><label for=\"sk-estimator-id-2\" class=\"sk-toggleable__label sk-toggleable__label-arrow\">onehotencoder</label><div class=\"sk-toggleable__content\"><pre>Index([&#x27;town&#x27;, &#x27;flat_type&#x27;, &#x27;storey_range&#x27;, &#x27;flat_model&#x27;, &#x27;most_closest_mrt&#x27;], dtype=&#x27;object&#x27;)</pre></div></div></div><div class=\"sk-serial\"><div class=\"sk-item\"><div class=\"sk-estimator sk-toggleable\"><input class=\"sk-toggleable__control sk-hidden--visually\" id=\"sk-estimator-id-3\" type=\"checkbox\" ><label for=\"sk-estimator-id-3\" class=\"sk-toggleable__label sk-toggleable__label-arrow\">OneHotEncoder</label><div class=\"sk-toggleable__content\"><pre>OneHotEncoder(drop=&#x27;first&#x27;, handle_unknown=&#x27;ignore&#x27;)</pre></div></div></div></div></div></div><div class=\"sk-parallel-item\"><div class=\"sk-item\"><div class=\"sk-label-container\"><div class=\"sk-label sk-toggleable\"><input class=\"sk-toggleable__control sk-hidden--visually\" id=\"sk-estimator-id-4\" type=\"checkbox\" ><label for=\"sk-estimator-id-4\" class=\"sk-toggleable__label sk-toggleable__label-arrow\">pipeline</label><div class=\"sk-toggleable__content\"><pre>[&#x27;floor_area_sqm&#x27;, &#x27;lease_commence_date&#x27;, &#x27;sold_year&#x27;, &#x27;sold_remaining_lease&#x27;, &#x27;max_floor_lvl&#x27;, &#x27;5 year bond yields&#x27;, &#x27;GDPm (Current Prices)&#x27;, &#x27;GDP per capita&#x27;, &#x27;Personal Income m&#x27;, &#x27;Unemployment Rate&#x27;, &#x27;Core inflation&#x27;, &#x27;Median Household Inc&#x27;, &#x27;Lime, Cement, &amp; Fabricated Construction Materials Excl Glass &amp; Clay Materials&#x27;, &#x27;Clay Construction Materials &amp; Refractory Construction Materials&#x27;, &#x27;walking_time_mrt&#x27;, &#x27;ResidentPopulation&#x27;, &#x27;ResidentPopulation_Growth_Rate&#x27;]</pre></div></div></div><div class=\"sk-serial\"><div class=\"sk-item\"><div class=\"sk-serial\"><div class=\"sk-item\"><div class=\"sk-estimator sk-toggleable\"><input class=\"sk-toggleable__control sk-hidden--visually\" id=\"sk-estimator-id-5\" type=\"checkbox\" ><label for=\"sk-estimator-id-5\" class=\"sk-toggleable__label sk-toggleable__label-arrow\">RobustScaler</label><div class=\"sk-toggleable__content\"><pre>RobustScaler()</pre></div></div></div><div class=\"sk-item\"><div class=\"sk-estimator sk-toggleable\"><input class=\"sk-toggleable__control sk-hidden--visually\" id=\"sk-estimator-id-6\" type=\"checkbox\" ><label for=\"sk-estimator-id-6\" class=\"sk-toggleable__label sk-toggleable__label-arrow\">MinMaxScaler</label><div class=\"sk-toggleable__content\"><pre>MinMaxScaler()</pre></div></div></div></div></div></div></div></div><div class=\"sk-parallel-item\"><div class=\"sk-item\"><div class=\"sk-label-container\"><div class=\"sk-label sk-toggleable\"><input class=\"sk-toggleable__control sk-hidden--visually\" id=\"sk-estimator-id-7\" type=\"checkbox\" ><label for=\"sk-estimator-id-7\" class=\"sk-toggleable__label sk-toggleable__label-arrow\">remainder</label><div class=\"sk-toggleable__content\"><pre></pre></div></div></div><div class=\"sk-serial\"><div class=\"sk-item\"><div class=\"sk-estimator sk-toggleable\"><input class=\"sk-toggleable__control sk-hidden--visually\" id=\"sk-estimator-id-8\" type=\"checkbox\" ><label for=\"sk-estimator-id-8\" class=\"sk-toggleable__label sk-toggleable__label-arrow\">passthrough</label><div class=\"sk-toggleable__content\"><pre>passthrough</pre></div></div></div></div></div></div></div></div></div></div>"
      ],
      "text/plain": [
       "ColumnTransformer(remainder='passthrough',\n",
       "                  transformers=[('onehotencoder',\n",
       "                                 OneHotEncoder(drop='first',\n",
       "                                               handle_unknown='ignore'),\n",
       "                                 Index(['town', 'flat_type', 'storey_range', 'flat_model', 'most_closest_mrt'], dtype='object')),\n",
       "                                ('pipeline',\n",
       "                                 Pipeline(steps=[('robustscaler',\n",
       "                                                  RobustScaler()),\n",
       "                                                 ('minmaxscaler',\n",
       "                                                  MinMaxScaler())]),\n",
       "                                 ['floor_area_sqm', 'lease_commence_date',...\n",
       "                                  'max_floor_lvl', '5 year bond yields',\n",
       "                                  'GDPm (Current Prices)', 'GDP per capita',\n",
       "                                  'Personal Income m', 'Unemployment Rate',\n",
       "                                  'Core inflation', 'Median Household Inc',\n",
       "                                  'Lime, Cement, & Fabricated Construction '\n",
       "                                  'Materials Excl Glass & Clay Materials',\n",
       "                                  'Clay Construction Materials & Refractory '\n",
       "                                  'Construction Materials',\n",
       "                                  'walking_time_mrt', 'ResidentPopulation',\n",
       "                                  'ResidentPopulation_Growth_Rate'])])"
      ]
     },
     "execution_count": 5,
     "metadata": {},
     "output_type": "execute_result"
    }
   ],
   "source": [
    "# Create instances of OneHotEncoder\n",
    "cat_transformer = OneHotEncoder(drop='first', handle_unknown='ignore')\n",
    "\n",
    "# Create pipeline of two scalers for numeric data\n",
    "num_transformer = make_pipeline(RobustScaler(), MinMaxScaler())\n",
    "\n",
    "# Create a final to apply transformations to subsets of columns\n",
    "prepoc = make_column_transformer(\n",
    "    (cat_transformer, cat_cols),\n",
    "    (num_transformer, num_cols_scale),\n",
    "    remainder = 'passthrough'\n",
    ")\n",
    "\n",
    "# View Pipeline\n",
    "prepoc"
   ]
  },
  {
   "cell_type": "code",
   "execution_count": 6,
   "metadata": {},
   "outputs": [
    {
     "name": "stdout",
     "output_type": "stream",
     "text": [
      "Number of columns originally: 22\n",
      "Number of columns after preprocessing: 190\n"
     ]
    }
   ],
   "source": [
    "# Process X & y with pipeline\n",
    "X_train_processed = prepoc.fit_transform(X_train)\n",
    "X_test_processed = prepoc.transform(X_test)\n",
    "\n",
    "# Check to see if it worked\n",
    "print(\"Number of columns originally:\", X.shape[1])\n",
    "print(\"Number of columns after preprocessing:\",X_train_processed.shape[1])"
   ]
  },
  {
   "cell_type": "markdown",
   "metadata": {},
   "source": [
    "### Creating a Basic SVR Model & Evaluation "
   ]
  },
  {
   "cell_type": "code",
   "execution_count": 7,
   "metadata": {},
   "outputs": [
    {
     "name": "stderr",
     "output_type": "stream",
     "text": [
      "[Parallel(n_jobs=-1)]: Using backend LokyBackend with 8 concurrent workers.\n"
     ]
    },
    {
     "ename": "KeyboardInterrupt",
     "evalue": "",
     "output_type": "error",
     "traceback": [
      "\u001b[0;31m---------------------------------------------------------------------------\u001b[0m",
      "\u001b[0;31mKeyboardInterrupt\u001b[0m                         Traceback (most recent call last)",
      "Cell \u001b[0;32mIn[7], line 8\u001b[0m\n\u001b[1;32m      5\u001b[0m scoring \u001b[38;5;241m=\u001b[39m [\u001b[38;5;124m'\u001b[39m\u001b[38;5;124mr2\u001b[39m\u001b[38;5;124m'\u001b[39m, \u001b[38;5;124m'\u001b[39m\u001b[38;5;124mneg_mean_absolute_error\u001b[39m\u001b[38;5;124m'\u001b[39m]\n\u001b[1;32m      7\u001b[0m \u001b[38;5;66;03m# Get the cross validation scores\u001b[39;00m\n\u001b[0;32m----> 8\u001b[0m scores \u001b[38;5;241m=\u001b[39m \u001b[43mcross_validate\u001b[49m\u001b[43m(\u001b[49m\u001b[43mbase_svr_model\u001b[49m\u001b[43m,\u001b[49m\u001b[43m \u001b[49m\u001b[43mX_train_processed\u001b[49m\u001b[43m,\u001b[49m\u001b[43m \u001b[49m\u001b[43my_train\u001b[49m\u001b[43m,\u001b[49m\u001b[43m \u001b[49m\u001b[43mcv\u001b[49m\u001b[38;5;241;43m=\u001b[39;49m\u001b[38;5;241;43m5\u001b[39;49m\u001b[43m,\u001b[49m\u001b[43m \u001b[49m\u001b[43mn_jobs\u001b[49m\u001b[38;5;241;43m=\u001b[39;49m\u001b[43m \u001b[49m\u001b[38;5;241;43m-\u001b[39;49m\u001b[38;5;241;43m1\u001b[39;49m\u001b[43m,\u001b[49m\n\u001b[1;32m      9\u001b[0m \u001b[43m                        \u001b[49m\u001b[43mscoring\u001b[49m\u001b[38;5;241;43m=\u001b[39;49m\u001b[43mscoring\u001b[49m\u001b[43m,\u001b[49m\u001b[43m \u001b[49m\u001b[43mreturn_train_score\u001b[49m\u001b[38;5;241;43m=\u001b[39;49m\u001b[38;5;28;43;01mFalse\u001b[39;49;00m\u001b[43m,\u001b[49m\u001b[43m \u001b[49m\u001b[43mverbose\u001b[49m\u001b[43m \u001b[49m\u001b[38;5;241;43m=\u001b[39;49m\u001b[43m \u001b[49m\u001b[38;5;241;43m1\u001b[39;49m\u001b[43m)\u001b[49m\n\u001b[1;32m     11\u001b[0m \u001b[38;5;66;03m# View dictionary\u001b[39;00m\n\u001b[1;32m     12\u001b[0m scores\n",
      "File \u001b[0;32m~/.pyenv/versions/3.10.6/envs/hdb-price-estimator/lib/python3.10/site-packages/sklearn/utils/_param_validation.py:214\u001b[0m, in \u001b[0;36mvalidate_params.<locals>.decorator.<locals>.wrapper\u001b[0;34m(*args, **kwargs)\u001b[0m\n\u001b[1;32m    208\u001b[0m \u001b[38;5;28;01mtry\u001b[39;00m:\n\u001b[1;32m    209\u001b[0m     \u001b[38;5;28;01mwith\u001b[39;00m config_context(\n\u001b[1;32m    210\u001b[0m         skip_parameter_validation\u001b[38;5;241m=\u001b[39m(\n\u001b[1;32m    211\u001b[0m             prefer_skip_nested_validation \u001b[38;5;129;01mor\u001b[39;00m global_skip_validation\n\u001b[1;32m    212\u001b[0m         )\n\u001b[1;32m    213\u001b[0m     ):\n\u001b[0;32m--> 214\u001b[0m         \u001b[38;5;28;01mreturn\u001b[39;00m \u001b[43mfunc\u001b[49m\u001b[43m(\u001b[49m\u001b[38;5;241;43m*\u001b[39;49m\u001b[43margs\u001b[49m\u001b[43m,\u001b[49m\u001b[43m \u001b[49m\u001b[38;5;241;43m*\u001b[39;49m\u001b[38;5;241;43m*\u001b[39;49m\u001b[43mkwargs\u001b[49m\u001b[43m)\u001b[49m\n\u001b[1;32m    215\u001b[0m \u001b[38;5;28;01mexcept\u001b[39;00m InvalidParameterError \u001b[38;5;28;01mas\u001b[39;00m e:\n\u001b[1;32m    216\u001b[0m     \u001b[38;5;66;03m# When the function is just a wrapper around an estimator, we allow\u001b[39;00m\n\u001b[1;32m    217\u001b[0m     \u001b[38;5;66;03m# the function to delegate validation to the estimator, but we replace\u001b[39;00m\n\u001b[1;32m    218\u001b[0m     \u001b[38;5;66;03m# the name of the estimator by the name of the function in the error\u001b[39;00m\n\u001b[1;32m    219\u001b[0m     \u001b[38;5;66;03m# message to avoid confusion.\u001b[39;00m\n\u001b[1;32m    220\u001b[0m     msg \u001b[38;5;241m=\u001b[39m re\u001b[38;5;241m.\u001b[39msub(\n\u001b[1;32m    221\u001b[0m         \u001b[38;5;124mr\u001b[39m\u001b[38;5;124m\"\u001b[39m\u001b[38;5;124mparameter of \u001b[39m\u001b[38;5;124m\\\u001b[39m\u001b[38;5;124mw+ must be\u001b[39m\u001b[38;5;124m\"\u001b[39m,\n\u001b[1;32m    222\u001b[0m         \u001b[38;5;124mf\u001b[39m\u001b[38;5;124m\"\u001b[39m\u001b[38;5;124mparameter of \u001b[39m\u001b[38;5;132;01m{\u001b[39;00mfunc\u001b[38;5;241m.\u001b[39m\u001b[38;5;18m__qualname__\u001b[39m\u001b[38;5;132;01m}\u001b[39;00m\u001b[38;5;124m must be\u001b[39m\u001b[38;5;124m\"\u001b[39m,\n\u001b[1;32m    223\u001b[0m         \u001b[38;5;28mstr\u001b[39m(e),\n\u001b[1;32m    224\u001b[0m     )\n",
      "File \u001b[0;32m~/.pyenv/versions/3.10.6/envs/hdb-price-estimator/lib/python3.10/site-packages/sklearn/model_selection/_validation.py:309\u001b[0m, in \u001b[0;36mcross_validate\u001b[0;34m(estimator, X, y, groups, scoring, cv, n_jobs, verbose, fit_params, pre_dispatch, return_train_score, return_estimator, return_indices, error_score)\u001b[0m\n\u001b[1;32m    306\u001b[0m \u001b[38;5;66;03m# We clone the estimator to make sure that all the folds are\u001b[39;00m\n\u001b[1;32m    307\u001b[0m \u001b[38;5;66;03m# independent, and that it is pickle-able.\u001b[39;00m\n\u001b[1;32m    308\u001b[0m parallel \u001b[38;5;241m=\u001b[39m Parallel(n_jobs\u001b[38;5;241m=\u001b[39mn_jobs, verbose\u001b[38;5;241m=\u001b[39mverbose, pre_dispatch\u001b[38;5;241m=\u001b[39mpre_dispatch)\n\u001b[0;32m--> 309\u001b[0m results \u001b[38;5;241m=\u001b[39m \u001b[43mparallel\u001b[49m\u001b[43m(\u001b[49m\n\u001b[1;32m    310\u001b[0m \u001b[43m    \u001b[49m\u001b[43mdelayed\u001b[49m\u001b[43m(\u001b[49m\u001b[43m_fit_and_score\u001b[49m\u001b[43m)\u001b[49m\u001b[43m(\u001b[49m\n\u001b[1;32m    311\u001b[0m \u001b[43m        \u001b[49m\u001b[43mclone\u001b[49m\u001b[43m(\u001b[49m\u001b[43mestimator\u001b[49m\u001b[43m)\u001b[49m\u001b[43m,\u001b[49m\n\u001b[1;32m    312\u001b[0m \u001b[43m        \u001b[49m\u001b[43mX\u001b[49m\u001b[43m,\u001b[49m\n\u001b[1;32m    313\u001b[0m \u001b[43m        \u001b[49m\u001b[43my\u001b[49m\u001b[43m,\u001b[49m\n\u001b[1;32m    314\u001b[0m \u001b[43m        \u001b[49m\u001b[43mscorers\u001b[49m\u001b[43m,\u001b[49m\n\u001b[1;32m    315\u001b[0m \u001b[43m        \u001b[49m\u001b[43mtrain\u001b[49m\u001b[43m,\u001b[49m\n\u001b[1;32m    316\u001b[0m \u001b[43m        \u001b[49m\u001b[43mtest\u001b[49m\u001b[43m,\u001b[49m\n\u001b[1;32m    317\u001b[0m \u001b[43m        \u001b[49m\u001b[43mverbose\u001b[49m\u001b[43m,\u001b[49m\n\u001b[1;32m    318\u001b[0m \u001b[43m        \u001b[49m\u001b[38;5;28;43;01mNone\u001b[39;49;00m\u001b[43m,\u001b[49m\n\u001b[1;32m    319\u001b[0m \u001b[43m        \u001b[49m\u001b[43mfit_params\u001b[49m\u001b[43m,\u001b[49m\n\u001b[1;32m    320\u001b[0m \u001b[43m        \u001b[49m\u001b[43mreturn_train_score\u001b[49m\u001b[38;5;241;43m=\u001b[39;49m\u001b[43mreturn_train_score\u001b[49m\u001b[43m,\u001b[49m\n\u001b[1;32m    321\u001b[0m \u001b[43m        \u001b[49m\u001b[43mreturn_times\u001b[49m\u001b[38;5;241;43m=\u001b[39;49m\u001b[38;5;28;43;01mTrue\u001b[39;49;00m\u001b[43m,\u001b[49m\n\u001b[1;32m    322\u001b[0m \u001b[43m        \u001b[49m\u001b[43mreturn_estimator\u001b[49m\u001b[38;5;241;43m=\u001b[39;49m\u001b[43mreturn_estimator\u001b[49m\u001b[43m,\u001b[49m\n\u001b[1;32m    323\u001b[0m \u001b[43m        \u001b[49m\u001b[43merror_score\u001b[49m\u001b[38;5;241;43m=\u001b[39;49m\u001b[43merror_score\u001b[49m\u001b[43m,\u001b[49m\n\u001b[1;32m    324\u001b[0m \u001b[43m    \u001b[49m\u001b[43m)\u001b[49m\n\u001b[1;32m    325\u001b[0m \u001b[43m    \u001b[49m\u001b[38;5;28;43;01mfor\u001b[39;49;00m\u001b[43m \u001b[49m\u001b[43mtrain\u001b[49m\u001b[43m,\u001b[49m\u001b[43m \u001b[49m\u001b[43mtest\u001b[49m\u001b[43m \u001b[49m\u001b[38;5;129;43;01min\u001b[39;49;00m\u001b[43m \u001b[49m\u001b[43mindices\u001b[49m\n\u001b[1;32m    326\u001b[0m \u001b[43m\u001b[49m\u001b[43m)\u001b[49m\n\u001b[1;32m    328\u001b[0m _warn_or_raise_about_fit_failures(results, error_score)\n\u001b[1;32m    330\u001b[0m \u001b[38;5;66;03m# For callable scoring, the return type is only know after calling. If the\u001b[39;00m\n\u001b[1;32m    331\u001b[0m \u001b[38;5;66;03m# return type is a dictionary, the error scores can now be inserted with\u001b[39;00m\n\u001b[1;32m    332\u001b[0m \u001b[38;5;66;03m# the correct key.\u001b[39;00m\n",
      "File \u001b[0;32m~/.pyenv/versions/3.10.6/envs/hdb-price-estimator/lib/python3.10/site-packages/sklearn/utils/parallel.py:65\u001b[0m, in \u001b[0;36mParallel.__call__\u001b[0;34m(self, iterable)\u001b[0m\n\u001b[1;32m     60\u001b[0m config \u001b[38;5;241m=\u001b[39m get_config()\n\u001b[1;32m     61\u001b[0m iterable_with_config \u001b[38;5;241m=\u001b[39m (\n\u001b[1;32m     62\u001b[0m     (_with_config(delayed_func, config), args, kwargs)\n\u001b[1;32m     63\u001b[0m     \u001b[38;5;28;01mfor\u001b[39;00m delayed_func, args, kwargs \u001b[38;5;129;01min\u001b[39;00m iterable\n\u001b[1;32m     64\u001b[0m )\n\u001b[0;32m---> 65\u001b[0m \u001b[38;5;28;01mreturn\u001b[39;00m \u001b[38;5;28;43msuper\u001b[39;49m\u001b[43m(\u001b[49m\u001b[43m)\u001b[49m\u001b[38;5;241;43m.\u001b[39;49m\u001b[38;5;21;43m__call__\u001b[39;49m\u001b[43m(\u001b[49m\u001b[43miterable_with_config\u001b[49m\u001b[43m)\u001b[49m\n",
      "File \u001b[0;32m~/.pyenv/versions/3.10.6/envs/hdb-price-estimator/lib/python3.10/site-packages/joblib/parallel.py:1952\u001b[0m, in \u001b[0;36mParallel.__call__\u001b[0;34m(self, iterable)\u001b[0m\n\u001b[1;32m   1946\u001b[0m \u001b[38;5;66;03m# The first item from the output is blank, but it makes the interpreter\u001b[39;00m\n\u001b[1;32m   1947\u001b[0m \u001b[38;5;66;03m# progress until it enters the Try/Except block of the generator and\u001b[39;00m\n\u001b[1;32m   1948\u001b[0m \u001b[38;5;66;03m# reach the first `yield` statement. This starts the aynchronous\u001b[39;00m\n\u001b[1;32m   1949\u001b[0m \u001b[38;5;66;03m# dispatch of the tasks to the workers.\u001b[39;00m\n\u001b[1;32m   1950\u001b[0m \u001b[38;5;28mnext\u001b[39m(output)\n\u001b[0;32m-> 1952\u001b[0m \u001b[38;5;28;01mreturn\u001b[39;00m output \u001b[38;5;28;01mif\u001b[39;00m \u001b[38;5;28mself\u001b[39m\u001b[38;5;241m.\u001b[39mreturn_generator \u001b[38;5;28;01melse\u001b[39;00m \u001b[38;5;28;43mlist\u001b[39;49m\u001b[43m(\u001b[49m\u001b[43moutput\u001b[49m\u001b[43m)\u001b[49m\n",
      "File \u001b[0;32m~/.pyenv/versions/3.10.6/envs/hdb-price-estimator/lib/python3.10/site-packages/joblib/parallel.py:1595\u001b[0m, in \u001b[0;36mParallel._get_outputs\u001b[0;34m(self, iterator, pre_dispatch)\u001b[0m\n\u001b[1;32m   1592\u001b[0m     \u001b[38;5;28;01myield\u001b[39;00m\n\u001b[1;32m   1594\u001b[0m     \u001b[38;5;28;01mwith\u001b[39;00m \u001b[38;5;28mself\u001b[39m\u001b[38;5;241m.\u001b[39m_backend\u001b[38;5;241m.\u001b[39mretrieval_context():\n\u001b[0;32m-> 1595\u001b[0m         \u001b[38;5;28;01myield from\u001b[39;00m \u001b[38;5;28mself\u001b[39m\u001b[38;5;241m.\u001b[39m_retrieve()\n\u001b[1;32m   1597\u001b[0m \u001b[38;5;28;01mexcept\u001b[39;00m \u001b[38;5;167;01mGeneratorExit\u001b[39;00m:\n\u001b[1;32m   1598\u001b[0m     \u001b[38;5;66;03m# The generator has been garbage collected before being fully\u001b[39;00m\n\u001b[1;32m   1599\u001b[0m     \u001b[38;5;66;03m# consumed. This aborts the remaining tasks if possible and warn\u001b[39;00m\n\u001b[1;32m   1600\u001b[0m     \u001b[38;5;66;03m# the user if necessary.\u001b[39;00m\n\u001b[1;32m   1601\u001b[0m     \u001b[38;5;28mself\u001b[39m\u001b[38;5;241m.\u001b[39m_exception \u001b[38;5;241m=\u001b[39m \u001b[38;5;28;01mTrue\u001b[39;00m\n",
      "File \u001b[0;32m~/.pyenv/versions/3.10.6/envs/hdb-price-estimator/lib/python3.10/site-packages/joblib/parallel.py:1707\u001b[0m, in \u001b[0;36mParallel._retrieve\u001b[0;34m(self)\u001b[0m\n\u001b[1;32m   1702\u001b[0m \u001b[38;5;66;03m# If the next job is not ready for retrieval yet, we just wait for\u001b[39;00m\n\u001b[1;32m   1703\u001b[0m \u001b[38;5;66;03m# async callbacks to progress.\u001b[39;00m\n\u001b[1;32m   1704\u001b[0m \u001b[38;5;28;01mif\u001b[39;00m ((\u001b[38;5;28mlen\u001b[39m(\u001b[38;5;28mself\u001b[39m\u001b[38;5;241m.\u001b[39m_jobs) \u001b[38;5;241m==\u001b[39m \u001b[38;5;241m0\u001b[39m) \u001b[38;5;129;01mor\u001b[39;00m\n\u001b[1;32m   1705\u001b[0m     (\u001b[38;5;28mself\u001b[39m\u001b[38;5;241m.\u001b[39m_jobs[\u001b[38;5;241m0\u001b[39m]\u001b[38;5;241m.\u001b[39mget_status(\n\u001b[1;32m   1706\u001b[0m         timeout\u001b[38;5;241m=\u001b[39m\u001b[38;5;28mself\u001b[39m\u001b[38;5;241m.\u001b[39mtimeout) \u001b[38;5;241m==\u001b[39m TASK_PENDING)):\n\u001b[0;32m-> 1707\u001b[0m     \u001b[43mtime\u001b[49m\u001b[38;5;241;43m.\u001b[39;49m\u001b[43msleep\u001b[49m\u001b[43m(\u001b[49m\u001b[38;5;241;43m0.01\u001b[39;49m\u001b[43m)\u001b[49m\n\u001b[1;32m   1708\u001b[0m     \u001b[38;5;28;01mcontinue\u001b[39;00m\n\u001b[1;32m   1710\u001b[0m \u001b[38;5;66;03m# We need to be careful: the job list can be filling up as\u001b[39;00m\n\u001b[1;32m   1711\u001b[0m \u001b[38;5;66;03m# we empty it and Python list are not thread-safe by\u001b[39;00m\n\u001b[1;32m   1712\u001b[0m \u001b[38;5;66;03m# default hence the use of the lock\u001b[39;00m\n",
      "\u001b[0;31mKeyboardInterrupt\u001b[0m: "
     ]
    }
   ],
   "source": [
    "# Instantiate the model with a linear kernel\n",
    "base_svr_model = SVR(kernel='linear', C=10000)\n",
    "\n",
    "# Define multiple scoring metrics\n",
    "scoring = ['r2', 'neg_mean_absolute_error']\n",
    "\n",
    "# Get the cross validation scores\n",
    "scores = cross_validate(base_svr_model, X_train_processed, y_train, cv=5, n_jobs= -1,\n",
    "                        scoring=scoring, return_train_score=False, verbose = 1)\n",
    "\n",
    "# View dictionary\n",
    "scores"
   ]
  },
  {
   "cell_type": "code",
   "execution_count": null,
   "metadata": {},
   "outputs": [],
   "source": [
    "# Get rounded scores stored in variables\n",
    "train_base_r2_mean = round(scores['test_r2'].mean(), 2)\n",
    "train_base_mae_mean = round(-(scores['test_neg_mean_absolute_error'].mean()),2)\n",
    "\n",
    "# Print scores to assess\n",
    "print(\"Training r2 score =\", train_base_r2_mean)\n",
    "print(\"Training Mean Absolute Error =\", train_base_mae_mean)"
   ]
  },
  {
   "cell_type": "code",
   "execution_count": null,
   "metadata": {},
   "outputs": [
    {
     "name": "stdout",
     "output_type": "stream",
     "text": [
      "Fitting 3 folds for each of 3 candidates, totalling 9 fits\n",
      "[CV 3/3] END .......................C=3000;, score=-41804.971 total time= 1.3min\n",
      "[CV 2/3] END .......................C=2000;, score=-42888.274 total time= 1.3min\n",
      "[CV 3/3] END .......................C=2000;, score=-42652.575 total time= 1.3min\n",
      "[CV 1/3] END .......................C=2000;, score=-42569.678 total time= 1.3min\n",
      "[CV 1/3] END .......................C=3000;, score=-41715.728 total time= 1.3min\n",
      "[CV 1/3] END .......................C=4000;, score=-41149.834 total time= 1.3min\n",
      "[CV 2/3] END .......................C=3000;, score=-42001.597 total time= 1.4min\n",
      "[CV 2/3] END .......................C=4000;, score=-41393.683 total time= 1.4min\n",
      "[CV 3/3] END .......................C=4000;, score=-41211.930 total time=  48.9s\n",
      "Best parameters found:  {'C': 4000}\n",
      "Best score (negative mean absolute error):  -41251.81566256274\n",
      "R2 score of the best model:  0.8843923535734847\n"
     ]
    }
   ],
   "source": [
    "# # Instantiate the model with a linear kernel\n",
    "# base_svr_model = SVR(kernel='linear')\n",
    "\n",
    "# # Define the hyperparameter grid to search\n",
    "# # Tried with 'C': [0.1, 1, 10, 100],\n",
    "# #            'epsilon': [0.1, 0.2]\n",
    "# #best results with c = 100, e = .1\n",
    "# param_grid = {\n",
    "#     'C': [2000, 3000, 4000]\n",
    "# }\n",
    "\n",
    "# # Create the GridSearchCV object\n",
    "# grid_search = GridSearchCV(estimator=base_svr_model, param_grid=param_grid,\n",
    "#                            scoring='neg_mean_absolute_error', cv=3, n_jobs=-1, verbose=5)\n",
    "\n",
    "# # Fit GridSearchCV\n",
    "# grid_search.fit(X_train_processed, y_train)\n",
    "\n",
    "# # Print the best parameters and the corresponding score\n",
    "# print(\"Best parameters found: \", grid_search.best_params_)\n",
    "# print(\"Best score (negative mean absolute error): \", grid_search.best_score_)\n",
    "\n",
    "# # If you also want the R2 score of the best model\n",
    "# best_r2_score = grid_search.best_estimator_.score(X_train_processed, y_train)\n",
    "# print(\"R2 score of the best model: \", best_r2_score)"
   ]
  },
  {
   "cell_type": "code",
   "execution_count": null,
   "metadata": {},
   "outputs": [
    {
     "name": "stdout",
     "output_type": "stream",
     "text": [
      "Fitting 3 folds for each of 10 candidates, totalling 30 fits\n",
      "[CV 2/3] END .....................C=1000.0;, score=-44273.962 total time= 1.4min\n",
      "[CV 3/3] END .....................C=2000.0;, score=-42652.575 total time= 1.4min\n",
      "[CV 3/3] END .....................C=1000.0;, score=-44104.912 total time= 1.4min\n",
      "[CV 1/3] END .....................C=2000.0;, score=-42569.678 total time= 1.4min\n",
      "[CV 1/3] END .....................C=1000.0;, score=-44033.626 total time= 1.4min\n",
      "[CV 2/3] END .....................C=3000.0;, score=-42001.597 total time= 1.4min\n",
      "[CV 2/3] END .....................C=2000.0;, score=-42888.274 total time= 1.4min\n",
      "[CV 1/3] END .....................C=3000.0;, score=-41715.728 total time= 1.4min\n",
      "[CV 3/3] END .....................C=3000.0;, score=-41804.971 total time= 1.4min\n",
      "[CV 2/3] END .....................C=5000.0;, score=-40967.187 total time= 1.4min\n",
      "[CV 3/3] END .....................C=4000.0;, score=-41211.930 total time= 1.4min\n",
      "[CV 1/3] END .....................C=4000.0;, score=-41149.834 total time= 1.4min\n",
      "[CV 2/3] END .....................C=4000.0;, score=-41393.683 total time= 1.4min\n",
      "[CV 1/3] END .....................C=5000.0;, score=-40715.060 total time= 1.4min\n",
      "[CV 3/3] END .....................C=5000.0;, score=-40782.199 total time= 1.4min\n",
      "[CV 1/3] END .....................C=6000.0;, score=-40354.693 total time= 1.4min\n",
      "[CV 2/3] END .....................C=6000.0;, score=-40641.951 total time= 1.4min\n",
      "[CV 3/3] END .....................C=6000.0;, score=-40428.065 total time= 1.4min\n",
      "[CV 1/3] END .....................C=7000.0;, score=-40082.765 total time= 1.4min\n",
      "[CV 3/3] END .....................C=7000.0;, score=-40171.853 total time= 1.4min\n",
      "[CV 2/3] END .....................C=7000.0;, score=-40377.848 total time= 1.4min\n",
      "[CV 1/3] END .....................C=8000.0;, score=-39880.099 total time= 1.4min\n",
      "[CV 3/3] END .....................C=8000.0;, score=-39942.160 total time= 1.4min\n",
      "[CV 2/3] END .....................C=8000.0;, score=-40168.320 total time= 1.4min\n",
      "[CV 3/3] END .....................C=9000.0;, score=-39764.859 total time= 1.1min\n",
      "[CV 2/3] END .....................C=9000.0;, score=-39983.959 total time= 1.1min\n",
      "[CV 1/3] END .....................C=9000.0;, score=-39701.467 total time= 1.1min\n",
      "[CV 2/3] END ....................C=10000.0;, score=-39831.505 total time= 1.1min\n",
      "[CV 1/3] END ....................C=10000.0;, score=-39548.613 total time= 1.1min\n",
      "[CV 3/3] END ....................C=10000.0;, score=-39619.790 total time= 1.1min\n",
      "Best parameters found:  {'C': 10000.0}\n",
      "Best score (negative mean absolute error):  -39666.63588225186\n",
      "R2 score of the best model:  0.8915263947097818\n"
     ]
    }
   ],
   "source": [
    "# # Instantiate the model with a linear kernel\n",
    "# base_svr_model = SVR(kernel='linear')\n",
    "\n",
    "# # Define the hyperparameter distribution to search\n",
    "# param_distributions = {\n",
    "#     'C': np.linspace(1000, 10000, 10)  # Continuous distribution between 2000 and 4000\n",
    "# }\n",
    "\n",
    "# # Create the RandomizedSearchCV object\n",
    "# random_search = RandomizedSearchCV(estimator=base_svr_model,\n",
    "#                                    param_distributions=param_distributions,\n",
    "#                                    n_iter=10,  # Number of parameter settings sampled\n",
    "#                                    scoring='neg_mean_absolute_error',\n",
    "#                                    cv=3, n_jobs=-1, verbose=5)\n",
    "\n",
    "# # Fit RandomizedSearchCV\n",
    "# random_search.fit(X_train_processed, y_train)\n",
    "\n",
    "# # Print the best parameters and the corresponding score\n",
    "# print(\"Best parameters found: \", random_search.best_params_)\n",
    "# print(\"Best score (negative mean absolute error): \", random_search.best_score_)\n",
    "\n",
    "# # If you also want the R2 score of the best model\n",
    "# best_r2_score = random_search.best_estimator_.score(X_train_processed, y_train)\n",
    "# print(\"R2 score of the best model: \", best_r2_score)"
   ]
  },
  {
   "cell_type": "code",
   "execution_count": null,
   "metadata": {},
   "outputs": [],
   "source": []
  }
 ],
 "metadata": {
  "kernelspec": {
   "display_name": "hdb-price-estimator",
   "language": "python",
   "name": "python3"
  },
  "language_info": {
   "codemirror_mode": {
    "name": "ipython",
    "version": 3
   },
   "file_extension": ".py",
   "mimetype": "text/x-python",
   "name": "python",
   "nbconvert_exporter": "python",
   "pygments_lexer": "ipython3",
   "version": "3.10.6"
  }
 },
 "nbformat": 4,
 "nbformat_minor": 2
}

{
 "cells": [
  {
   "cell_type": "markdown",
   "metadata": {},
   "source": [
    "### Predicting HDB Prices with Ridge & Lasso Regression\n",
    "\n",
    "In this notebook, we will be using Ridge regression to improve our base linear regression model. If you have not been through the base linear regression model notebook, you will find it here <to fill at a later stage .com>. Much of the original thinking is shared there and will be improved upon here to create a better predictive model. It is recommended to have a look through that notebook before exploring this notebook. \n",
    "\n",
    "To briefly reiterate, having collected the data, wrangled it together, done exploratory data analysis, we will now be modelling the data to predict HDB prices. \n",
    "\n",
    "#### Brief Refresher on Differences Between Ridge & Lasso Regression\n",
    "Ridge and Lasso regression are both methods used in linear regression to prevent overfitting.\n",
    "\n",
    "| **Ridge Regression** | **Lasso Regression** |\n",
    "| -------- | ------- |\n",
    "|Minimizes the sum of squared residuals (like ordinary least squares) plus a penalty proportional to the sum of the squared magnitudes of the coefficients. | Also minimizes the sum of squared residuals, but with a penalty proportional to the sum of the absolute values of the coefficients. |\n",
    "|This is known as L2 regularization. | This is known as L1 regularization. |\n",
    "|Adds “squared magnitude” of coefficient as penalty term to the loss function.| Adds “absolute value of magnitude” of coefficient as penalty term to the loss function |\n",
    "|Shrinks coefficients but rarely makes them exactly zero. Thus, it does not inherently perform feature selection. | Can shrink coefficients to zero, effectively performing feature selection and removing some variables entirely.|\n",
    "|Not suited for variable selection in cases where we have a large number of features. | More useful when you want to reduce the number of features. |\n",
    "|Introduces bias into the estimates but reduces the variance, particularly useful when multicollinearity is present. | Also introduces bias but can eliminate the variance of some coefficients entirely (by setting them to zero). |\n",
    "|Better suited when the data includes many large parameters of about equal importance. | More efficient when the solution is believed to have only a few significant parameters and the goal is to identify them. |\n",
    "|Generally has unique solutions and is computationally efficient. | Can be computationally more challenging due to the absolute value in the penalty term, especially when the number of variables is very large. |\n",
    "\n",
    "To summarize, Ridge regression is good for reducing model complexity and preventing over-fitting but cannot zero out coefficients. Lasso regression is capable of reducing the number of features in your model by setting some coefficient values to zero, which can be particularly useful in model selection and interpretation."
   ]
  },
  {
   "cell_type": "markdown",
   "metadata": {},
   "source": [
    "Code from the linear regression notebook will now be copied over up to the point of modelling to allow repeatability."
   ]
  },
  {
   "cell_type": "markdown",
   "metadata": {},
   "source": [
    "#### Load Libraries"
   ]
  },
  {
   "cell_type": "code",
   "execution_count": 1,
   "metadata": {},
   "outputs": [],
   "source": [
    "# Data Manipulation\n",
    "import pandas as pd\n",
    "import numpy as np\n",
    "\n",
    "# Data Visualization\n",
    "import matplotlib.pyplot as plt\n",
    "import seaborn as sns\n",
    "import plotly.express as px\n",
    "\n",
    "# Train Test Split\n",
    "from sklearn.model_selection import train_test_split, cross_validate\n",
    "\n",
    "# Pipeline\n",
    "from sklearn.preprocessing import MinMaxScaler, OneHotEncoder, RobustScaler\n",
    "from sklearn.pipeline import make_pipeline\n",
    "from sklearn.compose import make_column_transformer\n",
    "\n",
    "# Modelling\n",
    "from sklearn.linear_model import Ridge, Lasso\n",
    "from sklearn.model_selection import RandomizedSearchCV, GridSearchCV\n",
    "from scipy.stats import uniform, loguniform\n",
    "\n",
    "# Model Evaluation\n",
    "from sklearn.metrics import mean_absolute_error, r2_score\n",
    "import scipy.stats as stats"
   ]
  },
  {
   "cell_type": "markdown",
   "metadata": {},
   "source": [
    "#### Load Data into DataFrame, Prepare Data for Pipeline, and Train Test Split"
   ]
  },
  {
   "cell_type": "code",
   "execution_count": 4,
   "metadata": {},
   "outputs": [],
   "source": [
    "# Make file path variable so that all we need is to change this if we move notebook location\n",
    "file_path = '../data/processed/final_HDB_for_model.parquet.gzip'\n",
    "\n",
    "# Read data into csv\n",
    "df = pd.read_parquet(file_path)\n",
    "\n",
    "# Rename columns for easier readability\n",
    "df.columns = df.columns.str.replace('Lime, Cement, & Fabricated Construction Materials Excl Glass & Clay Materials', 'key construction materials')\n",
    "df.columns = df.columns.str.replace('Clay Construction Materials & Refractory Construction Materials', 'other construction materials')\n",
    "\n",
    "# Put all columns to be deleted into a list\n",
    "drop_cols = ['block', 'street_name','address','sold_year_month'] + \\\n",
    "            ['GDP per capita','Personal Income m','GDPm (Current Prices)',\n",
    "             'Median Household Inc','Core inflation','ResidentPopulation',\n",
    "             'other construction materials']\n",
    "\n",
    "# Drop columns\n",
    "df = df.drop(columns=drop_cols)\n"
   ]
  },
  {
   "cell_type": "code",
   "execution_count": 3,
   "metadata": {},
   "outputs": [],
   "source": [
    "# Create lists of the categorical and numerical columns allowing them to be treated differently\n",
    "cat_cols = df.select_dtypes(include=['object']).columns\n",
    "num_cols = df.select_dtypes(include=['int64', 'float64']).columns\n",
    "\n",
    "# Create new list of numeric columns, removing resale_price from columns to scale\n",
    "num_cols_scale = list(num_cols)\n",
    "num_cols_scale.remove('resale_price')\n"
   ]
  },
  {
   "cell_type": "code",
   "execution_count": 4,
   "metadata": {},
   "outputs": [],
   "source": [
    "# Select target column\n",
    "target_col = 'resale_price'\n",
    "\n",
    "# Ready X and y\n",
    "X = df.loc[:, ~df.columns.isin([target_col])]\n",
    "y = df[target_col]\n",
    "\n",
    "# Split the data, 80-20 split with a random state included for reproducibility\n",
    "X_train, X_test, y_train, y_test = train_test_split(X,y, test_size = 0.2, random_state = 54)\n"
   ]
  },
  {
   "cell_type": "markdown",
   "metadata": {},
   "source": [
    "#### Create Preprocessing Pipeline"
   ]
  },
  {
   "cell_type": "code",
   "execution_count": 5,
   "metadata": {},
   "outputs": [
    {
     "data": {
      "text/html": [
       "<style>#sk-container-id-1 {color: black;}#sk-container-id-1 pre{padding: 0;}#sk-container-id-1 div.sk-toggleable {background-color: white;}#sk-container-id-1 label.sk-toggleable__label {cursor: pointer;display: block;width: 100%;margin-bottom: 0;padding: 0.3em;box-sizing: border-box;text-align: center;}#sk-container-id-1 label.sk-toggleable__label-arrow:before {content: \"▸\";float: left;margin-right: 0.25em;color: #696969;}#sk-container-id-1 label.sk-toggleable__label-arrow:hover:before {color: black;}#sk-container-id-1 div.sk-estimator:hover label.sk-toggleable__label-arrow:before {color: black;}#sk-container-id-1 div.sk-toggleable__content {max-height: 0;max-width: 0;overflow: hidden;text-align: left;background-color: #f0f8ff;}#sk-container-id-1 div.sk-toggleable__content pre {margin: 0.2em;color: black;border-radius: 0.25em;background-color: #f0f8ff;}#sk-container-id-1 input.sk-toggleable__control:checked~div.sk-toggleable__content {max-height: 200px;max-width: 100%;overflow: auto;}#sk-container-id-1 input.sk-toggleable__control:checked~label.sk-toggleable__label-arrow:before {content: \"▾\";}#sk-container-id-1 div.sk-estimator input.sk-toggleable__control:checked~label.sk-toggleable__label {background-color: #d4ebff;}#sk-container-id-1 div.sk-label input.sk-toggleable__control:checked~label.sk-toggleable__label {background-color: #d4ebff;}#sk-container-id-1 input.sk-hidden--visually {border: 0;clip: rect(1px 1px 1px 1px);clip: rect(1px, 1px, 1px, 1px);height: 1px;margin: -1px;overflow: hidden;padding: 0;position: absolute;width: 1px;}#sk-container-id-1 div.sk-estimator {font-family: monospace;background-color: #f0f8ff;border: 1px dotted black;border-radius: 0.25em;box-sizing: border-box;margin-bottom: 0.5em;}#sk-container-id-1 div.sk-estimator:hover {background-color: #d4ebff;}#sk-container-id-1 div.sk-parallel-item::after {content: \"\";width: 100%;border-bottom: 1px solid gray;flex-grow: 1;}#sk-container-id-1 div.sk-label:hover label.sk-toggleable__label {background-color: #d4ebff;}#sk-container-id-1 div.sk-serial::before {content: \"\";position: absolute;border-left: 1px solid gray;box-sizing: border-box;top: 0;bottom: 0;left: 50%;z-index: 0;}#sk-container-id-1 div.sk-serial {display: flex;flex-direction: column;align-items: center;background-color: white;padding-right: 0.2em;padding-left: 0.2em;position: relative;}#sk-container-id-1 div.sk-item {position: relative;z-index: 1;}#sk-container-id-1 div.sk-parallel {display: flex;align-items: stretch;justify-content: center;background-color: white;position: relative;}#sk-container-id-1 div.sk-item::before, #sk-container-id-1 div.sk-parallel-item::before {content: \"\";position: absolute;border-left: 1px solid gray;box-sizing: border-box;top: 0;bottom: 0;left: 50%;z-index: -1;}#sk-container-id-1 div.sk-parallel-item {display: flex;flex-direction: column;z-index: 1;position: relative;background-color: white;}#sk-container-id-1 div.sk-parallel-item:first-child::after {align-self: flex-end;width: 50%;}#sk-container-id-1 div.sk-parallel-item:last-child::after {align-self: flex-start;width: 50%;}#sk-container-id-1 div.sk-parallel-item:only-child::after {width: 0;}#sk-container-id-1 div.sk-dashed-wrapped {border: 1px dashed gray;margin: 0 0.4em 0.5em 0.4em;box-sizing: border-box;padding-bottom: 0.4em;background-color: white;}#sk-container-id-1 div.sk-label label {font-family: monospace;font-weight: bold;display: inline-block;line-height: 1.2em;}#sk-container-id-1 div.sk-label-container {text-align: center;}#sk-container-id-1 div.sk-container {/* jupyter's `normalize.less` sets `[hidden] { display: none; }` but bootstrap.min.css set `[hidden] { display: none !important; }` so we also need the `!important` here to be able to override the default hidden behavior on the sphinx rendered scikit-learn.org. See: https://github.com/scikit-learn/scikit-learn/issues/21755 */display: inline-block !important;position: relative;}#sk-container-id-1 div.sk-text-repr-fallback {display: none;}</style><div id=\"sk-container-id-1\" class=\"sk-top-container\"><div class=\"sk-text-repr-fallback\"><pre>ColumnTransformer(remainder=&#x27;passthrough&#x27;,\n",
       "                  transformers=[(&#x27;onehotencoder&#x27;,\n",
       "                                 OneHotEncoder(drop=&#x27;first&#x27;,\n",
       "                                               handle_unknown=&#x27;ignore&#x27;),\n",
       "                                 Index([&#x27;town&#x27;, &#x27;flat_type&#x27;, &#x27;storey_range&#x27;, &#x27;flat_model&#x27;, &#x27;most_closest_mrt&#x27;], dtype=&#x27;object&#x27;)),\n",
       "                                (&#x27;pipeline&#x27;,\n",
       "                                 Pipeline(steps=[(&#x27;robustscaler&#x27;,\n",
       "                                                  RobustScaler()),\n",
       "                                                 (&#x27;minmaxscaler&#x27;,\n",
       "                                                  MinMaxScaler())]),\n",
       "                                 [&#x27;floor_area_sqm&#x27;, &#x27;lease_commence_date&#x27;,\n",
       "                                  &#x27;sold_year&#x27;, &#x27;sold_remaining_lease&#x27;,\n",
       "                                  &#x27;max_floor_lvl&#x27;, &#x27;5 year bond yields&#x27;,\n",
       "                                  &#x27;Unemployment Rate&#x27;,\n",
       "                                  &#x27;key construction materials&#x27;,\n",
       "                                  &#x27;walking_time_mrt&#x27;,\n",
       "                                  &#x27;ResidentPopulation_Growth_Rate&#x27;])])</pre><b>In a Jupyter environment, please rerun this cell to show the HTML representation or trust the notebook. <br />On GitHub, the HTML representation is unable to render, please try loading this page with nbviewer.org.</b></div><div class=\"sk-container\" hidden><div class=\"sk-item sk-dashed-wrapped\"><div class=\"sk-label-container\"><div class=\"sk-label sk-toggleable\"><input class=\"sk-toggleable__control sk-hidden--visually\" id=\"sk-estimator-id-1\" type=\"checkbox\" ><label for=\"sk-estimator-id-1\" class=\"sk-toggleable__label sk-toggleable__label-arrow\">ColumnTransformer</label><div class=\"sk-toggleable__content\"><pre>ColumnTransformer(remainder=&#x27;passthrough&#x27;,\n",
       "                  transformers=[(&#x27;onehotencoder&#x27;,\n",
       "                                 OneHotEncoder(drop=&#x27;first&#x27;,\n",
       "                                               handle_unknown=&#x27;ignore&#x27;),\n",
       "                                 Index([&#x27;town&#x27;, &#x27;flat_type&#x27;, &#x27;storey_range&#x27;, &#x27;flat_model&#x27;, &#x27;most_closest_mrt&#x27;], dtype=&#x27;object&#x27;)),\n",
       "                                (&#x27;pipeline&#x27;,\n",
       "                                 Pipeline(steps=[(&#x27;robustscaler&#x27;,\n",
       "                                                  RobustScaler()),\n",
       "                                                 (&#x27;minmaxscaler&#x27;,\n",
       "                                                  MinMaxScaler())]),\n",
       "                                 [&#x27;floor_area_sqm&#x27;, &#x27;lease_commence_date&#x27;,\n",
       "                                  &#x27;sold_year&#x27;, &#x27;sold_remaining_lease&#x27;,\n",
       "                                  &#x27;max_floor_lvl&#x27;, &#x27;5 year bond yields&#x27;,\n",
       "                                  &#x27;Unemployment Rate&#x27;,\n",
       "                                  &#x27;key construction materials&#x27;,\n",
       "                                  &#x27;walking_time_mrt&#x27;,\n",
       "                                  &#x27;ResidentPopulation_Growth_Rate&#x27;])])</pre></div></div></div><div class=\"sk-parallel\"><div class=\"sk-parallel-item\"><div class=\"sk-item\"><div class=\"sk-label-container\"><div class=\"sk-label sk-toggleable\"><input class=\"sk-toggleable__control sk-hidden--visually\" id=\"sk-estimator-id-2\" type=\"checkbox\" ><label for=\"sk-estimator-id-2\" class=\"sk-toggleable__label sk-toggleable__label-arrow\">onehotencoder</label><div class=\"sk-toggleable__content\"><pre>Index([&#x27;town&#x27;, &#x27;flat_type&#x27;, &#x27;storey_range&#x27;, &#x27;flat_model&#x27;, &#x27;most_closest_mrt&#x27;], dtype=&#x27;object&#x27;)</pre></div></div></div><div class=\"sk-serial\"><div class=\"sk-item\"><div class=\"sk-estimator sk-toggleable\"><input class=\"sk-toggleable__control sk-hidden--visually\" id=\"sk-estimator-id-3\" type=\"checkbox\" ><label for=\"sk-estimator-id-3\" class=\"sk-toggleable__label sk-toggleable__label-arrow\">OneHotEncoder</label><div class=\"sk-toggleable__content\"><pre>OneHotEncoder(drop=&#x27;first&#x27;, handle_unknown=&#x27;ignore&#x27;)</pre></div></div></div></div></div></div><div class=\"sk-parallel-item\"><div class=\"sk-item\"><div class=\"sk-label-container\"><div class=\"sk-label sk-toggleable\"><input class=\"sk-toggleable__control sk-hidden--visually\" id=\"sk-estimator-id-4\" type=\"checkbox\" ><label for=\"sk-estimator-id-4\" class=\"sk-toggleable__label sk-toggleable__label-arrow\">pipeline</label><div class=\"sk-toggleable__content\"><pre>[&#x27;floor_area_sqm&#x27;, &#x27;lease_commence_date&#x27;, &#x27;sold_year&#x27;, &#x27;sold_remaining_lease&#x27;, &#x27;max_floor_lvl&#x27;, &#x27;5 year bond yields&#x27;, &#x27;Unemployment Rate&#x27;, &#x27;key construction materials&#x27;, &#x27;walking_time_mrt&#x27;, &#x27;ResidentPopulation_Growth_Rate&#x27;]</pre></div></div></div><div class=\"sk-serial\"><div class=\"sk-item\"><div class=\"sk-serial\"><div class=\"sk-item\"><div class=\"sk-estimator sk-toggleable\"><input class=\"sk-toggleable__control sk-hidden--visually\" id=\"sk-estimator-id-5\" type=\"checkbox\" ><label for=\"sk-estimator-id-5\" class=\"sk-toggleable__label sk-toggleable__label-arrow\">RobustScaler</label><div class=\"sk-toggleable__content\"><pre>RobustScaler()</pre></div></div></div><div class=\"sk-item\"><div class=\"sk-estimator sk-toggleable\"><input class=\"sk-toggleable__control sk-hidden--visually\" id=\"sk-estimator-id-6\" type=\"checkbox\" ><label for=\"sk-estimator-id-6\" class=\"sk-toggleable__label sk-toggleable__label-arrow\">MinMaxScaler</label><div class=\"sk-toggleable__content\"><pre>MinMaxScaler()</pre></div></div></div></div></div></div></div></div><div class=\"sk-parallel-item\"><div class=\"sk-item\"><div class=\"sk-label-container\"><div class=\"sk-label sk-toggleable\"><input class=\"sk-toggleable__control sk-hidden--visually\" id=\"sk-estimator-id-7\" type=\"checkbox\" ><label for=\"sk-estimator-id-7\" class=\"sk-toggleable__label sk-toggleable__label-arrow\">remainder</label><div class=\"sk-toggleable__content\"><pre></pre></div></div></div><div class=\"sk-serial\"><div class=\"sk-item\"><div class=\"sk-estimator sk-toggleable\"><input class=\"sk-toggleable__control sk-hidden--visually\" id=\"sk-estimator-id-8\" type=\"checkbox\" ><label for=\"sk-estimator-id-8\" class=\"sk-toggleable__label sk-toggleable__label-arrow\">passthrough</label><div class=\"sk-toggleable__content\"><pre>passthrough</pre></div></div></div></div></div></div></div></div></div></div>"
      ],
      "text/plain": [
       "ColumnTransformer(remainder='passthrough',\n",
       "                  transformers=[('onehotencoder',\n",
       "                                 OneHotEncoder(drop='first',\n",
       "                                               handle_unknown='ignore'),\n",
       "                                 Index(['town', 'flat_type', 'storey_range', 'flat_model', 'most_closest_mrt'], dtype='object')),\n",
       "                                ('pipeline',\n",
       "                                 Pipeline(steps=[('robustscaler',\n",
       "                                                  RobustScaler()),\n",
       "                                                 ('minmaxscaler',\n",
       "                                                  MinMaxScaler())]),\n",
       "                                 ['floor_area_sqm', 'lease_commence_date',\n",
       "                                  'sold_year', 'sold_remaining_lease',\n",
       "                                  'max_floor_lvl', '5 year bond yields',\n",
       "                                  'Unemployment Rate',\n",
       "                                  'key construction materials',\n",
       "                                  'walking_time_mrt',\n",
       "                                  'ResidentPopulation_Growth_Rate'])])"
      ]
     },
     "execution_count": 5,
     "metadata": {},
     "output_type": "execute_result"
    }
   ],
   "source": [
    "# Create instances of OneHotEncoder\n",
    "cat_transformer = OneHotEncoder(drop='first', handle_unknown='ignore')\n",
    "\n",
    "# Create pipeline of two scalers for numeric data\n",
    "num_transformer = make_pipeline(RobustScaler(), MinMaxScaler())\n",
    "\n",
    "# Create a final to apply transformations to subsets of columns\n",
    "prepoc = make_column_transformer(\n",
    "    (cat_transformer, cat_cols),\n",
    "    (num_transformer, num_cols_scale),\n",
    "    remainder = 'passthrough'\n",
    ")\n",
    "\n",
    "# View Pipeline\n",
    "prepoc"
   ]
  },
  {
   "cell_type": "code",
   "execution_count": 6,
   "metadata": {},
   "outputs": [
    {
     "name": "stdout",
     "output_type": "stream",
     "text": [
      "Number of columns originally: 15\n",
      "Number of columns after preprocessing: 183\n"
     ]
    }
   ],
   "source": [
    "# Process X & y with pipeline\n",
    "X_train_processed = prepoc.fit_transform(X_train)\n",
    "X_test_processed = prepoc.transform(X_test)\n",
    "\n",
    "# Check to see if it worked\n",
    "print(\"Number of columns originally:\", X.shape[1])\n",
    "print(\"Number of columns after preprocessing:\",X_train_processed.shape[1])"
   ]
  },
  {
   "cell_type": "markdown",
   "metadata": {},
   "source": [
    "### Creating a Ridge Regression Model & Evaluation "
   ]
  },
  {
   "cell_type": "code",
   "execution_count": 7,
   "metadata": {},
   "outputs": [
    {
     "data": {
      "text/plain": [
       "{'fit_time': array([2.56644011, 2.74671292, 2.63409185, 2.71825194, 2.64139485]),\n",
       " 'score_time': array([0.0036509 , 0.00365281, 0.00300694, 0.00271106, 0.00328016]),\n",
       " 'test_r2': array([0.8738275 , 0.87276868, 0.87345216, 0.87276727, 0.87286833]),\n",
       " 'test_neg_mean_absolute_error': array([-44789.76482433, -45089.68931652, -44867.45881518, -44962.34895703,\n",
       "        -44976.10572063])}"
      ]
     },
     "execution_count": 7,
     "metadata": {},
     "output_type": "execute_result"
    }
   ],
   "source": [
    "# Instantiate the model\n",
    "base_ridge_model = Ridge()\n",
    "\n",
    "# Define multiple scoring metrics\n",
    "scoring = ['r2', 'neg_mean_absolute_error']\n",
    "\n",
    "# Get the cross validation scores\n",
    "scores = cross_validate(base_ridge_model, X_train_processed, y_train, cv=5, scoring=scoring, return_train_score=False)\n",
    "\n",
    "# View scores dictionary\n",
    "scores"
   ]
  },
  {
   "cell_type": "code",
   "execution_count": 8,
   "metadata": {},
   "outputs": [
    {
     "name": "stdout",
     "output_type": "stream",
     "text": [
      "Training r2 score = 0.87\n",
      "Training Mean Absolute Error = 44937.07\n"
     ]
    }
   ],
   "source": [
    "# Get rounded scores stored in variables\n",
    "train_base_r2_mean = round(scores['test_r2'].mean(), 2)\n",
    "train_base_mae_mean = round(-(scores['test_neg_mean_absolute_error'].mean()),2)\n",
    "\n",
    "# Print scores to assess\n",
    "print(\"Training r2 score =\", train_base_r2_mean)\n",
    "print(\"Training Mean Absolute Error =\", train_base_mae_mean)"
   ]
  },
  {
   "cell_type": "markdown",
   "metadata": {},
   "source": [
    "**Training R-squared (R²) Score = 0.87:**\n",
    " - R-squared is a statistical measure that represents the proportion of the variance for the dependent variable that's explained by the independent variables in a regression model.\n",
    " - In general, a higher R² indicates a better fit of the model to the data.\n",
    " - An R² score of 0.87 suggests that 87% of the variability in the HDB price can be explained by the model. \n",
    " - An R² score of 0.87 is typically considered high, indicating that the model explains a large proportion of the variance in the outcome variable.\n",
    " - However, it's important to note that a high R² does not necessarily mean the model is good. It doesn't indicate whether the model is appropriate, nor does it imply that the predictions are accurate.\n",
    "\n",
    "**Training Mean Absolute Error (MAE) = 44937.07:**\n",
    "\n",
    " - Mean Absolute Error (MAE) gives an average of the absolute errors between the predicted values and the actual values without considering the direction (i.e., over or under-predicting).\n",
    " - It's a common measure of forecast error in regression analysis.\n",
    " - A MAE of $44937.07 means that, on average, the predictions of the model are off by $44937.07.\n",
    " - The magnitude of the MAE needs to be considered in the context of the scale of the dependent variable - HDB prices. For some datasets, an MAE of 44937.07 might be very small, while for oth0ers, it might be considered large. Since HDBs cost on average $500K, having a MAE of ~$50K(rounded up) means the model's output for HDB prices is off by 10% on average. "
   ]
  },
  {
   "cell_type": "code",
   "execution_count": 46,
   "metadata": {},
   "outputs": [
    {
     "data": {
      "text/html": [
       "<style>#sk-container-id-8 {color: black;}#sk-container-id-8 pre{padding: 0;}#sk-container-id-8 div.sk-toggleable {background-color: white;}#sk-container-id-8 label.sk-toggleable__label {cursor: pointer;display: block;width: 100%;margin-bottom: 0;padding: 0.3em;box-sizing: border-box;text-align: center;}#sk-container-id-8 label.sk-toggleable__label-arrow:before {content: \"▸\";float: left;margin-right: 0.25em;color: #696969;}#sk-container-id-8 label.sk-toggleable__label-arrow:hover:before {color: black;}#sk-container-id-8 div.sk-estimator:hover label.sk-toggleable__label-arrow:before {color: black;}#sk-container-id-8 div.sk-toggleable__content {max-height: 0;max-width: 0;overflow: hidden;text-align: left;background-color: #f0f8ff;}#sk-container-id-8 div.sk-toggleable__content pre {margin: 0.2em;color: black;border-radius: 0.25em;background-color: #f0f8ff;}#sk-container-id-8 input.sk-toggleable__control:checked~div.sk-toggleable__content {max-height: 200px;max-width: 100%;overflow: auto;}#sk-container-id-8 input.sk-toggleable__control:checked~label.sk-toggleable__label-arrow:before {content: \"▾\";}#sk-container-id-8 div.sk-estimator input.sk-toggleable__control:checked~label.sk-toggleable__label {background-color: #d4ebff;}#sk-container-id-8 div.sk-label input.sk-toggleable__control:checked~label.sk-toggleable__label {background-color: #d4ebff;}#sk-container-id-8 input.sk-hidden--visually {border: 0;clip: rect(1px 1px 1px 1px);clip: rect(1px, 1px, 1px, 1px);height: 1px;margin: -1px;overflow: hidden;padding: 0;position: absolute;width: 1px;}#sk-container-id-8 div.sk-estimator {font-family: monospace;background-color: #f0f8ff;border: 1px dotted black;border-radius: 0.25em;box-sizing: border-box;margin-bottom: 0.5em;}#sk-container-id-8 div.sk-estimator:hover {background-color: #d4ebff;}#sk-container-id-8 div.sk-parallel-item::after {content: \"\";width: 100%;border-bottom: 1px solid gray;flex-grow: 1;}#sk-container-id-8 div.sk-label:hover label.sk-toggleable__label {background-color: #d4ebff;}#sk-container-id-8 div.sk-serial::before {content: \"\";position: absolute;border-left: 1px solid gray;box-sizing: border-box;top: 0;bottom: 0;left: 50%;z-index: 0;}#sk-container-id-8 div.sk-serial {display: flex;flex-direction: column;align-items: center;background-color: white;padding-right: 0.2em;padding-left: 0.2em;position: relative;}#sk-container-id-8 div.sk-item {position: relative;z-index: 1;}#sk-container-id-8 div.sk-parallel {display: flex;align-items: stretch;justify-content: center;background-color: white;position: relative;}#sk-container-id-8 div.sk-item::before, #sk-container-id-8 div.sk-parallel-item::before {content: \"\";position: absolute;border-left: 1px solid gray;box-sizing: border-box;top: 0;bottom: 0;left: 50%;z-index: -1;}#sk-container-id-8 div.sk-parallel-item {display: flex;flex-direction: column;z-index: 1;position: relative;background-color: white;}#sk-container-id-8 div.sk-parallel-item:first-child::after {align-self: flex-end;width: 50%;}#sk-container-id-8 div.sk-parallel-item:last-child::after {align-self: flex-start;width: 50%;}#sk-container-id-8 div.sk-parallel-item:only-child::after {width: 0;}#sk-container-id-8 div.sk-dashed-wrapped {border: 1px dashed gray;margin: 0 0.4em 0.5em 0.4em;box-sizing: border-box;padding-bottom: 0.4em;background-color: white;}#sk-container-id-8 div.sk-label label {font-family: monospace;font-weight: bold;display: inline-block;line-height: 1.2em;}#sk-container-id-8 div.sk-label-container {text-align: center;}#sk-container-id-8 div.sk-container {/* jupyter's `normalize.less` sets `[hidden] { display: none; }` but bootstrap.min.css set `[hidden] { display: none !important; }` so we also need the `!important` here to be able to override the default hidden behavior on the sphinx rendered scikit-learn.org. See: https://github.com/scikit-learn/scikit-learn/issues/21755 */display: inline-block !important;position: relative;}#sk-container-id-8 div.sk-text-repr-fallback {display: none;}</style><div id=\"sk-container-id-8\" class=\"sk-top-container\"><div class=\"sk-text-repr-fallback\"><pre>Ridge()</pre><b>In a Jupyter environment, please rerun this cell to show the HTML representation or trust the notebook. <br />On GitHub, the HTML representation is unable to render, please try loading this page with nbviewer.org.</b></div><div class=\"sk-container\" hidden><div class=\"sk-item\"><div class=\"sk-estimator sk-toggleable\"><input class=\"sk-toggleable__control sk-hidden--visually\" id=\"sk-estimator-id-19\" type=\"checkbox\" checked><label for=\"sk-estimator-id-19\" class=\"sk-toggleable__label sk-toggleable__label-arrow\">Ridge</label><div class=\"sk-toggleable__content\"><pre>Ridge()</pre></div></div></div></div></div>"
      ],
      "text/plain": [
       "Ridge()"
      ]
     },
     "execution_count": 46,
     "metadata": {},
     "output_type": "execute_result"
    }
   ],
   "source": [
    "# Fitting model on data.\n",
    "base_ridge_model.fit(X_train_processed, y_train)\n"
   ]
  },
  {
   "cell_type": "code",
   "execution_count": 10,
   "metadata": {},
   "outputs": [
    {
     "name": "stdout",
     "output_type": "stream",
     "text": [
      "Testing r2 score = 0.87\n",
      "Testing Mean Absolute Error = 44806.75\n"
     ]
    }
   ],
   "source": [
    "# Predict y with fitted model\n",
    "y_pred = base_ridge_model.predict(X_test_processed)\n",
    "\n",
    "# results\n",
    "test_base_mae_mean = round(mean_absolute_error(y_test, y_pred),2)\n",
    "test_base_r2_mean = round(r2_score(y_test, y_pred),2)\n",
    "\n",
    "print(\"Testing r2 score =\", test_base_r2_mean)\n",
    "print(\"Testing Mean Absolute Error =\", test_base_mae_mean)"
   ]
  },
  {
   "cell_type": "markdown",
   "metadata": {},
   "source": [
    "**Testing R-squared (R²) Score = 0.87:**\n",
    "- An R² of 0.87 for the testing set is also high, suggesting that the model has generalized well to new data. \n",
    "- It's particularly notable when the testing R² is close to the training R², as it indicates consistency in performance. \n",
    "\n",
    "**Testing Mean Absolute Error (MAE) = 44806.75:**\n",
    " - The testing MAE being slightly lower than the training MAE (44806.75 vs. 44937.07) is a positive sign. \n",
    " - It suggests that the model is not overfitting and is performing slightly better or at least as well on unseen data compared to the training data.\n",
    "\n",
    "**Comments on Scores:**\n",
    "\n",
    " Overall, these metrics indicate a model that performs consistently on both training and testing data, with a high R² suggesting good explanatory power and a MAE providing insight into the average prediction error. The similarity between training and testing scores is a good sign, indicating that the model has generalized well and is not just fitting to the peculiarities of the training data."
   ]
  },
  {
   "cell_type": "markdown",
   "metadata": {},
   "source": [
    "#### Taking a look at the Feature Coefficients"
   ]
  },
  {
   "cell_type": "code",
   "execution_count": 11,
   "metadata": {},
   "outputs": [
    {
     "data": {
      "text/html": [
       "<div>\n",
       "<style scoped>\n",
       "    .dataframe tbody tr th:only-of-type {\n",
       "        vertical-align: middle;\n",
       "    }\n",
       "\n",
       "    .dataframe tbody tr th {\n",
       "        vertical-align: top;\n",
       "    }\n",
       "\n",
       "    .dataframe thead th {\n",
       "        text-align: right;\n",
       "    }\n",
       "</style>\n",
       "<table border=\"1\" class=\"dataframe\">\n",
       "  <thead>\n",
       "    <tr style=\"text-align: right;\">\n",
       "      <th></th>\n",
       "      <th>Feature</th>\n",
       "      <th>Coefficient</th>\n",
       "    </tr>\n",
       "  </thead>\n",
       "  <tbody>\n",
       "    <tr>\n",
       "      <th>173</th>\n",
       "      <td>pipeline__floor_area_sqm</td>\n",
       "      <td>584270.151926</td>\n",
       "    </tr>\n",
       "    <tr>\n",
       "      <th>96</th>\n",
       "      <td>onehotencoder__most_closest_mrt_CHANGI AIRPORT</td>\n",
       "      <td>362780.291468</td>\n",
       "    </tr>\n",
       "    <tr>\n",
       "      <th>111</th>\n",
       "      <td>onehotencoder__most_closest_mrt_HAVELOCK</td>\n",
       "      <td>321914.519565</td>\n",
       "    </tr>\n",
       "    <tr>\n",
       "      <th>75</th>\n",
       "      <td>onehotencoder__most_closest_mrt_BEAUTY WORLD</td>\n",
       "      <td>305992.464216</td>\n",
       "    </tr>\n",
       "    <tr>\n",
       "      <th>175</th>\n",
       "      <td>pipeline__sold_year</td>\n",
       "      <td>305281.652975</td>\n",
       "    </tr>\n",
       "    <tr>\n",
       "      <th>86</th>\n",
       "      <td>onehotencoder__most_closest_mrt_BRAS BASAH</td>\n",
       "      <td>281789.592973</td>\n",
       "    </tr>\n",
       "    <tr>\n",
       "      <th>181</th>\n",
       "      <td>pipeline__walking_time_mrt</td>\n",
       "      <td>-264765.170382</td>\n",
       "    </tr>\n",
       "    <tr>\n",
       "      <th>71</th>\n",
       "      <td>onehotencoder__flat_model_Type S2</td>\n",
       "      <td>248601.241096</td>\n",
       "    </tr>\n",
       "    <tr>\n",
       "      <th>123</th>\n",
       "      <td>onehotencoder__most_closest_mrt_LABRADOR PARK</td>\n",
       "      <td>239887.715280</td>\n",
       "    </tr>\n",
       "    <tr>\n",
       "      <th>69</th>\n",
       "      <td>onehotencoder__flat_model_Terrace</td>\n",
       "      <td>234835.342512</td>\n",
       "    </tr>\n",
       "    <tr>\n",
       "      <th>54</th>\n",
       "      <td>onehotencoder__storey_range_49 TO 51</td>\n",
       "      <td>230842.607710</td>\n",
       "    </tr>\n",
       "    <tr>\n",
       "      <th>113</th>\n",
       "      <td>onehotencoder__most_closest_mrt_HOLLAND VILLAGE</td>\n",
       "      <td>211754.973330</td>\n",
       "    </tr>\n",
       "    <tr>\n",
       "      <th>160</th>\n",
       "      <td>onehotencoder__most_closest_mrt_TELOK BLANGAH</td>\n",
       "      <td>210694.237586</td>\n",
       "    </tr>\n",
       "    <tr>\n",
       "      <th>52</th>\n",
       "      <td>onehotencoder__storey_range_43 TO 45</td>\n",
       "      <td>210531.099370</td>\n",
       "    </tr>\n",
       "    <tr>\n",
       "      <th>133</th>\n",
       "      <td>onehotencoder__most_closest_mrt_MAXWELL</td>\n",
       "      <td>207760.482349</td>\n",
       "    </tr>\n",
       "  </tbody>\n",
       "</table>\n",
       "</div>"
      ],
      "text/plain": [
       "                                             Feature    Coefficient\n",
       "173                         pipeline__floor_area_sqm  584270.151926\n",
       "96    onehotencoder__most_closest_mrt_CHANGI AIRPORT  362780.291468\n",
       "111         onehotencoder__most_closest_mrt_HAVELOCK  321914.519565\n",
       "75      onehotencoder__most_closest_mrt_BEAUTY WORLD  305992.464216\n",
       "175                              pipeline__sold_year  305281.652975\n",
       "86        onehotencoder__most_closest_mrt_BRAS BASAH  281789.592973\n",
       "181                       pipeline__walking_time_mrt -264765.170382\n",
       "71                 onehotencoder__flat_model_Type S2  248601.241096\n",
       "123    onehotencoder__most_closest_mrt_LABRADOR PARK  239887.715280\n",
       "69                 onehotencoder__flat_model_Terrace  234835.342512\n",
       "54              onehotencoder__storey_range_49 TO 51  230842.607710\n",
       "113  onehotencoder__most_closest_mrt_HOLLAND VILLAGE  211754.973330\n",
       "160    onehotencoder__most_closest_mrt_TELOK BLANGAH  210694.237586\n",
       "52              onehotencoder__storey_range_43 TO 45  210531.099370\n",
       "133          onehotencoder__most_closest_mrt_MAXWELL  207760.482349"
      ]
     },
     "execution_count": 11,
     "metadata": {},
     "output_type": "execute_result"
    }
   ],
   "source": [
    "# To Get importance of features in a DF:\n",
    "# Get feature names\n",
    "feature_names = prepoc.get_feature_names_out()\n",
    "\n",
    "# Get coefficients\n",
    "coefficients = base_ridge_model.coef_\n",
    "\n",
    "# Create empty Dictionary\n",
    "feature_coefficients = {}\n",
    "\n",
    "# For loop to print coefficient and put them into dict\n",
    "for feature, coef in zip(feature_names, coefficients):\n",
    "    #print(f\"{feature}: {coef}\")\n",
    "    feature_coefficients[feature] = coef\n",
    "\n",
    "# Include intercept in the dict\n",
    "#print(f\"intercept: {base_ridge_model.intercept_}\")\n",
    "feature_coefficients[\"intercept\"] = base_ridge_model.intercept_\n",
    "\n",
    "# Converting to DataFrame\n",
    "feature_coefficients_df = pd.DataFrame(list(feature_coefficients.items()), columns=['Feature', 'Coefficient'])\n",
    "\n",
    "# Sorting the DataFrame by the absolute values of the 'Coefficient' column\n",
    "feature_coefficients_df = feature_coefficients_df.sort_values(by='Coefficient', key=abs, ascending=False)\n",
    "\n",
    "# Show top 15\n",
    "feature_coefficients_df.head(15)"
   ]
  },
  {
   "cell_type": "markdown",
   "metadata": {},
   "source": [
    "**Comments**\n",
    "\n",
    "Model seems to make sense, as floor_area_sqm is the single strongest predictor of price, followed by the closest MRT station to the HDB, the year it was sold, and walking times to the closest MRT. "
   ]
  },
  {
   "cell_type": "markdown",
   "metadata": {},
   "source": [
    "#### Improving Model by Including Model Hyperparameter Tuning"
   ]
  },
  {
   "cell_type": "code",
   "execution_count": 12,
   "metadata": {},
   "outputs": [
    {
     "data": {
      "text/html": [
       "<style>#sk-container-id-3 {color: black;}#sk-container-id-3 pre{padding: 0;}#sk-container-id-3 div.sk-toggleable {background-color: white;}#sk-container-id-3 label.sk-toggleable__label {cursor: pointer;display: block;width: 100%;margin-bottom: 0;padding: 0.3em;box-sizing: border-box;text-align: center;}#sk-container-id-3 label.sk-toggleable__label-arrow:before {content: \"▸\";float: left;margin-right: 0.25em;color: #696969;}#sk-container-id-3 label.sk-toggleable__label-arrow:hover:before {color: black;}#sk-container-id-3 div.sk-estimator:hover label.sk-toggleable__label-arrow:before {color: black;}#sk-container-id-3 div.sk-toggleable__content {max-height: 0;max-width: 0;overflow: hidden;text-align: left;background-color: #f0f8ff;}#sk-container-id-3 div.sk-toggleable__content pre {margin: 0.2em;color: black;border-radius: 0.25em;background-color: #f0f8ff;}#sk-container-id-3 input.sk-toggleable__control:checked~div.sk-toggleable__content {max-height: 200px;max-width: 100%;overflow: auto;}#sk-container-id-3 input.sk-toggleable__control:checked~label.sk-toggleable__label-arrow:before {content: \"▾\";}#sk-container-id-3 div.sk-estimator input.sk-toggleable__control:checked~label.sk-toggleable__label {background-color: #d4ebff;}#sk-container-id-3 div.sk-label input.sk-toggleable__control:checked~label.sk-toggleable__label {background-color: #d4ebff;}#sk-container-id-3 input.sk-hidden--visually {border: 0;clip: rect(1px 1px 1px 1px);clip: rect(1px, 1px, 1px, 1px);height: 1px;margin: -1px;overflow: hidden;padding: 0;position: absolute;width: 1px;}#sk-container-id-3 div.sk-estimator {font-family: monospace;background-color: #f0f8ff;border: 1px dotted black;border-radius: 0.25em;box-sizing: border-box;margin-bottom: 0.5em;}#sk-container-id-3 div.sk-estimator:hover {background-color: #d4ebff;}#sk-container-id-3 div.sk-parallel-item::after {content: \"\";width: 100%;border-bottom: 1px solid gray;flex-grow: 1;}#sk-container-id-3 div.sk-label:hover label.sk-toggleable__label {background-color: #d4ebff;}#sk-container-id-3 div.sk-serial::before {content: \"\";position: absolute;border-left: 1px solid gray;box-sizing: border-box;top: 0;bottom: 0;left: 50%;z-index: 0;}#sk-container-id-3 div.sk-serial {display: flex;flex-direction: column;align-items: center;background-color: white;padding-right: 0.2em;padding-left: 0.2em;position: relative;}#sk-container-id-3 div.sk-item {position: relative;z-index: 1;}#sk-container-id-3 div.sk-parallel {display: flex;align-items: stretch;justify-content: center;background-color: white;position: relative;}#sk-container-id-3 div.sk-item::before, #sk-container-id-3 div.sk-parallel-item::before {content: \"\";position: absolute;border-left: 1px solid gray;box-sizing: border-box;top: 0;bottom: 0;left: 50%;z-index: -1;}#sk-container-id-3 div.sk-parallel-item {display: flex;flex-direction: column;z-index: 1;position: relative;background-color: white;}#sk-container-id-3 div.sk-parallel-item:first-child::after {align-self: flex-end;width: 50%;}#sk-container-id-3 div.sk-parallel-item:last-child::after {align-self: flex-start;width: 50%;}#sk-container-id-3 div.sk-parallel-item:only-child::after {width: 0;}#sk-container-id-3 div.sk-dashed-wrapped {border: 1px dashed gray;margin: 0 0.4em 0.5em 0.4em;box-sizing: border-box;padding-bottom: 0.4em;background-color: white;}#sk-container-id-3 div.sk-label label {font-family: monospace;font-weight: bold;display: inline-block;line-height: 1.2em;}#sk-container-id-3 div.sk-label-container {text-align: center;}#sk-container-id-3 div.sk-container {/* jupyter's `normalize.less` sets `[hidden] { display: none; }` but bootstrap.min.css set `[hidden] { display: none !important; }` so we also need the `!important` here to be able to override the default hidden behavior on the sphinx rendered scikit-learn.org. See: https://github.com/scikit-learn/scikit-learn/issues/21755 */display: inline-block !important;position: relative;}#sk-container-id-3 div.sk-text-repr-fallback {display: none;}</style><div id=\"sk-container-id-3\" class=\"sk-top-container\"><div class=\"sk-text-repr-fallback\"><pre>RandomizedSearchCV(cv=5, estimator=Ridge(), n_iter=100, n_jobs=-1,\n",
       "                   param_distributions={&#x27;alpha&#x27;: &lt;scipy.stats._distn_infrastructure.rv_continuous_frozen object at 0x16689a7d0&gt;,\n",
       "                                        &#x27;solver&#x27;: [&#x27;lsqr&#x27;]},\n",
       "                   random_state=108, scoring=&#x27;r2&#x27;)</pre><b>In a Jupyter environment, please rerun this cell to show the HTML representation or trust the notebook. <br />On GitHub, the HTML representation is unable to render, please try loading this page with nbviewer.org.</b></div><div class=\"sk-container\" hidden><div class=\"sk-item sk-dashed-wrapped\"><div class=\"sk-label-container\"><div class=\"sk-label sk-toggleable\"><input class=\"sk-toggleable__control sk-hidden--visually\" id=\"sk-estimator-id-10\" type=\"checkbox\" ><label for=\"sk-estimator-id-10\" class=\"sk-toggleable__label sk-toggleable__label-arrow\">RandomizedSearchCV</label><div class=\"sk-toggleable__content\"><pre>RandomizedSearchCV(cv=5, estimator=Ridge(), n_iter=100, n_jobs=-1,\n",
       "                   param_distributions={&#x27;alpha&#x27;: &lt;scipy.stats._distn_infrastructure.rv_continuous_frozen object at 0x16689a7d0&gt;,\n",
       "                                        &#x27;solver&#x27;: [&#x27;lsqr&#x27;]},\n",
       "                   random_state=108, scoring=&#x27;r2&#x27;)</pre></div></div></div><div class=\"sk-parallel\"><div class=\"sk-parallel-item\"><div class=\"sk-item\"><div class=\"sk-label-container\"><div class=\"sk-label sk-toggleable\"><input class=\"sk-toggleable__control sk-hidden--visually\" id=\"sk-estimator-id-11\" type=\"checkbox\" ><label for=\"sk-estimator-id-11\" class=\"sk-toggleable__label sk-toggleable__label-arrow\">estimator: Ridge</label><div class=\"sk-toggleable__content\"><pre>Ridge()</pre></div></div></div><div class=\"sk-serial\"><div class=\"sk-item\"><div class=\"sk-estimator sk-toggleable\"><input class=\"sk-toggleable__control sk-hidden--visually\" id=\"sk-estimator-id-12\" type=\"checkbox\" ><label for=\"sk-estimator-id-12\" class=\"sk-toggleable__label sk-toggleable__label-arrow\">Ridge</label><div class=\"sk-toggleable__content\"><pre>Ridge()</pre></div></div></div></div></div></div></div></div></div></div>"
      ],
      "text/plain": [
       "RandomizedSearchCV(cv=5, estimator=Ridge(), n_iter=100, n_jobs=-1,\n",
       "                   param_distributions={'alpha': <scipy.stats._distn_infrastructure.rv_continuous_frozen object at 0x16689a7d0>,\n",
       "                                        'solver': ['lsqr']},\n",
       "                   random_state=108, scoring='r2')"
      ]
     },
     "execution_count": 12,
     "metadata": {},
     "output_type": "execute_result"
    }
   ],
   "source": [
    "# Define the model\n",
    "base_ridge_model = Ridge()\n",
    "\n",
    "# Define a distribution to sample the alpha parameter\n",
    "params = {\n",
    "    'alpha': uniform(0.1, 1), # This samples alpha uniformly between 0.1 and 1000\n",
    "    'solver': ['lsqr']\n",
    "}\n",
    "\n",
    "# Setup the random search with 5-fold cross-validation\n",
    "ridge_random_search = RandomizedSearchCV(estimator=base_ridge_model,\n",
    "                                         param_distributions=params,\n",
    "                                         n_iter=100, # Number of parameter settings sampled\n",
    "                                         scoring='r2', # or another relevant scoring method\n",
    "                                         cv=5, # Number of folds in cross-validation\n",
    "                                         random_state=108, # Seed for reproducibility\n",
    "                                         n_jobs=-1) # Use all available cores\n",
    "\n",
    "# Search and fit model\n",
    "ridge_random_search.fit(X_train_processed, y_train)"
   ]
  },
  {
   "cell_type": "code",
   "execution_count": 13,
   "metadata": {},
   "outputs": [
    {
     "name": "stdout",
     "output_type": "stream",
     "text": [
      "{'alpha': 0.20660549017777122, 'solver': 'lsqr'}\n"
     ]
    },
    {
     "data": {
      "text/html": [
       "<style>#sk-container-id-4 {color: black;}#sk-container-id-4 pre{padding: 0;}#sk-container-id-4 div.sk-toggleable {background-color: white;}#sk-container-id-4 label.sk-toggleable__label {cursor: pointer;display: block;width: 100%;margin-bottom: 0;padding: 0.3em;box-sizing: border-box;text-align: center;}#sk-container-id-4 label.sk-toggleable__label-arrow:before {content: \"▸\";float: left;margin-right: 0.25em;color: #696969;}#sk-container-id-4 label.sk-toggleable__label-arrow:hover:before {color: black;}#sk-container-id-4 div.sk-estimator:hover label.sk-toggleable__label-arrow:before {color: black;}#sk-container-id-4 div.sk-toggleable__content {max-height: 0;max-width: 0;overflow: hidden;text-align: left;background-color: #f0f8ff;}#sk-container-id-4 div.sk-toggleable__content pre {margin: 0.2em;color: black;border-radius: 0.25em;background-color: #f0f8ff;}#sk-container-id-4 input.sk-toggleable__control:checked~div.sk-toggleable__content {max-height: 200px;max-width: 100%;overflow: auto;}#sk-container-id-4 input.sk-toggleable__control:checked~label.sk-toggleable__label-arrow:before {content: \"▾\";}#sk-container-id-4 div.sk-estimator input.sk-toggleable__control:checked~label.sk-toggleable__label {background-color: #d4ebff;}#sk-container-id-4 div.sk-label input.sk-toggleable__control:checked~label.sk-toggleable__label {background-color: #d4ebff;}#sk-container-id-4 input.sk-hidden--visually {border: 0;clip: rect(1px 1px 1px 1px);clip: rect(1px, 1px, 1px, 1px);height: 1px;margin: -1px;overflow: hidden;padding: 0;position: absolute;width: 1px;}#sk-container-id-4 div.sk-estimator {font-family: monospace;background-color: #f0f8ff;border: 1px dotted black;border-radius: 0.25em;box-sizing: border-box;margin-bottom: 0.5em;}#sk-container-id-4 div.sk-estimator:hover {background-color: #d4ebff;}#sk-container-id-4 div.sk-parallel-item::after {content: \"\";width: 100%;border-bottom: 1px solid gray;flex-grow: 1;}#sk-container-id-4 div.sk-label:hover label.sk-toggleable__label {background-color: #d4ebff;}#sk-container-id-4 div.sk-serial::before {content: \"\";position: absolute;border-left: 1px solid gray;box-sizing: border-box;top: 0;bottom: 0;left: 50%;z-index: 0;}#sk-container-id-4 div.sk-serial {display: flex;flex-direction: column;align-items: center;background-color: white;padding-right: 0.2em;padding-left: 0.2em;position: relative;}#sk-container-id-4 div.sk-item {position: relative;z-index: 1;}#sk-container-id-4 div.sk-parallel {display: flex;align-items: stretch;justify-content: center;background-color: white;position: relative;}#sk-container-id-4 div.sk-item::before, #sk-container-id-4 div.sk-parallel-item::before {content: \"\";position: absolute;border-left: 1px solid gray;box-sizing: border-box;top: 0;bottom: 0;left: 50%;z-index: -1;}#sk-container-id-4 div.sk-parallel-item {display: flex;flex-direction: column;z-index: 1;position: relative;background-color: white;}#sk-container-id-4 div.sk-parallel-item:first-child::after {align-self: flex-end;width: 50%;}#sk-container-id-4 div.sk-parallel-item:last-child::after {align-self: flex-start;width: 50%;}#sk-container-id-4 div.sk-parallel-item:only-child::after {width: 0;}#sk-container-id-4 div.sk-dashed-wrapped {border: 1px dashed gray;margin: 0 0.4em 0.5em 0.4em;box-sizing: border-box;padding-bottom: 0.4em;background-color: white;}#sk-container-id-4 div.sk-label label {font-family: monospace;font-weight: bold;display: inline-block;line-height: 1.2em;}#sk-container-id-4 div.sk-label-container {text-align: center;}#sk-container-id-4 div.sk-container {/* jupyter's `normalize.less` sets `[hidden] { display: none; }` but bootstrap.min.css set `[hidden] { display: none !important; }` so we also need the `!important` here to be able to override the default hidden behavior on the sphinx rendered scikit-learn.org. See: https://github.com/scikit-learn/scikit-learn/issues/21755 */display: inline-block !important;position: relative;}#sk-container-id-4 div.sk-text-repr-fallback {display: none;}</style><div id=\"sk-container-id-4\" class=\"sk-top-container\"><div class=\"sk-text-repr-fallback\"><pre>Ridge(alpha=0.20660549017777122, solver=&#x27;lsqr&#x27;)</pre><b>In a Jupyter environment, please rerun this cell to show the HTML representation or trust the notebook. <br />On GitHub, the HTML representation is unable to render, please try loading this page with nbviewer.org.</b></div><div class=\"sk-container\" hidden><div class=\"sk-item\"><div class=\"sk-estimator sk-toggleable\"><input class=\"sk-toggleable__control sk-hidden--visually\" id=\"sk-estimator-id-13\" type=\"checkbox\" checked><label for=\"sk-estimator-id-13\" class=\"sk-toggleable__label sk-toggleable__label-arrow\">Ridge</label><div class=\"sk-toggleable__content\"><pre>Ridge(alpha=0.20660549017777122, solver=&#x27;lsqr&#x27;)</pre></div></div></div></div></div>"
      ],
      "text/plain": [
       "Ridge(alpha=0.20660549017777122, solver='lsqr')"
      ]
     },
     "execution_count": 13,
     "metadata": {},
     "output_type": "execute_result"
    }
   ],
   "source": [
    "best_parameters = ridge_random_search.best_params_\n",
    "print(best_parameters)\n",
    "best_random_cv_model = ridge_random_search.best_estimator_\n",
    "best_random_cv_model"
   ]
  },
  {
   "cell_type": "code",
   "execution_count": 14,
   "metadata": {},
   "outputs": [
    {
     "name": "stdout",
     "output_type": "stream",
     "text": [
      "Testing r2 score = 0.87\n",
      "Testing Mean Absolute Error = 44842.81\n"
     ]
    }
   ],
   "source": [
    "# Predict y with fitted model\n",
    "y_pred = best_random_cv_model.predict(X_test_processed)\n",
    "\n",
    "# results\n",
    "random_cv_mae_mean = round(mean_absolute_error(y_test, y_pred),2)\n",
    "random_cv_r2_mean = round(r2_score(y_test, y_pred),2)\n",
    "\n",
    "print(\"Testing r2 score =\", random_cv_r2_mean)\n",
    "print(\"Testing Mean Absolute Error =\", random_cv_mae_mean)"
   ]
  },
  {
   "cell_type": "markdown",
   "metadata": {},
   "source": [
    "**Comments on Scores:**\n",
    "\n",
    " Overall, these metrics indicate a model that performs almost similarly to the baseline model. R2 is the same but MAE is slightly worse than the baseline (44806.75)."
   ]
  },
  {
   "cell_type": "code",
   "execution_count": 15,
   "metadata": {},
   "outputs": [
    {
     "name": "stdout",
     "output_type": "stream",
     "text": [
      "Fitting 5 folds for each of 50 candidates, totalling 250 fits\n"
     ]
    },
    {
     "data": {
      "text/html": [
       "<style>#sk-container-id-5 {color: black;}#sk-container-id-5 pre{padding: 0;}#sk-container-id-5 div.sk-toggleable {background-color: white;}#sk-container-id-5 label.sk-toggleable__label {cursor: pointer;display: block;width: 100%;margin-bottom: 0;padding: 0.3em;box-sizing: border-box;text-align: center;}#sk-container-id-5 label.sk-toggleable__label-arrow:before {content: \"▸\";float: left;margin-right: 0.25em;color: #696969;}#sk-container-id-5 label.sk-toggleable__label-arrow:hover:before {color: black;}#sk-container-id-5 div.sk-estimator:hover label.sk-toggleable__label-arrow:before {color: black;}#sk-container-id-5 div.sk-toggleable__content {max-height: 0;max-width: 0;overflow: hidden;text-align: left;background-color: #f0f8ff;}#sk-container-id-5 div.sk-toggleable__content pre {margin: 0.2em;color: black;border-radius: 0.25em;background-color: #f0f8ff;}#sk-container-id-5 input.sk-toggleable__control:checked~div.sk-toggleable__content {max-height: 200px;max-width: 100%;overflow: auto;}#sk-container-id-5 input.sk-toggleable__control:checked~label.sk-toggleable__label-arrow:before {content: \"▾\";}#sk-container-id-5 div.sk-estimator input.sk-toggleable__control:checked~label.sk-toggleable__label {background-color: #d4ebff;}#sk-container-id-5 div.sk-label input.sk-toggleable__control:checked~label.sk-toggleable__label {background-color: #d4ebff;}#sk-container-id-5 input.sk-hidden--visually {border: 0;clip: rect(1px 1px 1px 1px);clip: rect(1px, 1px, 1px, 1px);height: 1px;margin: -1px;overflow: hidden;padding: 0;position: absolute;width: 1px;}#sk-container-id-5 div.sk-estimator {font-family: monospace;background-color: #f0f8ff;border: 1px dotted black;border-radius: 0.25em;box-sizing: border-box;margin-bottom: 0.5em;}#sk-container-id-5 div.sk-estimator:hover {background-color: #d4ebff;}#sk-container-id-5 div.sk-parallel-item::after {content: \"\";width: 100%;border-bottom: 1px solid gray;flex-grow: 1;}#sk-container-id-5 div.sk-label:hover label.sk-toggleable__label {background-color: #d4ebff;}#sk-container-id-5 div.sk-serial::before {content: \"\";position: absolute;border-left: 1px solid gray;box-sizing: border-box;top: 0;bottom: 0;left: 50%;z-index: 0;}#sk-container-id-5 div.sk-serial {display: flex;flex-direction: column;align-items: center;background-color: white;padding-right: 0.2em;padding-left: 0.2em;position: relative;}#sk-container-id-5 div.sk-item {position: relative;z-index: 1;}#sk-container-id-5 div.sk-parallel {display: flex;align-items: stretch;justify-content: center;background-color: white;position: relative;}#sk-container-id-5 div.sk-item::before, #sk-container-id-5 div.sk-parallel-item::before {content: \"\";position: absolute;border-left: 1px solid gray;box-sizing: border-box;top: 0;bottom: 0;left: 50%;z-index: -1;}#sk-container-id-5 div.sk-parallel-item {display: flex;flex-direction: column;z-index: 1;position: relative;background-color: white;}#sk-container-id-5 div.sk-parallel-item:first-child::after {align-self: flex-end;width: 50%;}#sk-container-id-5 div.sk-parallel-item:last-child::after {align-self: flex-start;width: 50%;}#sk-container-id-5 div.sk-parallel-item:only-child::after {width: 0;}#sk-container-id-5 div.sk-dashed-wrapped {border: 1px dashed gray;margin: 0 0.4em 0.5em 0.4em;box-sizing: border-box;padding-bottom: 0.4em;background-color: white;}#sk-container-id-5 div.sk-label label {font-family: monospace;font-weight: bold;display: inline-block;line-height: 1.2em;}#sk-container-id-5 div.sk-label-container {text-align: center;}#sk-container-id-5 div.sk-container {/* jupyter's `normalize.less` sets `[hidden] { display: none; }` but bootstrap.min.css set `[hidden] { display: none !important; }` so we also need the `!important` here to be able to override the default hidden behavior on the sphinx rendered scikit-learn.org. See: https://github.com/scikit-learn/scikit-learn/issues/21755 */display: inline-block !important;position: relative;}#sk-container-id-5 div.sk-text-repr-fallback {display: none;}</style><div id=\"sk-container-id-5\" class=\"sk-top-container\"><div class=\"sk-text-repr-fallback\"><pre>GridSearchCV(cv=5, estimator=Ridge(), n_jobs=-1,\n",
       "             param_grid={&#x27;alpha&#x27;: array([0.        , 0.04081633, 0.08163265, 0.12244898, 0.16326531,\n",
       "       0.20408163, 0.24489796, 0.28571429, 0.32653061, 0.36734694,\n",
       "       0.40816327, 0.44897959, 0.48979592, 0.53061224, 0.57142857,\n",
       "       0.6122449 , 0.65306122, 0.69387755, 0.73469388, 0.7755102 ,\n",
       "       0.81632653, 0.85714286, 0.89795918, 0.93877551, 0.97959184,\n",
       "       1.02040816, 1.06122449, 1.10204082, 1.14285714, 1.18367347,\n",
       "       1.2244898 , 1.26530612, 1.30612245, 1.34693878, 1.3877551 ,\n",
       "       1.42857143, 1.46938776, 1.51020408, 1.55102041, 1.59183673,\n",
       "       1.63265306, 1.67346939, 1.71428571, 1.75510204, 1.79591837,\n",
       "       1.83673469, 1.87755102, 1.91836735, 1.95918367, 2.        ])},\n",
       "             scoring=&#x27;r2&#x27;, verbose=1)</pre><b>In a Jupyter environment, please rerun this cell to show the HTML representation or trust the notebook. <br />On GitHub, the HTML representation is unable to render, please try loading this page with nbviewer.org.</b></div><div class=\"sk-container\" hidden><div class=\"sk-item sk-dashed-wrapped\"><div class=\"sk-label-container\"><div class=\"sk-label sk-toggleable\"><input class=\"sk-toggleable__control sk-hidden--visually\" id=\"sk-estimator-id-14\" type=\"checkbox\" ><label for=\"sk-estimator-id-14\" class=\"sk-toggleable__label sk-toggleable__label-arrow\">GridSearchCV</label><div class=\"sk-toggleable__content\"><pre>GridSearchCV(cv=5, estimator=Ridge(), n_jobs=-1,\n",
       "             param_grid={&#x27;alpha&#x27;: array([0.        , 0.04081633, 0.08163265, 0.12244898, 0.16326531,\n",
       "       0.20408163, 0.24489796, 0.28571429, 0.32653061, 0.36734694,\n",
       "       0.40816327, 0.44897959, 0.48979592, 0.53061224, 0.57142857,\n",
       "       0.6122449 , 0.65306122, 0.69387755, 0.73469388, 0.7755102 ,\n",
       "       0.81632653, 0.85714286, 0.89795918, 0.93877551, 0.97959184,\n",
       "       1.02040816, 1.06122449, 1.10204082, 1.14285714, 1.18367347,\n",
       "       1.2244898 , 1.26530612, 1.30612245, 1.34693878, 1.3877551 ,\n",
       "       1.42857143, 1.46938776, 1.51020408, 1.55102041, 1.59183673,\n",
       "       1.63265306, 1.67346939, 1.71428571, 1.75510204, 1.79591837,\n",
       "       1.83673469, 1.87755102, 1.91836735, 1.95918367, 2.        ])},\n",
       "             scoring=&#x27;r2&#x27;, verbose=1)</pre></div></div></div><div class=\"sk-parallel\"><div class=\"sk-parallel-item\"><div class=\"sk-item\"><div class=\"sk-label-container\"><div class=\"sk-label sk-toggleable\"><input class=\"sk-toggleable__control sk-hidden--visually\" id=\"sk-estimator-id-15\" type=\"checkbox\" ><label for=\"sk-estimator-id-15\" class=\"sk-toggleable__label sk-toggleable__label-arrow\">estimator: Ridge</label><div class=\"sk-toggleable__content\"><pre>Ridge()</pre></div></div></div><div class=\"sk-serial\"><div class=\"sk-item\"><div class=\"sk-estimator sk-toggleable\"><input class=\"sk-toggleable__control sk-hidden--visually\" id=\"sk-estimator-id-16\" type=\"checkbox\" ><label for=\"sk-estimator-id-16\" class=\"sk-toggleable__label sk-toggleable__label-arrow\">Ridge</label><div class=\"sk-toggleable__content\"><pre>Ridge()</pre></div></div></div></div></div></div></div></div></div></div>"
      ],
      "text/plain": [
       "GridSearchCV(cv=5, estimator=Ridge(), n_jobs=-1,\n",
       "             param_grid={'alpha': array([0.        , 0.04081633, 0.08163265, 0.12244898, 0.16326531,\n",
       "       0.20408163, 0.24489796, 0.28571429, 0.32653061, 0.36734694,\n",
       "       0.40816327, 0.44897959, 0.48979592, 0.53061224, 0.57142857,\n",
       "       0.6122449 , 0.65306122, 0.69387755, 0.73469388, 0.7755102 ,\n",
       "       0.81632653, 0.85714286, 0.89795918, 0.93877551, 0.97959184,\n",
       "       1.02040816, 1.06122449, 1.10204082, 1.14285714, 1.18367347,\n",
       "       1.2244898 , 1.26530612, 1.30612245, 1.34693878, 1.3877551 ,\n",
       "       1.42857143, 1.46938776, 1.51020408, 1.55102041, 1.59183673,\n",
       "       1.63265306, 1.67346939, 1.71428571, 1.75510204, 1.79591837,\n",
       "       1.83673469, 1.87755102, 1.91836735, 1.95918367, 2.        ])},\n",
       "             scoring='r2', verbose=1)"
      ]
     },
     "execution_count": 15,
     "metadata": {},
     "output_type": "execute_result"
    }
   ],
   "source": [
    "# Define the model\n",
    "base_ridge_model = Ridge()\n",
    "\n",
    "# Define the parameter grid\n",
    "param_grid = {\n",
    "    'alpha': np.linspace(0, 2, 50)\n",
    "}\n",
    "\n",
    "# Setup the grid search with 5-fold cross-validation\n",
    "ridge_grid_search = GridSearchCV(estimator=base_ridge_model,\n",
    "                                 param_grid=param_grid,\n",
    "                                 scoring='r2', # or another relevant scoring method\n",
    "                                 cv=5, # Number of folds in cross-validation\n",
    "                                 verbose=1, # To see the progress\n",
    "                                 n_jobs=-1) # Use all available cores\n",
    "\n",
    "\n",
    "ridge_grid_search.fit(X_train_processed, y_train)"
   ]
  },
  {
   "cell_type": "code",
   "execution_count": 16,
   "metadata": {},
   "outputs": [
    {
     "data": {
      "text/html": [
       "<style>#sk-container-id-6 {color: black;}#sk-container-id-6 pre{padding: 0;}#sk-container-id-6 div.sk-toggleable {background-color: white;}#sk-container-id-6 label.sk-toggleable__label {cursor: pointer;display: block;width: 100%;margin-bottom: 0;padding: 0.3em;box-sizing: border-box;text-align: center;}#sk-container-id-6 label.sk-toggleable__label-arrow:before {content: \"▸\";float: left;margin-right: 0.25em;color: #696969;}#sk-container-id-6 label.sk-toggleable__label-arrow:hover:before {color: black;}#sk-container-id-6 div.sk-estimator:hover label.sk-toggleable__label-arrow:before {color: black;}#sk-container-id-6 div.sk-toggleable__content {max-height: 0;max-width: 0;overflow: hidden;text-align: left;background-color: #f0f8ff;}#sk-container-id-6 div.sk-toggleable__content pre {margin: 0.2em;color: black;border-radius: 0.25em;background-color: #f0f8ff;}#sk-container-id-6 input.sk-toggleable__control:checked~div.sk-toggleable__content {max-height: 200px;max-width: 100%;overflow: auto;}#sk-container-id-6 input.sk-toggleable__control:checked~label.sk-toggleable__label-arrow:before {content: \"▾\";}#sk-container-id-6 div.sk-estimator input.sk-toggleable__control:checked~label.sk-toggleable__label {background-color: #d4ebff;}#sk-container-id-6 div.sk-label input.sk-toggleable__control:checked~label.sk-toggleable__label {background-color: #d4ebff;}#sk-container-id-6 input.sk-hidden--visually {border: 0;clip: rect(1px 1px 1px 1px);clip: rect(1px, 1px, 1px, 1px);height: 1px;margin: -1px;overflow: hidden;padding: 0;position: absolute;width: 1px;}#sk-container-id-6 div.sk-estimator {font-family: monospace;background-color: #f0f8ff;border: 1px dotted black;border-radius: 0.25em;box-sizing: border-box;margin-bottom: 0.5em;}#sk-container-id-6 div.sk-estimator:hover {background-color: #d4ebff;}#sk-container-id-6 div.sk-parallel-item::after {content: \"\";width: 100%;border-bottom: 1px solid gray;flex-grow: 1;}#sk-container-id-6 div.sk-label:hover label.sk-toggleable__label {background-color: #d4ebff;}#sk-container-id-6 div.sk-serial::before {content: \"\";position: absolute;border-left: 1px solid gray;box-sizing: border-box;top: 0;bottom: 0;left: 50%;z-index: 0;}#sk-container-id-6 div.sk-serial {display: flex;flex-direction: column;align-items: center;background-color: white;padding-right: 0.2em;padding-left: 0.2em;position: relative;}#sk-container-id-6 div.sk-item {position: relative;z-index: 1;}#sk-container-id-6 div.sk-parallel {display: flex;align-items: stretch;justify-content: center;background-color: white;position: relative;}#sk-container-id-6 div.sk-item::before, #sk-container-id-6 div.sk-parallel-item::before {content: \"\";position: absolute;border-left: 1px solid gray;box-sizing: border-box;top: 0;bottom: 0;left: 50%;z-index: -1;}#sk-container-id-6 div.sk-parallel-item {display: flex;flex-direction: column;z-index: 1;position: relative;background-color: white;}#sk-container-id-6 div.sk-parallel-item:first-child::after {align-self: flex-end;width: 50%;}#sk-container-id-6 div.sk-parallel-item:last-child::after {align-self: flex-start;width: 50%;}#sk-container-id-6 div.sk-parallel-item:only-child::after {width: 0;}#sk-container-id-6 div.sk-dashed-wrapped {border: 1px dashed gray;margin: 0 0.4em 0.5em 0.4em;box-sizing: border-box;padding-bottom: 0.4em;background-color: white;}#sk-container-id-6 div.sk-label label {font-family: monospace;font-weight: bold;display: inline-block;line-height: 1.2em;}#sk-container-id-6 div.sk-label-container {text-align: center;}#sk-container-id-6 div.sk-container {/* jupyter's `normalize.less` sets `[hidden] { display: none; }` but bootstrap.min.css set `[hidden] { display: none !important; }` so we also need the `!important` here to be able to override the default hidden behavior on the sphinx rendered scikit-learn.org. See: https://github.com/scikit-learn/scikit-learn/issues/21755 */display: inline-block !important;position: relative;}#sk-container-id-6 div.sk-text-repr-fallback {display: none;}</style><div id=\"sk-container-id-6\" class=\"sk-top-container\"><div class=\"sk-text-repr-fallback\"><pre>Ridge(alpha=0.04081632653061224)</pre><b>In a Jupyter environment, please rerun this cell to show the HTML representation or trust the notebook. <br />On GitHub, the HTML representation is unable to render, please try loading this page with nbviewer.org.</b></div><div class=\"sk-container\" hidden><div class=\"sk-item\"><div class=\"sk-estimator sk-toggleable\"><input class=\"sk-toggleable__control sk-hidden--visually\" id=\"sk-estimator-id-17\" type=\"checkbox\" checked><label for=\"sk-estimator-id-17\" class=\"sk-toggleable__label sk-toggleable__label-arrow\">Ridge</label><div class=\"sk-toggleable__content\"><pre>Ridge(alpha=0.04081632653061224)</pre></div></div></div></div></div>"
      ],
      "text/plain": [
       "Ridge(alpha=0.04081632653061224)"
      ]
     },
     "execution_count": 16,
     "metadata": {},
     "output_type": "execute_result"
    }
   ],
   "source": [
    "best_parameters = ridge_grid_search.best_params_\n",
    "best_grid_model = ridge_grid_search.best_estimator_\n",
    "best_grid_model"
   ]
  },
  {
   "cell_type": "code",
   "execution_count": 17,
   "metadata": {},
   "outputs": [
    {
     "name": "stdout",
     "output_type": "stream",
     "text": [
      "Testing r2 score = 0.87\n",
      "Testing Mean Absolute Error = 44804.05\n"
     ]
    }
   ],
   "source": [
    "# Predict y with fitted model\n",
    "y_pred = best_grid_model.predict(X_test_processed)\n",
    "\n",
    "# results\n",
    "grid_search_mae_mean = round(mean_absolute_error(y_test, y_pred),2)\n",
    "grid_search_r2_mean = round(r2_score(y_test, y_pred),2)\n",
    "\n",
    "print(\"Testing r2 score =\", grid_search_r2_mean)\n",
    "print(\"Testing Mean Absolute Error =\", grid_search_mae_mean)"
   ]
  },
  {
   "cell_type": "markdown",
   "metadata": {},
   "source": [
    "**Comments on Scores:**\n",
    "\n",
    " Overall, these metrics indicate a model that performs almost similarly to the baseline model. R2 is the same (0.87) but MAE (44804.05) is ever so slightly better than the baseline (44806.75).\n"
   ]
  },
  {
   "cell_type": "markdown",
   "metadata": {},
   "source": [
    "### Creating a Lasso Regression Model & Evaluation "
   ]
  },
  {
   "cell_type": "code",
   "execution_count": 19,
   "metadata": {},
   "outputs": [
    {
     "name": "stderr",
     "output_type": "stream",
     "text": [
      "/Users/gobind/.pyenv/versions/3.10.6/envs/hdb-price-estimator/lib/python3.10/site-packages/sklearn/linear_model/_coordinate_descent.py:589: ConvergenceWarning: Objective did not converge. You might want to increase the number of iterations. Duality gap: 663514484457743.2, tolerance: 1551449449128.2795\n",
      "  model = cd_fast.sparse_enet_coordinate_descent(\n",
      "/Users/gobind/.pyenv/versions/3.10.6/envs/hdb-price-estimator/lib/python3.10/site-packages/sklearn/linear_model/_coordinate_descent.py:589: ConvergenceWarning: Objective did not converge. You might want to increase the number of iterations. Duality gap: 673139657615868.2, tolerance: 1550018589321.4438\n",
      "  model = cd_fast.sparse_enet_coordinate_descent(\n",
      "/Users/gobind/.pyenv/versions/3.10.6/envs/hdb-price-estimator/lib/python3.10/site-packages/sklearn/linear_model/_coordinate_descent.py:589: ConvergenceWarning: Objective did not converge. You might want to increase the number of iterations. Duality gap: 668471739252665.8, tolerance: 1550666982390.469\n",
      "  model = cd_fast.sparse_enet_coordinate_descent(\n",
      "/Users/gobind/.pyenv/versions/3.10.6/envs/hdb-price-estimator/lib/python3.10/site-packages/sklearn/linear_model/_coordinate_descent.py:589: ConvergenceWarning: Objective did not converge. You might want to increase the number of iterations. Duality gap: 674539702725659.6, tolerance: 1550901052788.931\n",
      "  model = cd_fast.sparse_enet_coordinate_descent(\n",
      "/Users/gobind/.pyenv/versions/3.10.6/envs/hdb-price-estimator/lib/python3.10/site-packages/sklearn/linear_model/_coordinate_descent.py:589: ConvergenceWarning: Objective did not converge. You might want to increase the number of iterations. Duality gap: 668778912874546.8, tolerance: 1551200169549.74\n",
      "  model = cd_fast.sparse_enet_coordinate_descent(\n"
     ]
    },
    {
     "data": {
      "text/plain": [
       "{'fit_time': array([158.04950929, 155.28038621, 156.28184772, 156.10373902,\n",
       "        155.05353475]),\n",
       " 'score_time': array([0.00600076, 0.00276566, 0.00283122, 0.00414681, 0.00351715]),\n",
       " 'test_r2': array([0.8735344 , 0.87250976, 0.87322993, 0.87252731, 0.872574  ]),\n",
       " 'test_neg_mean_absolute_error': array([-44831.3348501 , -45124.14874169, -44898.58772542, -44999.11473888,\n",
       "        -45015.39346511])}"
      ]
     },
     "execution_count": 19,
     "metadata": {},
     "output_type": "execute_result"
    }
   ],
   "source": [
    "# Instantiate the model\n",
    "base_lasso_model = Lasso()\n",
    "\n",
    "# Define multiple scoring metrics\n",
    "scoring = ['r2', 'neg_mean_absolute_error']\n",
    "\n",
    "# Get the cross validation scores\n",
    "scores = cross_validate(base_lasso_model, X_train_processed, y_train, cv=5, scoring=scoring, return_train_score=False)\n",
    "\n",
    "# View scores dictionary\n",
    "scores"
   ]
  },
  {
   "cell_type": "code",
   "execution_count": 20,
   "metadata": {},
   "outputs": [
    {
     "name": "stdout",
     "output_type": "stream",
     "text": [
      "Training r2 score = 0.87\n",
      "Training Mean Absolute Error = 44973.72\n"
     ]
    }
   ],
   "source": [
    "# Get rounded scores stored in variables\n",
    "lasso_train_base_r2_mean = round(scores['test_r2'].mean(), 2)\n",
    "lasso_train_base_mae_mean = round(-(scores['test_neg_mean_absolute_error'].mean()),2)\n",
    "\n",
    "# Print scores to assess\n",
    "print(\"Training r2 score =\", lasso_train_base_r2_mean)\n",
    "print(\"Training Mean Absolute Error =\", lasso_train_base_mae_mean)"
   ]
  },
  {
   "cell_type": "code",
   "execution_count": 21,
   "metadata": {},
   "outputs": [
    {
     "name": "stderr",
     "output_type": "stream",
     "text": [
      "/Users/gobind/.pyenv/versions/3.10.6/envs/hdb-price-estimator/lib/python3.10/site-packages/sklearn/linear_model/_coordinate_descent.py:589: ConvergenceWarning: Objective did not converge. You might want to increase the number of iterations. Duality gap: 837358599642958.5, tolerance: 1938559417106.7517\n",
      "  model = cd_fast.sparse_enet_coordinate_descent(\n"
     ]
    },
    {
     "data": {
      "text/html": [
       "<style>#sk-container-id-7 {color: black;}#sk-container-id-7 pre{padding: 0;}#sk-container-id-7 div.sk-toggleable {background-color: white;}#sk-container-id-7 label.sk-toggleable__label {cursor: pointer;display: block;width: 100%;margin-bottom: 0;padding: 0.3em;box-sizing: border-box;text-align: center;}#sk-container-id-7 label.sk-toggleable__label-arrow:before {content: \"▸\";float: left;margin-right: 0.25em;color: #696969;}#sk-container-id-7 label.sk-toggleable__label-arrow:hover:before {color: black;}#sk-container-id-7 div.sk-estimator:hover label.sk-toggleable__label-arrow:before {color: black;}#sk-container-id-7 div.sk-toggleable__content {max-height: 0;max-width: 0;overflow: hidden;text-align: left;background-color: #f0f8ff;}#sk-container-id-7 div.sk-toggleable__content pre {margin: 0.2em;color: black;border-radius: 0.25em;background-color: #f0f8ff;}#sk-container-id-7 input.sk-toggleable__control:checked~div.sk-toggleable__content {max-height: 200px;max-width: 100%;overflow: auto;}#sk-container-id-7 input.sk-toggleable__control:checked~label.sk-toggleable__label-arrow:before {content: \"▾\";}#sk-container-id-7 div.sk-estimator input.sk-toggleable__control:checked~label.sk-toggleable__label {background-color: #d4ebff;}#sk-container-id-7 div.sk-label input.sk-toggleable__control:checked~label.sk-toggleable__label {background-color: #d4ebff;}#sk-container-id-7 input.sk-hidden--visually {border: 0;clip: rect(1px 1px 1px 1px);clip: rect(1px, 1px, 1px, 1px);height: 1px;margin: -1px;overflow: hidden;padding: 0;position: absolute;width: 1px;}#sk-container-id-7 div.sk-estimator {font-family: monospace;background-color: #f0f8ff;border: 1px dotted black;border-radius: 0.25em;box-sizing: border-box;margin-bottom: 0.5em;}#sk-container-id-7 div.sk-estimator:hover {background-color: #d4ebff;}#sk-container-id-7 div.sk-parallel-item::after {content: \"\";width: 100%;border-bottom: 1px solid gray;flex-grow: 1;}#sk-container-id-7 div.sk-label:hover label.sk-toggleable__label {background-color: #d4ebff;}#sk-container-id-7 div.sk-serial::before {content: \"\";position: absolute;border-left: 1px solid gray;box-sizing: border-box;top: 0;bottom: 0;left: 50%;z-index: 0;}#sk-container-id-7 div.sk-serial {display: flex;flex-direction: column;align-items: center;background-color: white;padding-right: 0.2em;padding-left: 0.2em;position: relative;}#sk-container-id-7 div.sk-item {position: relative;z-index: 1;}#sk-container-id-7 div.sk-parallel {display: flex;align-items: stretch;justify-content: center;background-color: white;position: relative;}#sk-container-id-7 div.sk-item::before, #sk-container-id-7 div.sk-parallel-item::before {content: \"\";position: absolute;border-left: 1px solid gray;box-sizing: border-box;top: 0;bottom: 0;left: 50%;z-index: -1;}#sk-container-id-7 div.sk-parallel-item {display: flex;flex-direction: column;z-index: 1;position: relative;background-color: white;}#sk-container-id-7 div.sk-parallel-item:first-child::after {align-self: flex-end;width: 50%;}#sk-container-id-7 div.sk-parallel-item:last-child::after {align-self: flex-start;width: 50%;}#sk-container-id-7 div.sk-parallel-item:only-child::after {width: 0;}#sk-container-id-7 div.sk-dashed-wrapped {border: 1px dashed gray;margin: 0 0.4em 0.5em 0.4em;box-sizing: border-box;padding-bottom: 0.4em;background-color: white;}#sk-container-id-7 div.sk-label label {font-family: monospace;font-weight: bold;display: inline-block;line-height: 1.2em;}#sk-container-id-7 div.sk-label-container {text-align: center;}#sk-container-id-7 div.sk-container {/* jupyter's `normalize.less` sets `[hidden] { display: none; }` but bootstrap.min.css set `[hidden] { display: none !important; }` so we also need the `!important` here to be able to override the default hidden behavior on the sphinx rendered scikit-learn.org. See: https://github.com/scikit-learn/scikit-learn/issues/21755 */display: inline-block !important;position: relative;}#sk-container-id-7 div.sk-text-repr-fallback {display: none;}</style><div id=\"sk-container-id-7\" class=\"sk-top-container\"><div class=\"sk-text-repr-fallback\"><pre>Lasso()</pre><b>In a Jupyter environment, please rerun this cell to show the HTML representation or trust the notebook. <br />On GitHub, the HTML representation is unable to render, please try loading this page with nbviewer.org.</b></div><div class=\"sk-container\" hidden><div class=\"sk-item\"><div class=\"sk-estimator sk-toggleable\"><input class=\"sk-toggleable__control sk-hidden--visually\" id=\"sk-estimator-id-18\" type=\"checkbox\" checked><label for=\"sk-estimator-id-18\" class=\"sk-toggleable__label sk-toggleable__label-arrow\">Lasso</label><div class=\"sk-toggleable__content\"><pre>Lasso()</pre></div></div></div></div></div>"
      ],
      "text/plain": [
       "Lasso()"
      ]
     },
     "execution_count": 21,
     "metadata": {},
     "output_type": "execute_result"
    }
   ],
   "source": [
    "# Fitting model on data.\n",
    "base_lasso_model.fit(X_train_processed, y_train)"
   ]
  },
  {
   "cell_type": "code",
   "execution_count": 22,
   "metadata": {},
   "outputs": [
    {
     "name": "stdout",
     "output_type": "stream",
     "text": [
      "Testing r2 score = 0.87\n",
      "Testing Mean Absolute Error = 44843.36\n"
     ]
    }
   ],
   "source": [
    "# Predict y with fitted model\n",
    "y_pred = base_lasso_model.predict(X_test_processed)\n",
    "\n",
    "# results\n",
    "lasso_test_base_mae_mean = round(mean_absolute_error(y_test, y_pred),2)\n",
    "lasso_test_base_r2_mean = round(r2_score(y_test, y_pred),2)\n",
    "\n",
    "print(\"Testing r2 score =\", lasso_test_base_r2_mean)\n",
    "print(\"Testing Mean Absolute Error =\", lasso_test_base_mae_mean)"
   ]
  },
  {
   "cell_type": "code",
   "execution_count": 33,
   "metadata": {},
   "outputs": [
    {
     "data": {
      "text/html": [
       "<div>\n",
       "<style scoped>\n",
       "    .dataframe tbody tr th:only-of-type {\n",
       "        vertical-align: middle;\n",
       "    }\n",
       "\n",
       "    .dataframe tbody tr th {\n",
       "        vertical-align: top;\n",
       "    }\n",
       "\n",
       "    .dataframe thead th {\n",
       "        text-align: right;\n",
       "    }\n",
       "</style>\n",
       "<table border=\"1\" class=\"dataframe\">\n",
       "  <thead>\n",
       "    <tr style=\"text-align: right;\">\n",
       "      <th></th>\n",
       "      <th>Feature</th>\n",
       "      <th>Coefficient</th>\n",
       "    </tr>\n",
       "  </thead>\n",
       "  <tbody>\n",
       "    <tr>\n",
       "      <th>173</th>\n",
       "      <td>pipeline__floor_area_sqm</td>\n",
       "      <td>592130.552088</td>\n",
       "    </tr>\n",
       "    <tr>\n",
       "      <th>174</th>\n",
       "      <td>pipeline__lease_commence_date</td>\n",
       "      <td>289089.979247</td>\n",
       "    </tr>\n",
       "    <tr>\n",
       "      <th>181</th>\n",
       "      <td>pipeline__walking_time_mrt</td>\n",
       "      <td>-249657.872353</td>\n",
       "    </tr>\n",
       "    <tr>\n",
       "      <th>96</th>\n",
       "      <td>onehotencoder__most_closest_mrt_CHANGI AIRPORT</td>\n",
       "      <td>247158.936450</td>\n",
       "    </tr>\n",
       "    <tr>\n",
       "      <th>175</th>\n",
       "      <td>pipeline__sold_year</td>\n",
       "      <td>242870.054373</td>\n",
       "    </tr>\n",
       "    <tr>\n",
       "      <th>71</th>\n",
       "      <td>onehotencoder__flat_model_Type S2</td>\n",
       "      <td>229152.704362</td>\n",
       "    </tr>\n",
       "    <tr>\n",
       "      <th>75</th>\n",
       "      <td>onehotencoder__most_closest_mrt_BEAUTY WORLD</td>\n",
       "      <td>218136.400559</td>\n",
       "    </tr>\n",
       "    <tr>\n",
       "      <th>111</th>\n",
       "      <td>onehotencoder__most_closest_mrt_HAVELOCK</td>\n",
       "      <td>216273.895735</td>\n",
       "    </tr>\n",
       "    <tr>\n",
       "      <th>69</th>\n",
       "      <td>onehotencoder__flat_model_Terrace</td>\n",
       "      <td>214587.452059</td>\n",
       "    </tr>\n",
       "    <tr>\n",
       "      <th>24</th>\n",
       "      <td>onehotencoder__town_YISHUN</td>\n",
       "      <td>-207169.856198</td>\n",
       "    </tr>\n",
       "    <tr>\n",
       "      <th>52</th>\n",
       "      <td>onehotencoder__storey_range_43 TO 45</td>\n",
       "      <td>191382.300768</td>\n",
       "    </tr>\n",
       "    <tr>\n",
       "      <th>51</th>\n",
       "      <td>onehotencoder__storey_range_40 TO 42</td>\n",
       "      <td>183627.114719</td>\n",
       "    </tr>\n",
       "    <tr>\n",
       "      <th>53</th>\n",
       "      <td>onehotencoder__storey_range_46 TO 48</td>\n",
       "      <td>177733.343663</td>\n",
       "    </tr>\n",
       "    <tr>\n",
       "      <th>70</th>\n",
       "      <td>onehotencoder__flat_model_Type S1</td>\n",
       "      <td>174956.424536</td>\n",
       "    </tr>\n",
       "    <tr>\n",
       "      <th>86</th>\n",
       "      <td>onehotencoder__most_closest_mrt_BRAS BASAH</td>\n",
       "      <td>173303.288295</td>\n",
       "    </tr>\n",
       "  </tbody>\n",
       "</table>\n",
       "</div>"
      ],
      "text/plain": [
       "                                            Feature    Coefficient\n",
       "173                        pipeline__floor_area_sqm  592130.552088\n",
       "174                   pipeline__lease_commence_date  289089.979247\n",
       "181                      pipeline__walking_time_mrt -249657.872353\n",
       "96   onehotencoder__most_closest_mrt_CHANGI AIRPORT  247158.936450\n",
       "175                             pipeline__sold_year  242870.054373\n",
       "71                onehotencoder__flat_model_Type S2  229152.704362\n",
       "75     onehotencoder__most_closest_mrt_BEAUTY WORLD  218136.400559\n",
       "111        onehotencoder__most_closest_mrt_HAVELOCK  216273.895735\n",
       "69                onehotencoder__flat_model_Terrace  214587.452059\n",
       "24                       onehotencoder__town_YISHUN -207169.856198\n",
       "52             onehotencoder__storey_range_43 TO 45  191382.300768\n",
       "51             onehotencoder__storey_range_40 TO 42  183627.114719\n",
       "53             onehotencoder__storey_range_46 TO 48  177733.343663\n",
       "70                onehotencoder__flat_model_Type S1  174956.424536\n",
       "86       onehotencoder__most_closest_mrt_BRAS BASAH  173303.288295"
      ]
     },
     "execution_count": 33,
     "metadata": {},
     "output_type": "execute_result"
    }
   ],
   "source": [
    "# To Get importance of features in a DF:\n",
    "# Get feature names\n",
    "feature_names = prepoc.get_feature_names_out()\n",
    "\n",
    "# Get coefficients\n",
    "coefficients = base_lasso_model.coef_\n",
    "\n",
    "# Create empty Dictionary\n",
    "feature_coefficients = {}\n",
    "\n",
    "# For loop to print coefficient and put them into dict\n",
    "for feature, coef in zip(feature_names, coefficients):\n",
    "    #print(f\"{feature}: {coef}\")\n",
    "    feature_coefficients[feature] = coef\n",
    "\n",
    "# Include intercept in the dict\n",
    "#print(f\"intercept: {base_lasso_model.intercept_}\")\n",
    "feature_coefficients[\"intercept\"] = base_lasso_model.intercept_\n",
    "\n",
    "# Converting to DataFrame\n",
    "feature_coefficients_df = pd.DataFrame(list(feature_coefficients.items()), columns=['Feature', 'Coefficient'])\n",
    "\n",
    "# Sorting the DataFrame by the absolute values of the 'Coefficient' column\n",
    "feature_coefficients_df = feature_coefficients_df.sort_values(by='Coefficient', key=abs, ascending=False)\n",
    "\n",
    "# Show top 15\n",
    "feature_coefficients_df.head(15)"
   ]
  },
  {
   "cell_type": "markdown",
   "metadata": {},
   "source": [
    "#### Improving Model by Including Model Hyperparameter Tuning"
   ]
  },
  {
   "cell_type": "code",
   "execution_count": 37,
   "metadata": {},
   "outputs": [
    {
     "name": "stdout",
     "output_type": "stream",
     "text": [
      "Fitting 3 folds for each of 20 candidates, totalling 60 fits\n"
     ]
    },
    {
     "name": "stderr",
     "output_type": "stream",
     "text": [
      "/Users/gobind/.pyenv/versions/3.10.6/envs/hdb-price-estimator/lib/python3.10/site-packages/sklearn/linear_model/_coordinate_descent.py:589: ConvergenceWarning: Objective did not converge. You might want to increase the number of iterations. Duality gap: 818044785120712.5, tolerance: 1292291237542.4749\n",
      "  model = cd_fast.sparse_enet_coordinate_descent(\n"
     ]
    },
    {
     "name": "stdout",
     "output_type": "stream",
     "text": [
      "[CV 3/3] END .......alpha=0.0001372620524176436;, score=0.873 total time= 6.1min\n"
     ]
    },
    {
     "name": "stderr",
     "output_type": "stream",
     "text": [
      "/Users/gobind/.pyenv/versions/3.10.6/envs/hdb-price-estimator/lib/python3.10/site-packages/sklearn/linear_model/_coordinate_descent.py:589: ConvergenceWarning: Objective did not converge. You might want to increase the number of iterations. Duality gap: 819354303449584.9, tolerance: 1291147310121.8848\n",
      "  model = cd_fast.sparse_enet_coordinate_descent(\n"
     ]
    },
    {
     "name": "stdout",
     "output_type": "stream",
     "text": [
      "[CV 1/3] END .......alpha=0.0001372620524176436;, score=0.873 total time= 6.1min\n"
     ]
    },
    {
     "name": "stderr",
     "output_type": "stream",
     "text": [
      "/Users/gobind/.pyenv/versions/3.10.6/envs/hdb-price-estimator/lib/python3.10/site-packages/sklearn/linear_model/_coordinate_descent.py:589: ConvergenceWarning: Objective did not converge. You might want to increase the number of iterations. Duality gap: 812178932475232.8, tolerance: 1291147310121.8848\n",
      "  model = cd_fast.sparse_enet_coordinate_descent(\n"
     ]
    },
    {
     "name": "stdout",
     "output_type": "stream",
     "text": [
      "[CV 1/3] END .........alpha=0.02091008322651608;, score=0.873 total time= 6.1min\n"
     ]
    },
    {
     "name": "stderr",
     "output_type": "stream",
     "text": [
      "/Users/gobind/.pyenv/versions/3.10.6/envs/hdb-price-estimator/lib/python3.10/site-packages/sklearn/linear_model/_coordinate_descent.py:589: ConvergenceWarning: Objective did not converge. You might want to increase the number of iterations. Duality gap: 819102218507119.4, tolerance: 1291147310121.8848\n",
      "  model = cd_fast.sparse_enet_coordinate_descent(\n"
     ]
    },
    {
     "name": "stdout",
     "output_type": "stream",
     "text": [
      "[CV 1/3] END .......alpha=0.0008598932581217309;, score=0.873 total time= 6.2min\n"
     ]
    },
    {
     "name": "stderr",
     "output_type": "stream",
     "text": [
      "/Users/gobind/.pyenv/versions/3.10.6/envs/hdb-price-estimator/lib/python3.10/site-packages/sklearn/linear_model/_coordinate_descent.py:589: ConvergenceWarning: Objective did not converge. You might want to increase the number of iterations. Duality gap: 812374439585366.8, tolerance: 1293679838187.6484\n",
      "  model = cd_fast.sparse_enet_coordinate_descent(\n",
      "/Users/gobind/.pyenv/versions/3.10.6/envs/hdb-price-estimator/lib/python3.10/site-packages/sklearn/linear_model/_coordinate_descent.py:589: ConvergenceWarning: Objective did not converge. You might want to increase the number of iterations. Duality gap: 817801458470049.0, tolerance: 1292291237542.4749\n",
      "  model = cd_fast.sparse_enet_coordinate_descent(\n"
     ]
    },
    {
     "name": "stdout",
     "output_type": "stream",
     "text": [
      "[CV 2/3] END .........alpha=0.02091008322651608;, score=0.873 total time= 6.2min\n",
      "[CV 3/3] END .......alpha=0.0008598932581217309;, score=0.873 total time= 6.2min\n"
     ]
    },
    {
     "name": "stderr",
     "output_type": "stream",
     "text": [
      "/Users/gobind/.pyenv/versions/3.10.6/envs/hdb-price-estimator/lib/python3.10/site-packages/sklearn/linear_model/_coordinate_descent.py:589: ConvergenceWarning: Objective did not converge. You might want to increase the number of iterations. Duality gap: 819357178219895.4, tolerance: 1293679838187.6484\n",
      "  model = cd_fast.sparse_enet_coordinate_descent(\n"
     ]
    },
    {
     "name": "stdout",
     "output_type": "stream",
     "text": [
      "[CV 2/3] END .......alpha=0.0008598932581217309;, score=0.873 total time= 6.2min\n"
     ]
    },
    {
     "name": "stderr",
     "output_type": "stream",
     "text": [
      "/Users/gobind/.pyenv/versions/3.10.6/envs/hdb-price-estimator/lib/python3.10/site-packages/sklearn/linear_model/_coordinate_descent.py:589: ConvergenceWarning: Objective did not converge. You might want to increase the number of iterations. Duality gap: 819611537140854.2, tolerance: 1293679838187.6484\n",
      "  model = cd_fast.sparse_enet_coordinate_descent(\n"
     ]
    },
    {
     "name": "stdout",
     "output_type": "stream",
     "text": [
      "[CV 2/3] END .......alpha=0.0001372620524176436;, score=0.873 total time= 6.3min\n"
     ]
    },
    {
     "name": "stderr",
     "output_type": "stream",
     "text": [
      "/Users/gobind/.pyenv/versions/3.10.6/envs/hdb-price-estimator/lib/python3.10/site-packages/sklearn/linear_model/_coordinate_descent.py:589: ConvergenceWarning: Objective did not converge. You might want to increase the number of iterations. Duality gap: 819544225727280.9, tolerance: 1293679838187.6484\n",
      "  model = cd_fast.sparse_enet_coordinate_descent(\n"
     ]
    },
    {
     "name": "stdout",
     "output_type": "stream",
     "text": [
      "[CV 2/3] END ......alpha=0.00032844083405203235;, score=0.873 total time= 5.9min\n"
     ]
    },
    {
     "name": "stderr",
     "output_type": "stream",
     "text": [
      "/Users/gobind/.pyenv/versions/3.10.6/envs/hdb-price-estimator/lib/python3.10/site-packages/sklearn/linear_model/_coordinate_descent.py:589: ConvergenceWarning: Objective did not converge. You might want to increase the number of iterations. Duality gap: 819287594561217.6, tolerance: 1291147310121.8848\n",
      "  model = cd_fast.sparse_enet_coordinate_descent(\n"
     ]
    },
    {
     "name": "stdout",
     "output_type": "stream",
     "text": [
      "[CV 1/3] END ......alpha=0.00032844083405203235;, score=0.873 total time= 6.0min\n"
     ]
    },
    {
     "name": "stderr",
     "output_type": "stream",
     "text": [
      "/Users/gobind/.pyenv/versions/3.10.6/envs/hdb-price-estimator/lib/python3.10/site-packages/sklearn/linear_model/_coordinate_descent.py:589: ConvergenceWarning: Objective did not converge. You might want to increase the number of iterations. Duality gap: 817980393411326.8, tolerance: 1292291237542.4749\n",
      "  model = cd_fast.sparse_enet_coordinate_descent(\n"
     ]
    },
    {
     "name": "stdout",
     "output_type": "stream",
     "text": [
      "[CV 3/3] END ......alpha=0.00032844083405203235;, score=0.873 total time= 6.0min\n"
     ]
    },
    {
     "name": "stderr",
     "output_type": "stream",
     "text": [
      "/Users/gobind/.pyenv/versions/3.10.6/envs/hdb-price-estimator/lib/python3.10/site-packages/sklearn/linear_model/_coordinate_descent.py:589: ConvergenceWarning: Objective did not converge. You might want to increase the number of iterations. Duality gap: 800521661485347.6, tolerance: 1291147310121.8848\n",
      "  model = cd_fast.sparse_enet_coordinate_descent(\n"
     ]
    },
    {
     "name": "stdout",
     "output_type": "stream",
     "text": [
      "[CV 1/3] END .........alpha=0.05558605222328068;, score=0.873 total time= 6.0min\n"
     ]
    },
    {
     "name": "stderr",
     "output_type": "stream",
     "text": [
      "/Users/gobind/.pyenv/versions/3.10.6/envs/hdb-price-estimator/lib/python3.10/site-packages/sklearn/linear_model/_coordinate_descent.py:589: ConvergenceWarning: Objective did not converge. You might want to increase the number of iterations. Duality gap: 800630954841306.0, tolerance: 1293679838187.6484\n",
      "  model = cd_fast.sparse_enet_coordinate_descent(\n"
     ]
    },
    {
     "name": "stdout",
     "output_type": "stream",
     "text": [
      "[CV 2/3] END .........alpha=0.05558605222328068;, score=0.873 total time= 6.0min\n"
     ]
    },
    {
     "name": "stderr",
     "output_type": "stream",
     "text": [
      "/Users/gobind/.pyenv/versions/3.10.6/envs/hdb-price-estimator/lib/python3.10/site-packages/sklearn/linear_model/_coordinate_descent.py:589: ConvergenceWarning: Objective did not converge. You might want to increase the number of iterations. Duality gap: 800951139711346.2, tolerance: 1291147310121.8848\n",
      "  model = cd_fast.sparse_enet_coordinate_descent(\n"
     ]
    },
    {
     "name": "stdout",
     "output_type": "stream",
     "text": [
      "[CV 1/3] END ........alpha=0.054287490185850155;, score=0.873 total time= 6.0min\n"
     ]
    },
    {
     "name": "stderr",
     "output_type": "stream",
     "text": [
      "/Users/gobind/.pyenv/versions/3.10.6/envs/hdb-price-estimator/lib/python3.10/site-packages/sklearn/linear_model/_coordinate_descent.py:589: ConvergenceWarning: Objective did not converge. You might want to increase the number of iterations. Duality gap: 811120672592501.0, tolerance: 1292291237542.4749\n",
      "  model = cd_fast.sparse_enet_coordinate_descent(\n"
     ]
    },
    {
     "name": "stdout",
     "output_type": "stream",
     "text": [
      "[CV 3/3] END .........alpha=0.02091008322651608;, score=0.873 total time= 6.2min\n"
     ]
    },
    {
     "name": "stderr",
     "output_type": "stream",
     "text": [
      "/Users/gobind/.pyenv/versions/3.10.6/envs/hdb-price-estimator/lib/python3.10/site-packages/sklearn/linear_model/_coordinate_descent.py:589: ConvergenceWarning: Objective did not converge. You might want to increase the number of iterations. Duality gap: 799879937040028.8, tolerance: 1292291237542.4749\n",
      "  model = cd_fast.sparse_enet_coordinate_descent(\n"
     ]
    },
    {
     "name": "stdout",
     "output_type": "stream",
     "text": [
      "[CV 3/3] END .........alpha=0.05558605222328068;, score=0.873 total time= 6.1min\n"
     ]
    },
    {
     "name": "stderr",
     "output_type": "stream",
     "text": [
      "/Users/gobind/.pyenv/versions/3.10.6/envs/hdb-price-estimator/lib/python3.10/site-packages/sklearn/linear_model/_coordinate_descent.py:589: ConvergenceWarning: Objective did not converge. You might want to increase the number of iterations. Duality gap: 801063257435010.6, tolerance: 1293679838187.6484\n",
      "  model = cd_fast.sparse_enet_coordinate_descent(\n"
     ]
    },
    {
     "name": "stdout",
     "output_type": "stream",
     "text": [
      "[CV 2/3] END ........alpha=0.054287490185850155;, score=0.873 total time= 6.2min\n"
     ]
    },
    {
     "name": "stderr",
     "output_type": "stream",
     "text": [
      "/Users/gobind/.pyenv/versions/3.10.6/envs/hdb-price-estimator/lib/python3.10/site-packages/sklearn/linear_model/_coordinate_descent.py:589: ConvergenceWarning: Objective did not converge. You might want to increase the number of iterations. Duality gap: 800293908716931.0, tolerance: 1292291237542.4749\n",
      "  model = cd_fast.sparse_enet_coordinate_descent(\n"
     ]
    },
    {
     "name": "stdout",
     "output_type": "stream",
     "text": [
      "[CV 3/3] END ........alpha=0.054287490185850155;, score=0.873 total time= 6.2min\n"
     ]
    },
    {
     "name": "stderr",
     "output_type": "stream",
     "text": [
      "/Users/gobind/.pyenv/versions/3.10.6/envs/hdb-price-estimator/lib/python3.10/site-packages/sklearn/linear_model/_coordinate_descent.py:589: ConvergenceWarning: Objective did not converge. You might want to increase the number of iterations. Duality gap: 725176832054255.4, tolerance: 1291147310121.8848\n",
      "  model = cd_fast.sparse_enet_coordinate_descent(\n"
     ]
    },
    {
     "name": "stdout",
     "output_type": "stream",
     "text": [
      "[CV 1/3] END .........alpha=0.31101681904367934;, score=0.873 total time= 6.3min\n"
     ]
    },
    {
     "name": "stderr",
     "output_type": "stream",
     "text": [
      "/Users/gobind/.pyenv/versions/3.10.6/envs/hdb-price-estimator/lib/python3.10/site-packages/sklearn/linear_model/_coordinate_descent.py:589: ConvergenceWarning: Objective did not converge. You might want to increase the number of iterations. Duality gap: 725512665376103.0, tolerance: 1293679838187.6484\n",
      "  model = cd_fast.sparse_enet_coordinate_descent(\n"
     ]
    },
    {
     "name": "stdout",
     "output_type": "stream",
     "text": [
      "[CV 2/3] END .........alpha=0.31101681904367934;, score=0.873 total time= 6.3min\n"
     ]
    },
    {
     "name": "stderr",
     "output_type": "stream",
     "text": [
      "/Users/gobind/.pyenv/versions/3.10.6/envs/hdb-price-estimator/lib/python3.10/site-packages/sklearn/linear_model/_coordinate_descent.py:589: ConvergenceWarning: Objective did not converge. You might want to increase the number of iterations. Duality gap: 819289840817948.1, tolerance: 1291147310121.8848\n",
      "  model = cd_fast.sparse_enet_coordinate_descent(\n"
     ]
    },
    {
     "name": "stdout",
     "output_type": "stream",
     "text": [
      "[CV 1/3] END ........alpha=0.000322002773092474;, score=0.873 total time= 6.3min\n"
     ]
    },
    {
     "name": "stderr",
     "output_type": "stream",
     "text": [
      "/Users/gobind/.pyenv/versions/3.10.6/envs/hdb-price-estimator/lib/python3.10/site-packages/sklearn/linear_model/_coordinate_descent.py:589: ConvergenceWarning: Objective did not converge. You might want to increase the number of iterations. Duality gap: 819546492264221.8, tolerance: 1293679838187.6484\n",
      "  model = cd_fast.sparse_enet_coordinate_descent(\n"
     ]
    },
    {
     "name": "stdout",
     "output_type": "stream",
     "text": [
      "[CV 2/3] END ........alpha=0.000322002773092474;, score=0.873 total time= 6.3min\n"
     ]
    },
    {
     "name": "stderr",
     "output_type": "stream",
     "text": [
      "/Users/gobind/.pyenv/versions/3.10.6/envs/hdb-price-estimator/lib/python3.10/site-packages/sklearn/linear_model/_coordinate_descent.py:589: ConvergenceWarning: Objective did not converge. You might want to increase the number of iterations. Duality gap: 817982561637190.4, tolerance: 1292291237542.4749\n",
      "  model = cd_fast.sparse_enet_coordinate_descent(\n"
     ]
    },
    {
     "name": "stdout",
     "output_type": "stream",
     "text": [
      "[CV 3/3] END ........alpha=0.000322002773092474;, score=0.873 total time= 6.3min\n"
     ]
    },
    {
     "name": "stderr",
     "output_type": "stream",
     "text": [
      "/Users/gobind/.pyenv/versions/3.10.6/envs/hdb-price-estimator/lib/python3.10/site-packages/sklearn/linear_model/_coordinate_descent.py:589: ConvergenceWarning: Objective did not converge. You might want to increase the number of iterations. Duality gap: 727546964219713.1, tolerance: 1292291237542.4749\n",
      "  model = cd_fast.sparse_enet_coordinate_descent(\n"
     ]
    },
    {
     "name": "stdout",
     "output_type": "stream",
     "text": [
      "[CV 3/3] END .........alpha=0.31101681904367934;, score=0.873 total time= 6.4min\n"
     ]
    },
    {
     "name": "stderr",
     "output_type": "stream",
     "text": [
      "/Users/gobind/.pyenv/versions/3.10.6/envs/hdb-price-estimator/lib/python3.10/site-packages/sklearn/linear_model/_coordinate_descent.py:589: ConvergenceWarning: Objective did not converge. You might want to increase the number of iterations. Duality gap: 811520081904344.1, tolerance: 1291147310121.8848\n",
      "  model = cd_fast.sparse_enet_coordinate_descent(\n"
     ]
    },
    {
     "name": "stdout",
     "output_type": "stream",
     "text": [
      "[CV 1/3] END ........alpha=0.022838857445567264;, score=0.873 total time= 6.2min\n"
     ]
    },
    {
     "name": "stderr",
     "output_type": "stream",
     "text": [
      "/Users/gobind/.pyenv/versions/3.10.6/envs/hdb-price-estimator/lib/python3.10/site-packages/sklearn/linear_model/_coordinate_descent.py:589: ConvergenceWarning: Objective did not converge. You might want to increase the number of iterations. Duality gap: 811710248922265.2, tolerance: 1293679838187.6484\n",
      "  model = cd_fast.sparse_enet_coordinate_descent(\n"
     ]
    },
    {
     "name": "stdout",
     "output_type": "stream",
     "text": [
      "[CV 2/3] END ........alpha=0.022838857445567264;, score=0.873 total time= 6.3min\n"
     ]
    },
    {
     "name": "stderr",
     "output_type": "stream",
     "text": [
      "/Users/gobind/.pyenv/versions/3.10.6/envs/hdb-price-estimator/lib/python3.10/site-packages/sklearn/linear_model/_coordinate_descent.py:589: ConvergenceWarning: Objective did not converge. You might want to increase the number of iterations. Duality gap: 819345580423566.9, tolerance: 1291147310121.8848\n",
      "  model = cd_fast.sparse_enet_coordinate_descent(\n"
     ]
    },
    {
     "name": "stdout",
     "output_type": "stream",
     "text": [
      "[CV 1/3] END ......alpha=0.00016225903940748885;, score=0.873 total time= 6.2min\n"
     ]
    },
    {
     "name": "stderr",
     "output_type": "stream",
     "text": [
      "/Users/gobind/.pyenv/versions/3.10.6/envs/hdb-price-estimator/lib/python3.10/site-packages/sklearn/linear_model/_coordinate_descent.py:589: ConvergenceWarning: Objective did not converge. You might want to increase the number of iterations. Duality gap: 810485117822635.9, tolerance: 1292291237542.4749\n",
      "  model = cd_fast.sparse_enet_coordinate_descent(\n"
     ]
    },
    {
     "name": "stdout",
     "output_type": "stream",
     "text": [
      "[CV 3/3] END ........alpha=0.022838857445567264;, score=0.873 total time= 6.4min\n"
     ]
    },
    {
     "name": "stderr",
     "output_type": "stream",
     "text": [
      "/Users/gobind/.pyenv/versions/3.10.6/envs/hdb-price-estimator/lib/python3.10/site-packages/sklearn/linear_model/_coordinate_descent.py:589: ConvergenceWarning: Objective did not converge. You might want to increase the number of iterations. Duality gap: 818975231037172.0, tolerance: 1293679838187.6484\n",
      "  model = cd_fast.sparse_enet_coordinate_descent(\n",
      "/Users/gobind/.pyenv/versions/3.10.6/envs/hdb-price-estimator/lib/python3.10/site-packages/sklearn/linear_model/_coordinate_descent.py:589: ConvergenceWarning: Objective did not converge. You might want to increase the number of iterations. Duality gap: 819602735293402.2, tolerance: 1293679838187.6484\n",
      "  model = cd_fast.sparse_enet_coordinate_descent(\n"
     ]
    },
    {
     "name": "stdout",
     "output_type": "stream",
     "text": [
      "[CV 2/3] END .......alpha=0.0019460118562019395;, score=0.873 total time= 6.1min\n",
      "[CV 2/3] END ......alpha=0.00016225903940748885;, score=0.873 total time= 6.2min\n"
     ]
    },
    {
     "name": "stderr",
     "output_type": "stream",
     "text": [
      "/Users/gobind/.pyenv/versions/3.10.6/envs/hdb-price-estimator/lib/python3.10/site-packages/sklearn/linear_model/_coordinate_descent.py:589: ConvergenceWarning: Objective did not converge. You might want to increase the number of iterations. Duality gap: 818036365068686.8, tolerance: 1292291237542.4749\n",
      "  model = cd_fast.sparse_enet_coordinate_descent(\n"
     ]
    },
    {
     "name": "stdout",
     "output_type": "stream",
     "text": [
      "[CV 3/3] END ......alpha=0.00016225903940748885;, score=0.873 total time= 6.2min\n"
     ]
    },
    {
     "name": "stderr",
     "output_type": "stream",
     "text": [
      "/Users/gobind/.pyenv/versions/3.10.6/envs/hdb-price-estimator/lib/python3.10/site-packages/sklearn/linear_model/_coordinate_descent.py:589: ConvergenceWarning: Objective did not converge. You might want to increase the number of iterations. Duality gap: 818723672102869.0, tolerance: 1291147310121.8848\n",
      "  model = cd_fast.sparse_enet_coordinate_descent(\n"
     ]
    },
    {
     "name": "stdout",
     "output_type": "stream",
     "text": [
      "[CV 1/3] END .......alpha=0.0019460118562019395;, score=0.873 total time= 6.2min\n"
     ]
    },
    {
     "name": "stderr",
     "output_type": "stream",
     "text": [
      "/Users/gobind/.pyenv/versions/3.10.6/envs/hdb-price-estimator/lib/python3.10/site-packages/sklearn/linear_model/_coordinate_descent.py:589: ConvergenceWarning: Objective did not converge. You might want to increase the number of iterations. Duality gap: 817436073223684.8, tolerance: 1292291237542.4749\n",
      "  model = cd_fast.sparse_enet_coordinate_descent(\n"
     ]
    },
    {
     "name": "stdout",
     "output_type": "stream",
     "text": [
      "[CV 3/3] END .......alpha=0.0019460118562019395;, score=0.873 total time= 6.2min\n"
     ]
    },
    {
     "name": "stderr",
     "output_type": "stream",
     "text": [
      "/Users/gobind/.pyenv/versions/3.10.6/envs/hdb-price-estimator/lib/python3.10/site-packages/sklearn/linear_model/_coordinate_descent.py:589: ConvergenceWarning: Objective did not converge. You might want to increase the number of iterations. Duality gap: 817088212767588.1, tolerance: 1291147310121.8848\n",
      "  model = cd_fast.sparse_enet_coordinate_descent(\n"
     ]
    },
    {
     "name": "stdout",
     "output_type": "stream",
     "text": [
      "[CV 1/3] END .........alpha=0.00665186636943989;, score=0.873 total time= 6.1min\n"
     ]
    },
    {
     "name": "stderr",
     "output_type": "stream",
     "text": [
      "/Users/gobind/.pyenv/versions/3.10.6/envs/hdb-price-estimator/lib/python3.10/site-packages/sklearn/linear_model/_coordinate_descent.py:589: ConvergenceWarning: Objective did not converge. You might want to increase the number of iterations. Duality gap: 814331762398915.2, tolerance: 1291147310121.8848\n",
      "  model = cd_fast.sparse_enet_coordinate_descent(\n",
      "/Users/gobind/.pyenv/versions/3.10.6/envs/hdb-price-estimator/lib/python3.10/site-packages/sklearn/linear_model/_coordinate_descent.py:589: ConvergenceWarning: Objective did not converge. You might want to increase the number of iterations. Duality gap: 815857606062674.6, tolerance: 1292291237542.4749\n",
      "  model = cd_fast.sparse_enet_coordinate_descent(\n"
     ]
    },
    {
     "name": "stdout",
     "output_type": "stream",
     "text": [
      "[CV 1/3] END ........alpha=0.014632928978691073;, score=0.873 total time= 6.2min\n",
      "[CV 3/3] END .........alpha=0.00665186636943989;, score=0.873 total time= 6.3min\n"
     ]
    },
    {
     "name": "stderr",
     "output_type": "stream",
     "text": [
      "/Users/gobind/.pyenv/versions/3.10.6/envs/hdb-price-estimator/lib/python3.10/site-packages/sklearn/linear_model/_coordinate_descent.py:589: ConvergenceWarning: Objective did not converge. You might want to increase the number of iterations. Duality gap: 817325276540428.5, tolerance: 1293679838187.6484\n",
      "  model = cd_fast.sparse_enet_coordinate_descent(\n"
     ]
    },
    {
     "name": "stdout",
     "output_type": "stream",
     "text": [
      "[CV 2/3] END .........alpha=0.00665186636943989;, score=0.873 total time= 6.4min\n"
     ]
    },
    {
     "name": "stderr",
     "output_type": "stream",
     "text": [
      "/Users/gobind/.pyenv/versions/3.10.6/envs/hdb-price-estimator/lib/python3.10/site-packages/sklearn/linear_model/_coordinate_descent.py:589: ConvergenceWarning: Objective did not converge. You might want to increase the number of iterations. Duality gap: 700781876413173.2, tolerance: 1292291237542.4749\n",
      "  model = cd_fast.sparse_enet_coordinate_descent(\n",
      "/Users/gobind/.pyenv/versions/3.10.6/envs/hdb-price-estimator/lib/python3.10/site-packages/sklearn/linear_model/_coordinate_descent.py:589: ConvergenceWarning: Objective did not converge. You might want to increase the number of iterations. Duality gap: 698611899042779.6, tolerance: 1293679838187.6484\n",
      "  model = cd_fast.sparse_enet_coordinate_descent(\n"
     ]
    },
    {
     "name": "stdout",
     "output_type": "stream",
     "text": [
      "[CV 3/3] END ..........alpha=0.4167804486953717;, score=0.873 total time= 6.4min\n",
      "[CV 2/3] END ..........alpha=0.4167804486953717;, score=0.873 total time= 6.4min\n"
     ]
    },
    {
     "name": "stderr",
     "output_type": "stream",
     "text": [
      "/Users/gobind/.pyenv/versions/3.10.6/envs/hdb-price-estimator/lib/python3.10/site-packages/sklearn/linear_model/_coordinate_descent.py:589: ConvergenceWarning: Objective did not converge. You might want to increase the number of iterations. Duality gap: 695944309575071.8, tolerance: 1291147310121.8848\n",
      "  model = cd_fast.sparse_enet_coordinate_descent(\n"
     ]
    },
    {
     "name": "stdout",
     "output_type": "stream",
     "text": [
      "[CV 1/3] END ..........alpha=0.4167804486953717;, score=0.873 total time= 6.4min\n"
     ]
    },
    {
     "name": "stderr",
     "output_type": "stream",
     "text": [
      "/Users/gobind/.pyenv/versions/3.10.6/envs/hdb-price-estimator/lib/python3.10/site-packages/sklearn/linear_model/_coordinate_descent.py:589: ConvergenceWarning: Objective did not converge. You might want to increase the number of iterations. Duality gap: 814545135192730.4, tolerance: 1293679838187.6484\n",
      "  model = cd_fast.sparse_enet_coordinate_descent(\n"
     ]
    },
    {
     "name": "stdout",
     "output_type": "stream",
     "text": [
      "[CV 2/3] END ........alpha=0.014632928978691073;, score=0.873 total time= 6.2min\n"
     ]
    },
    {
     "name": "stderr",
     "output_type": "stream",
     "text": [
      "/Users/gobind/.pyenv/versions/3.10.6/envs/hdb-price-estimator/lib/python3.10/site-packages/sklearn/linear_model/_coordinate_descent.py:589: ConvergenceWarning: Objective did not converge. You might want to increase the number of iterations. Duality gap: 813197700673526.4, tolerance: 1292291237542.4749\n",
      "  model = cd_fast.sparse_enet_coordinate_descent(\n"
     ]
    },
    {
     "name": "stdout",
     "output_type": "stream",
     "text": [
      "[CV 3/3] END ........alpha=0.014632928978691073;, score=0.873 total time= 6.3min\n"
     ]
    },
    {
     "name": "stderr",
     "output_type": "stream",
     "text": [
      "/Users/gobind/.pyenv/versions/3.10.6/envs/hdb-price-estimator/lib/python3.10/site-packages/sklearn/linear_model/_coordinate_descent.py:589: ConvergenceWarning: Objective did not converge. You might want to increase the number of iterations. Duality gap: 819353159723833.5, tolerance: 1291147310121.8848\n",
      "  model = cd_fast.sparse_enet_coordinate_descent(\n"
     ]
    },
    {
     "name": "stdout",
     "output_type": "stream",
     "text": [
      "[CV 1/3] END .......alpha=0.0001405395184708484;, score=0.873 total time= 6.2min\n"
     ]
    },
    {
     "name": "stderr",
     "output_type": "stream",
     "text": [
      "/Users/gobind/.pyenv/versions/3.10.6/envs/hdb-price-estimator/lib/python3.10/site-packages/sklearn/linear_model/_coordinate_descent.py:589: ConvergenceWarning: Objective did not converge. You might want to increase the number of iterations. Duality gap: 797995645563774.2, tolerance: 1292291237542.4749\n",
      "  model = cd_fast.sparse_enet_coordinate_descent(\n"
     ]
    },
    {
     "name": "stdout",
     "output_type": "stream",
     "text": [
      "[CV 3/3] END .........alpha=0.06151766685538422;, score=0.873 total time= 6.2min\n"
     ]
    },
    {
     "name": "stderr",
     "output_type": "stream",
     "text": [
      "/Users/gobind/.pyenv/versions/3.10.6/envs/hdb-price-estimator/lib/python3.10/site-packages/sklearn/linear_model/_coordinate_descent.py:589: ConvergenceWarning: Objective did not converge. You might want to increase the number of iterations. Duality gap: 818043681118638.8, tolerance: 1292291237542.4749\n",
      "  model = cd_fast.sparse_enet_coordinate_descent(\n"
     ]
    },
    {
     "name": "stdout",
     "output_type": "stream",
     "text": [
      "[CV 3/3] END .......alpha=0.0001405395184708484;, score=0.873 total time= 6.3min\n"
     ]
    },
    {
     "name": "stderr",
     "output_type": "stream",
     "text": [
      "/Users/gobind/.pyenv/versions/3.10.6/envs/hdb-price-estimator/lib/python3.10/site-packages/sklearn/linear_model/_coordinate_descent.py:589: ConvergenceWarning: Objective did not converge. You might want to increase the number of iterations. Duality gap: 798663716675175.1, tolerance: 1293679838187.6484\n",
      "  model = cd_fast.sparse_enet_coordinate_descent(\n"
     ]
    },
    {
     "name": "stdout",
     "output_type": "stream",
     "text": [
      "[CV 2/3] END .........alpha=0.06151766685538422;, score=0.873 total time= 6.3min\n"
     ]
    },
    {
     "name": "stderr",
     "output_type": "stream",
     "text": [
      "/Users/gobind/.pyenv/versions/3.10.6/envs/hdb-price-estimator/lib/python3.10/site-packages/sklearn/linear_model/_coordinate_descent.py:589: ConvergenceWarning: Objective did not converge. You might want to increase the number of iterations. Duality gap: 819610383078615.5, tolerance: 1293679838187.6484\n",
      "  model = cd_fast.sparse_enet_coordinate_descent(\n"
     ]
    },
    {
     "name": "stdout",
     "output_type": "stream",
     "text": [
      "[CV 2/3] END .......alpha=0.0001405395184708484;, score=0.873 total time= 6.3min\n"
     ]
    },
    {
     "name": "stderr",
     "output_type": "stream",
     "text": [
      "/Users/gobind/.pyenv/versions/3.10.6/envs/hdb-price-estimator/lib/python3.10/site-packages/sklearn/linear_model/_coordinate_descent.py:589: ConvergenceWarning: Objective did not converge. You might want to increase the number of iterations. Duality gap: 798566617581928.4, tolerance: 1291147310121.8848\n",
      "  model = cd_fast.sparse_enet_coordinate_descent(\n"
     ]
    },
    {
     "name": "stdout",
     "output_type": "stream",
     "text": [
      "[CV 1/3] END .........alpha=0.06151766685538422;, score=0.873 total time= 6.3min\n"
     ]
    },
    {
     "name": "stderr",
     "output_type": "stream",
     "text": [
      "/Users/gobind/.pyenv/versions/3.10.6/envs/hdb-price-estimator/lib/python3.10/site-packages/sklearn/linear_model/_coordinate_descent.py:589: ConvergenceWarning: Objective did not converge. You might want to increase the number of iterations. Duality gap: 566597995449982.5, tolerance: 1291147310121.8848\n",
      "  model = cd_fast.sparse_enet_coordinate_descent(\n"
     ]
    },
    {
     "name": "stdout",
     "output_type": "stream",
     "text": [
      "[CV 1/3] END ..........alpha=0.9455869126421402;, score=0.873 total time= 6.4min\n"
     ]
    },
    {
     "name": "stderr",
     "output_type": "stream",
     "text": [
      "/Users/gobind/.pyenv/versions/3.10.6/envs/hdb-price-estimator/lib/python3.10/site-packages/sklearn/linear_model/_coordinate_descent.py:589: ConvergenceWarning: Objective did not converge. You might want to increase the number of iterations. Duality gap: 575253070322296.1, tolerance: 1293679838187.6484\n",
      "  model = cd_fast.sparse_enet_coordinate_descent(\n"
     ]
    },
    {
     "name": "stdout",
     "output_type": "stream",
     "text": [
      "[CV 2/3] END ..........alpha=0.9455869126421402;, score=0.873 total time= 6.5min\n"
     ]
    },
    {
     "name": "stderr",
     "output_type": "stream",
     "text": [
      "/Users/gobind/.pyenv/versions/3.10.6/envs/hdb-price-estimator/lib/python3.10/site-packages/sklearn/linear_model/_coordinate_descent.py:589: ConvergenceWarning: Objective did not converge. You might want to increase the number of iterations. Duality gap: 819182205493467.4, tolerance: 1291147310121.8848\n",
      "  model = cd_fast.sparse_enet_coordinate_descent(\n",
      "/Users/gobind/.pyenv/versions/3.10.6/envs/hdb-price-estimator/lib/python3.10/site-packages/sklearn/linear_model/_coordinate_descent.py:589: ConvergenceWarning: Objective did not converge. You might want to increase the number of iterations. Duality gap: 819437885929133.5, tolerance: 1293679838187.6484\n",
      "  model = cd_fast.sparse_enet_coordinate_descent(\n"
     ]
    },
    {
     "name": "stdout",
     "output_type": "stream",
     "text": [
      "[CV 1/3] END .......alpha=0.0006305451995133826;, score=0.873 total time= 6.2min\n",
      "[CV 2/3] END .......alpha=0.0006305451995133826;, score=0.873 total time= 6.1min\n"
     ]
    },
    {
     "name": "stderr",
     "output_type": "stream",
     "text": [
      "/Users/gobind/.pyenv/versions/3.10.6/envs/hdb-price-estimator/lib/python3.10/site-packages/sklearn/linear_model/_coordinate_descent.py:589: ConvergenceWarning: Objective did not converge. You might want to increase the number of iterations. Duality gap: 817878665902439.1, tolerance: 1292291237542.4749\n",
      "  model = cd_fast.sparse_enet_coordinate_descent(\n"
     ]
    },
    {
     "name": "stdout",
     "output_type": "stream",
     "text": [
      "[CV 3/3] END .......alpha=0.0006305451995133826;, score=0.873 total time= 6.2min\n"
     ]
    },
    {
     "name": "stderr",
     "output_type": "stream",
     "text": [
      "/Users/gobind/.pyenv/versions/3.10.6/envs/hdb-price-estimator/lib/python3.10/site-packages/sklearn/linear_model/_coordinate_descent.py:589: ConvergenceWarning: Objective did not converge. You might want to increase the number of iterations. Duality gap: 806929493590610.1, tolerance: 1293679838187.6484\n",
      "  model = cd_fast.sparse_enet_coordinate_descent(\n"
     ]
    },
    {
     "name": "stdout",
     "output_type": "stream",
     "text": [
      "[CV 2/3] END .........alpha=0.03683503719043096;, score=0.873 total time= 6.2min\n"
     ]
    },
    {
     "name": "stderr",
     "output_type": "stream",
     "text": [
      "/Users/gobind/.pyenv/versions/3.10.6/envs/hdb-price-estimator/lib/python3.10/site-packages/sklearn/linear_model/_coordinate_descent.py:589: ConvergenceWarning: Objective did not converge. You might want to increase the number of iterations. Duality gap: 806776045805313.8, tolerance: 1291147310121.8848\n",
      "  model = cd_fast.sparse_enet_coordinate_descent(\n"
     ]
    },
    {
     "name": "stdout",
     "output_type": "stream",
     "text": [
      "[CV 1/3] END .........alpha=0.03683503719043096;, score=0.873 total time= 6.2min\n"
     ]
    },
    {
     "name": "stderr",
     "output_type": "stream",
     "text": [
      "/Users/gobind/.pyenv/versions/3.10.6/envs/hdb-price-estimator/lib/python3.10/site-packages/sklearn/linear_model/_coordinate_descent.py:589: ConvergenceWarning: Objective did not converge. You might want to increase the number of iterations. Duality gap: 578175014446585.8, tolerance: 1292291237542.4749\n",
      "  model = cd_fast.sparse_enet_coordinate_descent(\n"
     ]
    },
    {
     "name": "stdout",
     "output_type": "stream",
     "text": [
      "[CV 3/3] END ..........alpha=0.9455869126421402;, score=0.873 total time= 6.4min\n"
     ]
    },
    {
     "name": "stderr",
     "output_type": "stream",
     "text": [
      "/Users/gobind/.pyenv/versions/3.10.6/envs/hdb-price-estimator/lib/python3.10/site-packages/sklearn/linear_model/_coordinate_descent.py:589: ConvergenceWarning: Objective did not converge. You might want to increase the number of iterations. Duality gap: 805909874445915.9, tolerance: 1292291237542.4749\n",
      "  model = cd_fast.sparse_enet_coordinate_descent(\n"
     ]
    },
    {
     "name": "stdout",
     "output_type": "stream",
     "text": [
      "[CV 3/3] END .........alpha=0.03683503719043096;, score=0.873 total time= 3.1min\n"
     ]
    },
    {
     "name": "stderr",
     "output_type": "stream",
     "text": [
      "/Users/gobind/.pyenv/versions/3.10.6/envs/hdb-price-estimator/lib/python3.10/site-packages/sklearn/linear_model/_coordinate_descent.py:589: ConvergenceWarning: Objective did not converge. You might want to increase the number of iterations. Duality gap: 788593395870448.6, tolerance: 1291147310121.8848\n",
      "  model = cd_fast.sparse_enet_coordinate_descent(\n"
     ]
    },
    {
     "name": "stdout",
     "output_type": "stream",
     "text": [
      "[CV 1/3] END .........alpha=0.09231744974910122;, score=0.873 total time= 3.0min\n"
     ]
    },
    {
     "name": "stderr",
     "output_type": "stream",
     "text": [
      "/Users/gobind/.pyenv/versions/3.10.6/envs/hdb-price-estimator/lib/python3.10/site-packages/sklearn/linear_model/_coordinate_descent.py:589: ConvergenceWarning: Objective did not converge. You might want to increase the number of iterations. Duality gap: 788647428762049.0, tolerance: 1293679838187.6484\n",
      "  model = cd_fast.sparse_enet_coordinate_descent(\n"
     ]
    },
    {
     "name": "stdout",
     "output_type": "stream",
     "text": [
      "[CV 2/3] END .........alpha=0.09231744974910122;, score=0.873 total time= 2.9min\n"
     ]
    },
    {
     "name": "stderr",
     "output_type": "stream",
     "text": [
      "/Users/gobind/.pyenv/versions/3.10.6/envs/hdb-price-estimator/lib/python3.10/site-packages/sklearn/linear_model/_coordinate_descent.py:589: ConvergenceWarning: Objective did not converge. You might want to increase the number of iterations. Duality gap: 788391178049453.0, tolerance: 1292291237542.4749\n",
      "  model = cd_fast.sparse_enet_coordinate_descent(\n"
     ]
    },
    {
     "name": "stdout",
     "output_type": "stream",
     "text": [
      "[CV 3/3] END .........alpha=0.09231744974910122;, score=0.873 total time= 2.9min\n",
      "Best parameters found:  {'alpha': 0.0001372620524176436}\n",
      "Best R2 score:  0.8731261452649233\n"
     ]
    },
    {
     "name": "stderr",
     "output_type": "stream",
     "text": [
      "/Users/gobind/.pyenv/versions/3.10.6/envs/hdb-price-estimator/lib/python3.10/site-packages/sklearn/linear_model/_coordinate_descent.py:589: ConvergenceWarning: Objective did not converge. You might want to increase the number of iterations. Duality gap: 1228700895843524.5, tolerance: 1938559417106.7517\n",
      "  model = cd_fast.sparse_enet_coordinate_descent(\n"
     ]
    }
   ],
   "source": [
    "# Instantiate base model\n",
    "base_lasso_model = Lasso()\n",
    "\n",
    "# Define space to search\n",
    "params = {'alpha': loguniform(0.0001, 1)}\n",
    "\n",
    "# Create the RandomizedSearchCV object\n",
    "lasso_random_search = RandomizedSearchCV(estimator=base_lasso_model,\n",
    "                                         param_distributions=params,\n",
    "                                         n_iter=20,\n",
    "                                         scoring='r2',\n",
    "                                         cv=3,\n",
    "                                         random_state=108,\n",
    "                                         n_jobs=-1,\n",
    "                                         verbose=5)\n",
    "\n",
    "# Fit the training data\n",
    "lasso_random_search.fit(X_train_processed, y_train)\n"
   ]
  },
  {
   "cell_type": "code",
   "execution_count": 41,
   "metadata": {},
   "outputs": [
    {
     "name": "stdout",
     "output_type": "stream",
     "text": [
      "Best parameters found:  {'alpha': 0.0001372620524176436}\n",
      "Best R2 score:  0.8731261452649233\n"
     ]
    }
   ],
   "source": [
    "# Get best parameters and model\n",
    "best_parameters = lasso_random_search.best_params_\n",
    "best_model = lasso_random_search.best_estimator_\n",
    "\n",
    "print(\"Best parameters found: \", best_parameters)\n",
    "print(\"Best R2 score: \", lasso_random_search.best_score_)"
   ]
  },
  {
   "cell_type": "code",
   "execution_count": 38,
   "metadata": {},
   "outputs": [
    {
     "name": "stdout",
     "output_type": "stream",
     "text": [
      "Testing r2 score = 0.87\n",
      "Testing Mean Absolute Error = 44813.37\n"
     ]
    }
   ],
   "source": [
    "# Predict y with fitted model\n",
    "y_pred = lasso_random_search.best_estimator_.predict(X_test_processed)\n",
    "\n",
    "# results\n",
    "lasso_random_cv_base_mae_mean = round(mean_absolute_error(y_test, y_pred),2)\n",
    "lasso_random_cv_base_r2_mean = round(r2_score(y_test, y_pred),2)\n",
    "\n",
    "print(\"Testing r2 score =\", lasso_random_cv_base_r2_mean)\n",
    "print(\"Testing Mean Absolute Error =\", lasso_random_cv_base_mae_mean)"
   ]
  },
  {
   "cell_type": "markdown",
   "metadata": {},
   "source": [
    "##### Using Grid Search "
   ]
  },
  {
   "cell_type": "code",
   "execution_count": 39,
   "metadata": {},
   "outputs": [
    {
     "name": "stdout",
     "output_type": "stream",
     "text": [
      "Fitting 3 folds for each of 5 candidates, totalling 15 fits\n"
     ]
    },
    {
     "name": "stderr",
     "output_type": "stream",
     "text": [
      "/Users/gobind/.pyenv/versions/3.10.6/envs/hdb-price-estimator/lib/python3.10/site-packages/sklearn/linear_model/_coordinate_descent.py:589: ConvergenceWarning: Objective did not converge. You might want to increase the number of iterations. Duality gap: 818057336961201.4, tolerance: 1292291237542.4749\n",
      "  model = cd_fast.sparse_enet_coordinate_descent(\n"
     ]
    },
    {
     "name": "stdout",
     "output_type": "stream",
     "text": [
      "[CV 3/3] END ......................alpha=0.0001;, score=0.873 total time= 5.7min\n"
     ]
    },
    {
     "name": "stderr",
     "output_type": "stream",
     "text": [
      "/Users/gobind/.pyenv/versions/3.10.6/envs/hdb-price-estimator/lib/python3.10/site-packages/sklearn/linear_model/_coordinate_descent.py:589: ConvergenceWarning: Objective did not converge. You might want to increase the number of iterations. Duality gap: 819624658139002.1, tolerance: 1293679838187.6484\n",
      "  model = cd_fast.sparse_enet_coordinate_descent(\n"
     ]
    },
    {
     "name": "stdout",
     "output_type": "stream",
     "text": [
      "[CV 2/3] END ......................alpha=0.0001;, score=0.873 total time= 5.7min\n"
     ]
    },
    {
     "name": "stderr",
     "output_type": "stream",
     "text": [
      "/Users/gobind/.pyenv/versions/3.10.6/envs/hdb-price-estimator/lib/python3.10/site-packages/sklearn/linear_model/_coordinate_descent.py:589: ConvergenceWarning: Objective did not converge. You might want to increase the number of iterations. Duality gap: 742082725523604.1, tolerance: 1291147310121.8848\n",
      "  model = cd_fast.sparse_enet_coordinate_descent(\n"
     ]
    },
    {
     "name": "stdout",
     "output_type": "stream",
     "text": [
      "[CV 1/3] END ....................alpha=0.250075;, score=0.873 total time= 5.7min\n"
     ]
    },
    {
     "name": "stderr",
     "output_type": "stream",
     "text": [
      "/Users/gobind/.pyenv/versions/3.10.6/envs/hdb-price-estimator/lib/python3.10/site-packages/sklearn/linear_model/_coordinate_descent.py:589: ConvergenceWarning: Objective did not converge. You might want to increase the number of iterations. Duality gap: 741675413476612.1, tolerance: 1293679838187.6484\n",
      "  model = cd_fast.sparse_enet_coordinate_descent(\n",
      "/Users/gobind/.pyenv/versions/3.10.6/envs/hdb-price-estimator/lib/python3.10/site-packages/sklearn/linear_model/_coordinate_descent.py:589: ConvergenceWarning: Objective did not converge. You might want to increase the number of iterations. Duality gap: 819367306927361.2, tolerance: 1291147310121.8848\n",
      "  model = cd_fast.sparse_enet_coordinate_descent(\n"
     ]
    },
    {
     "name": "stdout",
     "output_type": "stream",
     "text": [
      "[CV 2/3] END ....................alpha=0.250075;, score=0.873 total time= 5.8min\n",
      "[CV 1/3] END ......................alpha=0.0001;, score=0.873 total time= 5.8min\n"
     ]
    },
    {
     "name": "stderr",
     "output_type": "stream",
     "text": [
      "/Users/gobind/.pyenv/versions/3.10.6/envs/hdb-price-estimator/lib/python3.10/site-packages/sklearn/linear_model/_coordinate_descent.py:589: ConvergenceWarning: Objective did not converge. You might want to increase the number of iterations. Duality gap: 743779587366559.0, tolerance: 1292291237542.4749\n",
      "  model = cd_fast.sparse_enet_coordinate_descent(\n"
     ]
    },
    {
     "name": "stdout",
     "output_type": "stream",
     "text": [
      "[CV 3/3] END ....................alpha=0.250075;, score=0.873 total time= 5.8min\n"
     ]
    },
    {
     "name": "stderr",
     "output_type": "stream",
     "text": [
      "/Users/gobind/.pyenv/versions/3.10.6/envs/hdb-price-estimator/lib/python3.10/site-packages/sklearn/linear_model/_coordinate_descent.py:589: ConvergenceWarning: Objective did not converge. You might want to increase the number of iterations. Duality gap: 676123763547261.5, tolerance: 1291147310121.8848\n",
      "  model = cd_fast.sparse_enet_coordinate_descent(\n"
     ]
    },
    {
     "name": "stdout",
     "output_type": "stream",
     "text": [
      "[CV 1/3] END .....................alpha=0.50005;, score=0.873 total time= 5.9min\n"
     ]
    },
    {
     "name": "stderr",
     "output_type": "stream",
     "text": [
      "/Users/gobind/.pyenv/versions/3.10.6/envs/hdb-price-estimator/lib/python3.10/site-packages/sklearn/linear_model/_coordinate_descent.py:589: ConvergenceWarning: Objective did not converge. You might want to increase the number of iterations. Duality gap: 680691989015052.8, tolerance: 1292291237542.4749\n",
      "  model = cd_fast.sparse_enet_coordinate_descent(\n"
     ]
    },
    {
     "name": "stdout",
     "output_type": "stream",
     "text": [
      "[CV 3/3] END .....................alpha=0.50005;, score=0.873 total time= 5.7min\n"
     ]
    },
    {
     "name": "stderr",
     "output_type": "stream",
     "text": [
      "/Users/gobind/.pyenv/versions/3.10.6/envs/hdb-price-estimator/lib/python3.10/site-packages/sklearn/linear_model/_coordinate_descent.py:589: ConvergenceWarning: Objective did not converge. You might want to increase the number of iterations. Duality gap: 674539287227759.6, tolerance: 1293679838187.6484\n",
      "  model = cd_fast.sparse_enet_coordinate_descent(\n"
     ]
    },
    {
     "name": "stdout",
     "output_type": "stream",
     "text": [
      "[CV 2/3] END .....................alpha=0.50005;, score=0.873 total time= 5.8min\n"
     ]
    },
    {
     "name": "stderr",
     "output_type": "stream",
     "text": [
      "/Users/gobind/.pyenv/versions/3.10.6/envs/hdb-price-estimator/lib/python3.10/site-packages/sklearn/linear_model/_coordinate_descent.py:589: ConvergenceWarning: Objective did not converge. You might want to increase the number of iterations. Duality gap: 616371276460536.8, tolerance: 1291147310121.8848\n",
      "  model = cd_fast.sparse_enet_coordinate_descent(\n",
      "/Users/gobind/.pyenv/versions/3.10.6/envs/hdb-price-estimator/lib/python3.10/site-packages/sklearn/linear_model/_coordinate_descent.py:589: ConvergenceWarning: Objective did not converge. You might want to increase the number of iterations. Duality gap: 622401026085654.1, tolerance: 1292291237542.4749\n",
      "  model = cd_fast.sparse_enet_coordinate_descent(\n"
     ]
    },
    {
     "name": "stdout",
     "output_type": "stream",
     "text": [
      "[CV 1/3] END ..........alpha=0.7500249999999999;, score=0.873 total time= 5.7min\n",
      "[CV 3/3] END ..........alpha=0.7500249999999999;, score=0.873 total time= 5.7min\n"
     ]
    },
    {
     "name": "stderr",
     "output_type": "stream",
     "text": [
      "/Users/gobind/.pyenv/versions/3.10.6/envs/hdb-price-estimator/lib/python3.10/site-packages/sklearn/linear_model/_coordinate_descent.py:589: ConvergenceWarning: Objective did not converge. You might want to increase the number of iterations. Duality gap: 617021399547927.4, tolerance: 1293679838187.6484\n",
      "  model = cd_fast.sparse_enet_coordinate_descent(\n"
     ]
    },
    {
     "name": "stdout",
     "output_type": "stream",
     "text": [
      "[CV 2/3] END ..........alpha=0.7500249999999999;, score=0.873 total time= 5.7min\n"
     ]
    },
    {
     "name": "stderr",
     "output_type": "stream",
     "text": [
      "/Users/gobind/.pyenv/versions/3.10.6/envs/hdb-price-estimator/lib/python3.10/site-packages/sklearn/linear_model/_coordinate_descent.py:589: ConvergenceWarning: Objective did not converge. You might want to increase the number of iterations. Duality gap: 557096634205465.0, tolerance: 1293679838187.6484\n",
      "  model = cd_fast.sparse_enet_coordinate_descent(\n"
     ]
    },
    {
     "name": "stdout",
     "output_type": "stream",
     "text": [
      "[CV 2/3] END .........................alpha=1.0;, score=0.873 total time= 5.7min\n"
     ]
    },
    {
     "name": "stderr",
     "output_type": "stream",
     "text": [
      "/Users/gobind/.pyenv/versions/3.10.6/envs/hdb-price-estimator/lib/python3.10/site-packages/sklearn/linear_model/_coordinate_descent.py:589: ConvergenceWarning: Objective did not converge. You might want to increase the number of iterations. Duality gap: 551078631844694.94, tolerance: 1291147310121.8848\n",
      "  model = cd_fast.sparse_enet_coordinate_descent(\n"
     ]
    },
    {
     "name": "stdout",
     "output_type": "stream",
     "text": [
      "[CV 1/3] END .........................alpha=1.0;, score=0.873 total time= 5.7min\n"
     ]
    },
    {
     "name": "stderr",
     "output_type": "stream",
     "text": [
      "/Users/gobind/.pyenv/versions/3.10.6/envs/hdb-price-estimator/lib/python3.10/site-packages/sklearn/linear_model/_coordinate_descent.py:589: ConvergenceWarning: Objective did not converge. You might want to increase the number of iterations. Duality gap: 562809762192746.6, tolerance: 1292291237542.4749\n",
      "  model = cd_fast.sparse_enet_coordinate_descent(\n"
     ]
    },
    {
     "name": "stdout",
     "output_type": "stream",
     "text": [
      "[CV 3/3] END .........................alpha=1.0;, score=0.873 total time= 2.2min\n",
      "Best parameters found:  {'alpha': 0.0001}\n",
      "Best R2 score:  0.8731261520990775\n"
     ]
    },
    {
     "name": "stderr",
     "output_type": "stream",
     "text": [
      "/Users/gobind/.pyenv/versions/3.10.6/envs/hdb-price-estimator/lib/python3.10/site-packages/sklearn/linear_model/_coordinate_descent.py:589: ConvergenceWarning: Objective did not converge. You might want to increase the number of iterations. Duality gap: 1228720202885497.8, tolerance: 1938559417106.7517\n",
      "  model = cd_fast.sparse_enet_coordinate_descent(\n"
     ]
    }
   ],
   "source": [
    "# Instantiate base model\n",
    "base_lasso_model = Lasso()\n",
    "\n",
    "# Define grid to search\n",
    "params = {'alpha': np.linspace(0.0001, 1, 5)}  # 5 values from 0.0001 to 1\n",
    "\n",
    "# Create the GridSearchCV object\n",
    "lasso_grid_search = GridSearchCV(estimator=base_lasso_model,\n",
    "                                 param_grid=params,\n",
    "                                 scoring='r2',\n",
    "                                 cv=3,\n",
    "                                 n_jobs=-2,\n",
    "                                 verbose=4)\n",
    "\n",
    "# Fit the training data\n",
    "lasso_grid_search.fit(X_train_processed, y_train)\n"
   ]
  },
  {
   "cell_type": "code",
   "execution_count": 42,
   "metadata": {},
   "outputs": [
    {
     "name": "stdout",
     "output_type": "stream",
     "text": [
      "Best parameters found:  {'alpha': 0.0001}\n",
      "Best R2 score:  0.8731261520990775\n"
     ]
    }
   ],
   "source": [
    "# Get best parameters and model\n",
    "best_parameters = lasso_grid_search.best_params_\n",
    "best_model = lasso_grid_search.best_estimator_\n",
    "\n",
    "print(\"Best parameters found: \", best_parameters)\n",
    "print(\"Best R2 score: \", lasso_grid_search.best_score_)\n"
   ]
  },
  {
   "cell_type": "code",
   "execution_count": 40,
   "metadata": {},
   "outputs": [
    {
     "name": "stdout",
     "output_type": "stream",
     "text": [
      "Testing r2 score = 0.87\n",
      "Testing Mean Absolute Error = 44813.37\n"
     ]
    }
   ],
   "source": [
    "# Predict y with fitted model\n",
    "y_pred = lasso_grid_search.best_estimator_.predict(X_test_processed)\n",
    "\n",
    "# results\n",
    "lasso_grid_base_mae_mean = round(mean_absolute_error(y_test, y_pred),2)\n",
    "lasso_grid_base_r2_mean = round(r2_score(y_test, y_pred),2)\n",
    "\n",
    "print(\"Testing r2 score =\", lasso_grid_base_r2_mean)\n",
    "print(\"Testing Mean Absolute Error =\", lasso_grid_base_mae_mean)"
   ]
  },
  {
   "cell_type": "markdown",
   "metadata": {},
   "source": [
    "#### Summary of Results"
   ]
  },
  {
   "cell_type": "code",
   "execution_count": 45,
   "metadata": {},
   "outputs": [
    {
     "name": "stdout",
     "output_type": "stream",
     "text": [
      "base ridge modedl mae score: 44806.75\n",
      "base ridge modedl r2 score: 0.87\n",
      "RandomizedSearchCV ridge mae score: 44842.81\n",
      "RandomizedSearchCV ridge r2 score: 0.87\n",
      "gridSearchCV ridge mae score: 44804.05\n",
      "gridSearchCV ridge r2 score: 0.87\n",
      "base lasso mae score: 44843.36\n",
      "base lasso r2 score: 0.87\n",
      "RandomizedSearchCV lasso mae score: 44813.37\n",
      "RandomizedSearchCV lasso r2 score: 0.87\n",
      "gridSearchCV lasso mae score: 44813.37\n",
      "gridSearchCV lasso r2 score: 0.87\n"
     ]
    }
   ],
   "source": [
    "# Base Ridge Model Test Scores\n",
    "print(\"base ridge modedl mae score:\", test_base_mae_mean)\n",
    "print(\"base ridge modedl r2 score:\", test_base_r2_mean)\n",
    "\n",
    "# RandomCV Ridge Model Test\n",
    "print(\"RandomizedSearchCV ridge mae score:\", random_cv_mae_mean)\n",
    "print(\"RandomizedSearchCV ridge r2 score:\", random_cv_r2_mean)\n",
    "\n",
    "# GridSearch Ridge Model Test\n",
    "print(\"gridSearchCV ridge mae score:\", grid_search_mae_mean)\n",
    "print(\"gridSearchCV ridge r2 score:\", grid_search_r2_mean)\n",
    "\n",
    "# Base Lasso Model Test\n",
    "print(\"base lasso mae score:\", lasso_test_base_mae_mean)\n",
    "print(\"base lasso r2 score:\", lasso_test_base_r2_mean)\n",
    "\n",
    "# RandomCV Lasso Model\n",
    "print(\"RandomizedSearchCV lasso mae score:\", lasso_random_cv_base_mae_mean)\n",
    "print(\"RandomizedSearchCV lasso r2 score:\", lasso_random_cv_base_r2_mean)\n",
    "\n",
    "# Gridsearch Lasso Model\n",
    "print(\"gridSearchCV lasso mae score:\", lasso_grid_base_mae_mean)\n",
    "print(\"gridSearchCV lasso r2 score:\", lasso_grid_base_r2_mean)"
   ]
  },
  {
   "cell_type": "markdown",
   "metadata": {},
   "source": [
    "**Comments on Results**\n",
    "- Overall, all models show a similar R² score of 0.87, indicating comparable performance in terms of the proportion of variance explained. \n",
    "- The MAE scores are also quite close, with the lowest MAE observed in the Ridge model optimized with GridSearchCV (44804.05). \n",
    "- The models' performance differences are minimal, indicating the base models were already performing optimally."
   ]
  },
  {
   "cell_type": "markdown",
   "metadata": {},
   "source": [
    "### Putting it Together in a Pipeline to Save"
   ]
  },
  {
   "cell_type": "code",
   "execution_count": 3,
   "metadata": {},
   "outputs": [
    {
     "data": {
      "text/html": [
       "<style>#sk-container-id-1 {color: black;}#sk-container-id-1 pre{padding: 0;}#sk-container-id-1 div.sk-toggleable {background-color: white;}#sk-container-id-1 label.sk-toggleable__label {cursor: pointer;display: block;width: 100%;margin-bottom: 0;padding: 0.3em;box-sizing: border-box;text-align: center;}#sk-container-id-1 label.sk-toggleable__label-arrow:before {content: \"▸\";float: left;margin-right: 0.25em;color: #696969;}#sk-container-id-1 label.sk-toggleable__label-arrow:hover:before {color: black;}#sk-container-id-1 div.sk-estimator:hover label.sk-toggleable__label-arrow:before {color: black;}#sk-container-id-1 div.sk-toggleable__content {max-height: 0;max-width: 0;overflow: hidden;text-align: left;background-color: #f0f8ff;}#sk-container-id-1 div.sk-toggleable__content pre {margin: 0.2em;color: black;border-radius: 0.25em;background-color: #f0f8ff;}#sk-container-id-1 input.sk-toggleable__control:checked~div.sk-toggleable__content {max-height: 200px;max-width: 100%;overflow: auto;}#sk-container-id-1 input.sk-toggleable__control:checked~label.sk-toggleable__label-arrow:before {content: \"▾\";}#sk-container-id-1 div.sk-estimator input.sk-toggleable__control:checked~label.sk-toggleable__label {background-color: #d4ebff;}#sk-container-id-1 div.sk-label input.sk-toggleable__control:checked~label.sk-toggleable__label {background-color: #d4ebff;}#sk-container-id-1 input.sk-hidden--visually {border: 0;clip: rect(1px 1px 1px 1px);clip: rect(1px, 1px, 1px, 1px);height: 1px;margin: -1px;overflow: hidden;padding: 0;position: absolute;width: 1px;}#sk-container-id-1 div.sk-estimator {font-family: monospace;background-color: #f0f8ff;border: 1px dotted black;border-radius: 0.25em;box-sizing: border-box;margin-bottom: 0.5em;}#sk-container-id-1 div.sk-estimator:hover {background-color: #d4ebff;}#sk-container-id-1 div.sk-parallel-item::after {content: \"\";width: 100%;border-bottom: 1px solid gray;flex-grow: 1;}#sk-container-id-1 div.sk-label:hover label.sk-toggleable__label {background-color: #d4ebff;}#sk-container-id-1 div.sk-serial::before {content: \"\";position: absolute;border-left: 1px solid gray;box-sizing: border-box;top: 0;bottom: 0;left: 50%;z-index: 0;}#sk-container-id-1 div.sk-serial {display: flex;flex-direction: column;align-items: center;background-color: white;padding-right: 0.2em;padding-left: 0.2em;position: relative;}#sk-container-id-1 div.sk-item {position: relative;z-index: 1;}#sk-container-id-1 div.sk-parallel {display: flex;align-items: stretch;justify-content: center;background-color: white;position: relative;}#sk-container-id-1 div.sk-item::before, #sk-container-id-1 div.sk-parallel-item::before {content: \"\";position: absolute;border-left: 1px solid gray;box-sizing: border-box;top: 0;bottom: 0;left: 50%;z-index: -1;}#sk-container-id-1 div.sk-parallel-item {display: flex;flex-direction: column;z-index: 1;position: relative;background-color: white;}#sk-container-id-1 div.sk-parallel-item:first-child::after {align-self: flex-end;width: 50%;}#sk-container-id-1 div.sk-parallel-item:last-child::after {align-self: flex-start;width: 50%;}#sk-container-id-1 div.sk-parallel-item:only-child::after {width: 0;}#sk-container-id-1 div.sk-dashed-wrapped {border: 1px dashed gray;margin: 0 0.4em 0.5em 0.4em;box-sizing: border-box;padding-bottom: 0.4em;background-color: white;}#sk-container-id-1 div.sk-label label {font-family: monospace;font-weight: bold;display: inline-block;line-height: 1.2em;}#sk-container-id-1 div.sk-label-container {text-align: center;}#sk-container-id-1 div.sk-container {/* jupyter's `normalize.less` sets `[hidden] { display: none; }` but bootstrap.min.css set `[hidden] { display: none !important; }` so we also need the `!important` here to be able to override the default hidden behavior on the sphinx rendered scikit-learn.org. See: https://github.com/scikit-learn/scikit-learn/issues/21755 */display: inline-block !important;position: relative;}#sk-container-id-1 div.sk-text-repr-fallback {display: none;}</style><div id=\"sk-container-id-1\" class=\"sk-top-container\"><div class=\"sk-text-repr-fallback\"><pre>Pipeline(steps=[(&#x27;columntransformer&#x27;,\n",
       "                 ColumnTransformer(transformers=[(&#x27;onehotencoder&#x27;,\n",
       "                                                  OneHotEncoder(drop=&#x27;first&#x27;,\n",
       "                                                                handle_unknown=&#x27;ignore&#x27;),\n",
       "                                                  Index([&#x27;town&#x27;, &#x27;flat_type&#x27;, &#x27;storey_range&#x27;, &#x27;flat_model&#x27;, &#x27;most_closest_mrt&#x27;], dtype=&#x27;object&#x27;)),\n",
       "                                                 (&#x27;pipeline&#x27;,\n",
       "                                                  Pipeline(steps=[(&#x27;robustscaler&#x27;,\n",
       "                                                                   RobustScaler()),\n",
       "                                                                  (&#x27;minmaxscaler&#x27;,\n",
       "                                                                   MinMaxScaler())]),\n",
       "                                                  [&#x27;floor_area_sqm&#x27;,\n",
       "                                                   &#x27;lease_commence_date&#x27;,\n",
       "                                                   &#x27;sold_year&#x27;,\n",
       "                                                   &#x27;sold_remaining_lease&#x27;,\n",
       "                                                   &#x27;max_floor_lvl&#x27;,\n",
       "                                                   &#x27;5 year bond yields&#x27;,\n",
       "                                                   &#x27;Unemployment Rate&#x27;,\n",
       "                                                   &#x27;Lime, Cement, &amp; Fabricated &#x27;\n",
       "                                                   &#x27;Construction Materials &#x27;\n",
       "                                                   &#x27;Excl Glass &amp; Clay &#x27;\n",
       "                                                   &#x27;Materials&#x27;,\n",
       "                                                   &#x27;walking_time_mrt&#x27;,\n",
       "                                                   &#x27;ResidentPopulation_Growth_Rate&#x27;])])),\n",
       "                (&#x27;ridge&#x27;, Ridge(alpha=0.04081632653061224))])</pre><b>In a Jupyter environment, please rerun this cell to show the HTML representation or trust the notebook. <br />On GitHub, the HTML representation is unable to render, please try loading this page with nbviewer.org.</b></div><div class=\"sk-container\" hidden><div class=\"sk-item sk-dashed-wrapped\"><div class=\"sk-label-container\"><div class=\"sk-label sk-toggleable\"><input class=\"sk-toggleable__control sk-hidden--visually\" id=\"sk-estimator-id-1\" type=\"checkbox\" ><label for=\"sk-estimator-id-1\" class=\"sk-toggleable__label sk-toggleable__label-arrow\">Pipeline</label><div class=\"sk-toggleable__content\"><pre>Pipeline(steps=[(&#x27;columntransformer&#x27;,\n",
       "                 ColumnTransformer(transformers=[(&#x27;onehotencoder&#x27;,\n",
       "                                                  OneHotEncoder(drop=&#x27;first&#x27;,\n",
       "                                                                handle_unknown=&#x27;ignore&#x27;),\n",
       "                                                  Index([&#x27;town&#x27;, &#x27;flat_type&#x27;, &#x27;storey_range&#x27;, &#x27;flat_model&#x27;, &#x27;most_closest_mrt&#x27;], dtype=&#x27;object&#x27;)),\n",
       "                                                 (&#x27;pipeline&#x27;,\n",
       "                                                  Pipeline(steps=[(&#x27;robustscaler&#x27;,\n",
       "                                                                   RobustScaler()),\n",
       "                                                                  (&#x27;minmaxscaler&#x27;,\n",
       "                                                                   MinMaxScaler())]),\n",
       "                                                  [&#x27;floor_area_sqm&#x27;,\n",
       "                                                   &#x27;lease_commence_date&#x27;,\n",
       "                                                   &#x27;sold_year&#x27;,\n",
       "                                                   &#x27;sold_remaining_lease&#x27;,\n",
       "                                                   &#x27;max_floor_lvl&#x27;,\n",
       "                                                   &#x27;5 year bond yields&#x27;,\n",
       "                                                   &#x27;Unemployment Rate&#x27;,\n",
       "                                                   &#x27;Lime, Cement, &amp; Fabricated &#x27;\n",
       "                                                   &#x27;Construction Materials &#x27;\n",
       "                                                   &#x27;Excl Glass &amp; Clay &#x27;\n",
       "                                                   &#x27;Materials&#x27;,\n",
       "                                                   &#x27;walking_time_mrt&#x27;,\n",
       "                                                   &#x27;ResidentPopulation_Growth_Rate&#x27;])])),\n",
       "                (&#x27;ridge&#x27;, Ridge(alpha=0.04081632653061224))])</pre></div></div></div><div class=\"sk-serial\"><div class=\"sk-item sk-dashed-wrapped\"><div class=\"sk-label-container\"><div class=\"sk-label sk-toggleable\"><input class=\"sk-toggleable__control sk-hidden--visually\" id=\"sk-estimator-id-2\" type=\"checkbox\" ><label for=\"sk-estimator-id-2\" class=\"sk-toggleable__label sk-toggleable__label-arrow\">columntransformer: ColumnTransformer</label><div class=\"sk-toggleable__content\"><pre>ColumnTransformer(transformers=[(&#x27;onehotencoder&#x27;,\n",
       "                                 OneHotEncoder(drop=&#x27;first&#x27;,\n",
       "                                               handle_unknown=&#x27;ignore&#x27;),\n",
       "                                 Index([&#x27;town&#x27;, &#x27;flat_type&#x27;, &#x27;storey_range&#x27;, &#x27;flat_model&#x27;, &#x27;most_closest_mrt&#x27;], dtype=&#x27;object&#x27;)),\n",
       "                                (&#x27;pipeline&#x27;,\n",
       "                                 Pipeline(steps=[(&#x27;robustscaler&#x27;,\n",
       "                                                  RobustScaler()),\n",
       "                                                 (&#x27;minmaxscaler&#x27;,\n",
       "                                                  MinMaxScaler())]),\n",
       "                                 [&#x27;floor_area_sqm&#x27;, &#x27;lease_commence_date&#x27;,\n",
       "                                  &#x27;sold_year&#x27;, &#x27;sold_remaining_lease&#x27;,\n",
       "                                  &#x27;max_floor_lvl&#x27;, &#x27;5 year bond yields&#x27;,\n",
       "                                  &#x27;Unemployment Rate&#x27;,\n",
       "                                  &#x27;Lime, Cement, &amp; Fabricated Construction &#x27;\n",
       "                                  &#x27;Materials Excl Glass &amp; Clay Materials&#x27;,\n",
       "                                  &#x27;walking_time_mrt&#x27;,\n",
       "                                  &#x27;ResidentPopulation_Growth_Rate&#x27;])])</pre></div></div></div><div class=\"sk-parallel\"><div class=\"sk-parallel-item\"><div class=\"sk-item\"><div class=\"sk-label-container\"><div class=\"sk-label sk-toggleable\"><input class=\"sk-toggleable__control sk-hidden--visually\" id=\"sk-estimator-id-3\" type=\"checkbox\" ><label for=\"sk-estimator-id-3\" class=\"sk-toggleable__label sk-toggleable__label-arrow\">onehotencoder</label><div class=\"sk-toggleable__content\"><pre>Index([&#x27;town&#x27;, &#x27;flat_type&#x27;, &#x27;storey_range&#x27;, &#x27;flat_model&#x27;, &#x27;most_closest_mrt&#x27;], dtype=&#x27;object&#x27;)</pre></div></div></div><div class=\"sk-serial\"><div class=\"sk-item\"><div class=\"sk-estimator sk-toggleable\"><input class=\"sk-toggleable__control sk-hidden--visually\" id=\"sk-estimator-id-4\" type=\"checkbox\" ><label for=\"sk-estimator-id-4\" class=\"sk-toggleable__label sk-toggleable__label-arrow\">OneHotEncoder</label><div class=\"sk-toggleable__content\"><pre>OneHotEncoder(drop=&#x27;first&#x27;, handle_unknown=&#x27;ignore&#x27;)</pre></div></div></div></div></div></div><div class=\"sk-parallel-item\"><div class=\"sk-item\"><div class=\"sk-label-container\"><div class=\"sk-label sk-toggleable\"><input class=\"sk-toggleable__control sk-hidden--visually\" id=\"sk-estimator-id-5\" type=\"checkbox\" ><label for=\"sk-estimator-id-5\" class=\"sk-toggleable__label sk-toggleable__label-arrow\">pipeline</label><div class=\"sk-toggleable__content\"><pre>[&#x27;floor_area_sqm&#x27;, &#x27;lease_commence_date&#x27;, &#x27;sold_year&#x27;, &#x27;sold_remaining_lease&#x27;, &#x27;max_floor_lvl&#x27;, &#x27;5 year bond yields&#x27;, &#x27;Unemployment Rate&#x27;, &#x27;Lime, Cement, &amp; Fabricated Construction Materials Excl Glass &amp; Clay Materials&#x27;, &#x27;walking_time_mrt&#x27;, &#x27;ResidentPopulation_Growth_Rate&#x27;]</pre></div></div></div><div class=\"sk-serial\"><div class=\"sk-item\"><div class=\"sk-serial\"><div class=\"sk-item\"><div class=\"sk-estimator sk-toggleable\"><input class=\"sk-toggleable__control sk-hidden--visually\" id=\"sk-estimator-id-6\" type=\"checkbox\" ><label for=\"sk-estimator-id-6\" class=\"sk-toggleable__label sk-toggleable__label-arrow\">RobustScaler</label><div class=\"sk-toggleable__content\"><pre>RobustScaler()</pre></div></div></div><div class=\"sk-item\"><div class=\"sk-estimator sk-toggleable\"><input class=\"sk-toggleable__control sk-hidden--visually\" id=\"sk-estimator-id-7\" type=\"checkbox\" ><label for=\"sk-estimator-id-7\" class=\"sk-toggleable__label sk-toggleable__label-arrow\">MinMaxScaler</label><div class=\"sk-toggleable__content\"><pre>MinMaxScaler()</pre></div></div></div></div></div></div></div></div></div></div><div class=\"sk-item\"><div class=\"sk-estimator sk-toggleable\"><input class=\"sk-toggleable__control sk-hidden--visually\" id=\"sk-estimator-id-8\" type=\"checkbox\" ><label for=\"sk-estimator-id-8\" class=\"sk-toggleable__label sk-toggleable__label-arrow\">Ridge</label><div class=\"sk-toggleable__content\"><pre>Ridge(alpha=0.04081632653061224)</pre></div></div></div></div></div></div></div>"
      ],
      "text/plain": [
       "Pipeline(steps=[('columntransformer',\n",
       "                 ColumnTransformer(transformers=[('onehotencoder',\n",
       "                                                  OneHotEncoder(drop='first',\n",
       "                                                                handle_unknown='ignore'),\n",
       "                                                  Index(['town', 'flat_type', 'storey_range', 'flat_model', 'most_closest_mrt'], dtype='object')),\n",
       "                                                 ('pipeline',\n",
       "                                                  Pipeline(steps=[('robustscaler',\n",
       "                                                                   RobustScaler()),\n",
       "                                                                  ('minmaxscaler',\n",
       "                                                                   MinMaxScaler())]),\n",
       "                                                  ['floor_area_sqm',\n",
       "                                                   'lease_commence_date',\n",
       "                                                   'sold_year',\n",
       "                                                   'sold_remaining_lease',\n",
       "                                                   'max_floor_lvl',\n",
       "                                                   '5 year bond yields',\n",
       "                                                   'Unemployment Rate',\n",
       "                                                   'Lime, Cement, & Fabricated '\n",
       "                                                   'Construction Materials '\n",
       "                                                   'Excl Glass & Clay '\n",
       "                                                   'Materials',\n",
       "                                                   'walking_time_mrt',\n",
       "                                                   'ResidentPopulation_Growth_Rate'])])),\n",
       "                ('ridge', Ridge(alpha=0.04081632653061224))])"
      ]
     },
     "execution_count": 3,
     "metadata": {},
     "output_type": "execute_result"
    }
   ],
   "source": [
    "# Make file path variable so that all we need is to change this if we move notebook location\n",
    "file_path = '../data/processed/final_HDB_for_model.parquet.gzip'\n",
    "\n",
    "# Read data into csv\n",
    "df = pd.read_parquet(file_path)\n",
    "\n",
    "# Put all columns to be deleted into a list\n",
    "drop_cols = ['block', 'street_name','address','sold_year_month']\n",
    "\n",
    "# Drop columns\n",
    "df = df.drop(columns=drop_cols)\n",
    "\n",
    "# Create lists of the categorical and numerical columns allowing them to be treated differently\n",
    "cat_cols = df.select_dtypes(include=['object']).columns\n",
    "num_cols_scale = ['floor_area_sqm',\n",
    " 'lease_commence_date',\n",
    " 'sold_year',\n",
    " 'sold_remaining_lease',\n",
    " 'max_floor_lvl',\n",
    " '5 year bond yields',\n",
    " 'Unemployment Rate',\n",
    " 'Lime, Cement, & Fabricated Construction Materials Excl Glass & Clay Materials',\n",
    " 'walking_time_mrt',\n",
    " 'ResidentPopulation_Growth_Rate']\n",
    "\n",
    "# Create instances of OneHotEncoder\n",
    "cat_transformer = OneHotEncoder(drop='first', handle_unknown='ignore')\n",
    "\n",
    "# Create pipeline of two scalers for numeric data\n",
    "num_transformer = make_pipeline(RobustScaler(), MinMaxScaler())\n",
    "\n",
    "# Instantiate the model\n",
    "ridge_model = Ridge(alpha=0.04081632653061224)\n",
    "\n",
    "# Apply transformations to subsets of columns\n",
    "prepoc = make_column_transformer(\n",
    "    (cat_transformer, cat_cols),\n",
    "    (num_transformer, num_cols_scale)\n",
    ")\n",
    "\n",
    "#create final pipeline\n",
    "ridge_pipe = make_pipeline(prepoc, ridge_model)\n",
    "\n",
    "ridge_pipe\n"
   ]
  },
  {
   "cell_type": "code",
   "execution_count": 4,
   "metadata": {},
   "outputs": [
    {
     "data": {
      "text/html": [
       "<style>#sk-container-id-2 {color: black;}#sk-container-id-2 pre{padding: 0;}#sk-container-id-2 div.sk-toggleable {background-color: white;}#sk-container-id-2 label.sk-toggleable__label {cursor: pointer;display: block;width: 100%;margin-bottom: 0;padding: 0.3em;box-sizing: border-box;text-align: center;}#sk-container-id-2 label.sk-toggleable__label-arrow:before {content: \"▸\";float: left;margin-right: 0.25em;color: #696969;}#sk-container-id-2 label.sk-toggleable__label-arrow:hover:before {color: black;}#sk-container-id-2 div.sk-estimator:hover label.sk-toggleable__label-arrow:before {color: black;}#sk-container-id-2 div.sk-toggleable__content {max-height: 0;max-width: 0;overflow: hidden;text-align: left;background-color: #f0f8ff;}#sk-container-id-2 div.sk-toggleable__content pre {margin: 0.2em;color: black;border-radius: 0.25em;background-color: #f0f8ff;}#sk-container-id-2 input.sk-toggleable__control:checked~div.sk-toggleable__content {max-height: 200px;max-width: 100%;overflow: auto;}#sk-container-id-2 input.sk-toggleable__control:checked~label.sk-toggleable__label-arrow:before {content: \"▾\";}#sk-container-id-2 div.sk-estimator input.sk-toggleable__control:checked~label.sk-toggleable__label {background-color: #d4ebff;}#sk-container-id-2 div.sk-label input.sk-toggleable__control:checked~label.sk-toggleable__label {background-color: #d4ebff;}#sk-container-id-2 input.sk-hidden--visually {border: 0;clip: rect(1px 1px 1px 1px);clip: rect(1px, 1px, 1px, 1px);height: 1px;margin: -1px;overflow: hidden;padding: 0;position: absolute;width: 1px;}#sk-container-id-2 div.sk-estimator {font-family: monospace;background-color: #f0f8ff;border: 1px dotted black;border-radius: 0.25em;box-sizing: border-box;margin-bottom: 0.5em;}#sk-container-id-2 div.sk-estimator:hover {background-color: #d4ebff;}#sk-container-id-2 div.sk-parallel-item::after {content: \"\";width: 100%;border-bottom: 1px solid gray;flex-grow: 1;}#sk-container-id-2 div.sk-label:hover label.sk-toggleable__label {background-color: #d4ebff;}#sk-container-id-2 div.sk-serial::before {content: \"\";position: absolute;border-left: 1px solid gray;box-sizing: border-box;top: 0;bottom: 0;left: 50%;z-index: 0;}#sk-container-id-2 div.sk-serial {display: flex;flex-direction: column;align-items: center;background-color: white;padding-right: 0.2em;padding-left: 0.2em;position: relative;}#sk-container-id-2 div.sk-item {position: relative;z-index: 1;}#sk-container-id-2 div.sk-parallel {display: flex;align-items: stretch;justify-content: center;background-color: white;position: relative;}#sk-container-id-2 div.sk-item::before, #sk-container-id-2 div.sk-parallel-item::before {content: \"\";position: absolute;border-left: 1px solid gray;box-sizing: border-box;top: 0;bottom: 0;left: 50%;z-index: -1;}#sk-container-id-2 div.sk-parallel-item {display: flex;flex-direction: column;z-index: 1;position: relative;background-color: white;}#sk-container-id-2 div.sk-parallel-item:first-child::after {align-self: flex-end;width: 50%;}#sk-container-id-2 div.sk-parallel-item:last-child::after {align-self: flex-start;width: 50%;}#sk-container-id-2 div.sk-parallel-item:only-child::after {width: 0;}#sk-container-id-2 div.sk-dashed-wrapped {border: 1px dashed gray;margin: 0 0.4em 0.5em 0.4em;box-sizing: border-box;padding-bottom: 0.4em;background-color: white;}#sk-container-id-2 div.sk-label label {font-family: monospace;font-weight: bold;display: inline-block;line-height: 1.2em;}#sk-container-id-2 div.sk-label-container {text-align: center;}#sk-container-id-2 div.sk-container {/* jupyter's `normalize.less` sets `[hidden] { display: none; }` but bootstrap.min.css set `[hidden] { display: none !important; }` so we also need the `!important` here to be able to override the default hidden behavior on the sphinx rendered scikit-learn.org. See: https://github.com/scikit-learn/scikit-learn/issues/21755 */display: inline-block !important;position: relative;}#sk-container-id-2 div.sk-text-repr-fallback {display: none;}</style><div id=\"sk-container-id-2\" class=\"sk-top-container\"><div class=\"sk-text-repr-fallback\"><pre>Pipeline(steps=[(&#x27;columntransformer&#x27;,\n",
       "                 ColumnTransformer(transformers=[(&#x27;onehotencoder&#x27;,\n",
       "                                                  OneHotEncoder(drop=&#x27;first&#x27;,\n",
       "                                                                handle_unknown=&#x27;ignore&#x27;),\n",
       "                                                  Index([&#x27;town&#x27;, &#x27;flat_type&#x27;, &#x27;storey_range&#x27;, &#x27;flat_model&#x27;, &#x27;most_closest_mrt&#x27;], dtype=&#x27;object&#x27;)),\n",
       "                                                 (&#x27;pipeline&#x27;,\n",
       "                                                  Pipeline(steps=[(&#x27;robustscaler&#x27;,\n",
       "                                                                   RobustScaler()),\n",
       "                                                                  (&#x27;minmaxscaler&#x27;,\n",
       "                                                                   MinMaxScaler())]),\n",
       "                                                  [&#x27;floor_area_sqm&#x27;,\n",
       "                                                   &#x27;lease_commence_date&#x27;,\n",
       "                                                   &#x27;sold_year&#x27;,\n",
       "                                                   &#x27;sold_remaining_lease&#x27;,\n",
       "                                                   &#x27;max_floor_lvl&#x27;,\n",
       "                                                   &#x27;5 year bond yields&#x27;,\n",
       "                                                   &#x27;Unemployment Rate&#x27;,\n",
       "                                                   &#x27;Lime, Cement, &amp; Fabricated &#x27;\n",
       "                                                   &#x27;Construction Materials &#x27;\n",
       "                                                   &#x27;Excl Glass &amp; Clay &#x27;\n",
       "                                                   &#x27;Materials&#x27;,\n",
       "                                                   &#x27;walking_time_mrt&#x27;,\n",
       "                                                   &#x27;ResidentPopulation_Growth_Rate&#x27;])])),\n",
       "                (&#x27;lasso&#x27;, Lasso(alpha=0.0001))])</pre><b>In a Jupyter environment, please rerun this cell to show the HTML representation or trust the notebook. <br />On GitHub, the HTML representation is unable to render, please try loading this page with nbviewer.org.</b></div><div class=\"sk-container\" hidden><div class=\"sk-item sk-dashed-wrapped\"><div class=\"sk-label-container\"><div class=\"sk-label sk-toggleable\"><input class=\"sk-toggleable__control sk-hidden--visually\" id=\"sk-estimator-id-9\" type=\"checkbox\" ><label for=\"sk-estimator-id-9\" class=\"sk-toggleable__label sk-toggleable__label-arrow\">Pipeline</label><div class=\"sk-toggleable__content\"><pre>Pipeline(steps=[(&#x27;columntransformer&#x27;,\n",
       "                 ColumnTransformer(transformers=[(&#x27;onehotencoder&#x27;,\n",
       "                                                  OneHotEncoder(drop=&#x27;first&#x27;,\n",
       "                                                                handle_unknown=&#x27;ignore&#x27;),\n",
       "                                                  Index([&#x27;town&#x27;, &#x27;flat_type&#x27;, &#x27;storey_range&#x27;, &#x27;flat_model&#x27;, &#x27;most_closest_mrt&#x27;], dtype=&#x27;object&#x27;)),\n",
       "                                                 (&#x27;pipeline&#x27;,\n",
       "                                                  Pipeline(steps=[(&#x27;robustscaler&#x27;,\n",
       "                                                                   RobustScaler()),\n",
       "                                                                  (&#x27;minmaxscaler&#x27;,\n",
       "                                                                   MinMaxScaler())]),\n",
       "                                                  [&#x27;floor_area_sqm&#x27;,\n",
       "                                                   &#x27;lease_commence_date&#x27;,\n",
       "                                                   &#x27;sold_year&#x27;,\n",
       "                                                   &#x27;sold_remaining_lease&#x27;,\n",
       "                                                   &#x27;max_floor_lvl&#x27;,\n",
       "                                                   &#x27;5 year bond yields&#x27;,\n",
       "                                                   &#x27;Unemployment Rate&#x27;,\n",
       "                                                   &#x27;Lime, Cement, &amp; Fabricated &#x27;\n",
       "                                                   &#x27;Construction Materials &#x27;\n",
       "                                                   &#x27;Excl Glass &amp; Clay &#x27;\n",
       "                                                   &#x27;Materials&#x27;,\n",
       "                                                   &#x27;walking_time_mrt&#x27;,\n",
       "                                                   &#x27;ResidentPopulation_Growth_Rate&#x27;])])),\n",
       "                (&#x27;lasso&#x27;, Lasso(alpha=0.0001))])</pre></div></div></div><div class=\"sk-serial\"><div class=\"sk-item sk-dashed-wrapped\"><div class=\"sk-label-container\"><div class=\"sk-label sk-toggleable\"><input class=\"sk-toggleable__control sk-hidden--visually\" id=\"sk-estimator-id-10\" type=\"checkbox\" ><label for=\"sk-estimator-id-10\" class=\"sk-toggleable__label sk-toggleable__label-arrow\">columntransformer: ColumnTransformer</label><div class=\"sk-toggleable__content\"><pre>ColumnTransformer(transformers=[(&#x27;onehotencoder&#x27;,\n",
       "                                 OneHotEncoder(drop=&#x27;first&#x27;,\n",
       "                                               handle_unknown=&#x27;ignore&#x27;),\n",
       "                                 Index([&#x27;town&#x27;, &#x27;flat_type&#x27;, &#x27;storey_range&#x27;, &#x27;flat_model&#x27;, &#x27;most_closest_mrt&#x27;], dtype=&#x27;object&#x27;)),\n",
       "                                (&#x27;pipeline&#x27;,\n",
       "                                 Pipeline(steps=[(&#x27;robustscaler&#x27;,\n",
       "                                                  RobustScaler()),\n",
       "                                                 (&#x27;minmaxscaler&#x27;,\n",
       "                                                  MinMaxScaler())]),\n",
       "                                 [&#x27;floor_area_sqm&#x27;, &#x27;lease_commence_date&#x27;,\n",
       "                                  &#x27;sold_year&#x27;, &#x27;sold_remaining_lease&#x27;,\n",
       "                                  &#x27;max_floor_lvl&#x27;, &#x27;5 year bond yields&#x27;,\n",
       "                                  &#x27;Unemployment Rate&#x27;,\n",
       "                                  &#x27;Lime, Cement, &amp; Fabricated Construction &#x27;\n",
       "                                  &#x27;Materials Excl Glass &amp; Clay Materials&#x27;,\n",
       "                                  &#x27;walking_time_mrt&#x27;,\n",
       "                                  &#x27;ResidentPopulation_Growth_Rate&#x27;])])</pre></div></div></div><div class=\"sk-parallel\"><div class=\"sk-parallel-item\"><div class=\"sk-item\"><div class=\"sk-label-container\"><div class=\"sk-label sk-toggleable\"><input class=\"sk-toggleable__control sk-hidden--visually\" id=\"sk-estimator-id-11\" type=\"checkbox\" ><label for=\"sk-estimator-id-11\" class=\"sk-toggleable__label sk-toggleable__label-arrow\">onehotencoder</label><div class=\"sk-toggleable__content\"><pre>Index([&#x27;town&#x27;, &#x27;flat_type&#x27;, &#x27;storey_range&#x27;, &#x27;flat_model&#x27;, &#x27;most_closest_mrt&#x27;], dtype=&#x27;object&#x27;)</pre></div></div></div><div class=\"sk-serial\"><div class=\"sk-item\"><div class=\"sk-estimator sk-toggleable\"><input class=\"sk-toggleable__control sk-hidden--visually\" id=\"sk-estimator-id-12\" type=\"checkbox\" ><label for=\"sk-estimator-id-12\" class=\"sk-toggleable__label sk-toggleable__label-arrow\">OneHotEncoder</label><div class=\"sk-toggleable__content\"><pre>OneHotEncoder(drop=&#x27;first&#x27;, handle_unknown=&#x27;ignore&#x27;)</pre></div></div></div></div></div></div><div class=\"sk-parallel-item\"><div class=\"sk-item\"><div class=\"sk-label-container\"><div class=\"sk-label sk-toggleable\"><input class=\"sk-toggleable__control sk-hidden--visually\" id=\"sk-estimator-id-13\" type=\"checkbox\" ><label for=\"sk-estimator-id-13\" class=\"sk-toggleable__label sk-toggleable__label-arrow\">pipeline</label><div class=\"sk-toggleable__content\"><pre>[&#x27;floor_area_sqm&#x27;, &#x27;lease_commence_date&#x27;, &#x27;sold_year&#x27;, &#x27;sold_remaining_lease&#x27;, &#x27;max_floor_lvl&#x27;, &#x27;5 year bond yields&#x27;, &#x27;Unemployment Rate&#x27;, &#x27;Lime, Cement, &amp; Fabricated Construction Materials Excl Glass &amp; Clay Materials&#x27;, &#x27;walking_time_mrt&#x27;, &#x27;ResidentPopulation_Growth_Rate&#x27;]</pre></div></div></div><div class=\"sk-serial\"><div class=\"sk-item\"><div class=\"sk-serial\"><div class=\"sk-item\"><div class=\"sk-estimator sk-toggleable\"><input class=\"sk-toggleable__control sk-hidden--visually\" id=\"sk-estimator-id-14\" type=\"checkbox\" ><label for=\"sk-estimator-id-14\" class=\"sk-toggleable__label sk-toggleable__label-arrow\">RobustScaler</label><div class=\"sk-toggleable__content\"><pre>RobustScaler()</pre></div></div></div><div class=\"sk-item\"><div class=\"sk-estimator sk-toggleable\"><input class=\"sk-toggleable__control sk-hidden--visually\" id=\"sk-estimator-id-15\" type=\"checkbox\" ><label for=\"sk-estimator-id-15\" class=\"sk-toggleable__label sk-toggleable__label-arrow\">MinMaxScaler</label><div class=\"sk-toggleable__content\"><pre>MinMaxScaler()</pre></div></div></div></div></div></div></div></div></div></div><div class=\"sk-item\"><div class=\"sk-estimator sk-toggleable\"><input class=\"sk-toggleable__control sk-hidden--visually\" id=\"sk-estimator-id-16\" type=\"checkbox\" ><label for=\"sk-estimator-id-16\" class=\"sk-toggleable__label sk-toggleable__label-arrow\">Lasso</label><div class=\"sk-toggleable__content\"><pre>Lasso(alpha=0.0001)</pre></div></div></div></div></div></div></div>"
      ],
      "text/plain": [
       "Pipeline(steps=[('columntransformer',\n",
       "                 ColumnTransformer(transformers=[('onehotencoder',\n",
       "                                                  OneHotEncoder(drop='first',\n",
       "                                                                handle_unknown='ignore'),\n",
       "                                                  Index(['town', 'flat_type', 'storey_range', 'flat_model', 'most_closest_mrt'], dtype='object')),\n",
       "                                                 ('pipeline',\n",
       "                                                  Pipeline(steps=[('robustscaler',\n",
       "                                                                   RobustScaler()),\n",
       "                                                                  ('minmaxscaler',\n",
       "                                                                   MinMaxScaler())]),\n",
       "                                                  ['floor_area_sqm',\n",
       "                                                   'lease_commence_date',\n",
       "                                                   'sold_year',\n",
       "                                                   'sold_remaining_lease',\n",
       "                                                   'max_floor_lvl',\n",
       "                                                   '5 year bond yields',\n",
       "                                                   'Unemployment Rate',\n",
       "                                                   'Lime, Cement, & Fabricated '\n",
       "                                                   'Construction Materials '\n",
       "                                                   'Excl Glass & Clay '\n",
       "                                                   'Materials',\n",
       "                                                   'walking_time_mrt',\n",
       "                                                   'ResidentPopulation_Growth_Rate'])])),\n",
       "                ('lasso', Lasso(alpha=0.0001))])"
      ]
     },
     "execution_count": 4,
     "metadata": {},
     "output_type": "execute_result"
    }
   ],
   "source": [
    "# Instantiate the model\n",
    "lasso_model = Lasso(alpha = 0.0001)\n",
    "\n",
    "#create final pipeline\n",
    "lasso_pipe = make_pipeline(prepoc, lasso_model)\n",
    "\n",
    "lasso_pipe"
   ]
  },
  {
   "cell_type": "code",
   "execution_count": 5,
   "metadata": {},
   "outputs": [
    {
     "data": {
      "text/html": [
       "<style>#sk-container-id-3 {color: black;}#sk-container-id-3 pre{padding: 0;}#sk-container-id-3 div.sk-toggleable {background-color: white;}#sk-container-id-3 label.sk-toggleable__label {cursor: pointer;display: block;width: 100%;margin-bottom: 0;padding: 0.3em;box-sizing: border-box;text-align: center;}#sk-container-id-3 label.sk-toggleable__label-arrow:before {content: \"▸\";float: left;margin-right: 0.25em;color: #696969;}#sk-container-id-3 label.sk-toggleable__label-arrow:hover:before {color: black;}#sk-container-id-3 div.sk-estimator:hover label.sk-toggleable__label-arrow:before {color: black;}#sk-container-id-3 div.sk-toggleable__content {max-height: 0;max-width: 0;overflow: hidden;text-align: left;background-color: #f0f8ff;}#sk-container-id-3 div.sk-toggleable__content pre {margin: 0.2em;color: black;border-radius: 0.25em;background-color: #f0f8ff;}#sk-container-id-3 input.sk-toggleable__control:checked~div.sk-toggleable__content {max-height: 200px;max-width: 100%;overflow: auto;}#sk-container-id-3 input.sk-toggleable__control:checked~label.sk-toggleable__label-arrow:before {content: \"▾\";}#sk-container-id-3 div.sk-estimator input.sk-toggleable__control:checked~label.sk-toggleable__label {background-color: #d4ebff;}#sk-container-id-3 div.sk-label input.sk-toggleable__control:checked~label.sk-toggleable__label {background-color: #d4ebff;}#sk-container-id-3 input.sk-hidden--visually {border: 0;clip: rect(1px 1px 1px 1px);clip: rect(1px, 1px, 1px, 1px);height: 1px;margin: -1px;overflow: hidden;padding: 0;position: absolute;width: 1px;}#sk-container-id-3 div.sk-estimator {font-family: monospace;background-color: #f0f8ff;border: 1px dotted black;border-radius: 0.25em;box-sizing: border-box;margin-bottom: 0.5em;}#sk-container-id-3 div.sk-estimator:hover {background-color: #d4ebff;}#sk-container-id-3 div.sk-parallel-item::after {content: \"\";width: 100%;border-bottom: 1px solid gray;flex-grow: 1;}#sk-container-id-3 div.sk-label:hover label.sk-toggleable__label {background-color: #d4ebff;}#sk-container-id-3 div.sk-serial::before {content: \"\";position: absolute;border-left: 1px solid gray;box-sizing: border-box;top: 0;bottom: 0;left: 50%;z-index: 0;}#sk-container-id-3 div.sk-serial {display: flex;flex-direction: column;align-items: center;background-color: white;padding-right: 0.2em;padding-left: 0.2em;position: relative;}#sk-container-id-3 div.sk-item {position: relative;z-index: 1;}#sk-container-id-3 div.sk-parallel {display: flex;align-items: stretch;justify-content: center;background-color: white;position: relative;}#sk-container-id-3 div.sk-item::before, #sk-container-id-3 div.sk-parallel-item::before {content: \"\";position: absolute;border-left: 1px solid gray;box-sizing: border-box;top: 0;bottom: 0;left: 50%;z-index: -1;}#sk-container-id-3 div.sk-parallel-item {display: flex;flex-direction: column;z-index: 1;position: relative;background-color: white;}#sk-container-id-3 div.sk-parallel-item:first-child::after {align-self: flex-end;width: 50%;}#sk-container-id-3 div.sk-parallel-item:last-child::after {align-self: flex-start;width: 50%;}#sk-container-id-3 div.sk-parallel-item:only-child::after {width: 0;}#sk-container-id-3 div.sk-dashed-wrapped {border: 1px dashed gray;margin: 0 0.4em 0.5em 0.4em;box-sizing: border-box;padding-bottom: 0.4em;background-color: white;}#sk-container-id-3 div.sk-label label {font-family: monospace;font-weight: bold;display: inline-block;line-height: 1.2em;}#sk-container-id-3 div.sk-label-container {text-align: center;}#sk-container-id-3 div.sk-container {/* jupyter's `normalize.less` sets `[hidden] { display: none; }` but bootstrap.min.css set `[hidden] { display: none !important; }` so we also need the `!important` here to be able to override the default hidden behavior on the sphinx rendered scikit-learn.org. See: https://github.com/scikit-learn/scikit-learn/issues/21755 */display: inline-block !important;position: relative;}#sk-container-id-3 div.sk-text-repr-fallback {display: none;}</style><div id=\"sk-container-id-3\" class=\"sk-top-container\"><div class=\"sk-text-repr-fallback\"><pre>Pipeline(steps=[(&#x27;columntransformer&#x27;,\n",
       "                 ColumnTransformer(transformers=[(&#x27;onehotencoder&#x27;,\n",
       "                                                  OneHotEncoder(drop=&#x27;first&#x27;,\n",
       "                                                                handle_unknown=&#x27;ignore&#x27;),\n",
       "                                                  Index([&#x27;town&#x27;, &#x27;flat_type&#x27;, &#x27;storey_range&#x27;, &#x27;flat_model&#x27;, &#x27;most_closest_mrt&#x27;], dtype=&#x27;object&#x27;)),\n",
       "                                                 (&#x27;pipeline&#x27;,\n",
       "                                                  Pipeline(steps=[(&#x27;robustscaler&#x27;,\n",
       "                                                                   RobustScaler()),\n",
       "                                                                  (&#x27;minmaxscaler&#x27;,\n",
       "                                                                   MinMaxScaler())]),\n",
       "                                                  [&#x27;floor_area_sqm&#x27;,\n",
       "                                                   &#x27;lease_commence_date&#x27;,\n",
       "                                                   &#x27;sold_year&#x27;,\n",
       "                                                   &#x27;sold_remaining_lease&#x27;,\n",
       "                                                   &#x27;max_floor_lvl&#x27;,\n",
       "                                                   &#x27;5 year bond yields&#x27;,\n",
       "                                                   &#x27;Unemployment Rate&#x27;,\n",
       "                                                   &#x27;Lime, Cement, &amp; Fabricated &#x27;\n",
       "                                                   &#x27;Construction Materials &#x27;\n",
       "                                                   &#x27;Excl Glass &amp; Clay &#x27;\n",
       "                                                   &#x27;Materials&#x27;,\n",
       "                                                   &#x27;walking_time_mrt&#x27;,\n",
       "                                                   &#x27;ResidentPopulation_Growth_Rate&#x27;])])),\n",
       "                (&#x27;ridge&#x27;, Ridge(alpha=0.04081632653061224))])</pre><b>In a Jupyter environment, please rerun this cell to show the HTML representation or trust the notebook. <br />On GitHub, the HTML representation is unable to render, please try loading this page with nbviewer.org.</b></div><div class=\"sk-container\" hidden><div class=\"sk-item sk-dashed-wrapped\"><div class=\"sk-label-container\"><div class=\"sk-label sk-toggleable\"><input class=\"sk-toggleable__control sk-hidden--visually\" id=\"sk-estimator-id-17\" type=\"checkbox\" ><label for=\"sk-estimator-id-17\" class=\"sk-toggleable__label sk-toggleable__label-arrow\">Pipeline</label><div class=\"sk-toggleable__content\"><pre>Pipeline(steps=[(&#x27;columntransformer&#x27;,\n",
       "                 ColumnTransformer(transformers=[(&#x27;onehotencoder&#x27;,\n",
       "                                                  OneHotEncoder(drop=&#x27;first&#x27;,\n",
       "                                                                handle_unknown=&#x27;ignore&#x27;),\n",
       "                                                  Index([&#x27;town&#x27;, &#x27;flat_type&#x27;, &#x27;storey_range&#x27;, &#x27;flat_model&#x27;, &#x27;most_closest_mrt&#x27;], dtype=&#x27;object&#x27;)),\n",
       "                                                 (&#x27;pipeline&#x27;,\n",
       "                                                  Pipeline(steps=[(&#x27;robustscaler&#x27;,\n",
       "                                                                   RobustScaler()),\n",
       "                                                                  (&#x27;minmaxscaler&#x27;,\n",
       "                                                                   MinMaxScaler())]),\n",
       "                                                  [&#x27;floor_area_sqm&#x27;,\n",
       "                                                   &#x27;lease_commence_date&#x27;,\n",
       "                                                   &#x27;sold_year&#x27;,\n",
       "                                                   &#x27;sold_remaining_lease&#x27;,\n",
       "                                                   &#x27;max_floor_lvl&#x27;,\n",
       "                                                   &#x27;5 year bond yields&#x27;,\n",
       "                                                   &#x27;Unemployment Rate&#x27;,\n",
       "                                                   &#x27;Lime, Cement, &amp; Fabricated &#x27;\n",
       "                                                   &#x27;Construction Materials &#x27;\n",
       "                                                   &#x27;Excl Glass &amp; Clay &#x27;\n",
       "                                                   &#x27;Materials&#x27;,\n",
       "                                                   &#x27;walking_time_mrt&#x27;,\n",
       "                                                   &#x27;ResidentPopulation_Growth_Rate&#x27;])])),\n",
       "                (&#x27;ridge&#x27;, Ridge(alpha=0.04081632653061224))])</pre></div></div></div><div class=\"sk-serial\"><div class=\"sk-item sk-dashed-wrapped\"><div class=\"sk-label-container\"><div class=\"sk-label sk-toggleable\"><input class=\"sk-toggleable__control sk-hidden--visually\" id=\"sk-estimator-id-18\" type=\"checkbox\" ><label for=\"sk-estimator-id-18\" class=\"sk-toggleable__label sk-toggleable__label-arrow\">columntransformer: ColumnTransformer</label><div class=\"sk-toggleable__content\"><pre>ColumnTransformer(transformers=[(&#x27;onehotencoder&#x27;,\n",
       "                                 OneHotEncoder(drop=&#x27;first&#x27;,\n",
       "                                               handle_unknown=&#x27;ignore&#x27;),\n",
       "                                 Index([&#x27;town&#x27;, &#x27;flat_type&#x27;, &#x27;storey_range&#x27;, &#x27;flat_model&#x27;, &#x27;most_closest_mrt&#x27;], dtype=&#x27;object&#x27;)),\n",
       "                                (&#x27;pipeline&#x27;,\n",
       "                                 Pipeline(steps=[(&#x27;robustscaler&#x27;,\n",
       "                                                  RobustScaler()),\n",
       "                                                 (&#x27;minmaxscaler&#x27;,\n",
       "                                                  MinMaxScaler())]),\n",
       "                                 [&#x27;floor_area_sqm&#x27;, &#x27;lease_commence_date&#x27;,\n",
       "                                  &#x27;sold_year&#x27;, &#x27;sold_remaining_lease&#x27;,\n",
       "                                  &#x27;max_floor_lvl&#x27;, &#x27;5 year bond yields&#x27;,\n",
       "                                  &#x27;Unemployment Rate&#x27;,\n",
       "                                  &#x27;Lime, Cement, &amp; Fabricated Construction &#x27;\n",
       "                                  &#x27;Materials Excl Glass &amp; Clay Materials&#x27;,\n",
       "                                  &#x27;walking_time_mrt&#x27;,\n",
       "                                  &#x27;ResidentPopulation_Growth_Rate&#x27;])])</pre></div></div></div><div class=\"sk-parallel\"><div class=\"sk-parallel-item\"><div class=\"sk-item\"><div class=\"sk-label-container\"><div class=\"sk-label sk-toggleable\"><input class=\"sk-toggleable__control sk-hidden--visually\" id=\"sk-estimator-id-19\" type=\"checkbox\" ><label for=\"sk-estimator-id-19\" class=\"sk-toggleable__label sk-toggleable__label-arrow\">onehotencoder</label><div class=\"sk-toggleable__content\"><pre>Index([&#x27;town&#x27;, &#x27;flat_type&#x27;, &#x27;storey_range&#x27;, &#x27;flat_model&#x27;, &#x27;most_closest_mrt&#x27;], dtype=&#x27;object&#x27;)</pre></div></div></div><div class=\"sk-serial\"><div class=\"sk-item\"><div class=\"sk-estimator sk-toggleable\"><input class=\"sk-toggleable__control sk-hidden--visually\" id=\"sk-estimator-id-20\" type=\"checkbox\" ><label for=\"sk-estimator-id-20\" class=\"sk-toggleable__label sk-toggleable__label-arrow\">OneHotEncoder</label><div class=\"sk-toggleable__content\"><pre>OneHotEncoder(drop=&#x27;first&#x27;, handle_unknown=&#x27;ignore&#x27;)</pre></div></div></div></div></div></div><div class=\"sk-parallel-item\"><div class=\"sk-item\"><div class=\"sk-label-container\"><div class=\"sk-label sk-toggleable\"><input class=\"sk-toggleable__control sk-hidden--visually\" id=\"sk-estimator-id-21\" type=\"checkbox\" ><label for=\"sk-estimator-id-21\" class=\"sk-toggleable__label sk-toggleable__label-arrow\">pipeline</label><div class=\"sk-toggleable__content\"><pre>[&#x27;floor_area_sqm&#x27;, &#x27;lease_commence_date&#x27;, &#x27;sold_year&#x27;, &#x27;sold_remaining_lease&#x27;, &#x27;max_floor_lvl&#x27;, &#x27;5 year bond yields&#x27;, &#x27;Unemployment Rate&#x27;, &#x27;Lime, Cement, &amp; Fabricated Construction Materials Excl Glass &amp; Clay Materials&#x27;, &#x27;walking_time_mrt&#x27;, &#x27;ResidentPopulation_Growth_Rate&#x27;]</pre></div></div></div><div class=\"sk-serial\"><div class=\"sk-item\"><div class=\"sk-serial\"><div class=\"sk-item\"><div class=\"sk-estimator sk-toggleable\"><input class=\"sk-toggleable__control sk-hidden--visually\" id=\"sk-estimator-id-22\" type=\"checkbox\" ><label for=\"sk-estimator-id-22\" class=\"sk-toggleable__label sk-toggleable__label-arrow\">RobustScaler</label><div class=\"sk-toggleable__content\"><pre>RobustScaler()</pre></div></div></div><div class=\"sk-item\"><div class=\"sk-estimator sk-toggleable\"><input class=\"sk-toggleable__control sk-hidden--visually\" id=\"sk-estimator-id-23\" type=\"checkbox\" ><label for=\"sk-estimator-id-23\" class=\"sk-toggleable__label sk-toggleable__label-arrow\">MinMaxScaler</label><div class=\"sk-toggleable__content\"><pre>MinMaxScaler()</pre></div></div></div></div></div></div></div></div></div></div><div class=\"sk-item\"><div class=\"sk-estimator sk-toggleable\"><input class=\"sk-toggleable__control sk-hidden--visually\" id=\"sk-estimator-id-24\" type=\"checkbox\" ><label for=\"sk-estimator-id-24\" class=\"sk-toggleable__label sk-toggleable__label-arrow\">Ridge</label><div class=\"sk-toggleable__content\"><pre>Ridge(alpha=0.04081632653061224)</pre></div></div></div></div></div></div></div>"
      ],
      "text/plain": [
       "Pipeline(steps=[('columntransformer',\n",
       "                 ColumnTransformer(transformers=[('onehotencoder',\n",
       "                                                  OneHotEncoder(drop='first',\n",
       "                                                                handle_unknown='ignore'),\n",
       "                                                  Index(['town', 'flat_type', 'storey_range', 'flat_model', 'most_closest_mrt'], dtype='object')),\n",
       "                                                 ('pipeline',\n",
       "                                                  Pipeline(steps=[('robustscaler',\n",
       "                                                                   RobustScaler()),\n",
       "                                                                  ('minmaxscaler',\n",
       "                                                                   MinMaxScaler())]),\n",
       "                                                  ['floor_area_sqm',\n",
       "                                                   'lease_commence_date',\n",
       "                                                   'sold_year',\n",
       "                                                   'sold_remaining_lease',\n",
       "                                                   'max_floor_lvl',\n",
       "                                                   '5 year bond yields',\n",
       "                                                   'Unemployment Rate',\n",
       "                                                   'Lime, Cement, & Fabricated '\n",
       "                                                   'Construction Materials '\n",
       "                                                   'Excl Glass & Clay '\n",
       "                                                   'Materials',\n",
       "                                                   'walking_time_mrt',\n",
       "                                                   'ResidentPopulation_Growth_Rate'])])),\n",
       "                ('ridge', Ridge(alpha=0.04081632653061224))])"
      ]
     },
     "execution_count": 5,
     "metadata": {},
     "output_type": "execute_result"
    }
   ],
   "source": [
    "# Select target column\n",
    "target_col = 'resale_price'\n",
    "\n",
    "# Ready X and y\n",
    "X = df.loc[:, ~df.columns.isin([target_col])]\n",
    "y = df[target_col]\n",
    "\n",
    "# Split the data, 80-20 split with a random state included for reproducibility\n",
    "X_train, X_test, y_train, y_test = train_test_split(X,y, test_size = 0.2, random_state = 54)\n",
    "\n",
    "# Fit model\n",
    "ridge_pipe.fit(X_train, y_train)"
   ]
  },
  {
   "cell_type": "code",
   "execution_count": 8,
   "metadata": {},
   "outputs": [
    {
     "name": "stdout",
     "output_type": "stream",
     "text": [
      "Test r2 score = 0.8735\n",
      "Test MAE score = 44804.05\n"
     ]
    }
   ],
   "source": [
    "# R2 score on testing set\n",
    "r2_test = ridge_pipe.score(X_test, y_test)\n",
    "\n",
    "# MAE for testing\n",
    "y_pred = ridge_pipe.predict(X_test)\n",
    "mae_test = mean_absolute_error(y_test, y_pred)\n",
    "\n",
    "# Print scores to assess\n",
    "print(\"Test r2 score =\", round(r2_test, 4))\n",
    "print(\"Test MAE score =\", round(mae_test, 2))"
   ]
  },
  {
   "cell_type": "code",
   "execution_count": 6,
   "metadata": {},
   "outputs": [
    {
     "name": "stderr",
     "output_type": "stream",
     "text": [
      "/Users/gobind/.pyenv/versions/3.10.6/envs/hdb-price-estimator/lib/python3.10/site-packages/sklearn/linear_model/_coordinate_descent.py:589: ConvergenceWarning: Objective did not converge. You might want to increase the number of iterations. Duality gap: 1228720202885497.8, tolerance: 1938559417106.7517\n",
      "  model = cd_fast.sparse_enet_coordinate_descent(\n"
     ]
    },
    {
     "data": {
      "text/html": [
       "<style>#sk-container-id-4 {color: black;}#sk-container-id-4 pre{padding: 0;}#sk-container-id-4 div.sk-toggleable {background-color: white;}#sk-container-id-4 label.sk-toggleable__label {cursor: pointer;display: block;width: 100%;margin-bottom: 0;padding: 0.3em;box-sizing: border-box;text-align: center;}#sk-container-id-4 label.sk-toggleable__label-arrow:before {content: \"▸\";float: left;margin-right: 0.25em;color: #696969;}#sk-container-id-4 label.sk-toggleable__label-arrow:hover:before {color: black;}#sk-container-id-4 div.sk-estimator:hover label.sk-toggleable__label-arrow:before {color: black;}#sk-container-id-4 div.sk-toggleable__content {max-height: 0;max-width: 0;overflow: hidden;text-align: left;background-color: #f0f8ff;}#sk-container-id-4 div.sk-toggleable__content pre {margin: 0.2em;color: black;border-radius: 0.25em;background-color: #f0f8ff;}#sk-container-id-4 input.sk-toggleable__control:checked~div.sk-toggleable__content {max-height: 200px;max-width: 100%;overflow: auto;}#sk-container-id-4 input.sk-toggleable__control:checked~label.sk-toggleable__label-arrow:before {content: \"▾\";}#sk-container-id-4 div.sk-estimator input.sk-toggleable__control:checked~label.sk-toggleable__label {background-color: #d4ebff;}#sk-container-id-4 div.sk-label input.sk-toggleable__control:checked~label.sk-toggleable__label {background-color: #d4ebff;}#sk-container-id-4 input.sk-hidden--visually {border: 0;clip: rect(1px 1px 1px 1px);clip: rect(1px, 1px, 1px, 1px);height: 1px;margin: -1px;overflow: hidden;padding: 0;position: absolute;width: 1px;}#sk-container-id-4 div.sk-estimator {font-family: monospace;background-color: #f0f8ff;border: 1px dotted black;border-radius: 0.25em;box-sizing: border-box;margin-bottom: 0.5em;}#sk-container-id-4 div.sk-estimator:hover {background-color: #d4ebff;}#sk-container-id-4 div.sk-parallel-item::after {content: \"\";width: 100%;border-bottom: 1px solid gray;flex-grow: 1;}#sk-container-id-4 div.sk-label:hover label.sk-toggleable__label {background-color: #d4ebff;}#sk-container-id-4 div.sk-serial::before {content: \"\";position: absolute;border-left: 1px solid gray;box-sizing: border-box;top: 0;bottom: 0;left: 50%;z-index: 0;}#sk-container-id-4 div.sk-serial {display: flex;flex-direction: column;align-items: center;background-color: white;padding-right: 0.2em;padding-left: 0.2em;position: relative;}#sk-container-id-4 div.sk-item {position: relative;z-index: 1;}#sk-container-id-4 div.sk-parallel {display: flex;align-items: stretch;justify-content: center;background-color: white;position: relative;}#sk-container-id-4 div.sk-item::before, #sk-container-id-4 div.sk-parallel-item::before {content: \"\";position: absolute;border-left: 1px solid gray;box-sizing: border-box;top: 0;bottom: 0;left: 50%;z-index: -1;}#sk-container-id-4 div.sk-parallel-item {display: flex;flex-direction: column;z-index: 1;position: relative;background-color: white;}#sk-container-id-4 div.sk-parallel-item:first-child::after {align-self: flex-end;width: 50%;}#sk-container-id-4 div.sk-parallel-item:last-child::after {align-self: flex-start;width: 50%;}#sk-container-id-4 div.sk-parallel-item:only-child::after {width: 0;}#sk-container-id-4 div.sk-dashed-wrapped {border: 1px dashed gray;margin: 0 0.4em 0.5em 0.4em;box-sizing: border-box;padding-bottom: 0.4em;background-color: white;}#sk-container-id-4 div.sk-label label {font-family: monospace;font-weight: bold;display: inline-block;line-height: 1.2em;}#sk-container-id-4 div.sk-label-container {text-align: center;}#sk-container-id-4 div.sk-container {/* jupyter's `normalize.less` sets `[hidden] { display: none; }` but bootstrap.min.css set `[hidden] { display: none !important; }` so we also need the `!important` here to be able to override the default hidden behavior on the sphinx rendered scikit-learn.org. See: https://github.com/scikit-learn/scikit-learn/issues/21755 */display: inline-block !important;position: relative;}#sk-container-id-4 div.sk-text-repr-fallback {display: none;}</style><div id=\"sk-container-id-4\" class=\"sk-top-container\"><div class=\"sk-text-repr-fallback\"><pre>Pipeline(steps=[(&#x27;columntransformer&#x27;,\n",
       "                 ColumnTransformer(transformers=[(&#x27;onehotencoder&#x27;,\n",
       "                                                  OneHotEncoder(drop=&#x27;first&#x27;,\n",
       "                                                                handle_unknown=&#x27;ignore&#x27;),\n",
       "                                                  Index([&#x27;town&#x27;, &#x27;flat_type&#x27;, &#x27;storey_range&#x27;, &#x27;flat_model&#x27;, &#x27;most_closest_mrt&#x27;], dtype=&#x27;object&#x27;)),\n",
       "                                                 (&#x27;pipeline&#x27;,\n",
       "                                                  Pipeline(steps=[(&#x27;robustscaler&#x27;,\n",
       "                                                                   RobustScaler()),\n",
       "                                                                  (&#x27;minmaxscaler&#x27;,\n",
       "                                                                   MinMaxScaler())]),\n",
       "                                                  [&#x27;floor_area_sqm&#x27;,\n",
       "                                                   &#x27;lease_commence_date&#x27;,\n",
       "                                                   &#x27;sold_year&#x27;,\n",
       "                                                   &#x27;sold_remaining_lease&#x27;,\n",
       "                                                   &#x27;max_floor_lvl&#x27;,\n",
       "                                                   &#x27;5 year bond yields&#x27;,\n",
       "                                                   &#x27;Unemployment Rate&#x27;,\n",
       "                                                   &#x27;Lime, Cement, &amp; Fabricated &#x27;\n",
       "                                                   &#x27;Construction Materials &#x27;\n",
       "                                                   &#x27;Excl Glass &amp; Clay &#x27;\n",
       "                                                   &#x27;Materials&#x27;,\n",
       "                                                   &#x27;walking_time_mrt&#x27;,\n",
       "                                                   &#x27;ResidentPopulation_Growth_Rate&#x27;])])),\n",
       "                (&#x27;lasso&#x27;, Lasso(alpha=0.0001))])</pre><b>In a Jupyter environment, please rerun this cell to show the HTML representation or trust the notebook. <br />On GitHub, the HTML representation is unable to render, please try loading this page with nbviewer.org.</b></div><div class=\"sk-container\" hidden><div class=\"sk-item sk-dashed-wrapped\"><div class=\"sk-label-container\"><div class=\"sk-label sk-toggleable\"><input class=\"sk-toggleable__control sk-hidden--visually\" id=\"sk-estimator-id-25\" type=\"checkbox\" ><label for=\"sk-estimator-id-25\" class=\"sk-toggleable__label sk-toggleable__label-arrow\">Pipeline</label><div class=\"sk-toggleable__content\"><pre>Pipeline(steps=[(&#x27;columntransformer&#x27;,\n",
       "                 ColumnTransformer(transformers=[(&#x27;onehotencoder&#x27;,\n",
       "                                                  OneHotEncoder(drop=&#x27;first&#x27;,\n",
       "                                                                handle_unknown=&#x27;ignore&#x27;),\n",
       "                                                  Index([&#x27;town&#x27;, &#x27;flat_type&#x27;, &#x27;storey_range&#x27;, &#x27;flat_model&#x27;, &#x27;most_closest_mrt&#x27;], dtype=&#x27;object&#x27;)),\n",
       "                                                 (&#x27;pipeline&#x27;,\n",
       "                                                  Pipeline(steps=[(&#x27;robustscaler&#x27;,\n",
       "                                                                   RobustScaler()),\n",
       "                                                                  (&#x27;minmaxscaler&#x27;,\n",
       "                                                                   MinMaxScaler())]),\n",
       "                                                  [&#x27;floor_area_sqm&#x27;,\n",
       "                                                   &#x27;lease_commence_date&#x27;,\n",
       "                                                   &#x27;sold_year&#x27;,\n",
       "                                                   &#x27;sold_remaining_lease&#x27;,\n",
       "                                                   &#x27;max_floor_lvl&#x27;,\n",
       "                                                   &#x27;5 year bond yields&#x27;,\n",
       "                                                   &#x27;Unemployment Rate&#x27;,\n",
       "                                                   &#x27;Lime, Cement, &amp; Fabricated &#x27;\n",
       "                                                   &#x27;Construction Materials &#x27;\n",
       "                                                   &#x27;Excl Glass &amp; Clay &#x27;\n",
       "                                                   &#x27;Materials&#x27;,\n",
       "                                                   &#x27;walking_time_mrt&#x27;,\n",
       "                                                   &#x27;ResidentPopulation_Growth_Rate&#x27;])])),\n",
       "                (&#x27;lasso&#x27;, Lasso(alpha=0.0001))])</pre></div></div></div><div class=\"sk-serial\"><div class=\"sk-item sk-dashed-wrapped\"><div class=\"sk-label-container\"><div class=\"sk-label sk-toggleable\"><input class=\"sk-toggleable__control sk-hidden--visually\" id=\"sk-estimator-id-26\" type=\"checkbox\" ><label for=\"sk-estimator-id-26\" class=\"sk-toggleable__label sk-toggleable__label-arrow\">columntransformer: ColumnTransformer</label><div class=\"sk-toggleable__content\"><pre>ColumnTransformer(transformers=[(&#x27;onehotencoder&#x27;,\n",
       "                                 OneHotEncoder(drop=&#x27;first&#x27;,\n",
       "                                               handle_unknown=&#x27;ignore&#x27;),\n",
       "                                 Index([&#x27;town&#x27;, &#x27;flat_type&#x27;, &#x27;storey_range&#x27;, &#x27;flat_model&#x27;, &#x27;most_closest_mrt&#x27;], dtype=&#x27;object&#x27;)),\n",
       "                                (&#x27;pipeline&#x27;,\n",
       "                                 Pipeline(steps=[(&#x27;robustscaler&#x27;,\n",
       "                                                  RobustScaler()),\n",
       "                                                 (&#x27;minmaxscaler&#x27;,\n",
       "                                                  MinMaxScaler())]),\n",
       "                                 [&#x27;floor_area_sqm&#x27;, &#x27;lease_commence_date&#x27;,\n",
       "                                  &#x27;sold_year&#x27;, &#x27;sold_remaining_lease&#x27;,\n",
       "                                  &#x27;max_floor_lvl&#x27;, &#x27;5 year bond yields&#x27;,\n",
       "                                  &#x27;Unemployment Rate&#x27;,\n",
       "                                  &#x27;Lime, Cement, &amp; Fabricated Construction &#x27;\n",
       "                                  &#x27;Materials Excl Glass &amp; Clay Materials&#x27;,\n",
       "                                  &#x27;walking_time_mrt&#x27;,\n",
       "                                  &#x27;ResidentPopulation_Growth_Rate&#x27;])])</pre></div></div></div><div class=\"sk-parallel\"><div class=\"sk-parallel-item\"><div class=\"sk-item\"><div class=\"sk-label-container\"><div class=\"sk-label sk-toggleable\"><input class=\"sk-toggleable__control sk-hidden--visually\" id=\"sk-estimator-id-27\" type=\"checkbox\" ><label for=\"sk-estimator-id-27\" class=\"sk-toggleable__label sk-toggleable__label-arrow\">onehotencoder</label><div class=\"sk-toggleable__content\"><pre>Index([&#x27;town&#x27;, &#x27;flat_type&#x27;, &#x27;storey_range&#x27;, &#x27;flat_model&#x27;, &#x27;most_closest_mrt&#x27;], dtype=&#x27;object&#x27;)</pre></div></div></div><div class=\"sk-serial\"><div class=\"sk-item\"><div class=\"sk-estimator sk-toggleable\"><input class=\"sk-toggleable__control sk-hidden--visually\" id=\"sk-estimator-id-28\" type=\"checkbox\" ><label for=\"sk-estimator-id-28\" class=\"sk-toggleable__label sk-toggleable__label-arrow\">OneHotEncoder</label><div class=\"sk-toggleable__content\"><pre>OneHotEncoder(drop=&#x27;first&#x27;, handle_unknown=&#x27;ignore&#x27;)</pre></div></div></div></div></div></div><div class=\"sk-parallel-item\"><div class=\"sk-item\"><div class=\"sk-label-container\"><div class=\"sk-label sk-toggleable\"><input class=\"sk-toggleable__control sk-hidden--visually\" id=\"sk-estimator-id-29\" type=\"checkbox\" ><label for=\"sk-estimator-id-29\" class=\"sk-toggleable__label sk-toggleable__label-arrow\">pipeline</label><div class=\"sk-toggleable__content\"><pre>[&#x27;floor_area_sqm&#x27;, &#x27;lease_commence_date&#x27;, &#x27;sold_year&#x27;, &#x27;sold_remaining_lease&#x27;, &#x27;max_floor_lvl&#x27;, &#x27;5 year bond yields&#x27;, &#x27;Unemployment Rate&#x27;, &#x27;Lime, Cement, &amp; Fabricated Construction Materials Excl Glass &amp; Clay Materials&#x27;, &#x27;walking_time_mrt&#x27;, &#x27;ResidentPopulation_Growth_Rate&#x27;]</pre></div></div></div><div class=\"sk-serial\"><div class=\"sk-item\"><div class=\"sk-serial\"><div class=\"sk-item\"><div class=\"sk-estimator sk-toggleable\"><input class=\"sk-toggleable__control sk-hidden--visually\" id=\"sk-estimator-id-30\" type=\"checkbox\" ><label for=\"sk-estimator-id-30\" class=\"sk-toggleable__label sk-toggleable__label-arrow\">RobustScaler</label><div class=\"sk-toggleable__content\"><pre>RobustScaler()</pre></div></div></div><div class=\"sk-item\"><div class=\"sk-estimator sk-toggleable\"><input class=\"sk-toggleable__control sk-hidden--visually\" id=\"sk-estimator-id-31\" type=\"checkbox\" ><label for=\"sk-estimator-id-31\" class=\"sk-toggleable__label sk-toggleable__label-arrow\">MinMaxScaler</label><div class=\"sk-toggleable__content\"><pre>MinMaxScaler()</pre></div></div></div></div></div></div></div></div></div></div><div class=\"sk-item\"><div class=\"sk-estimator sk-toggleable\"><input class=\"sk-toggleable__control sk-hidden--visually\" id=\"sk-estimator-id-32\" type=\"checkbox\" ><label for=\"sk-estimator-id-32\" class=\"sk-toggleable__label sk-toggleable__label-arrow\">Lasso</label><div class=\"sk-toggleable__content\"><pre>Lasso(alpha=0.0001)</pre></div></div></div></div></div></div></div>"
      ],
      "text/plain": [
       "Pipeline(steps=[('columntransformer',\n",
       "                 ColumnTransformer(transformers=[('onehotencoder',\n",
       "                                                  OneHotEncoder(drop='first',\n",
       "                                                                handle_unknown='ignore'),\n",
       "                                                  Index(['town', 'flat_type', 'storey_range', 'flat_model', 'most_closest_mrt'], dtype='object')),\n",
       "                                                 ('pipeline',\n",
       "                                                  Pipeline(steps=[('robustscaler',\n",
       "                                                                   RobustScaler()),\n",
       "                                                                  ('minmaxscaler',\n",
       "                                                                   MinMaxScaler())]),\n",
       "                                                  ['floor_area_sqm',\n",
       "                                                   'lease_commence_date',\n",
       "                                                   'sold_year',\n",
       "                                                   'sold_remaining_lease',\n",
       "                                                   'max_floor_lvl',\n",
       "                                                   '5 year bond yields',\n",
       "                                                   'Unemployment Rate',\n",
       "                                                   'Lime, Cement, & Fabricated '\n",
       "                                                   'Construction Materials '\n",
       "                                                   'Excl Glass & Clay '\n",
       "                                                   'Materials',\n",
       "                                                   'walking_time_mrt',\n",
       "                                                   'ResidentPopulation_Growth_Rate'])])),\n",
       "                ('lasso', Lasso(alpha=0.0001))])"
      ]
     },
     "execution_count": 6,
     "metadata": {},
     "output_type": "execute_result"
    }
   ],
   "source": [
    "lasso_pipe.fit(X_train, y_train)"
   ]
  },
  {
   "cell_type": "code",
   "execution_count": 9,
   "metadata": {},
   "outputs": [
    {
     "name": "stdout",
     "output_type": "stream",
     "text": [
      "Test r2 score = 0.8734\n",
      "Test MAE score = 44813.37\n"
     ]
    }
   ],
   "source": [
    "# R2 score on testing set\n",
    "r2_test = lasso_pipe.score(X_test, y_test)\n",
    "\n",
    "# MAE for testing\n",
    "y_pred = lasso_pipe.predict(X_test)\n",
    "mae_test = mean_absolute_error(y_test, y_pred)\n",
    "\n",
    "# Print scores to assess\n",
    "print(\"Test r2 score =\", round(r2_test, 4))\n",
    "print(\"Test MAE score =\", round(mae_test, 2))"
   ]
  },
  {
   "cell_type": "code",
   "execution_count": 10,
   "metadata": {},
   "outputs": [],
   "source": [
    "#Saving Baseline model\n",
    "import pickle\n",
    "\n",
    "with open('../models/ridge_240130.pkl', 'wb') as file:\n",
    "    pickle.dump(ridge_pipe, file)\n",
    "\n",
    "with open('../models/lasso_240130.pkl', 'wb') as file:\n",
    "    pickle.dump(lasso_pipe, file)"
   ]
  },
  {
   "cell_type": "code",
   "execution_count": null,
   "metadata": {},
   "outputs": [],
   "source": []
  }
 ],
 "metadata": {
  "kernelspec": {
   "display_name": "hdb-price-estimator",
   "language": "python",
   "name": "python3"
  },
  "language_info": {
   "codemirror_mode": {
    "name": "ipython",
    "version": 3
   },
   "file_extension": ".py",
   "mimetype": "text/x-python",
   "name": "python",
   "nbconvert_exporter": "python",
   "pygments_lexer": "ipython3",
   "version": "3.10.6"
  }
 },
 "nbformat": 4,
 "nbformat_minor": 2
}
